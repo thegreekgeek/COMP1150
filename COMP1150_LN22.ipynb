{
  "nbformat": 4,
  "nbformat_minor": 0,
  "metadata": {
    "colab": {
      "provenance": [],
      "include_colab_link": true
    },
    "kernelspec": {
      "name": "python3",
      "display_name": "Python 3"
    },
    "language_info": {
      "name": "python"
    }
  },
  "cells": [
    {
      "cell_type": "markdown",
      "metadata": {
        "id": "view-in-github",
        "colab_type": "text"
      },
      "source": [
        "<a href=\"https://colab.research.google.com/github/thegreekgeek/COMP1150/blob/main/COMP1150_LN22.ipynb\" target=\"_parent\"><img src=\"https://colab.research.google.com/assets/colab-badge.svg\" alt=\"Open In Colab\"/></a>"
      ]
    },
    {
      "cell_type": "markdown",
      "source": [
        "###**OBJECT-ORIENTED PROGRAMMING AND SOFTWARE ENGINEERING**\n",
        "\n",
        "This week, we’ll dive into some basic concepts in software development. Our focus will be on understanding the principles of object-oriented programming (OOP) and exploring the core ideas behind software engineering—the discipline of designing, building, and maintaining reliable software systems.\n",
        "\n",
        "<br>\n",
        "\n",
        "<br>\n",
        "\n",
        "**Software Development Activities**\n",
        "\n",
        "Creating software is more than just writing code. As projects grow in size and complexity, thoughtful design becomes essential. Software development typically involves four key activities:\n",
        "\n",
        "* **Requirements gathering**\n",
        ">Software requirements define what a program must do—they focus on what tasks the system should perform, not how it performs them. These requirements are often documented in a functional specification.\n",
        "\n",
        "* **Design**\n",
        ">Software design describes how a program will fulfill its requirements. It defines the necessary classes, objects, their interactions, and relationships. Low-level design focuses on how individual methods perform specific tasks.\n",
        ">\n",
        ">Just as a civil engineer wouldn’t build a bridge without a blueprint, software should never be developed without proper design. Many software issues stem from poor or rushed design, and investing time in design upfront often saves time and cost later.\n",
        "\n",
        "* **Implementation**\n",
        "> Implementation is the process of writing source code to translate a software design into a working program using a specific programming language. While many programmers focus heavily on this step, it should be the least creative part of development—most critical decisions should already be made during the requirements and design phases.\n",
        "\n",
        "* **Testing**\n",
        ">  Testing is the act of ensuring that a program will solve the intended problem\n",
        "given all of the constraints under which it must perform. Testing includes running a program multiple times with various inputs and carefully scrutinizing the\n",
        "results\n",
        "\n",
        "\n",
        "\n",
        "While these steps suggest a linear process, in practice they often overlap and interact.\n",
        "\n"
      ],
      "metadata": {
        "id": "UBPNjKJd-QCv"
      }
    },
    {
      "cell_type": "markdown",
      "source": [
        "**Object Oriented Programming  (OOP)**\n",
        "\n",
        "**OOP** provides a natural and powerful way to model real-world systems in software. It helps bridge the gap between the **requirements** (what the system should do) and the **implementation** (how it does it) by using objects that bundle data and behavior together. In fact, **OOP** allows you to represent things in your programs in a way that closely mirrors the real world.\n",
        "\n",
        " Most of the things we want to model in our programs—like a checking account, a payroll system, or an alien spacecraft—are real-life objects. OOP enables us to represent these real-life objects as software objects.\n",
        "\n",
        "Formally, we may define **OOP** as  a programming paradigm that organizes software design around objects. An **object** is made up of two things:\n",
        "**data** and **methods** (functions) that operate on that data.\n",
        "\n",
        "Most conventional programming languages, including Python, Java, and C++, support object-oriented programming. However, some languages—such as C, Haskell, and earlier versions of FORTRAN—do not natively support this paradigm.\n",
        "\n",
        "<br>\n",
        "\n",
        "**Classes, Method and Objects in Python**\n",
        "\n",
        "To create an **object**, you first need a blueprint called a **class**. A class defines the structure and behavior of the object, usually through methods. For example, if you want to model a `Car`, you could create a class with attributes like `color` and `speed`, and methods like `drive()` and `brake()`. While you can create a class without methods, it wouldn’t be very useful—just like a car without any functionality.\n",
        "\n",
        "An **object**, on the other hand, is a specific instance of a class. It represents a concrete example that follows the structure and behavior defined by the class. The process of creating an object from a class is called **instantiation**, and the resulting object is referred to as an **instance** of that class.\n",
        "\n",
        "<br>\n",
        "\n",
        "**Creating your own `Class`**\n",
        "\n",
        "The first line of a class definition is the class header:\n",
        "\n",
        "```python\n",
        "class MyClass:\n",
        "\n",
        "```\n",
        "In the example above, we used `class` followed by the class name we choose, `MyClass`.\n",
        "\n",
        "Another  example is provided below:"
      ],
      "metadata": {
        "id": "8wAykd7XhnEh"
      }
    },
    {
      "cell_type": "code",
      "execution_count": null,
      "metadata": {
        "id": "Gqo_Hns4-KWj",
        "colab": {
          "base_uri": "https://localhost:8080/"
        },
        "outputId": "87d22b17-8457-4660-c3dd-ac7ed3bd196e"
      },
      "outputs": [
        {
          "output_type": "stream",
          "name": "stdout",
          "text": [
            "14\n"
          ]
        }
      ],
      "source": [
        "class Example:  # \"Example\" is the class name\n",
        "   def __init__(self, a, b): # Constructor\n",
        "       self.a = a    # class variable\n",
        "       self.b = b    # class variable\n",
        "\n",
        "\n",
        "   def add(self):     # Method, similar to functions but defined within a class and has `self` as its first argument.\n",
        "       return self.a + self.b\n",
        "\n",
        "\n",
        "e = Example(8, 6) # create a new object.\n",
        "sum = e.add()     # add() method is called\n",
        "print(sum)\n"
      ]
    },
    {
      "cell_type": "markdown",
      "source": [
        "**Dissecting a Class**\n",
        "\n",
        "1. To create a class, we use the keyword `class`. Class names usually start with capital. In the program above, the class name is `Example`.\n",
        "2. We use the method called `__init__`. The underscores indicate that it is a special kind of method. It is called a **constructor**, and it is automatically called when a new object is created from the class. Usually, the constructor is used set up the class's variables. In the above program, the constructor takes two values, `a` and `b`, and assigns the class variables to those values.\n",
        "3. The first argument to every method in your class is a special variable called `self`. Each time your class refer to one of its variables or methods, it must precede them by `self`. The purpose of `self` is to distinguish your class's variables and methods from other variable and functions in the program.\n",
        "4. To create a new object from the class, you call the class name along with any values that you want to assign it to a variable name. In the program above, a new object is created using:\n",
        "```python\n",
        "e = Example(8, 6)  # creates a new object\n",
        "```\n",
        "\n",
        "5. To use the object's methis, use the dot operator. For example, in the code above, the method `add` is used as follows:\n",
        "```python\n",
        "e.add()\n",
        "```"
      ],
      "metadata": {
        "id": "_HJ8l9CcfSPM"
      }
    },
    {
      "cell_type": "markdown",
      "source": [
        "**More Examples**\n",
        "\n",
        "1. The code below is another example of a class. The class aims to model certain behavior of an animal."
      ],
      "metadata": {
        "id": "T1TKJP1es6qN"
      }
    },
    {
      "cell_type": "code",
      "source": [
        "# Define a class named Animal\n",
        "class Animal:\n",
        "    # The __init__ method is the constructor where we initialize the attributes of an object.\n",
        "    def __init__(self, name, species):\n",
        "        # self.name and self.species are attributes of the class.\n",
        "        self.name = name\n",
        "        self.species = species\n",
        "        self.hunger = 2  # A simple attribute to track hunger level, initialized to 2.\n",
        "\n",
        "    # A method to simulate feeding the animal.\n",
        "    def feed(self):\n",
        "        if self.hunger > 0:  # Check if the animal is hungry\n",
        "            self.hunger -= 1  # Reduce hunger level by 1\n",
        "            return f\"{self.name} is being fed.\"\n",
        "        else:\n",
        "            return f\"{self.name} is not hungry.\"\n",
        "\n",
        "    # A method to simulate playing with the animal.\n",
        "    def play(self):\n",
        "        return f\"{self.name} is playing.\"\n",
        "\n",
        "\n",
        "\n",
        "# Now, let's try out our class!\n",
        "\n",
        "# Instantiate an object of the Animal class\n",
        "my_pet = Animal(\"Fido\", \"Dog\")\n",
        "\n",
        "# Call methods of the my_pet object\n",
        "print(my_pet.feed())\n",
        "print(my_pet.feed())\n",
        "print(my_pet.feed())\n",
        "\n",
        "print(my_pet.play())\n",
        "\n"
      ],
      "metadata": {
        "id": "Pr_5dyxztKfG",
        "colab": {
          "base_uri": "https://localhost:8080/"
        },
        "outputId": "624e338d-d37b-489c-f582-491c7cdaac47"
      },
      "execution_count": null,
      "outputs": [
        {
          "output_type": "stream",
          "name": "stdout",
          "text": [
            "Fido is being fed.\n",
            "Fido is being fed.\n",
            "Fido is not hungry.\n",
            "Fido is playing.\n"
          ]
        }
      ]
    },
    {
      "cell_type": "markdown",
      "source": [
        "Example 2"
      ],
      "metadata": {
        "id": "cH01eiJWljdW"
      }
    },
    {
      "cell_type": "code",
      "source": [
        "# Define a simple class\n",
        "class Car:\n",
        "    def __init__(self, brand, color):\n",
        "        self.brand = brand  # Attribute: brand of the car\n",
        "        self.color = color  # Attribute: color of the car\n",
        "\n",
        "    def drive(self):  # Method: what the car can do\n",
        "        print(f\"The {self.color} {self.brand} is driving!\")\n",
        "\n",
        "# Create objects from the class\n",
        "car1 = Car(\"Toyota\", \"Red\")  # Object 1\n",
        "car2 = Car(\"Honda\", \"Blue\")  # Object 2\n",
        "\n",
        "# Use the objects\n",
        "car1.drive()  # Output: The Red Toyota is driving!\n",
        "car2.drive()  # Output: The Blue Honda is driving!"
      ],
      "metadata": {
        "colab": {
          "base_uri": "https://localhost:8080/"
        },
        "id": "H6OwwZcVliaD",
        "outputId": "ab9190e4-6882-4690-c00a-90d6360caad3"
      },
      "execution_count": null,
      "outputs": [
        {
          "output_type": "stream",
          "name": "stdout",
          "text": [
            "The Red Toyota is driving!\n",
            "The Blue Honda is driving!\n"
          ]
        }
      ]
    },
    {
      "cell_type": "markdown",
      "source": [
        "**What is Object-Oriented Design (OOD)?**\n",
        "\n",
        "Object-Oriented Design (OOD) is a way of planning and organizing software systems using the principles of Object-Oriented Programming (OOP). It focuses on designing software by modeling it as a collection of objects, each representing a real-world entity with its own data (attributes) and behavior (methods).\n",
        "\n",
        "OOD helps by:\n",
        "\n",
        "* Breaking the system into smaller, manageable parts (objects)\n",
        "\n",
        "* Promoting reuse, modularity, and scalability\n",
        "\n",
        "* Making the system easier to understand, maintain, and extend\n",
        "\n",
        "In addition to `class` and `object`, which we earlier discussed, other important OOD concepts include: `encapsulation`, `inheritance` and `polymorphism`.\n",
        "\n",
        "* **Encapsulation**\n",
        "> Encapsulation is one of the core principles of Object-Oriented Programming (OOP). It refers to hiding the internal state and requiring all interactions to go through methods. This protects the integrity of the data and makes your code easier to maintain."
      ],
      "metadata": {
        "id": "7Ul0Cxm2m-4H"
      }
    },
    {
      "cell_type": "code",
      "source": [
        "1. # Encapsulation\n",
        "\n",
        "# Define a class with private data\n",
        "class BankAccount:\n",
        "    def __init__(self, owner, balance):\n",
        "        self.owner = owner\n",
        "        self.__balance = balance  # Private attribute (note the __)\n",
        "\n",
        "    def deposit(self, amount):  # Method to add money\n",
        "        if amount > 0:\n",
        "            self.__balance += amount\n",
        "            print(f\"Deposited ${amount}. New balance: ${self.__balance}\")\n",
        "        else:\n",
        "            print(\"Invalid amount!\")\n",
        "\n",
        "    def check_balance(self):  # Method to see balance\n",
        "        print(f\"{self.owner}'s balance: ${self.__balance}\")\n",
        "\n",
        "# Create an object\n",
        "account = BankAccount(\"Alice\", 100)\n",
        "\n",
        "# Use methods\n",
        "account.deposit(50)        # Output: Deposited $50. New balance: $150\n",
        "account.check_balance()    # Output: Alice's balance: $150\n",
        "\n",
        "\n"
      ],
      "metadata": {
        "id": "AKB8TqVSQMEG",
        "colab": {
          "base_uri": "https://localhost:8080/"
        },
        "outputId": "f230513e-d648-4f85-fd2e-bd40dcb880dd"
      },
      "execution_count": null,
      "outputs": [
        {
          "output_type": "stream",
          "name": "stdout",
          "text": [
            "Deposited $50. New balance: $150\n",
            "Alice's balance: $150\n"
          ]
        }
      ]
    },
    {
      "cell_type": "code",
      "source": [
        "# Try  to access owner directly\n",
        "print(account.owner)\n",
        "print(\"------------------------------------------\")\n",
        "# Try to access private balance directly (will fail)\n",
        "print(account.__balance)  # Error: AttributeError"
      ],
      "metadata": {
        "colab": {
          "base_uri": "https://localhost:8080/",
          "height": 211
        },
        "id": "9z5WNYgRqN-s",
        "outputId": "203de31a-f2e7-42de-966a-1e56efc5f0b6"
      },
      "execution_count": null,
      "outputs": [
        {
          "output_type": "stream",
          "name": "stdout",
          "text": [
            "Alice\n",
            "------------------------------------------\n"
          ]
        },
        {
          "output_type": "error",
          "ename": "AttributeError",
          "evalue": "'BankAccount' object has no attribute '__balance'",
          "traceback": [
            "\u001b[0;31m---------------------------------------------------------------------------\u001b[0m",
            "\u001b[0;31mAttributeError\u001b[0m                            Traceback (most recent call last)",
            "\u001b[0;32m<ipython-input-3-0119d41c3f96>\u001b[0m in \u001b[0;36m<cell line: 0>\u001b[0;34m()\u001b[0m\n\u001b[1;32m      3\u001b[0m \u001b[0mprint\u001b[0m\u001b[0;34m(\u001b[0m\u001b[0;34m\"------------------------------------------\"\u001b[0m\u001b[0;34m)\u001b[0m\u001b[0;34m\u001b[0m\u001b[0;34m\u001b[0m\u001b[0m\n\u001b[1;32m      4\u001b[0m \u001b[0;31m# Try to access private balance directly (will fail)\u001b[0m\u001b[0;34m\u001b[0m\u001b[0;34m\u001b[0m\u001b[0m\n\u001b[0;32m----> 5\u001b[0;31m \u001b[0mprint\u001b[0m\u001b[0;34m(\u001b[0m\u001b[0maccount\u001b[0m\u001b[0;34m.\u001b[0m\u001b[0m__balance\u001b[0m\u001b[0;34m)\u001b[0m  \u001b[0;31m# Error: AttributeError\u001b[0m\u001b[0;34m\u001b[0m\u001b[0;34m\u001b[0m\u001b[0m\n\u001b[0m",
            "\u001b[0;31mAttributeError\u001b[0m: 'BankAccount' object has no attribute '__balance'"
          ]
        }
      ]
    },
    {
      "cell_type": "markdown",
      "source": [
        "* **Inheritance**\n",
        "> Inheritance  in Object-Oriented Programming that lets you create a new class from an existing class. The new class (child) inherits attributes and methods from the existing class (parent or base class), making it easy to reuse and extend code. The child class can also override some of the methods of the base class."
      ],
      "metadata": {
        "id": "4bPlp2lsQ_fA"
      }
    },
    {
      "cell_type": "code",
      "source": [
        "# Parent Class\n",
        "class Person:\n",
        "    def __init__(self, name, age):\n",
        "        self.name = name\n",
        "        self.age = age\n",
        "\n",
        "    def greet(self):\n",
        "        print(f\"Hi, my name is {self.name} and I'm {self.age} years old.\")\n",
        "\n",
        "# Child Class\n",
        "class Student(Person):\n",
        "    def __init__(self, name, age, student_id):\n",
        "        super().__init__(name, age)  # call parent constructor\n",
        "        self.student_id = student_id\n",
        "\n",
        "    def study(self):\n",
        "        print(f\"{self.name} is studying with ID {self.student_id}.\")\n",
        "\n",
        "\n",
        "#Creating an instance of person class\n",
        "person = Person(\"James\", 19)\n",
        "person.greet()\n",
        "\n",
        "# Creating and instance of student class\n",
        "student = Student(\"John\", 19, 1000)\n",
        "student.study()"
      ],
      "metadata": {
        "id": "4copxgZmQ-y2",
        "colab": {
          "base_uri": "https://localhost:8080/"
        },
        "outputId": "04980dbc-1662-4314-d3d7-bdc48df9bc23"
      },
      "execution_count": null,
      "outputs": [
        {
          "output_type": "stream",
          "name": "stdout",
          "text": [
            "Hi, my name is James and I'm 19 years old.\n",
            "John is studying with ID 1000.\n"
          ]
        }
      ]
    },
    {
      "cell_type": "code",
      "source": [
        "# Example 2\n",
        "\n",
        "class Parent:\n",
        "    def __init__(self, a):\n",
        "        self.a = a\n",
        "    def method1(self):\n",
        "        print(self.a*2)\n",
        "    def method2(self):\n",
        "        print(self.a+'!!!')\n",
        "\n",
        "\n",
        "class Child(Parent):\n",
        "     def __init__(self, a, b):\n",
        "        self.a = a\n",
        "        self.b = b\n",
        "     def method1(self):\n",
        "        print(self.a*7)\n",
        "     def method3(self):\n",
        "        print(self.a + self.b)\n",
        "\n",
        "p = Parent('hi')\n",
        "c = Child('hi', 'bye')\n",
        "print('Parent method 1: ', p.method1())\n",
        "print('Parent method 2: ', p.method2())\n",
        "print()\n",
        "print('Child method 1: ', c.method1())\n",
        "print('Child method 2: ', c.method2())\n",
        "print('Child method 3: ', c.method3())"
      ],
      "metadata": {
        "colab": {
          "base_uri": "https://localhost:8080/"
        },
        "id": "cjPgbwM5kZ3g",
        "outputId": "7822c2fe-6cd2-4489-a37d-afd34ee829b2"
      },
      "execution_count": null,
      "outputs": [
        {
          "output_type": "stream",
          "name": "stdout",
          "text": [
            "hihi\n",
            "Parent method 1:  None\n",
            "hi!!!\n",
            "Parent method 2:  None\n",
            "\n",
            "hihihihihihihi\n",
            "Child method 1:  None\n",
            "hi!!!\n",
            "Child method 2:  None\n",
            "hibye\n",
            "Child method 3:  None\n"
          ]
        }
      ]
    },
    {
      "cell_type": "markdown",
      "source": [
        "We see in the example above that the child has overridden the parent’s `method1`, causing it to now\n",
        "repeat the string seven times. The child has inherited the parent’s `method2`, so it can use it without\n",
        "having to define it. The child also adds some features to the parent class, namely `a` new variable `b`\n",
        "and a new method, `method3`.\n",
        "\n",
        "A note about syntax: when inheriting from a class, you indicate the parent class in parentheses in\n",
        "the class statement."
      ],
      "metadata": {
        "id": "E5A-QBe1jEaS"
      }
    },
    {
      "cell_type": "markdown",
      "source": [
        "**Polymorphism**\n",
        "\n",
        "Polymorphism means “many forms”, and in programming, it allows objects of different classes to be treated as if they are of the same class through a shared interface. It lets the same operation or method name behave differently depending on the object it's acting on.\n",
        "\n"
      ],
      "metadata": {
        "id": "TE437mFAiVu9"
      }
    },
    {
      "cell_type": "code",
      "source": [
        "class Animal:\n",
        "    def speak(self):\n",
        "        print(\"The animal makes a sound\")\n",
        "\n",
        "class Dog(Animal):\n",
        "    def speak(self):\n",
        "        print(\"Woof!\")\n",
        "\n",
        "class Cat(Animal):\n",
        "    def speak(self):\n",
        "        print(\"Meow!\")\n",
        "\n",
        "# Polymorphic behavior\n",
        "animals = [Dog(), Cat(), Animal()]\n",
        "for animal in animals:\n",
        "    animal.speak()\n"
      ],
      "metadata": {
        "id": "u6-wEfYvr9Q0",
        "outputId": "cd666409-a995-437c-8376-fe0f554c16a3",
        "colab": {
          "base_uri": "https://localhost:8080/"
        }
      },
      "execution_count": null,
      "outputs": [
        {
          "output_type": "stream",
          "name": "stdout",
          "text": [
            "Woof!\n",
            "Meow!\n",
            "The animal makes a sound\n"
          ]
        }
      ]
    },
    {
      "cell_type": "markdown",
      "source": [
        "1. Create a class called Rectangle with attributes length and width. Add a method area that returns the area of the rectangle."
      ],
      "metadata": {
        "id": "YZZvAbBMCxVh"
      }
    },
    {
      "cell_type": "code",
      "source": [],
      "metadata": {
        "id": "GAPdQtA-Cw9t"
      },
      "execution_count": null,
      "outputs": []
    },
    {
      "cell_type": "markdown",
      "source": [
        "2. Write a simple class with the name `Person` and  a method that prints the person's name."
      ],
      "metadata": {
        "id": "3gAdVaiOCciD"
      }
    },
    {
      "cell_type": "code",
      "source": [],
      "metadata": {
        "id": "wmEab3gkCbSp"
      },
      "execution_count": null,
      "outputs": []
    },
    {
      "cell_type": "markdown",
      "source": [
        "3. Create a Car class that has two attributes: brand and year. Add a method start_engine that prints \"The engine is now running.\""
      ],
      "metadata": {
        "id": "Dl-lz0K7DL9r"
      }
    },
    {
      "cell_type": "code",
      "source": [],
      "metadata": {
        "id": "RMicOvz5DSRq"
      },
      "execution_count": null,
      "outputs": []
    },
    {
      "cell_type": "markdown",
      "source": [
        "4. Write a class called Circle with a radius attribute and a method `get_diameter()` that returns twice the radius."
      ],
      "metadata": {
        "id": "nSww2wtqDYMy"
      }
    },
    {
      "cell_type": "code",
      "source": [],
      "metadata": {
        "id": "2fktlLPcDnQL"
      },
      "execution_count": null,
      "outputs": []
    },
    {
      "cell_type": "markdown",
      "source": [
        "5. Write a class called Investment with fields called principal and interest. The constructor should set the values of those fields. There should be a method called value_after that\n",
        "returns the value of the investment after n years. The formula for this is `p(1 + i)^n`, where `p` is\n",
        "the principal, and i is the interest rate."
      ],
      "metadata": {
        "id": "JF8k2KXju2YC"
      }
    },
    {
      "cell_type": "code",
      "source": [],
      "metadata": {
        "id": "L8NfxR5ovVHc"
      },
      "execution_count": null,
      "outputs": []
    },
    {
      "cell_type": "markdown",
      "source": [
        "**SOFTWARE ENGINEERING**\n",
        "\n",
        "Software engineering is the disciplined process of designing, developing, testing, and maintaining software using engineering principles. Its goal is to produce software that is reliable, scalable, maintainable, and aligned with user needs. As a branch of computer science, it focuses on creating large, complex systems that go beyond the scope of small, individual programs.\n",
        "\n",
        "Unlike writing simple programs, developing large software systems involves coordinating multiple people over long periods, during which requirements may change and team members may come and go. As a result, software engineering also covers areas such as project management and team coordination—topics more commonly associated with business management than traditional computer science.\n",
        "\n",
        "<br>\n",
        "\n",
        "**How Is Software Engineering Different from Programming?**\n",
        "\n",
        "Programming is the act of writing code to perform specific tasks. It’s a crucial part of software development but represents just one phase of the broader software engineering process.\n",
        "\n",
        "Software engineering takes a more comprehensive approach. It includes:\n",
        "\n",
        "* **Analysis**: Understanding what the user needs.\n",
        "\n",
        "* **Design**: Planning how the system will work before coding.\n",
        "\n",
        "* **Implementation**: Writing the code (i.e., programming).\n",
        "\n",
        "* **Testing**: Ensuring the software functions correctly.\n",
        "\n",
        "* **Maintenance**: Making updates and improvements over time.\n",
        "\n",
        "Example: Building a simple calculator app.\n",
        "A programmer might just write the code to add, subtract, multiply, and divide.\n",
        "A software engineer would first define what the app should do, design the interface, plan how different parts of the code will interact, write and test the code, and later update it based on user feedback.\n",
        "\n",
        "<br>\n",
        "\n",
        "**Software Engineering Methodologies**\n",
        "\n",
        "**Waterfall** and **Agile** are two popular methodologies used in software development, each with its own approach to planning and executing projects.\n",
        "\n",
        "* **Waterfall**\n",
        "> **Waterfall** is a traditional software engineering approach where development phases—such as requirements analysis, design, implementation, testing, deployment, and maintenance—are carried out in a strict linear sequence.\n",
        ">\n",
        ">Each phase must be completed before moving on to the next. It works best when:\n",
        "\n",
        "> * Requirements are well understood and unlikely to change.\n",
        "\n",
        ">* The project is straightforward and predictable.\n",
        "\n",
        "Example: Building software for a government agency where specifications are fixed at the beginning.\n"
      ],
      "metadata": {
        "id": "hmemKf9mv4AL"
      }
    },
    {
      "cell_type": "code",
      "source": [
        "# @title\n",
        "import base64\n",
        "from IPython.display import Image, display\n",
        "import matplotlib.pyplot as plt\n",
        "\n",
        "def mm(graph):\n",
        "    graphbytes = graph.encode(\"utf8\")\n",
        "    base64_bytes = base64.urlsafe_b64encode(graphbytes)\n",
        "    base64_string = base64_bytes.decode(\"ascii\")\n",
        "    display(Image(url=\"https://mermaid.ink/img/\" + base64_string))\n",
        "\n",
        "\n",
        "\n",
        "mm(\"\"\"\n",
        "flowchart TB\n",
        "    subgraph Process[\"Waterfall Development\"]\n",
        "        direction TB\n",
        "        subgraph Requirements[\"1 - Requirements Phase\"]\n",
        "            R1[Gather Requirements] --> R2[Document Specifications]\n",
        "            R2 --> R3[Sign-off]\n",
        "        end\n",
        "\n",
        "        subgraph Design[\"2 - Design Phase\"]\n",
        "            D1[System Design] --> D2[Architecture]\n",
        "            D2 --> D3[Design Review]\n",
        "        end\n",
        "\n",
        "        subgraph Implementation[\"3 - Implementation\"]\n",
        "            I1[Coding] --> I2[Unit Testing]\n",
        "            I2 --> I3[Code Review]\n",
        "        end\n",
        "\n",
        "        subgraph Testing[\"4 - Testing Phase\"]\n",
        "            T1[Integration Testing] --> T2[System Testing]\n",
        "            T2 --> T3[User Acceptance]\n",
        "        end\n",
        "\n",
        "        subgraph Maintenance[\"5 - Maintenance\"]\n",
        "            M1[Deployment] --> M2[Support]\n",
        "            M2 --> M3[Updates]\n",
        "        end\n",
        "\n",
        "        Requirements --> Design\n",
        "        Design --> Implementation\n",
        "        Implementation --> Testing\n",
        "        Testing --> Maintenance\n",
        "    end\n",
        "\n",
        "    style Requirements fill:#ffcdd2,stroke:#b71c1c,stroke-width:2px,color:#000\n",
        "    style Design fill:#f8bbd0,stroke:#ad1457,stroke-width:2px,color:#000\n",
        "    style Implementation fill:#bbdefb,stroke:#1565c0,stroke-width:2px,color:#000\n",
        "    style Testing fill:#f8bbd0,stroke:#ad1457,stroke-width:2px,color:#000\n",
        "    style Maintenance fill:#ffcdd2,stroke:#b71c1c,stroke-width:2px,color:#000\n",
        "\"\"\")\n"
      ],
      "metadata": {
        "id": "XzL4SmhInPft",
        "outputId": "dbdd9991-cee1-4897-ab12-a8f80910614f",
        "colab": {
          "base_uri": "https://localhost:8080/",
          "height": 1000
        },
        "cellView": "form"
      },
      "execution_count": null,
      "outputs": [
        {
          "output_type": "display_data",
          "data": {
            "text/html": [
              "<img src=\"https://mermaid.ink/img/CmZsb3djaGFydCBUQgogICAgc3ViZ3JhcGggUHJvY2Vzc1siV2F0ZXJmYWxsIERldmVsb3BtZW50Il0KICAgICAgICBkaXJlY3Rpb24gVEIKICAgICAgICBzdWJncmFwaCBSZXF1aXJlbWVudHNbIjEgLSBSZXF1aXJlbWVudHMgUGhhc2UiXQogICAgICAgICAgICBSMVtHYXRoZXIgUmVxdWlyZW1lbnRzXSAtLT4gUjJbRG9jdW1lbnQgU3BlY2lmaWNhdGlvbnNdCiAgICAgICAgICAgIFIyIC0tPiBSM1tTaWduLW9mZl0KICAgICAgICBlbmQKCiAgICAgICAgc3ViZ3JhcGggRGVzaWduWyIyIC0gRGVzaWduIFBoYXNlIl0KICAgICAgICAgICAgRDFbU3lzdGVtIERlc2lnbl0gLS0-IEQyW0FyY2hpdGVjdHVyZV0KICAgICAgICAgICAgRDIgLS0-IEQzW0Rlc2lnbiBSZXZpZXddCiAgICAgICAgZW5kCgogICAgICAgIHN1YmdyYXBoIEltcGxlbWVudGF0aW9uWyIzIC0gSW1wbGVtZW50YXRpb24iXQogICAgICAgICAgICBJMVtDb2RpbmddIC0tPiBJMltVbml0IFRlc3RpbmddCiAgICAgICAgICAgIEkyIC0tPiBJM1tDb2RlIFJldmlld10KICAgICAgICBlbmQKCiAgICAgICAgc3ViZ3JhcGggVGVzdGluZ1siNCAtIFRlc3RpbmcgUGhhc2UiXQogICAgICAgICAgICBUMVtJbnRlZ3JhdGlvbiBUZXN0aW5nXSAtLT4gVDJbU3lzdGVtIFRlc3RpbmddCiAgICAgICAgICAgIFQyIC0tPiBUM1tVc2VyIEFjY2VwdGFuY2VdCiAgICAgICAgZW5kCgogICAgICAgIHN1YmdyYXBoIE1haW50ZW5hbmNlWyI1IC0gTWFpbnRlbmFuY2UiXQogICAgICAgICAgICBNMVtEZXBsb3ltZW50XSAtLT4gTTJbU3VwcG9ydF0KICAgICAgICAgICAgTTIgLS0-IE0zW1VwZGF0ZXNdCiAgICAgICAgZW5kCgogICAgICAgIFJlcXVpcmVtZW50cyAtLT4gRGVzaWduCiAgICAgICAgRGVzaWduIC0tPiBJbXBsZW1lbnRhdGlvbgogICAgICAgIEltcGxlbWVudGF0aW9uIC0tPiBUZXN0aW5nCiAgICAgICAgVGVzdGluZyAtLT4gTWFpbnRlbmFuY2UKICAgIGVuZAoKICAgIHN0eWxlIFJlcXVpcmVtZW50cyBmaWxsOiNmZmNkZDIsc3Ryb2tlOiNiNzFjMWMsc3Ryb2tlLXdpZHRoOjJweCxjb2xvcjojMDAwCiAgICBzdHlsZSBEZXNpZ24gZmlsbDojZjhiYmQwLHN0cm9rZTojYWQxNDU3LHN0cm9rZS13aWR0aDoycHgsY29sb3I6IzAwMAogICAgc3R5bGUgSW1wbGVtZW50YXRpb24gZmlsbDojYmJkZWZiLHN0cm9rZTojMTU2NWMwLHN0cm9rZS13aWR0aDoycHgsY29sb3I6IzAwMAogICAgc3R5bGUgVGVzdGluZyBmaWxsOiNmOGJiZDAsc3Ryb2tlOiNhZDE0NTcsc3Ryb2tlLXdpZHRoOjJweCxjb2xvcjojMDAwCiAgICBzdHlsZSBNYWludGVuYW5jZSBmaWxsOiNmZmNkZDIsc3Ryb2tlOiNiNzFjMWMsc3Ryb2tlLXdpZHRoOjJweCxjb2xvcjojMDAwCg==\"/>"
            ],
            "text/plain": [
              "<IPython.core.display.Image object>"
            ]
          },
          "metadata": {}
        }
      ]
    },
    {
      "cell_type": "markdown",
      "source": [
        "**Agile**\n",
        "\n",
        ">Agile Methodology emphasizes continuous development and testing throughout the software lifecycle. Unlike the linear Waterfall model, Agile allows development and testing to happen simultaneously, making it flexible and responsive to change.\n",
        "\n",
        "> Core principles include:\n",
        "\n",
        ">* Prioritizing individuals and interactions over strict processes and tools\n",
        "\n",
        ">* Delivering working software over extensive documentation\n",
        "\n",
        ">* Collaborating with customers rather than sticking to rigid contracts\n",
        "\n",
        ">* Embracing change over rigidly following a plan\n",
        ">\n",
        "> Agile is typically implemented through **iterations** or **\"sprints\"**, where teams build small, functional parts of the product, gather feedback, and improve in the next cycle.\n",
        "\n",
        ">**Example**:\n",
        "> Imagine building a mobile app. With Agile, the team first delivers a basic login feature. After getting user feedback, they tweak the design and then move on to add a dashboard in the next sprint—adjusting the product as requirements evolve."
      ],
      "metadata": {
        "id": "HQtV_lvNrzVq"
      }
    },
    {
      "cell_type": "code",
      "source": [
        "# @title\n",
        "mm(\"\"\"\n",
        "flowchart TB\n",
        "    subgraph Agile[\"Agile Development Cycle\"]\n",
        "        direction TB\n",
        "        subgraph Sprint[\"1 - Sprint Activities\"]\n",
        "            S1[Sprint Planning] --> S2[Daily Standups]\n",
        "            S2 --> S3[Development]\n",
        "            S3 --> S4[Testing]\n",
        "            S4 --> S5[Sprint Review]\n",
        "        end\n",
        "\n",
        "        subgraph Continuous[\"2 - Continuous Processes\"]\n",
        "            C1[Backlog Refinement]\n",
        "            C2[Integration]\n",
        "            C3[Deployment]\n",
        "        end\n",
        "\n",
        "        subgraph Feedback[\"3 - Feedback Loops\"]\n",
        "            F1[Customer Feedback]\n",
        "            F2[Team Retrospective]\n",
        "            F3[Stakeholder Review]\n",
        "        end\n",
        "\n",
        "        Sprint --> Sprint\n",
        "        Sprint --> Feedback\n",
        "        Feedback --> Sprint\n",
        "        Continuous --> Sprint\n",
        "    end\n",
        "\n",
        "    style Sprint fill:#ff9999,stroke:#333\n",
        "    style Continuous fill:#99ff99,stroke:#333\n",
        "    style Feedback fill:#9999ff,stroke:#333\n",
        "\"\"\")"
      ],
      "metadata": {
        "cellView": "form",
        "colab": {
          "base_uri": "https://localhost:8080/",
          "height": 794
        },
        "id": "RQf_fVxdxRd3",
        "outputId": "a0bef973-f8cd-4c5e-9034-f35c4b770d44"
      },
      "execution_count": null,
      "outputs": [
        {
          "output_type": "display_data",
          "data": {
            "text/html": [
              "<img src=\"https://mermaid.ink/img/CmZsb3djaGFydCBUQgogICAgc3ViZ3JhcGggQWdpbGVbIkFnaWxlIERldmVsb3BtZW50IEN5Y2xlIl0KICAgICAgICBkaXJlY3Rpb24gVEIKICAgICAgICBzdWJncmFwaCBTcHJpbnRbIjEgLSBTcHJpbnQgQWN0aXZpdGllcyJdCiAgICAgICAgICAgIFMxW1NwcmludCBQbGFubmluZ10gLS0-IFMyW0RhaWx5IFN0YW5kdXBzXQogICAgICAgICAgICBTMiAtLT4gUzNbRGV2ZWxvcG1lbnRdCiAgICAgICAgICAgIFMzIC0tPiBTNFtUZXN0aW5nXQogICAgICAgICAgICBTNCAtLT4gUzVbU3ByaW50IFJldmlld10KICAgICAgICBlbmQKCiAgICAgICAgc3ViZ3JhcGggQ29udGludW91c1siMiAtIENvbnRpbnVvdXMgUHJvY2Vzc2VzIl0KICAgICAgICAgICAgQzFbQmFja2xvZyBSZWZpbmVtZW50XQogICAgICAgICAgICBDMltJbnRlZ3JhdGlvbl0KICAgICAgICAgICAgQzNbRGVwbG95bWVudF0KICAgICAgICBlbmQKCiAgICAgICAgc3ViZ3JhcGggRmVlZGJhY2tbIjMgLSBGZWVkYmFjayBMb29wcyJdCiAgICAgICAgICAgIEYxW0N1c3RvbWVyIEZlZWRiYWNrXQogICAgICAgICAgICBGMltUZWFtIFJldHJvc3BlY3RpdmVdCiAgICAgICAgICAgIEYzW1N0YWtlaG9sZGVyIFJldmlld10KICAgICAgICBlbmQKCiAgICAgICAgU3ByaW50IC0tPiBTcHJpbnQKICAgICAgICBTcHJpbnQgLS0-IEZlZWRiYWNrCiAgICAgICAgRmVlZGJhY2sgLS0-IFNwcmludAogICAgICAgIENvbnRpbnVvdXMgLS0-IFNwcmludAogICAgZW5kCgogICAgc3R5bGUgU3ByaW50IGZpbGw6I2ZmOTk5OSxzdHJva2U6IzMzMwogICAgc3R5bGUgQ29udGludW91cyBmaWxsOiM5OWZmOTksc3Ryb2tlOiMzMzMKICAgIHN0eWxlIEZlZWRiYWNrIGZpbGw6Izk5OTlmZixzdHJva2U6IzMzMwo=\"/>"
            ],
            "text/plain": [
              "<IPython.core.display.Image object>"
            ]
          },
          "metadata": {}
        }
      ]
    },
    {
      "cell_type": "markdown",
      "source": [],
      "metadata": {
        "id": "CRgrWkA3IP6Y"
      }
    }
  ]
}