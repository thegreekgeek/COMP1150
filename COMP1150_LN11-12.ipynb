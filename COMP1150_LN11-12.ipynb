{
  "nbformat": 4,
  "nbformat_minor": 0,
  "metadata": {
    "colab": {
      "provenance": [],
      "include_colab_link": true
    },
    "kernelspec": {
      "name": "python3",
      "display_name": "Python 3"
    },
    "language_info": {
      "name": "python"
    }
  },
  "cells": [
    {
      "cell_type": "markdown",
      "metadata": {
        "id": "view-in-github",
        "colab_type": "text"
      },
      "source": [
        "<a href=\"https://colab.research.google.com/github/thegreekgeek/COMP1150/blob/main/COMP1150_LN11-12.ipynb\" target=\"_parent\"><img src=\"https://colab.research.google.com/assets/colab-badge.svg\" alt=\"Open In Colab\"/></a>"
      ]
    },
    {
      "cell_type": "markdown",
      "source": [
        "## Python: Data Types, Lists, Functions and More\n",
        "\n",
        "In this lecture, we take a closer look at data types, lists and functions."
      ],
      "metadata": {
        "id": "wXPUVzkrNHt6"
      }
    },
    {
      "cell_type": "markdown",
      "source": [
        "**Data Types**\n",
        "\n",
        "Data types classify or categorize data items, indicating the type of value and the operations that can be performed on it. Furthermore, data types dictate how the computer process various kinds of data.\n",
        "\n",
        "Each programming language has its way of handling how it assigns data types, which can be **static** or **dynamic**.\n",
        ">* **Static typing**: In statically type languages, you must declare a variable's data type when it is created and the type can't be changed later. The compliler check these types before the program runs. You may think of it like labelling a bottle \"wine\" and promising it will only hold wine. If you try to put soda in it, the compiler complains before you drink it. Exmaples of programming languages that use static typing  are Java, C, C++ or Go.\n",
        "\n",
        "```java\n",
        "// JAVA\n",
        "int age = 18  //Declaring 'age' as an integer\n",
        "age = \"Hello\" // Error: Cannot assign a string to an integer variable.\n",
        "```\n",
        "\n",
        ">* **Dynamic typing**: In dynamically typed programming languages, variables do not require explicit type declaration or declared upfront. Using the illustration of the jar, you may think of it as being able to use your jar to store wine, swap it for soda later, and the program adjusts on the fly. Examples of programming languages that use dynamic typing are Python, JavaScript, Ruby.\n",
        "\n",
        "```python\n",
        "# Python\n",
        "age =  18  # 'age' is an integer\n",
        "age = \"Hello\" #Now age is a string -- no problem\n",
        "print(age) #Hello\n",
        "\n",
        "```\n",
        "\n",
        "The **dynamic typing** nature of Python makes it easier for beginners to start coding without worrying about specifying data types beforehand.\n",
        "\n",
        "In Python, some common data types are:\n",
        "\n",
        "| Data Type | Description | Example |\n",
        "| --- | --- | --- |\n",
        "| Integer (`int`) | A whole number, positive or negative, without decimals, of unlimited length. | `x = 10` |\n",
        "| Float (`float`) | A number, positive or negative, containing one or more decimals. | `y = 7.5` |\n",
        "| String (`str`) | A sequence of Unicode characters. Enclosed in either single quotes or double quotes. | `name = \"Carnap\"` |\n",
        "| Boolean (`bool`) | Data type with two built-in values: `True` or `False`. | `is_true = False` |\n",
        "| List (`list`) | A collection which is ordered and changeable. Allows duplicate members. | `fruits = ['apple', 'banana', 'cherry']` |\n",
        "| Tuple (`tuple`) | A collection which is ordered and unchangeable. Allows duplicate members. | `colors = ('red', 'blue', 'green')` |\n",
        "| Set (`set`) | A collection which is unordered and unindexed. No duplicate members. | `cars = {'Toyota', 'Ford', 'Tesla'}` |\n",
        "| Dictionary (`dict`) | A collection which is unordered, changeable and indexed. No duplicate members. It's a key-value pair. | `student = {'name': 'Carnap', 'age': 20}` |\n",
        "| None (`NoneType`) | A special data type representing the absence of a value or a null value. | `x = None` |\n",
        "\n",
        "\n",
        "As Python is dynamically typed, you don't need to explicitly specify the data type when creating a variable. For example, to assign the integer value 5 to a variable named 'x', you can simply write: `x = 5`.  Python will understand that 'x' is an integer, and store it accordingly.\n"
      ],
      "metadata": {
        "id": "ObueqBzKrqzb"
      }
    },
    {
      "cell_type": "markdown",
      "source": [
        "**Integers**\n",
        "\n",
        "Integers are used to storing whole numbers. Examples are: `1`, `5`, `100`, `0`, `500`. Integers are suitable for counting or  storing ages.\n",
        "\n",
        "Integers in Python can be used for arithmetic operations such as addition, subtraction, multiplication, and division. Additionally, Python offers special operations for integers, including floor division and modulus.\n",
        "\n",
        "Here's a simple example using integers in Python:"
      ],
      "metadata": {
        "id": "G6RZS2WN-PZk"
      }
    },
    {
      "cell_type": "code",
      "source": [
        "a =  13\n",
        "b = 3\n",
        "\n",
        "print(\"Addition:\", a + b)\n",
        "print(\"Difference:\", a - b)\n",
        "print(\"Multiplication:\", a * b)\n",
        "print(\"Division:\", a / b)\n",
        "print(\"Floor Division:\", a // b)\n",
        "print(\"Modulus:\", a % b)"
      ],
      "metadata": {
        "colab": {
          "base_uri": "https://localhost:8080/"
        },
        "id": "szcIc_pAOQVk",
        "outputId": "cca1812a-3c73-4477-c0d6-8928aa04f986"
      },
      "execution_count": null,
      "outputs": [
        {
          "output_type": "stream",
          "name": "stdout",
          "text": [
            "Addition: 16\n",
            "Difference: 10\n",
            "Multiplication: 39\n",
            "Division: 4.333333333333333\n",
            "Floor Division: 4\n",
            "Modulus: 1\n"
          ]
        }
      ]
    },
    {
      "cell_type": "code",
      "source": [
        "3 % 2"
      ],
      "metadata": {
        "colab": {
          "base_uri": "https://localhost:8080/"
        },
        "id": "ge-IwH8VMtO1",
        "outputId": "8d04bd21-ddf0-40a2-ba2d-bb7121cb9fd2"
      },
      "execution_count": null,
      "outputs": [
        {
          "output_type": "execute_result",
          "data": {
            "text/plain": [
              "1"
            ]
          },
          "metadata": {},
          "execution_count": 1
        }
      ]
    },
    {
      "cell_type": "code",
      "execution_count": null,
      "metadata": {
        "colab": {
          "base_uri": "https://localhost:8080/"
        },
        "id": "YfjTvS9UZ9Md",
        "outputId": "d46220a5-589c-421e-b4ba-7b46dbbadeed"
      },
      "outputs": [
        {
          "output_type": "stream",
          "name": "stdout",
          "text": [
            "The sum of the heights is 236 cm\n",
            "The difference in height is 4 cm\n",
            "Triple Barbie's height is 348 cm\n",
            "Ken's height as a multiple of Barbie's height is 1.0344827586206897\n",
            "The number of whole Barbies fitting into Ken's height is 1\n",
            "The remainder when Ken's height is divided by Barbie's height is 4 cm\n"
          ]
        }
      ],
      "source": [
        "barbie_height = 116  # Barbie's height in centimeters\n",
        "ken_height = 120  # Ken's height in centimeters\n",
        "\n",
        "print(f\"The sum of the heights is {barbie_height + ken_height} cm\")\n",
        "print(f\"The difference in height is {ken_height - barbie_height} cm\")\n",
        "print(f\"Triple Barbie's height is {barbie_height * 3} cm\")\n",
        "print(f\"Ken's height as a multiple of Barbie's height is {ken_height / barbie_height}\")\n",
        "print(f\"The number of whole Barbies fitting into Ken's height is {ken_height // barbie_height}\")\n",
        "print(f\"The remainder when Ken's height is divided by Barbie's height is {ken_height % barbie_height} cm\")\n"
      ]
    },
    {
      "cell_type": "markdown",
      "source": [
        "Keep in mind that interges are whole numbers without decimal places. If you need to work with numbers that include decimals, you should use the float data type, which we will discuss later."
      ],
      "metadata": {
        "id": "4eR8zuwYQqE6"
      }
    },
    {
      "cell_type": "markdown",
      "source": [
        "**Floating Point Numbers**\n",
        "\n",
        "A floating-point number, or float, is a number that includes a decimal point. Floats can represent both whole numbers and numbers with fractional parts. In Python, they are a fundamental data type used for working with decimal values.\n",
        "\n",
        "Some examples include: `1.57, 0.001, -6.7, 8.57, 23.0`, and so on.\n",
        "\n",
        "<br>\n",
        "\n",
        "Floats can be used for arithmetic operations such as addition, subtraction, multiplication, and division. Unlike integers, which are limited to whole numbers, floats allow for more precise calculations when working with fractional values.\n",
        "\n",
        "\n",
        "Here's a simple example using floating-point numbers in Python:"
      ],
      "metadata": {
        "id": "emnmDwkxRLSH"
      }
    },
    {
      "cell_type": "code",
      "source": [
        "c = 15.5\n",
        "d = 3.2\n",
        "\n",
        "print(\"Addition:\", c + d)\n",
        "print(\"Difference:\", c - d)\n",
        "print(\"Multiplication:\", c * d)\n",
        "print(\"Division:\", c / d)\n",
        "#print(\"Floor Division:\", c // d)\n",
        "#print(\"Modulus:\", c % d)"
      ],
      "metadata": {
        "colab": {
          "base_uri": "https://localhost:8080/"
        },
        "id": "euLfD8qGo7vz",
        "outputId": "03b99e9b-3f60-480f-ca70-65e70b354786"
      },
      "execution_count": null,
      "outputs": [
        {
          "output_type": "stream",
          "name": "stdout",
          "text": [
            "Addition: 18.7\n",
            "Difference: 12.3\n",
            "Multiplication: 49.6\n",
            "Division: 4.84375\n"
          ]
        }
      ]
    },
    {
      "cell_type": "code",
      "source": [
        "planck_constant = 6.62607015e-34  # Planck constant in m^2 kg / s\n",
        "speed_of_light = 3.00e8  # Speed of light in m / s\n",
        "electron_mass = 9.10938356e-31  # Electron mass in kg\n",
        "\n",
        "# Addition: Sum of constants as a hypothetical operation\n",
        "print(f\"Sum of Planck constant and speed of light: {planck_constant + speed_of_light} m^2 kg/s^2\")\n",
        "\n",
        "# Subtraction: Difference between speed of light and electron mass, hypothetically\n",
        "print(f\"Difference between speed of light and electron mass: {speed_of_light - electron_mass} m/s\")\n",
        "\n",
        "# Multiplication: Product of Planck constant and speed of light\n",
        "print(f\"Product of Planck constant and speed of light: {planck_constant * speed_of_light} m^3 kg / s^2\")\n",
        "\n",
        "# Division: Planck constant divided by electron mass\n",
        "print(f\"Planck constant divided by electron mass: {planck_constant / electron_mass} m^2 s^-1\")\n",
        "\n",
        "# Exponentiation: Speed of light raised to the power of 2, representing squared speed\n",
        "print(f\"Speed of light squared: {speed_of_light ** 2} m^2 / s^2\")\n"
      ],
      "metadata": {
        "colab": {
          "base_uri": "https://localhost:8080/"
        },
        "id": "KHaQwJxfqw31",
        "outputId": "0a1e787e-d29a-44e1-d660-4a09a55d3209"
      },
      "execution_count": null,
      "outputs": [
        {
          "output_type": "stream",
          "name": "stdout",
          "text": [
            "Sum of Planck constant and speed of light: 300000000.0 m^2 kg/s^2\n",
            "Difference between speed of light and electron mass: 300000000.0 m/s\n",
            "Product of Planck constant and speed of light: 1.9878210449999999e-25 m^3 kg / s^2\n",
            "Planck constant divided by electron mass: 0.0007273895216242273 m^2 s^-1\n",
            "Speed of light squared: 9e+16 m^2 / s^2\n"
          ]
        }
      ]
    },
    {
      "cell_type": "markdown",
      "source": [
        "**Arithmetic For Floats and Integers**\n",
        "\n",
        "# Arithmetic For Floats and Ints\n",
        "In Python, you can perform arithmetic operations using the standard arithmetic operators. Here's a quick overview of the basic arithmetic operators:\n",
        "\n",
        "| **Operation** | **Symbol** | **Description** | **Example** | **Result** |\n",
        "| --- | --- | --- | --- | --- |\n",
        "| Addition | `+` | Adds two numbers. | `5 + 3` | `8` |\n",
        "| Subtraction | `-` | Subtracts the second number from the first. | `5 - 3` | `2` |\n",
        "| Multiplication | `*` | Multiplies two numbers. | `5 * 3` | `15` |\n",
        "| Division | `/` | Divides the first number by the second. | `5 / 3` | `1.6667` |\n",
        "| Floor Division | `//` | Divides and returns the integer part only. | `5 // 3` | `1` |\n",
        "| Modulus | `%` | Returns the remainder of the division. | `5 % 3` | `2` |\n",
        "| Exponentiation | `**` | Raises the first number to the power of the second. | `5 ** 3` | `125` |\n",
        "| Negation | `-` | Negates the number (unary minus). | `-5` | `-5` |\n",
        "| Absolute Value | `abs()` | Returns the absolute value of the number. | `abs(-5)` | `5` |\n",
        "| Round | `round()` | Rounds the number to the nearest integer. | `round(5.67)` | `6` |\n",
        "| Maximum | `max()` | Returns the largest of the given numbers. | `max(5, 3, 7)` | `7` |\n",
        "| Minimum | `min()` | Returns the smallest of the given numbers. | `min(5, 3, 7)` | `3` |\n",
        "\n",
        "The above operators allow you to perform calculations with numbers. You can also use parentheses to control the order of operations.\n",
        "\n",
        "<br>\n",
        "\n",
        "Below is a simple Python program that prompts the user for two integers and displays the results of basic arithmetic operations using f-strings.\n"
      ],
      "metadata": {
        "id": "gnH7VC441lRJ"
      }
    },
    {
      "cell_type": "code",
      "source": [
        "# a basic Python program that asks the user for two integers and\n",
        "# then prints out the result of basic arithmetic operations on them using f-strings\n",
        "\n",
        "# Get input from the user\n",
        "num1 = int(input(\"Please enter the first integer: \"))\n",
        "num2 = int(input(\"Please enter the second integer: \"))\n",
        "\n",
        "# Perform some arithmetic operations\n",
        "division = num1 / num2\n",
        "floor_division = num1 // num2\n",
        "modulus = num1 % num2\n",
        "exponentiation = num1 ** num2\n",
        "\n",
        "# Print the results using f-strings\n",
        "print(f\"The quotient of {num1} divided by {num2} is: {division}\")\n",
        "print(f\"The floor division of {num1} and {num2} is: {floor_division}\")\n",
        "print(f\"The remainder of {num1} divided by {num2} is: {modulus}\")\n",
        "print(f\"{num1} raised to the power of {num2} is: {exponentiation}\")"
      ],
      "metadata": {
        "colab": {
          "base_uri": "https://localhost:8080/"
        },
        "id": "arQpfMOZ_hTi",
        "outputId": "b785c4f6-0d64-415e-ec5e-791f480a4b78"
      },
      "execution_count": null,
      "outputs": [
        {
          "output_type": "stream",
          "name": "stdout",
          "text": [
            "Please enter the first integer: 8\n",
            "Please enter the second integer: 5\n",
            "The quotient of 8 divided by 5 is: 1.6\n",
            "The floor division of 8 and 5 is: 1\n",
            "The remainder of 8 divided by 5 is: 3\n",
            "8 raised to the power of 5 is: 32768\n"
          ]
        }
      ]
    },
    {
      "cell_type": "markdown",
      "source": [
        " **Booleans**\n",
        "\n",
        " Boolean variables in Python are variables that can take on two values, True and False. Here are two examples of setting Boolean variables:\n",
        "\n",
        " ```python\n",
        " #Code\n",
        "game_over = True\n",
        "highlight_text = False\n",
        "\n",
        "if game_over:\n",
        "   print('Bye!')\n",
        "\n",
        " ```\n",
        "\n",
        " ```python\n",
        " if game_over:     equivalent to     if game_over==True:\n",
        "\n",
        " ```"
      ],
      "metadata": {
        "id": "FykNcu0cBcIb"
      }
    },
    {
      "cell_type": "code",
      "source": [
        "success = True\n",
        "\n",
        "if success:\n",
        "  print(\"Congratulations!\")\n",
        "else:\n",
        " print(\"Good luck and Work Harder!\")"
      ],
      "metadata": {
        "colab": {
          "base_uri": "https://localhost:8080/"
        },
        "id": "K2O4ktdvP2le",
        "outputId": "aaac2aa1-7214-494c-bcee-69c74608f5b0"
      },
      "execution_count": null,
      "outputs": [
        {
          "output_type": "stream",
          "name": "stdout",
          "text": [
            "Congratulations!\n"
          ]
        }
      ]
    },
    {
      "cell_type": "markdown",
      "source": [
        "**LISTS**\n",
        "\n",
        "Imagine we need to store the names of fifty students and perfrom some operations,  like put them in order. Creating fifty separate variables `name1`, `name2`, ...., `name50`, would be tedious and impractical. Managing and organizing these names would be very difficult. The better solution is to use a list.\n",
        "\n",
        "Python lists are a flexible and widely used data structure. They store an ordered collection of items, which can include different data types such as strings, integers, floats, or even other lists. Since lists are mutable, their contents can be modified after creation.\n",
        "\n",
        "Creating a List\n",
        "To create a list in Python, you use square brackets `[]`. Here's how you can create a list with mixed data types:"
      ],
      "metadata": {
        "id": "6We2bmHP4f1W"
      }
    },
    {
      "cell_type": "code",
      "source": [
        "L = [1,2,3]\n",
        "print(L)"
      ],
      "metadata": {
        "colab": {
          "base_uri": "https://localhost:8080/"
        },
        "id": "M6mVT72RX0mg",
        "outputId": "5f6a4bd1-9804-420b-f33e-4d1954f6197c"
      },
      "execution_count": null,
      "outputs": [
        {
          "output_type": "stream",
          "name": "stdout",
          "text": [
            "[1, 2, 3]\n"
          ]
        }
      ]
    },
    {
      "cell_type": "code",
      "source": [
        "my_list = [\"Alan Turing\", 1936, \"ENIAC\", 1945, \"Python\", 1991, 45.89]\n",
        "print(my_list)"
      ],
      "metadata": {
        "colab": {
          "base_uri": "https://localhost:8080/"
        },
        "id": "dUVehthZWghV",
        "outputId": "1666c1d6-a2e4-490f-e948-d60cf4ed940b"
      },
      "execution_count": null,
      "outputs": [
        {
          "output_type": "stream",
          "name": "stdout",
          "text": [
            "['Alan Turing', 1936, 'ENIAC', 1945, 'Python', 1991, 45.89]\n"
          ]
        }
      ]
    },
    {
      "cell_type": "markdown",
      "source": [
        "Data types of List:  Lists can contain all kinds of things, even other lists. For example, the following is a valid list:\n",
        "\n",
        "```python\n",
        "[1, 2.718, 'abc', [5,6,7]]\n",
        "\n",
        "```"
      ],
      "metadata": {
        "id": "gnPn7P5abI10"
      }
    },
    {
      "cell_type": "markdown",
      "source": [
        "**Accessing List Elements**\n",
        "\n",
        "You can access individual elements in a list using indexing. Python uses zero-based indexing, meaning the first element is at index `0`.\n",
        "\n",
        "```python\n",
        "fruits = [\"apple\", \"banana\", \"cherry\"]\n",
        "\n",
        "print(fruits[0])  # Output: apple\n",
        "print(fruits[1])  # Output: banana\n",
        "print(fruits[2])  # Output: cherry\n",
        "\n",
        "```\n",
        "\n"
      ],
      "metadata": {
        "id": "MQ6QDnsHbp2j"
      }
    },
    {
      "cell_type": "code",
      "source": [
        "lst = [1, 2, 3, 5, 6]\n",
        "# num of items is 5\n",
        "#0 to  5-1\n",
        "# n  --> 0 to n - 1"
      ],
      "metadata": {
        "id": "BLVuUaOySkx4"
      },
      "execution_count": null,
      "outputs": []
    },
    {
      "cell_type": "code",
      "source": [
        "# Accessing the first element\n",
        "n_list = [\"COMP\", 1150, \"RCTC\", \"Python\"]\n",
        "\n",
        "first_element = n_list[0]  # \"COMP\"\n",
        "\n",
        "# Accessing the last element\n",
        "\n",
        "#last_element = n_list[3]\n",
        "last_element = n_list[-1]  # \"Python\"\n",
        "\n",
        "print(first_element)\n",
        "print(last_element)"
      ],
      "metadata": {
        "colab": {
          "base_uri": "https://localhost:8080/"
        },
        "id": "QoylM0qzgfBN",
        "outputId": "af4fc6e0-b3e3-441c-f1d8-8007576d2a09"
      },
      "execution_count": null,
      "outputs": [
        {
          "output_type": "stream",
          "name": "stdout",
          "text": [
            "COMP\n",
            "Python\n"
          ]
        }
      ]
    },
    {
      "cell_type": "markdown",
      "source": [
        "**Slicing a list**\n",
        "\n",
        "Slicing allows you to retrieve a specific range of elements from a list. The syntax for slicing is:\n",
        "\n",
        "```python\n",
        "n_list[start:end]\n",
        "\n",
        "#start is the index of the first element to include.\n",
        "#end is the index of the first element to exclude.\n",
        "```"
      ],
      "metadata": {
        "id": "-zEqochLcL3E"
      }
    },
    {
      "cell_type": "code",
      "source": [
        "print(n_list)"
      ],
      "metadata": {
        "id": "f0uV-noGu9Yw",
        "colab": {
          "base_uri": "https://localhost:8080/"
        },
        "outputId": "bff81a37-23ea-4a44-b7ad-231efd1d273c"
      },
      "execution_count": null,
      "outputs": [
        {
          "output_type": "stream",
          "name": "stdout",
          "text": [
            "['COMP', 1150, 'RCTC', 'Python']\n"
          ]
        }
      ]
    },
    {
      "cell_type": "code",
      "source": [
        "sub_list = n_list[1:3]\n",
        "print(sub_list)"
      ],
      "metadata": {
        "colab": {
          "base_uri": "https://localhost:8080/"
        },
        "id": "VQFNNxAyYGTT",
        "outputId": "088e5c70-9261-49ab-eb47-dc49862848b0"
      },
      "execution_count": null,
      "outputs": [
        {
          "output_type": "stream",
          "name": "stdout",
          "text": [
            "[1150, 'RCTC']\n"
          ]
        }
      ]
    },
    {
      "cell_type": "markdown",
      "source": [
        "**Adding Elements to a List**\n",
        "\n",
        "You can add elements to a list using the `append()` method, which adds an item to the end of the list."
      ],
      "metadata": {
        "id": "AOo9Jvhkqa8J"
      }
    },
    {
      "cell_type": "code",
      "source": [
        "n_list.append(\"Rochester\")\n",
        "n_list.append(1952)\n",
        "print(n_list)"
      ],
      "metadata": {
        "colab": {
          "base_uri": "https://localhost:8080/"
        },
        "id": "EBrZaj5suqim",
        "outputId": "9f9d025b-177b-4c64-fb29-de8ada5e9c87"
      },
      "execution_count": null,
      "outputs": [
        {
          "output_type": "stream",
          "name": "stdout",
          "text": [
            "['COMP', 1150, 'RCTC', 'Python', 'Rochester', 1952]\n"
          ]
        }
      ]
    },
    {
      "cell_type": "markdown",
      "source": [
        "**Extending a List**\n",
        "\n",
        "The `extend()` method adds all elements from another iterable (such as another list) to the end of the list.\n",
        "\n"
      ],
      "metadata": {
        "id": "2XYrR_7WvqII"
      }
    },
    {
      "cell_type": "code",
      "source": [
        "n_list.extend([\"USA\", 1776])\n",
        "print(n_list)"
      ],
      "metadata": {
        "colab": {
          "base_uri": "https://localhost:8080/"
        },
        "id": "Mq1iXGeKv-Qs",
        "outputId": "5d0a1f44-1fcf-439b-9c4c-6e6e8a8e9eb3"
      },
      "execution_count": null,
      "outputs": [
        {
          "output_type": "stream",
          "name": "stdout",
          "text": [
            "['COMP', 1150, 'RCTC', 'Python', 'Rochester', 1952, 'USA', 1776]\n"
          ]
        }
      ]
    },
    {
      "cell_type": "markdown",
      "source": [
        "**Inserting Elements**\n",
        "\n",
        "The `insert()` method allows you to insert an item at a specified position."
      ],
      "metadata": {
        "id": "KVrUjYk_wUgE"
      }
    },
    {
      "cell_type": "code",
      "source": [
        "n_list.insert(3, \"Canada\")\n",
        "print(n_list)"
      ],
      "metadata": {
        "colab": {
          "base_uri": "https://localhost:8080/"
        },
        "id": "iGb1ZJNlwqRw",
        "outputId": "9b4fbd31-a752-48f1-9e01-345b813cc6e6"
      },
      "execution_count": null,
      "outputs": [
        {
          "output_type": "stream",
          "name": "stdout",
          "text": [
            "['COMP', 1150, 'RCTC', 'Canada', 'Canada', 'Python', 'Rochester', 1952, 'USA', 1776]\n"
          ]
        }
      ]
    },
    {
      "cell_type": "markdown",
      "source": [
        "**Removing Elements**\n",
        "\n",
        "You can remove elements from a list using the remove() method, which removes the first occurrence of a specified value.\n",
        "\n"
      ],
      "metadata": {
        "id": "NWfr9-Lrw4_o"
      }
    },
    {
      "cell_type": "code",
      "source": [
        "n_list.remove(1776)\n",
        "print(n_list)"
      ],
      "metadata": {
        "colab": {
          "base_uri": "https://localhost:8080/"
        },
        "id": "DTmpfkGTxC5z",
        "outputId": "34d15240-edc7-4eca-d24e-359a7776ee1e"
      },
      "execution_count": null,
      "outputs": [
        {
          "output_type": "stream",
          "name": "stdout",
          "text": [
            "['COMP', 1150, 'RCTC', 'Canada', 'Canada', 'Python', 'Rochester', 1952, 'USA']\n"
          ]
        }
      ]
    },
    {
      "cell_type": "markdown",
      "source": [
        "The `pop()` method removes and returns the item at a specified position (default is the last item if no index is specified)."
      ],
      "metadata": {
        "id": "k2Y5N7hsxczI"
      }
    },
    {
      "cell_type": "code",
      "source": [
        "popped_element = n_list.pop()\n",
        "print(n_list)\n",
        "print(popped_element)"
      ],
      "metadata": {
        "colab": {
          "base_uri": "https://localhost:8080/"
        },
        "id": "TuWdMSo3xhr7",
        "outputId": "9ee5dc91-968c-49ea-b359-655ebb8723b8"
      },
      "execution_count": null,
      "outputs": [
        {
          "output_type": "stream",
          "name": "stdout",
          "text": [
            "['COMP', 1150, 'RCTC', 'Canada', 'Canada', 'Python', 'Rochester', 1952, 1952, 'USA']\n",
            "1776\n"
          ]
        }
      ]
    },
    {
      "cell_type": "markdown",
      "source": [
        "**Finding Elements**\n",
        "\n",
        "The `index()` method returns the index of the first occurrence of a specified value.\n"
      ],
      "metadata": {
        "id": "oR4bZMCLxgCA"
      }
    },
    {
      "cell_type": "code",
      "source": [
        "print(my_list)"
      ],
      "metadata": {
        "colab": {
          "base_uri": "https://localhost:8080/"
        },
        "id": "5gwlBmvXXgwr",
        "outputId": "1b25bd57-3af6-4362-9df7-b255b1a93e35"
      },
      "execution_count": null,
      "outputs": [
        {
          "output_type": "stream",
          "name": "stdout",
          "text": [
            "['Alan Turing', 1936, 'ENIAC', 1945, 'Python', 1991, 45.89]\n"
          ]
        }
      ]
    },
    {
      "cell_type": "code",
      "source": [
        "index_of_python = my_list.index(\"Python\")\n",
        "print(index_of_python)"
      ],
      "metadata": {
        "colab": {
          "base_uri": "https://localhost:8080/"
        },
        "id": "_4Qk-ynI0Cr3",
        "outputId": "3bc854eb-84ad-4f33-f2fb-97df8222add3"
      },
      "execution_count": null,
      "outputs": [
        {
          "output_type": "stream",
          "name": "stdout",
          "text": [
            "4\n"
          ]
        }
      ]
    },
    {
      "cell_type": "markdown",
      "source": [
        "**Counting Elements**\n",
        "\n",
        "The `count()` method returns the number of times a specified value appears in the list.\n"
      ],
      "metadata": {
        "id": "hsAl2ypO0TGe"
      }
    },
    {
      "cell_type": "code",
      "source": [
        "n_list.append(\"Python\")\n",
        "count_of_python = n_list.count(\"Python\")\n",
        "print(count_of_python)"
      ],
      "metadata": {
        "colab": {
          "base_uri": "https://localhost:8080/"
        },
        "id": "-ma2gNqA1Ln-",
        "outputId": "9816454b-0b90-4f37-8dea-806143b6e238"
      },
      "execution_count": null,
      "outputs": [
        {
          "output_type": "stream",
          "name": "stdout",
          "text": [
            "2\n"
          ]
        }
      ]
    },
    {
      "cell_type": "markdown",
      "source": [
        "**Sorting and Reversing**\n",
        "\n",
        "The `sort()` method sorts the list in ascending order. For a list of mixed data types, sorting can only be done if the data types are comparable."
      ],
      "metadata": {
        "id": "td8_4tp01wBr"
      }
    },
    {
      "cell_type": "code",
      "source": [
        "numeric_list = [19, -20, 3, 8]\n",
        "numeric_list.sort()\n",
        "print(numeric_list)"
      ],
      "metadata": {
        "colab": {
          "base_uri": "https://localhost:8080/"
        },
        "id": "7Kv1ThMK10_6",
        "outputId": "1021baaa-419b-4678-bb91-1c6ad91ce060"
      },
      "execution_count": null,
      "outputs": [
        {
          "output_type": "stream",
          "name": "stdout",
          "text": [
            "[-20, 3, 8, 19]\n"
          ]
        }
      ]
    },
    {
      "cell_type": "markdown",
      "source": [
        "The `reverse()` method reverses the order of the list elements."
      ],
      "metadata": {
        "id": "knTZ1tHA2DL5"
      }
    },
    {
      "cell_type": "code",
      "source": [
        "numeric_list.reverse()\n",
        "print(numeric_list)"
      ],
      "metadata": {
        "colab": {
          "base_uri": "https://localhost:8080/"
        },
        "id": "j_Bu4Cdx2Crl",
        "outputId": "e5f42bc1-43fd-47a6-9e7f-4c1671edb16c"
      },
      "execution_count": null,
      "outputs": [
        {
          "output_type": "stream",
          "name": "stdout",
          "text": [
            "[19, 8, 3, -20]\n"
          ]
        }
      ]
    },
    {
      "cell_type": "markdown",
      "source": [
        "**Copying a List**\n",
        "\n",
        "The `copy()` method creates a shallow copy of the list."
      ],
      "metadata": {
        "id": "LBhMMamE2KzT"
      }
    },
    {
      "cell_type": "code",
      "source": [
        "n_list_copy = n_list.copy()\n",
        "# alter list\n",
        "n_list_copy.extend([\"China\", \"Japan\"])\n",
        "print(n_list)\n",
        "print(n_list_copy)"
      ],
      "metadata": {
        "colab": {
          "base_uri": "https://localhost:8080/"
        },
        "id": "d5dotVjN-_Jh",
        "outputId": "b906613e-e99a-4502-8a9b-dcdbc0b5ac67"
      },
      "execution_count": null,
      "outputs": [
        {
          "output_type": "stream",
          "name": "stdout",
          "text": [
            "['COMP', 1150, 'RCTC', 'Canada', 'Canada', 'Python', 'Rochester', 1952, 'USA']\n",
            "['COMP', 1150, 'RCTC', 'Canada', 'Canada', 'Python', 'Rochester', 1952, 'USA', 'China', 'Japan']\n"
          ]
        }
      ]
    },
    {
      "cell_type": "markdown",
      "source": [
        "**Nested Lists**\n",
        "\n",
        "A nested list is a list that contains other lists as its elements. This is useful for creating complex data structures like matrices or lists of lists.\n"
      ],
      "metadata": {
        "id": "oASqqD7OwdYe"
      }
    },
    {
      "cell_type": "code",
      "source": [
        "nested_list = [\n",
        "    [\"USA\", 1776],\n",
        "    [\"Canada\", 1867],\n",
        "    [\"Nigeria\", 1960],\n",
        "    [\"Mexico\", 1821]\n",
        "]\n",
        "print(nested_list)"
      ],
      "metadata": {
        "colab": {
          "base_uri": "https://localhost:8080/"
        },
        "id": "p2W0EpMdKWbG",
        "outputId": "d9ead692-0f00-4774-d313-309d5a337724"
      },
      "execution_count": null,
      "outputs": [
        {
          "output_type": "stream",
          "name": "stdout",
          "text": [
            "[['USA', 1776], ['Canada', 1867], ['Nigeria', 1960], ['Mexico', 1821]]\n"
          ]
        }
      ]
    },
    {
      "cell_type": "code",
      "source": [
        "nested_list[0]"
      ],
      "metadata": {
        "colab": {
          "base_uri": "https://localhost:8080/"
        },
        "id": "PZWcx-NdY0m9",
        "outputId": "6cef0e48-3177-4ea1-e136-d72359849f84"
      },
      "execution_count": null,
      "outputs": [
        {
          "output_type": "execute_result",
          "data": {
            "text/plain": [
              "['USA', 1776]"
            ]
          },
          "metadata": {},
          "execution_count": 13
        }
      ]
    },
    {
      "cell_type": "code",
      "source": [
        "nested_list[0][1]"
      ],
      "metadata": {
        "colab": {
          "base_uri": "https://localhost:8080/"
        },
        "id": "PbBgsyoNZHPa",
        "outputId": "7155c166-4893-40d1-cad0-fdc50e499142"
      },
      "execution_count": null,
      "outputs": [
        {
          "output_type": "execute_result",
          "data": {
            "text/plain": [
              "1776"
            ]
          },
          "metadata": {},
          "execution_count": 15
        }
      ]
    },
    {
      "cell_type": "markdown",
      "source": [
        "**Accessing Elements in Nested Lists**\n",
        "\n",
        "In a nested list, you can access elements using multiple indices.\n",
        "\n",
        ">* The first index refers to the outer list.\n",
        ">* The second index refers to an element within the inner list."
      ],
      "metadata": {
        "id": "ZMw9G1zcJ9lR"
      }
    },
    {
      "cell_type": "code",
      "source": [
        "# Accessing the first inner list\n",
        "first_inner_list = nested_list[0]\n",
        "\n",
        "# Accessing an element in the first inner list\n",
        "first_name = nested_list[0][0]\n",
        "\n",
        "print(first_inner_list)\n",
        "print(first_name)"
      ],
      "metadata": {
        "colab": {
          "base_uri": "https://localhost:8080/"
        },
        "id": "fCoe48DcQS_B",
        "outputId": "34489406-0a90-4df5-ba7e-79f96e5f5aa1"
      },
      "execution_count": null,
      "outputs": [
        {
          "output_type": "stream",
          "name": "stdout",
          "text": [
            "['USA', 1776]\n",
            "USA\n"
          ]
        }
      ]
    },
    {
      "cell_type": "markdown",
      "source": [
        "\n",
        "\n",
        "### List Methods\n",
        "| **Operation** | **Description** |\n",
        "| --- | --- |\n",
        "| `my_list = []` | Creates an empty list called `my_list`. |\n",
        "| `my_list = [1, 2, 3]` | Creates a list called `my_list` with initial elements 1, 2, and 3. |\n",
        "| `my_list[0]` | Accesses the first element of `my_list`. |\n",
        "| `my_list[-1]` | Accesses the last element of `my_list`. |\n",
        "| `my_list[1:3]` | Accesses a slice of `my_list` from index 1 to 2 (not including 3). |\n",
        "| `my_list.append(x)` | Adds an item `x` to the end of `my_list`. |\n",
        "| `my_list.extend(iterable)` | Extends `my_list` by appending all the items from the given iterable (e.g., another list). |\n",
        "| `my_list.insert(i, x)` | Inserts an item `x` at a given position `i` in `my_list`. |\n",
        "| `my_list.remove(x)` | Removes the first occurrence of the item `x` from `my_list`. |\n",
        "| `my_list.pop([i])` | Removes and returns the item at position `i` (default is the last item if `i` is not provided) from `my_list`. |\n",
        "| `my_list.clear()` | Removes all items from `my_list`. |\n",
        "| `my_list.index(x[, start[, end]])` | Returns the index of the first occurrence of the item `x` (within optional `start` and `end` bounds) in `my_list`. |\n",
        "| `my_list.count(x)` | Returns the number of times the item `x` appears in `my_list`. |\n",
        "| `my_list.sort(key=None, reverse=False)` | Sorts the items of `my_list` in place (the optional arguments can be used for custom sorting). |\n",
        "| `my_list.reverse()` | Reverses the elements of `my_list` in place. |\n",
        "| `my_list.copy()` | Returns a shallow copy of `my_list`. |\n"
      ],
      "metadata": {
        "id": "zur1MovLperT"
      }
    },
    {
      "cell_type": "markdown",
      "source": [
        "**Data Types Matter!**\n",
        "\n",
        "Using the wrong data type in Python can lead to errors. One common mistake is trying to perform operations between incompatible types.\n",
        "\n",
        "*Example: TypeError – Mixing Integers and Strings*\n",
        "\n",
        "```python\n",
        "num = 10  \n",
        "text = \"5\"  \n",
        "\n",
        "result = num + text  # ❌ This will cause a TypeError!\n",
        "```\n",
        "\n",
        "*Error Message*\n",
        "\n",
        "```python\n",
        "TypeError: unsupported operand type(s) for +: 'int' and 'str'\n",
        "```\n"
      ],
      "metadata": {
        "id": "5m1Z-fgpX_ZU"
      }
    },
    {
      "cell_type": "markdown",
      "source": [
        "**Defining your Function**\n",
        "\n",
        "**Why Use Functions?**\n",
        "\n",
        "Functions help break a large program into smaller, manageable parts, making the code easier to read and maintain. They also prevent repetition—if you find yourself writing the same code multiple times, you can place it inside a function and call the function whenever needed.\n",
        "\n",
        "*Example*"
      ],
      "metadata": {
        "id": "fU5fLvg1Zjpg"
      }
    },
    {
      "cell_type": "code",
      "source": [
        "def greet(name):                     #def\n",
        "    print(f\"Hello, {name}!\")\n",
        "\n",
        "greet(\"Alice\")  # Output: Hello, Alice!\n",
        "greet(\"Bob\")    # Output: Hello, Bob!"
      ],
      "metadata": {
        "colab": {
          "base_uri": "https://localhost:8080/"
        },
        "id": "s41jaPiAc_0a",
        "outputId": "7c258001-aec4-4ae4-c837-bec85b435149"
      },
      "execution_count": null,
      "outputs": [
        {
          "output_type": "stream",
          "name": "stdout",
          "text": [
            "Hello, Alice!\n",
            "Hello, Bob!\n"
          ]
        }
      ]
    },
    {
      "cell_type": "code",
      "source": [
        "# length of a string\n",
        "\n",
        "s = \"happy\"\n",
        "print(len(s))  #len()"
      ],
      "metadata": {
        "colab": {
          "base_uri": "https://localhost:8080/"
        },
        "id": "o7ewe4RUcrdp",
        "outputId": "4004baa9-3c9e-4872-f3ff-72db46bfd5b6"
      },
      "execution_count": null,
      "outputs": [
        {
          "output_type": "stream",
          "name": "stdout",
          "text": [
            "5\n"
          ]
        }
      ]
    },
    {
      "cell_type": "markdown",
      "source": [],
      "metadata": {
        "id": "b8RY2rLWcDzw"
      }
    },
    {
      "cell_type": "markdown",
      "source": [
        "Instead of rewriting the greeting code each time, we define a function and reuse it"
      ],
      "metadata": {
        "id": "jivGUnY7gvfa"
      }
    },
    {
      "cell_type": "code",
      "source": [
        "def draw_square():\n",
        " print('*' * 15)\n",
        " print('*', ' '*11, '*')\n",
        " print('*', ' '*11, '*')\n",
        " print('*' * 15)\n",
        "\n",
        "draw_square()"
      ],
      "metadata": {
        "colab": {
          "base_uri": "https://localhost:8080/"
        },
        "id": "hm0q38bSgeOf",
        "outputId": "cdbe226c-e06b-4f26-93f3-0bc5511cd517"
      },
      "execution_count": null,
      "outputs": [
        {
          "output_type": "stream",
          "name": "stdout",
          "text": [
            "***************\n",
            "*             *\n",
            "*             *\n",
            "***************\n"
          ]
        }
      ]
    },
    {
      "cell_type": "markdown",
      "source": [
        "\n",
        "Instead of rewriting the draw_square code each time, we can modify the values of the function and reuse it.\n",
        "\n",
        "<br>\n",
        "\n",
        "**Defining a Function in Python**\n",
        "\n",
        "Functions in Python are created using the `def` statement. The function definition ends with a colon (`:`), and the code inside the function is indented.\n",
        "\n",
        "E.g\n",
        "\n",
        "```python\n",
        "def greet():\n",
        "  print(\"Hello\")\n",
        "```\n",
        "\n"
      ],
      "metadata": {
        "id": "bWbpgHrNdKzl"
      }
    },
    {
      "cell_type": "markdown",
      "source": [
        "**Arguments in Functions**\n",
        "\n",
        "\n",
        "We can pass values (called arguments) to functions, allowing them to work with different inputs.\n",
        "\n",
        "**Example**"
      ],
      "metadata": {
        "id": "LHKRtpsceAEf"
      }
    },
    {
      "cell_type": "code",
      "source": [
        "def greet(name):\n",
        "    print(f\"Hello, {name}!\")\n",
        "\n",
        "greet(\"Alice\")  # Output: Hello, Alice!\n",
        "greet(\"Bob\")    # Output: Hello, Bob!\n"
      ],
      "metadata": {
        "colab": {
          "base_uri": "https://localhost:8080/"
        },
        "id": "zltAI3-Mixkk",
        "outputId": "fde0b176-8f1b-47a9-fda3-bee5c52385a0"
      },
      "execution_count": null,
      "outputs": [
        {
          "output_type": "stream",
          "name": "stdout",
          "text": [
            "Hello, Alice!\n",
            "Hello, Bob!\n"
          ]
        }
      ]
    },
    {
      "cell_type": "markdown",
      "source": [
        "Here, name is a parameter, and \"Alice\" and \"Bob\" are arguments passed when calling the function."
      ],
      "metadata": {
        "id": "XTpDIyprjrDb"
      }
    },
    {
      "cell_type": "code",
      "source": [
        "def print_hello(n):\n",
        "    print('Hello ' * n)\n",
        "    print()\n",
        "\n",
        "\n",
        "print_hello(3)\n",
        "print_hello(5)\n",
        "\n"
      ],
      "metadata": {
        "colab": {
          "base_uri": "https://localhost:8080/"
        },
        "id": "5x7brXphjCUM",
        "outputId": "1cc2ae43-41ec-4331-fa71-fc6a5748aa84"
      },
      "execution_count": null,
      "outputs": [
        {
          "output_type": "stream",
          "name": "stdout",
          "text": [
            "Hello Hello Hello \n",
            "\n",
            "Hello Hello Hello Hello Hello \n",
            "\n"
          ]
        }
      ]
    },
    {
      "cell_type": "markdown",
      "source": [
        "Here, `n` is a parameter, and `3` and `5` are arguments passed when calling the function."
      ],
      "metadata": {
        "id": "V0xWn9lFjwDd"
      }
    },
    {
      "cell_type": "markdown",
      "source": [
        "**Returning Values in Functions**\n",
        "\n",
        "Functions can perform calculations and return a result using the `return` statement. This allows us to use the function’s output elsewhere in the program.\n",
        "\n",
        "\n",
        "\n",
        "Example:"
      ],
      "metadata": {
        "id": "tAlyNzHjk0U-"
      }
    },
    {
      "cell_type": "code",
      "source": [
        "\n",
        "def add(a, b):\n",
        "    return a + b  # Returns the sum of a and b\n",
        "\n",
        "result = add(5, 3)\n",
        "print(result)  # Output: 8"
      ],
      "metadata": {
        "colab": {
          "base_uri": "https://localhost:8080/"
        },
        "id": "FhKQgySclDMB",
        "outputId": "07474ab9-a505-4df9-f15e-e2f345d281ec"
      },
      "execution_count": null,
      "outputs": [
        {
          "output_type": "stream",
          "name": "stdout",
          "text": [
            "8\n"
          ]
        }
      ]
    },
    {
      "cell_type": "markdown",
      "source": [
        "Here, `add(5, 3)` returns `8`, which is then stored in result and printed.\n",
        "\n",
        "The return statement is used to send the result of a function’s calculations back to the caller.\n",
        "Notice that the function itself does not do any printing. The printing is done outside of the function.\n",
        "That way, we can do math with the result, like below:"
      ],
      "metadata": {
        "id": "Ap9MSqYBlRJ7"
      }
    },
    {
      "cell_type": "code",
      "source": [
        "print(add(4, 6) + 7)"
      ],
      "metadata": {
        "colab": {
          "base_uri": "https://localhost:8080/"
        },
        "id": "BvZ-_C-Sl4UN",
        "outputId": "c04385be-312c-4ab8-eb94-19503afc3bf5"
      },
      "execution_count": null,
      "outputs": [
        {
          "output_type": "stream",
          "name": "stdout",
          "text": [
            "17\n"
          ]
        }
      ]
    },
    {
      "cell_type": "markdown",
      "source": [
        "**Functions that Return a String**\n",
        "\n",
        "In this example, the create_sentence function takes three parameters (subject, verb, and object) and returns a string combining them into a sentence."
      ],
      "metadata": {
        "id": "hQjFZXZCn0mV"
      }
    },
    {
      "cell_type": "code",
      "source": [
        "def create_sentence(subject, verb, object):\n",
        "    return f\"{subject} {verb} {object}.\""
      ],
      "metadata": {
        "id": "-T9d1C7hn9wd"
      },
      "execution_count": null,
      "outputs": []
    },
    {
      "cell_type": "code",
      "source": [
        "sentence1 = create_sentence(\"The dog\", \"chased\", \"the cat\")\n",
        "sentence2 = create_sentence(\"I\", \"love\", \"Python\")\n",
        "print(sentence1)\n",
        "print(sentence2)"
      ],
      "metadata": {
        "colab": {
          "base_uri": "https://localhost:8080/"
        },
        "id": "0g2twMYAoGQu",
        "outputId": "128555f6-ad8f-456c-c1c7-98be4138424a"
      },
      "execution_count": null,
      "outputs": [
        {
          "output_type": "stream",
          "name": "stdout",
          "text": [
            "The dog chased the cat.\n",
            "I love Python.\n"
          ]
        }
      ]
    },
    {
      "cell_type": "markdown",
      "source": [
        "**Function that returns a float**\n",
        "\n",
        "In this example, the calculate_area function takes a single parameter (radius) and returns the area of a circle as a float. It uses the math.pi constant for the value of pi."
      ],
      "metadata": {
        "id": "FrAXdExOoRz7"
      }
    },
    {
      "cell_type": "code",
      "source": [
        "def calculate_area(radius):\n",
        "    import math\n",
        "    area = math.pi * (radius ** 2)\n",
        "    return area"
      ],
      "metadata": {
        "id": "44P1miEGolm4"
      },
      "execution_count": null,
      "outputs": []
    },
    {
      "cell_type": "code",
      "source": [
        "# call the function\n",
        "area1 = calculate_area(5)\n",
        "area2 = calculate_area(10)\n",
        "print(f\"Area of circle with radius 5: {area1:.2f}\")\n",
        "print(f\"Area of circle with radius 10: {area2:.2f}\")"
      ],
      "metadata": {
        "colab": {
          "base_uri": "https://localhost:8080/"
        },
        "id": "OqkO1PdcoqKR",
        "outputId": "7e0a6d9b-0198-4671-8c8e-fbb7df840185"
      },
      "execution_count": null,
      "outputs": [
        {
          "output_type": "stream",
          "name": "stdout",
          "text": [
            "Area of circle with radius 5: 78.54\n",
            "Area of circle with radius 10: 314.16\n"
          ]
        }
      ]
    },
    {
      "cell_type": "markdown",
      "source": [
        "**Parameters vs Arguments**\n",
        "\n",
        "Parameters and Variables are terms that are related to functions in Python, but they have different meanings and serve different roles.\n",
        "\n",
        "**Parameters** (Placeholders in Function Definitions)\n",
        "A parameter is a variable used to define a particular value during function definition. It acts as a placeholder for values that the funcion will recieve when called.\n",
        "\n",
        "**Example**:\n",
        "\n",
        "```python\n",
        "def greet(name):    #'name' here is a parameter\n",
        "  print(\"Hello\", name)\n",
        "```\n",
        "\n",
        "<br>\n",
        "\n",
        "\n",
        "**Arguments**\n",
        "An argument is the actual value passed to a function when a function is called. In reality, they replace parameters during execution.\n",
        "\n",
        "**Example**\n",
        "```python\n",
        "greet(\"James\") # \"James\" is an argument.\n",
        "```"
      ],
      "metadata": {
        "id": "vHjo0psN_mcN"
      }
    },
    {
      "cell_type": "markdown",
      "source": [
        "Types of Arguments in Python\n",
        "\n",
        "Python supports various types of arguments namely:\n",
        "\n",
        "1. Postional Arguments: They are the most common types of arguments, and the values are assigned based on their position in the function call.\n",
        "\n",
        "Example:\n",
        "```python\n",
        "def greet(name, city):\n",
        "  print(f\"My name is {name}, I am from {city}.\")\n",
        "\n",
        "greet(\"James\", \"Rochester\") #Output: My name is James, I am from Rochester.\n",
        "```\n",
        "\n",
        "2. Keyword Arguments (Named Arguments): They don't rely on position, you can explicitly stating which parameter each value belongs to.\n",
        "\n",
        "Example:\n",
        "```python\n",
        "def greet(name, city):\n",
        "  print(f\"My name is {name}, I am from {city}.\")\n",
        "\n",
        "greet(\"James\", city = \"Rochester\") #Output: My name is James, I am from Rochester.\n",
        "```\n",
        "\n",
        "3. Default Arguments: You can assign default values to parameter so that if no argument is given, Python can use the default value.\n",
        "\n",
        "Example:\n",
        "```python\n",
        "def greet(name=\"Your Name\"):\n",
        "  print(f\"Hello, {name}!\")\n",
        "\n",
        "greet() #Output: Hello, Your Name!\n",
        "greet(\"James\") #Output: Hello, James\n",
        "```\n",
        "\n",
        "4. Variable-Length Arguments (*args): This is useful when you don't know how many arguments a function will recieve. You can use *args to collect multiple positional arguments into a tuple.\n",
        "\n",
        "```python\n",
        "def add_numbers(*args):\n",
        "  return sum(args)\n",
        "\n",
        "print(add_numbers(4, 5, 6)) #Output:15\n",
        "print(add_numbers(10, 15, 25, 30)) #Output 80\n",
        "```\n",
        "\n",
        "5. Variable-Length Keyword Arguments (*kwargs): Use **kwargs to to collect multiple keyword arguments into a dictionary.\n",
        "\n",
        "```python\n",
        "def student_info(**kwargs):\n",
        "  for key, value in kwargs.items():\n",
        "    print(f\"I am {key} and my starid is {value}.\")\n",
        "\n",
        "student_info(name = \"James\", starid= 12345) #Output: \"I am James and my starid is 12345.\"\n",
        "```"
      ],
      "metadata": {
        "id": "7zHm7_lF_oLG"
      }
    },
    {
      "cell_type": "code",
      "source": [
        "def add_numbers(*args):\n",
        "  return sum(args)\n",
        "\n",
        "print(add_numbers(4, 5, 6)) #Output:15\n",
        "print(add_numbers(10, 15, 25, 30)) #Ou"
      ],
      "metadata": {
        "colab": {
          "base_uri": "https://localhost:8080/",
          "height": 106
        },
        "id": "RxnTnpvHJKes",
        "outputId": "d6d74893-1e20-49d5-a976-bccb98261a89"
      },
      "execution_count": null,
      "outputs": [
        {
          "output_type": "error",
          "ename": "IndentationError",
          "evalue": "expected an indented block after function definition on line 1 (<ipython-input-2-951c97729268>, line 2)",
          "traceback": [
            "\u001b[0;36m  File \u001b[0;32m\"<ipython-input-2-951c97729268>\"\u001b[0;36m, line \u001b[0;32m2\u001b[0m\n\u001b[0;31m    return sum(args)\u001b[0m\n\u001b[0m    ^\u001b[0m\n\u001b[0;31mIndentationError\u001b[0m\u001b[0;31m:\u001b[0m expected an indented block after function definition on line 1\n"
          ]
        }
      ]
    },
    {
      "cell_type": "markdown",
      "source": [
        "**Practice Tasks**\n",
        "\n",
        "1. Write a function that converts temperature from celsius to fahrenheit"
      ],
      "metadata": {
        "id": "rwG1eVF1oLaQ"
      }
    },
    {
      "cell_type": "code",
      "source": [],
      "metadata": {
        "id": "fWTcomzEohdA"
      },
      "execution_count": null,
      "outputs": []
    },
    {
      "cell_type": "markdown",
      "source": [
        "2. Write a function that takes a bunch of text and returns a list of words."
      ],
      "metadata": {
        "id": "t9mSeI_6ojGI"
      }
    },
    {
      "cell_type": "code",
      "source": [],
      "metadata": {
        "id": "wTi7ASxrowrY"
      },
      "execution_count": null,
      "outputs": []
    },
    {
      "cell_type": "markdown",
      "source": [
        "3. Extract and print \"quick\" from the following sentence:\n"
      ],
      "metadata": {
        "id": "RpR3aIq7oyoT"
      }
    },
    {
      "cell_type": "code",
      "source": [
        "sentence = \"The quick brown fox jumps over the lazy dog\""
      ],
      "metadata": {
        "id": "mFk4N0PRpPRM"
      },
      "execution_count": null,
      "outputs": []
    },
    {
      "cell_type": "markdown",
      "source": [
        "4. Write a function to"
      ],
      "metadata": {
        "id": "7TVQM2nVpc6C"
      }
    },
    {
      "cell_type": "code",
      "source": [],
      "metadata": {
        "id": "WGfXpzK3pcHt"
      },
      "execution_count": null,
      "outputs": []
    },
    {
      "cell_type": "markdown",
      "source": [
        "**Indentation in Python**\n",
        "\n",
        "In Python, indentation is not just fro looks. It is an important part of how Python works. Unlike many programming languages that use curly braces `{}` or keywords to define blocks of code (like loops or functions), Python use spaces or tabs to group code together. Think of it like organizing a notebook: indentation shows what belongs under each heading.\n",
        "\n",
        "It is important to get indentations right when programming in Python, otherwise, Python won't run."
      ],
      "metadata": {
        "id": "2lmY3ctYpxXU"
      }
    },
    {
      "cell_type": "markdown",
      "source": [
        "**Why Indentation Matters**\n",
        "\n",
        "\n",
        ">* Indentation tells Python where a block of code starts and ends.\n",
        ">* A block is a group of statements that belong together—like the steps inside a function or the actions in a loop.\n",
        ">* If you don’t indent correctly, you’ll get an IndentationError.\n",
        "\n",
        "**How to Indent**\n",
        "\n",
        ">* Use 4 spaces per level of indentation (this is the standard in Python).\n",
        ">* You can use tabs, but mixing tabs and spaces causes errors, so stick to spaces for consistency.\n",
        ">* Most code editors (like VS Code or PyCharm) auto-indent for you when you hit Enter.\n",
        "\n",
        "Examples:\n",
        "\n",
        "1. Functions"
      ],
      "metadata": {
        "id": "RIFmwbTjrrlE"
      }
    },
    {
      "cell_type": "code",
      "source": [
        "def say_hello():\n",
        "    print(\"Hello!\")  # Indented 4 spaces under the function\n",
        "    print(\"World!\")  # Same level, part of the same block\n",
        "\n",
        "print(\"Done\")        # Not indented, outside the function"
      ],
      "metadata": {
        "colab": {
          "base_uri": "https://localhost:8080/"
        },
        "id": "O-nGrtVIjSz4",
        "outputId": "13c1802f-5444-4dfd-dccd-9df372bac561"
      },
      "execution_count": null,
      "outputs": [
        {
          "output_type": "stream",
          "name": "stdout",
          "text": [
            "Done\n"
          ]
        }
      ]
    },
    {
      "cell_type": "markdown",
      "source": [
        "2. If statements"
      ],
      "metadata": {
        "id": "cNUZ_-0UjiCz"
      }
    },
    {
      "cell_type": "code",
      "source": [
        "x = 10\n",
        "if x > 5:\n",
        "    print(\"x is big\")  # Indented under 'if'\n",
        "else:\n",
        "    print(\"x is small\")  # Indented under 'else'\n",
        "print(\"Finished\")        # Outside the if/else block"
      ],
      "metadata": {
        "id": "JZdET5JLjbrX"
      },
      "execution_count": null,
      "outputs": []
    },
    {
      "cell_type": "markdown",
      "source": [
        "3. Loops"
      ],
      "metadata": {
        "id": "CQy1HHh6jwOc"
      }
    },
    {
      "cell_type": "code",
      "source": [
        "for i in range(3):\n",
        "    print(i)  # Indented under the loop\n",
        "print(\"Loop ended\")  # O"
      ],
      "metadata": {
        "colab": {
          "base_uri": "https://localhost:8080/"
        },
        "id": "Tiw59B30jyhA",
        "outputId": "7ac3f0f5-54ba-4af5-c58b-68adfedc06b7"
      },
      "execution_count": null,
      "outputs": [
        {
          "output_type": "stream",
          "name": "stdout",
          "text": [
            "0\n",
            "1\n",
            "2\n",
            "Loop ended\n"
          ]
        }
      ]
    },
    {
      "cell_type": "markdown",
      "source": [
        "4. Nested Blocks: Indent more for deeper levels"
      ],
      "metadata": {
        "id": "VmGxq3NGj75l"
      }
    },
    {
      "cell_type": "code",
      "source": [
        "def check_number(x):\n",
        "    if x > 0:\n",
        "        if x < 10:\n",
        "            print(\"Single digit positive\")  # 8 spaces (2 levels)\n",
        "        print(\"Positive\")                   # 4 spaces (1 level)\n",
        "    print(\"Done\")                          # No indent (outside)\n",
        "check_number(5)"
      ],
      "metadata": {
        "colab": {
          "base_uri": "https://localhost:8080/"
        },
        "id": "FTStAzIrkKri",
        "outputId": "911cd5fb-5496-437f-cd89-b4502c57ead8"
      },
      "execution_count": null,
      "outputs": [
        {
          "output_type": "stream",
          "name": "stdout",
          "text": [
            "Single digit positive\n",
            "Positive\n",
            "Done\n"
          ]
        }
      ]
    },
    {
      "cell_type": "markdown",
      "source": [
        "**Common Mistakes**\n",
        "\n",
        "1. No Indentation: Python expects indent after `def`, `if`, `for`, `etc`.\n",
        "python"
      ],
      "metadata": {
        "id": "2Cuf8wE3kTHB"
      }
    },
    {
      "cell_type": "code",
      "source": [
        "if True:\n",
        "print(\"This fails\")  # IndentationError: expected an indented block"
      ],
      "metadata": {
        "colab": {
          "base_uri": "https://localhost:8080/",
          "height": 106
        },
        "id": "5SVmFqBakZkb",
        "outputId": "cb8cb54d-de96-4dbf-9ac8-b220e4b2507d"
      },
      "execution_count": null,
      "outputs": [
        {
          "output_type": "error",
          "ename": "IndentationError",
          "evalue": "expected an indented block after 'if' statement on line 1 (<ipython-input-9-5c2d5e66e69b>, line 2)",
          "traceback": [
            "\u001b[0;36m  File \u001b[0;32m\"<ipython-input-9-5c2d5e66e69b>\"\u001b[0;36m, line \u001b[0;32m2\u001b[0m\n\u001b[0;31m    print(\"This fails\")  # IndentationError: expected an indented block\u001b[0m\n\u001b[0m    ^\u001b[0m\n\u001b[0;31mIndentationError\u001b[0m\u001b[0;31m:\u001b[0m expected an indented block after 'if' statement on line 1\n"
          ]
        }
      ]
    },
    {
      "cell_type": "markdown",
      "source": [
        "Lack of indentation in the above `if` statement leads to error."
      ],
      "metadata": {
        "id": "YLV5PiNrkvro"
      }
    },
    {
      "cell_type": "markdown",
      "source": [
        "2. Inconsistent Indentation: Mixing levels in the same block."
      ],
      "metadata": {
        "id": "1N1NRUxMkXv5"
      }
    },
    {
      "cell_type": "code",
      "source": [
        "\n",
        "def bad():\n",
        "    print(\"Hi\")\n",
        "  print(\"Oops\")  # IndentationError: unindent doesn’t match any outer level"
      ],
      "metadata": {
        "colab": {
          "base_uri": "https://localhost:8080/",
          "height": 106
        },
        "id": "u1upPR3qlEsD",
        "outputId": "35fc5d6f-94a9-4b90-c7cd-c2ab8ddf4117"
      },
      "execution_count": null,
      "outputs": [
        {
          "output_type": "error",
          "ename": "IndentationError",
          "evalue": "unindent does not match any outer indentation level (<tokenize>, line 3)",
          "traceback": [
            "\u001b[0;36m  File \u001b[0;32m\"<tokenize>\"\u001b[0;36m, line \u001b[0;32m3\u001b[0m\n\u001b[0;31m    print(\"Oops\")  # IndentationError: unindent doesn’t match any outer level\u001b[0m\n\u001b[0m    ^\u001b[0m\n\u001b[0;31mIndentationError\u001b[0m\u001b[0;31m:\u001b[0m unindent does not match any outer indentation level\n"
          ]
        }
      ]
    },
    {
      "cell_type": "markdown",
      "source": [
        "3. Mixing Tabs and Spaces: Avoid this! Use one or the other (preferably spaces)."
      ],
      "metadata": {
        "id": "NiCYYF-llVLw"
      }
    },
    {
      "cell_type": "code",
      "source": [
        "3."
      ],
      "metadata": {
        "id": "Y9bc9kjolOQF"
      },
      "execution_count": null,
      "outputs": []
    },
    {
      "cell_type": "markdown",
      "source": [
        "## Additional Information\n",
        "\n",
        "**Approaches for Running Python Code**\n",
        "\n",
        "1. Interactive Python Shell / Read-Eval-Print-Loop (REPL)\n",
        "\n",
        " **What It Is**: It is a  live environment where you type your Python code line by line and see results instantly.\n",
        "\n",
        " **How to Use**:\n",
        ">* Open a terminal (e.g., Command Prompt, Terminal, or PowerShell).\n",
        ">* Type **python** or **python3** and press Enter (depends on your installation).\n",
        "Start typing commands.\n",
        "\n",
        " **When to Use**:\n",
        ">* Great for testing snippets, learning, or quick calculations.\n",
        ">* Exit: Type exit() or press Ctrl+Z (Windows) / Ctrl+D (Linux/macOS).\n",
        "\n",
        "\n",
        "<br>\n",
        "\n",
        "2. Running a Python Script File\n",
        " **What It Is**: Execute a saved .py file with multiple lines of code.\n",
        "\n",
        " **How to Use**:\n",
        ">* Write code in a text editor (e.g., Notepad, VS Code) and save it as mycode.py.\n",
        ">* Open a terminal, navigate to the file’s folder with cd (e.g., cd Desktop).\n",
        "Run it with python script.py or python3 script.py.\n",
        "\n",
        "Example File (mycode.py):\n",
        "\n",
        "```python\n",
        "print(\"Welcome to COMP 1150\")\n",
        "```\n",
        "\n",
        "```bash\n",
        "$ python mycode.py\n",
        "Welcome to COMP 1150\n",
        "```\n",
        "\n",
        "**When to use**: For codes ypu want to reuse, share and save.\n",
        "\n",
        "\n",
        "<br>\n",
        "\n",
        "\n",
        "3. Using Integrated Develeopment Environment (IDE)\n",
        "\n",
        " **What it is**: IDEs are software tools with built-in editors and button (e.g., VSCode, IDLE, PyCharm.)\n",
        "\n",
        " **How to Use**\n",
        " >* Install your preferred IDE\n",
        " >* Open the IDE\n",
        " >* Create or Open a .py file.\n",
        " >* Click \"Run\" or use a shortcut(e.g., `F5` in VS Code)\n",
        "\n",
        "\n",
        "  Example (in IDLE)\n",
        " >* Type code in editor\n",
        "\n",
        " ```python\n",
        " print(\"Welcome to COMP 1150\")\n",
        " ```\n",
        "   Click `F5` to run.\n",
        "\n",
        "\n",
        "4. Jupyter Notebooks\n",
        "\n",
        "  **What It Is**: A web-based tool for running code in \"cells,\" mixing it with text and visuals.\n",
        "\n",
        " **How to Use**:\n",
        " >* Install Jupyter (e.g., via pip install jupyter).\n",
        " >* Launch it with jupyter notebook in a terminal.\n",
        " >* Open a browser, create a notebook, and type code in cells.\n",
        "\n",
        " Example:\n",
        " > In a cell:\n",
        " ```python\n",
        " print(\"Welcome to COMP 1150\")\n",
        " ```\n",
        " >* Run cell\n",
        "\n",
        "  **When to Use:**\n",
        "  >* Recommended for data analysis, teaching, or experimentation with graphs and images.\n",
        "\n",
        "\n",
        "\n",
        "\n",
        "  5. Online Python Interpreters\n",
        "\n",
        "  **What It Is** : Websites that let you run Python code without installing anything.\n",
        "  **How to Use**:\n",
        "  >* Visit a site like Programiz, Replit, Google Colab, or PythonAnywhere.\n",
        "  >* Type or paste your code.\n",
        "  >* Click \"Run\" or equivalent.\n",
        "   Example (on Programiz):\n",
        "   print(\"Hi from the web!\")\n",
        "   Output: Hi from the web!\n",
        "   **When to Use**: Quick tests, learning, or when you’re on someone else’s computer.\n",
        "\n",
        "\n",
        "\n",
        "\n"
      ],
      "metadata": {
        "id": "vtIKtDDX9M1B"
      }
    },
    {
      "cell_type": "markdown",
      "source": [],
      "metadata": {
        "id": "eG0qv2p__4Tr"
      }
    }
  ]
}