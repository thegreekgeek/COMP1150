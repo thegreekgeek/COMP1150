{
  "nbformat": 4,
  "nbformat_minor": 0,
  "metadata": {
    "colab": {
      "provenance": [],
      "include_colab_link": true
    },
    "kernelspec": {
      "name": "python3",
      "display_name": "Python 3"
    },
    "language_info": {
      "name": "python"
    }
  },
  "cells": [
    {
      "cell_type": "markdown",
      "metadata": {
        "id": "view-in-github",
        "colab_type": "text"
      },
      "source": [
        "<a href=\"https://colab.research.google.com/github/thegreekgeek/COMP1150/blob/main/COMP1150_LN19.ipynb\" target=\"_parent\"><img src=\"https://colab.research.google.com/assets/colab-badge.svg\" alt=\"Open In Colab\"/></a>"
      ]
    },
    {
      "cell_type": "markdown",
      "source": [
        "### **EXAM REVISION**\n",
        "\n",
        "* Total Questions: 50\n",
        ">* Multiple choice questions\n",
        ">* True/False questions\n",
        ">* Filling gaps\n",
        ">* Programming questions\n",
        "* Total Points: 70\n",
        "* Time allowed: 90 minutes\n",
        "* Exam is proctored, implying you need to have your camera on."
      ],
      "metadata": {
        "id": "2aTqe2cE8w7m"
      }
    },
    {
      "cell_type": "markdown",
      "source": [
        "**Lecture 9**\n",
        "\n",
        "* Study the entire Lecture 9 note and run the codes provided in the code cells.\n",
        "\n",
        "* The python installation instructions at the end of the note will **NOT** be tested. You may ignore that portion.\n",
        "\n",
        "\n",
        "Note the following:\n",
        "\n",
        "* **What is a formal language?**\n",
        ">* A formal language is a set of strings of symbols from a predefined alphabet, governed by specific syntactical rules, used to represent information or instructions in a structured and unambiguous way.\n",
        "\n",
        "\n",
        "Distinctions between **formal** and **natural languages**.\n",
        "\n",
        "| Feature               | Natural Languages (e.g., English)   | Formal Languages (e.g., Python)  |\n",
        "|-----------------------|-------------------------------------|----------------------------------|\n",
        "| **Ambiguity**          | Often ambiguous (e.g., \"run\" can mean many things) | No ambiguity; every statement has a clear, singular meaning |\n",
        "| **Context Sensitivity**| Relies heavily on context for understanding | Context-free; each instruction stands alone and must follow strict rules |\n",
        "| **Flexibility**        | Flexible; grammar rules can be broken or bent | Inflexible; every error in syntax results in failure |\n",
        "\n",
        "\n",
        "* **Syntax** vs **Semantics**\n",
        "\n",
        "* **Understanding bugs** and **debugging** in Python.\n",
        "\n",
        "* **Type casting**\n",
        ">* Explicit Casting:\n",
        "> ```python\n",
        "   a =  35  #integer\n",
        "   b = float(a) # b = 35.0; b is float\n",
        "  ```\n",
        ">\n",
        ">* Implicit Casting\n",
        ">```python\n",
        "x = 5       # integer\n",
        "y = 2.5     # float\n",
        "result = x + y  # Python automatically converts x to float\n",
        "print(result)   # Output: 7.5\n",
        "print(type(result))  # Output: <class 'float'>\n",
        "```\n",
        "\n",
        "* **Strings**\n",
        ">* Slicing\n",
        ">* Indexing\n"
      ],
      "metadata": {
        "id": "IQ7jmLnxAF3k"
      }
    },
    {
      "cell_type": "markdown",
      "source": [
        "**Lecture 11 & 12 (Data Types, Lists, Functions and More)**\n",
        "\n",
        "\n",
        "* Study the entire Lecture 11 & 12 note and run the codes provided in the code cells.\n",
        "\n",
        "* The \"Additional Information\" section at the end of the note will NOT be tested. You may ignore that portion.\n",
        "\n",
        "* Understand the different python data types.\n",
        "\n",
        "* Python Lists\n",
        ">* List operations: append, slicing, indexing\n",
        ">* Indexing nested lists\n",
        ">* Python functions\n",
        "\n",
        "\n",
        "\n",
        "\n"
      ],
      "metadata": {
        "id": "Br2B7QXASBGO"
      }
    },
    {
      "cell_type": "markdown",
      "source": [
        "**Lecture 13 (Conditional)**\n",
        "\n",
        "* Read all! Make sure you run all the codes in the code cells. If possible, complete the practice questions.\n",
        "\n",
        "* **Boolean Operators**: Boolean operators are used to combine and manipulate Boolean values (True or False). The operators help make decisions in a program by evaluating multiple conditions. The three fundamental Boolean operators in Python are:\n",
        "\n",
        "\n",
        "1. **AND (`and`)**: This operator returns `True` if both operands are true. Detailed information on how the `AND` operator works are provided below:\n",
        "\n",
        "| Value A | Value B | A AND B |\n",
        "| --- | --- | --- |\n",
        "| True | True | True |\n",
        "| True | False | False |\n",
        "| False | True | False |\n",
        "| False | False | False |\n",
        "\n",
        "       \n",
        "2. **OR (`or`)**:  This operator returns `True` if at least one of the operands is true. Detailed information on how the `OR` operator works are provided below:\n",
        "\n",
        "| Value A | Value B | A OR B |\n",
        "| --- | --- | --- |\n",
        "| True | True | True |\n",
        "| True | False | True |\n",
        "| False | True | True |\n",
        "| False | False | False |\n",
        "\n",
        "3. **NOT (`not`)**: Reverses the Boolean value (i.e. `True` becomes `False` and vice versa).\n",
        "\n",
        "| Value A | NOT A |\n",
        "| --- | --- |\n",
        "| True | False |\n",
        "| False | True |\n",
        "\n",
        "\n",
        "In Python, Boolean values can be as follows:\n",
        "```python\n",
        "is_raining = True\n",
        "has_umbrella = False\n",
        "```\n"
      ],
      "metadata": {
        "id": "ZDfsOew9y4IO"
      }
    },
    {
      "cell_type": "code",
      "execution_count": null,
      "metadata": {
        "colab": {
          "base_uri": "https://localhost:8080/"
        },
        "id": "Z8m0VAxK8h-2",
        "outputId": "c9300add-8125-454f-93da-d6de0be9931c"
      },
      "outputs": [
        {
          "output_type": "stream",
          "name": "stdout",
          "text": [
            "False\n"
          ]
        }
      ],
      "source": [
        "is_raining = True\n",
        "has_umbrella = False\n",
        "print(not (is_raining  or has_umbrella) or has_umbrella)"
      ]
    },
    {
      "cell_type": "markdown",
      "source": [
        "* The **`in`** operator in Python\n",
        ">* Return `True` or `False`\n"
      ],
      "metadata": {
        "id": "0jYPg7fZL6f2"
      }
    },
    {
      "cell_type": "code",
      "source": [
        "## Using \"in\" with List You can check if an item exists in a list:\n",
        "fruits = [\"apple\", \"banana\", \"cherry\"]\n",
        "# Check if banana is in fruit list\n",
        "print((\"banana\" in fruits))     # True\n",
        "\n",
        "## Using \"in\" with string\n",
        "\n",
        "s = \"Rochester\"\n",
        "print(\"o\" in s) # Checks if \"o\" is in the string  #True\n",
        "print(\"a\" in s) # Checks if \"a\" is in the string  # False"
      ],
      "metadata": {
        "colab": {
          "base_uri": "https://localhost:8080/"
        },
        "id": "eGB9FA0xM6Xe",
        "outputId": "e40822f1-c42f-491d-fd76-abf5098479c5"
      },
      "execution_count": null,
      "outputs": [
        {
          "output_type": "stream",
          "name": "stdout",
          "text": [
            "True\n",
            "True\n",
            "False\n"
          ]
        }
      ]
    },
    {
      "cell_type": "markdown",
      "source": [
        "* Review python **conditional statetments**\n",
        ">* When is it appropriate to use `if-else` and `if-elif-else`?\n",
        ">* Understand nested conditional statements.\n",
        "\n"
      ],
      "metadata": {
        "id": "8bsWnFyUOCL2"
      }
    },
    {
      "cell_type": "code",
      "source": [
        "weather = \"rainy\"\n",
        "\n",
        "has_umbrella = True\n",
        "\n",
        "if weather == \"rainy\":\n",
        "   if has_umbrella:\n",
        "     print(\"You can go outside without getting wet.\")\n",
        "   else:\n",
        "     print(\"Better stay inside or wear a raincoat.\")\n",
        "elif weather == \"sunny\":\n",
        "   print(\"It's a great day to go outside!\")\n",
        "else:\n",
        "  print(\"Check the weather forecast before heading out.\")"
      ],
      "metadata": {
        "colab": {
          "base_uri": "https://localhost:8080/"
        },
        "id": "ZtQWPUsOQfuk",
        "outputId": "855f590b-04a4-4f03-f8e4-e5417695bb5e"
      },
      "execution_count": null,
      "outputs": [
        {
          "output_type": "stream",
          "name": "stdout",
          "text": [
            "You can go outside without getting wet.\n"
          ]
        }
      ]
    },
    {
      "cell_type": "markdown",
      "source": [
        "* **What is a python module?**\n",
        ">* A module in python is a file containing Python code(functions, variables, classes) that can be imported and reused in other programs. Modules help in organizing code and avoiding repitition.\n",
        "> There are three types: built-in, user-defined and  third party. Know the differences\n",
        "> Know how to use a built in python module e.g."
      ],
      "metadata": {
        "id": "YI5d7murgNME"
      }
    },
    {
      "cell_type": "code",
      "source": [
        "import math # import math function\n",
        "\n",
        "print(math.sqrt(25))  # square root of 25\n",
        "print(math.pi) # value of pi"
      ],
      "metadata": {
        "colab": {
          "base_uri": "https://localhost:8080/"
        },
        "id": "BEqd-TizienO",
        "outputId": "4d94c346-7f32-43c1-f305-0f205d2a179a"
      },
      "execution_count": null,
      "outputs": [
        {
          "output_type": "stream",
          "name": "stdout",
          "text": [
            "5.0\n",
            "3.141592653589793\n"
          ]
        }
      ]
    },
    {
      "cell_type": "markdown",
      "source": [
        "**Practice Question**\n",
        "\n",
        "* Write a function that takes in two integers representing  two sides a and b of a triangle, and return the third side c.\n",
        ">\n",
        "> Hint: Use pythagoras theorem to obtain the third side. c = sqrt(a^2 + b^2)"
      ],
      "metadata": {
        "id": "Dl2OCUSgmU7T"
      }
    },
    {
      "cell_type": "code",
      "source": [],
      "metadata": {
        "id": "TTTMyCwboM1L"
      },
      "execution_count": null,
      "outputs": []
    },
    {
      "cell_type": "code",
      "source": [
        "from random import randint\n",
        " # random is the name of a module\n",
        " # A module is a file containing a code.\n",
        "\n",
        "x = randint(1,10)\n",
        "print('A random number between 1 and 10: ', x)"
      ],
      "metadata": {
        "colab": {
          "base_uri": "https://localhost:8080/"
        },
        "id": "psG_Gr4IkSFd",
        "outputId": "8e2abe3c-e0c1-4281-dcd9-3240dc3ab36f"
      },
      "execution_count": null,
      "outputs": [
        {
          "output_type": "stream",
          "name": "stdout",
          "text": [
            "A random number between 1 and 10:  4\n"
          ]
        }
      ]
    },
    {
      "cell_type": "markdown",
      "source": [
        "**Lecture 14 & 15 (LOOPS)**\n",
        "\n",
        "* **Read the whole lecture note and run all the codes in the cells.**\n",
        "\n",
        "* Know how to translate `for` loop to while `loop` and vice versa.\n",
        "\n",
        "```python\n",
        "# For loop\n",
        "for i in range(5):\n",
        "  print(i, end=\" \")\n",
        "\n",
        "  #output 0, 1, 2, 3, 4\n",
        "\n",
        "\n",
        "# While loop equivalent\n",
        "\n",
        "i = 0\n",
        "while i < 5:\n",
        "  print(i, end=\" \")\n",
        "  i = i + 1\n",
        "```\n",
        "\n",
        "* Understand how the range function works\n",
        "\n",
        "* Nested Loops. Understand how they work.\n",
        "\n",
        "* Dictionaries."
      ],
      "metadata": {
        "id": "eVUdlYODmMi3"
      }
    },
    {
      "cell_type": "code",
      "source": [
        "for i in range(2, 10, 3):\n",
        "  print(\"for loop:\",i, end=\"\\n\")\n",
        "print()\n",
        "  #rewrite as a while loop.\n",
        "\n",
        "i = 2  #intial\n",
        "while i < 10:\n",
        "  print(\"while loop\", i, end=\"\\n\")\n",
        "  i = i + 3"
      ],
      "metadata": {
        "colab": {
          "base_uri": "https://localhost:8080/"
        },
        "id": "qPmfEsc33zQo",
        "outputId": "d84b301b-5670-4fb7-9e76-ef7751c9c8eb"
      },
      "execution_count": null,
      "outputs": [
        {
          "output_type": "stream",
          "name": "stdout",
          "text": [
            "for loop: 2\n",
            "for loop: 5\n",
            "for loop: 8\n",
            "\n",
            "while loop 2\n",
            "while loop 5\n",
            "while loop 8\n"
          ]
        }
      ]
    },
    {
      "cell_type": "code",
      "source": [
        "num = eval(input(\"Enter a number\"))\n",
        "num = float(num)"
      ],
      "metadata": {
        "colab": {
          "base_uri": "https://localhost:8080/"
        },
        "id": "8lmdv10ySxf8",
        "outputId": "eebc010b-fded-4daa-a257-ef4163508486"
      },
      "execution_count": null,
      "outputs": [
        {
          "output_type": "stream",
          "name": "stdout",
          "text": [
            "Enter a number2\n",
            "4\n"
          ]
        }
      ]
    },
    {
      "cell_type": "markdown",
      "source": [
        "**Lecture 16 (Algorithms)**\n",
        "* Read **everything** , except otherwise advised.\n",
        "* You will **not** be asked to write code for any sorting or recursive algorithm, but you must have an idea on how they work.\n",
        "* You might be asked to write a python code or  pseudocode for either binary search or sequential search.\n",
        "\n",
        "```python\n",
        "\n",
        "## Sequential Search\n",
        "directory = [\"James\", \"Susan\", \"Julie\", \"Sean\", \"Rose\"]  # Names in directory\n",
        "searchItem = \"Susan\"                    # The target\n",
        "position = 0\n",
        "found  = False\n",
        "\n",
        "while position < len(directory) and found == False:\n",
        "  if (directory[position] == searchItem):\n",
        "    found = True\n",
        "  else:\n",
        "    position = position + 1\n",
        "\n",
        "if found:\n",
        "  print(f\"{searchItem} is present in the directory\")\n",
        "else:\n",
        "  print(f\"{searchItem} is NOT present\")\n",
        "```\n",
        "\n",
        "```python\n",
        "\n",
        "# Binary Search\n",
        "numbers = [12, 14, 39, 40, 43, 47, 49, 52, 65, 80, 30]\n",
        "numbers.sort() #Sort\n",
        "\n",
        "first = 0\n",
        "last =  len(numbers) # 11 items\n",
        "found  = False\n",
        "searchItem = 80\n",
        "\n",
        "while first <= last  and not found:\n",
        "  middle = (first + last) // 2    # (0 + 11) // 2 = 5\n",
        "  if numbers[middle] == searchItem:\n",
        "    found = True\n",
        "  else:\n",
        "    if searchItem < numbers[middle]:\n",
        "      last = middle - 1\n",
        "    else:\n",
        "      first =  middle + 1\n",
        "\n",
        "if found:\n",
        "  print(f\"We have found {searchItem}\")\n",
        "else:\n",
        "  print(f\"{searchItem} is not present in the list\")\n",
        "```\n",
        "\n",
        "* Advantage of binary search over sequential search and vice versa.\n",
        "* Know how to write a pseudocode\n",
        "\n",
        "* Steps to problem solving.\n",
        "* Understand the basics of Big O\n",
        ">*  What is the time complexity for loop through a list, time complexity for creating a multplication table, time complexity for binary search?"
      ],
      "metadata": {
        "id": "C1Ks7UEurjYC"
      }
    },
    {
      "cell_type": "markdown",
      "source": [
        "**Lecture 17 & 18 (Cybersecurity)**\n",
        "\n",
        " You **don't** need to study the entire lecture note. Just know the following:\n",
        "* What is cybersecurity?\n",
        "* Forms of attacks.\n",
        "\n"
      ],
      "metadata": {
        "id": "Hwv95wMssu0C"
      }
    },
    {
      "cell_type": "markdown",
      "source": [
        "**Additional Information**\n",
        "\n",
        ">* If you know you are not too comfortable with python programming, try to run all the codes from lecture 9 to lecture 16. Lecture 10 is not applicable.\n",
        "\n",
        ">* Briefly review your quizzes 3, 4 and 5 to see the questions that you got wrong.\n",
        "\n",
        ">* Although the exam will be posted on Thursday, there’s no need to rush if you don’t feel fully prepared. Take the time to study thoroughly before attempting it. I’ve noticed, with some concern, that a few students have rushed to complete quizzes within a few hours of their release, only to receive low grades as a result\n",
        "\n",
        ">* Come to office hours if you have questions. You may join on zoom or come in-person."
      ],
      "metadata": {
        "id": "IXz0G9ljoSQ3"
      }
    },
    {
      "cell_type": "code",
      "source": [
        "\n"
      ],
      "metadata": {
        "id": "Ir1AzfdyrcL4"
      },
      "execution_count": null,
      "outputs": []
    },
    {
      "cell_type": "code",
      "source": [],
      "metadata": {
        "id": "wPR0hcGn5KUA"
      },
      "execution_count": null,
      "outputs": []
    },
    {
      "cell_type": "code",
      "source": [],
      "metadata": {
        "id": "_2xlKxgix0wJ"
      },
      "execution_count": null,
      "outputs": []
    }
  ]
}