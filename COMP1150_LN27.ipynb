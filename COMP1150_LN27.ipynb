{
  "nbformat": 4,
  "nbformat_minor": 0,
  "metadata": {
    "colab": {
      "provenance": [],
      "include_colab_link": true
    },
    "kernelspec": {
      "name": "python3",
      "display_name": "Python 3"
    },
    "language_info": {
      "name": "python"
    }
  },
  "cells": [
    {
      "cell_type": "markdown",
      "metadata": {
        "id": "view-in-github",
        "colab_type": "text"
      },
      "source": [
        "<a href=\"https://colab.research.google.com/github/thegreekgeek/COMP1150/blob/main/COMP1150_LN27.ipynb\" target=\"_parent\"><img src=\"https://colab.research.google.com/assets/colab-badge.svg\" alt=\"Open In Colab\"/></a>"
      ]
    },
    {
      "cell_type": "markdown",
      "source": [
        "## **Final Exam Review**\n",
        "\n",
        "\n",
        "EXAM REVISION\n",
        "\n",
        "- Total Questions: 50\n",
        "  - Multiple choice questions\n",
        "  - True/False questions\n",
        "  - Filling gaps\n",
        "  - Programming questions\n",
        "- Total Points: 70\n",
        "- Time allowed: 90 minutes\n",
        "- Exam is proctored, implying you need to have your camera on."
      ],
      "metadata": {
        "id": "t7x60J_TeNVt"
      }
    },
    {
      "cell_type": "markdown",
      "source": [
        "**Total Evaluation:**\n",
        "\n",
        "**Total Score** = 20 (Exam 1) + 20 (Exam 2) + 20 (Exam 3) + 30 (Quizzes) + 10 (Reading Assignments) + 3 (Extra Credits).\n",
        "\n",
        "**Grading Scale:** >=`90.0` (**A**), `80.0-89.9` (**B**), `70.0 -79.9` (**C**),  `60.0-69.9` (**D**),  <60 (**F**)."
      ],
      "metadata": {
        "id": "3Kqk06DkPy3t"
      }
    },
    {
      "cell_type": "markdown",
      "source": [
        "1. **Lecture 20 & 21 (Data & Database)**\n",
        "\n",
        "- Know the differences:\n",
        "  - Bit, bytes, fields, records, file, database.\n",
        "\n",
        "- What is an entity?\n",
        "  - An **entity** is a distinct object or concept about which we want to store information. Examples of entities include Student, Book, Patient, City, Building, e.t.c. Each entity has **attributes**.\n",
        "- What is an attribute?\n",
        "  - **Attributes** are properties or details of entities e.g, name, age, gender, ID. For example, a RCTC student entity has attributes such as name, starId, gender,techId.\n",
        "\n",
        "- **Relationship**\n",
        " - **Cardinality**: How many entities can participate in each side of the relationship:\n",
        "   - One-to-One (1:1): Each entity relates to exactly one other entity. For example, each student may have a unique student ID.\n",
        "   - One-to-Many (1:N): One entity can relate to multiple other entities, but those entities each relate to only one entity. For example, a professor can teach multiple students, but each student is taught by only one professor in a particular course.\n",
        "   - Many-to-Many (M:N): Entities on both sides can relate to multiple entities on the other side. For example, a student can enroll in multiple courses, and each course can have multiple students.\n",
        "\n",
        " <br>\n",
        "\n",
        "- What is Database Management System (DBMS)?\n",
        "  - A database management system (DBMS) is a software that manages the files in a databse.\n",
        "  - Examples of DBMS\n",
        "    - **Relational DBMS (RDBMS)**: MySQL, PostgreSQL, Oracle Database, Microsoft SQL Server\n",
        "    - **No SQL DBMS**: MongoDB, Redis, Cassandra\n",
        "\n",
        "\n",
        "- Review  Reading Assignment 2.\n",
        "    - Data Integrity vs Referential Integrity vs Entity Integrity.\n",
        "    - Basic SQL  queries."
      ],
      "metadata": {
        "id": "m99EvWHte5WF"
      }
    },
    {
      "cell_type": "markdown",
      "source": [
        "**Student Table**\n",
        "\n",
        "| student_id | name   | age | grade | major             | gpa  |\n",
        "|------------|--------|-----|-------|--------------------|------|\n",
        "| 101        | Alice  | 20  | 3     | Computer Science   | 3.8  |\n",
        "| 102        | Bob    | 22  | 4     | Mathematics        | 3.5  |\n",
        "| 103        | Clara  | 21  | 3     | Physics            | 3.9  |\n",
        "| 104        | Daniel | 20  | 2     | Computer Science   | 3.2  |\n",
        "| 105        | Eva    | 19  | 1     | Biology            | 3.6  |\n",
        "\n",
        "**Questions**\n",
        "\n",
        "1.  Get all students majoring in Computer Science\n",
        "\n",
        "```\n",
        "SELECT * FROM students\n",
        "WHERE major = 'Computer Science';\n",
        "\n",
        "```\n",
        "\n",
        "2.  Find students with GPA higher than 3.6\n",
        "```\n",
        "SELECT name, gpa FROM students\n",
        "WHERE gpa > 3.6;\n",
        "```\n",
        "\n",
        "\n",
        "3. Count the number of students with GPA greater than 3.5\n",
        "\n",
        "```\n",
        "SELECT COUNT(*) AS high_gpa_students\n",
        "FROM students\n",
        "WHERE gpa > 3.5;\n",
        "```\n",
        "\n",
        "4. List students in grade 3, ordered by GPA (descending)\n",
        "\n",
        "```\n",
        "SELECT name, gpa FROM students\n",
        "WHERE grade = 3\n",
        "ORDER BY gpa DESC;\n",
        "\n",
        "```\n",
        "\n",
        "- Know the different SQLite data types, in particular, the following:\n",
        "\n",
        " - **INTEGER**: Whole numbers\n",
        " - **TEXT**: Any text or string data\n",
        " - **REAL**: Decimal numbers\n",
        " - **DATE**: Calendar dates (stored as TEXT in SQLite)\n",
        " - **BLOB**: Binary data (like images or files)\n",
        "\n",
        "- NB: Pay attention to the logical operators : `<`, `=`, `<>`, `>`"
      ],
      "metadata": {
        "id": "ALcgvJHtq0Wp"
      }
    },
    {
      "cell_type": "markdown",
      "source": [
        "2. **Lecture 22 (OOP & Software Engineering)**\n",
        "\n",
        "- **Important: Read the entire note**.\n",
        "<br>\n",
        "\n",
        "- **Software Development Activities**\n",
        "  - **Requirements gathering**: Software requirements define what a program must do—they focus on what tasks the system should perform, not how it performs them. These requirements are often documented in a functional specification.\n",
        "  - **Design**: Software design describes how a program will fulfill its requirements. It defines the necessary classes, objects, their interactions, and relationships. Low-level design focuses on how individual methods perform specific tasks.\n",
        "  - **Implementation**:Implementation is the process of writing source code to translate a software design into a working program using a specific programming language.\n",
        "  - **Testing**: Testing is the act of ensuring that a program will solve the intended problem given all of the constraints under which it must perform.\n",
        "\n",
        "\n",
        "- **Software Engineering Methodologies**\n",
        "  - Waterfall\n",
        "  - Agile\n",
        "\n",
        "**OOP**\n",
        "\n",
        "- **Classes vs Object**\n",
        "  - A **class** is a blueprint or template fro creating objects. It is composed of attributes(data) and methods(behavior)\n",
        "  \n",
        "```python\n",
        "  class Example:  # \"Example\" is the class name\n",
        "\n",
        "   def __init__(self, a, b): # Constructor\n",
        "       self.a = a    # class variable\n",
        "       self.b = b    # class variable\n",
        "\n",
        "\n",
        "   def add(self):     # Method, similar to functions but defined within a class and has `self` as its first argument.\n",
        "       return self.a + self.b\n",
        "\n",
        "  ```\n",
        "\n",
        "  - An **object** is an instance of a class. It represent a specific entity created from the class blueprint, and it has the actual values assigned to its attributes.\n",
        "\n",
        "```python\n",
        "  e = Example(8, 6) # create a new object.\n",
        "  sum = e.add()     # add() method is called\n",
        " print(sum)\n",
        "```\n",
        "\n",
        "**Example**"
      ],
      "metadata": {
        "id": "QybVis4KssJH"
      }
    },
    {
      "cell_type": "code",
      "source": [
        "# Define a class named Animal\n",
        "class Animal:\n",
        "    # The __init__ method is the constructor where we initialize the attributes of an object.\n",
        "    def __init__(self, name, species):\n",
        "        # self.name and self.species are attributes of the class.\n",
        "        self.name = name\n",
        "        self.species = species\n",
        "        self.hunger = 2  # A simple attribute to track hunger level, initialized to 2.\n",
        "\n",
        "    # A method to simulate feeding the animal.\n",
        "    def feed(self):\n",
        "        if self.hunger > 0:  # Check if the animal is hungry\n",
        "            self.hunger -= 1  # Reduce hunger level by 1\n",
        "            return f\"{self.name} is being fed.\"\n",
        "        else:\n",
        "            return f\"{self.name} is not hungry.\"\n",
        "\n",
        "    # A method to simulate playing with the animal.\n",
        "    def play(self):\n",
        "        return f\"{self.name} is playing.\"\n",
        "\n",
        "\n",
        "\n",
        "# Now, let's try out our class!\n",
        "\n",
        "# Instantiate an object of the Animal class\n",
        "my_pet = Animal(\"Fido\", \"Dog\")\n",
        "\n",
        "# Call methods of the my_pet object\n",
        "print(my_pet.feed())\n",
        "print(my_pet.feed())\n",
        "print(my_pet.feed())\n",
        "\n",
        "print(my_pet.play())\n",
        "\n"
      ],
      "metadata": {
        "colab": {
          "base_uri": "https://localhost:8080/"
        },
        "id": "H1yW5nQn3N_y",
        "outputId": "3fe5072d-554b-4ea9-ff49-755a5a789430"
      },
      "execution_count": null,
      "outputs": [
        {
          "output_type": "stream",
          "name": "stdout",
          "text": [
            "Fido is being fed.\n",
            "Fido is being fed.\n",
            "Fido is not hungry.\n",
            "Fido is playing.\n"
          ]
        }
      ]
    },
    {
      "cell_type": "markdown",
      "source": [
        "**Encapsulation**\n",
        "\n",
        "**Encapsulation** is one of the core principles of Object-Oriented Programming (OOP). It refers to hiding the internal state and requiring all interactions to go through methods. This protects the integrity of the data and makes your code easier to maintain.\n"
      ],
      "metadata": {
        "id": "_IQgNND95CbL"
      }
    },
    {
      "cell_type": "code",
      "source": [
        "1. # Encapsulation\n",
        "\n",
        "# Define a class with private data\n",
        "class BankAccount:\n",
        "    def __init__(self, owner, balance):\n",
        "        self.owner = owner\n",
        "        self.__balance = balance  # Private attribute (note the __)\n",
        "\n",
        "    def deposit(self, amount):  # Method to add money\n",
        "        if amount > 0:\n",
        "            self.__balance += amount\n",
        "            print(f\"Deposited ${amount}. New balance: ${self.__balance}\")\n",
        "        else:\n",
        "            print(\"Invalid amount!\")\n",
        "\n",
        "    def check_balance(self):  # Method to see balance\n",
        "        print(f\"{self.owner}'s balance: ${self.__balance}\")\n",
        "\n",
        "# Create an object\n",
        "account = BankAccount(\"Alice\", 100)\n",
        "\n",
        "# Use methods\n",
        "account.deposit(50)        # Output: Deposited $50. New balance: $150\n",
        "account.check_balance()    # Output: Alice's balance: $150\n",
        "\n",
        "\n"
      ],
      "metadata": {
        "colab": {
          "base_uri": "https://localhost:8080/"
        },
        "id": "jUeCQvA55S-E",
        "outputId": "0e1f4cc2-d71d-44c5-e7bc-701d6ae97d83"
      },
      "execution_count": null,
      "outputs": [
        {
          "output_type": "stream",
          "name": "stdout",
          "text": [
            "Deposited $50. New balance: $150\n",
            "Alice's balance: $150\n"
          ]
        }
      ]
    },
    {
      "cell_type": "code",
      "source": [
        "# Try  to access owner directly\n",
        "print(account.owner)\n",
        "print(\"------------------------------------------\")\n",
        "# Try to access private balance directly (will fail)\n",
        "print(account.__balance)  # Error: AttributeError"
      ],
      "metadata": {
        "colab": {
          "base_uri": "https://localhost:8080/",
          "height": 211
        },
        "id": "QfUKqt4E5b2A",
        "outputId": "601c3eba-defe-46c6-a0bb-055480e72a0f"
      },
      "execution_count": null,
      "outputs": [
        {
          "output_type": "stream",
          "name": "stdout",
          "text": [
            "Alice\n",
            "------------------------------------------\n"
          ]
        },
        {
          "output_type": "error",
          "ename": "AttributeError",
          "evalue": "'BankAccount' object has no attribute '__balance'",
          "traceback": [
            "\u001b[0;31m---------------------------------------------------------------------------\u001b[0m",
            "\u001b[0;31mAttributeError\u001b[0m                            Traceback (most recent call last)",
            "\u001b[0;32m<ipython-input-8-290b925610ab>\u001b[0m in \u001b[0;36m<cell line: 0>\u001b[0;34m()\u001b[0m\n\u001b[1;32m      3\u001b[0m \u001b[0mprint\u001b[0m\u001b[0;34m(\u001b[0m\u001b[0;34m\"------------------------------------------\"\u001b[0m\u001b[0;34m)\u001b[0m\u001b[0;34m\u001b[0m\u001b[0;34m\u001b[0m\u001b[0m\n\u001b[1;32m      4\u001b[0m \u001b[0;31m# Try to access private balance directly (will fail)\u001b[0m\u001b[0;34m\u001b[0m\u001b[0;34m\u001b[0m\u001b[0m\n\u001b[0;32m----> 5\u001b[0;31m \u001b[0mprint\u001b[0m\u001b[0;34m(\u001b[0m\u001b[0maccount\u001b[0m\u001b[0;34m.\u001b[0m\u001b[0m__balance\u001b[0m\u001b[0;34m)\u001b[0m  \u001b[0;31m# Error: AttributeError\u001b[0m\u001b[0;34m\u001b[0m\u001b[0;34m\u001b[0m\u001b[0m\n\u001b[0m",
            "\u001b[0;31mAttributeError\u001b[0m: 'BankAccount' object has no attribute '__balance'"
          ]
        }
      ]
    },
    {
      "cell_type": "markdown",
      "source": [
        "**Inheritance**\n",
        "\n",
        "**Inheritance** in Object-Oriented Programming that lets you create a new class from an existing class. The new class (child) inherits attributes and methods from the existing class (parent or base class), making it easy to reuse and extend code. The child class can also override some of the methods of the base class."
      ],
      "metadata": {
        "id": "W3-7DAFd5k52"
      }
    },
    {
      "cell_type": "code",
      "source": [
        "# Parent Class\n",
        "class Person:\n",
        "    def __init__(self, name, age):\n",
        "        self.name = name\n",
        "        self.age = age\n",
        "\n",
        "    def greet(self):\n",
        "        print(f\"Hi, my name is {self.name} and I'm {self.age} years old.\")\n",
        "\n",
        "# Child Class\n",
        "class Student(Person):\n",
        "    def __init__(self, name, age, student_id):\n",
        "        super().__init__(name, age)  # call parent constructor\n",
        "        self.student_id = student_id\n",
        "\n",
        "    def study(self):\n",
        "        print(f\"{self.name} is studying with ID {self.student_id}.\")\n",
        "\n",
        "\n",
        "#Creating an instance of person class\n",
        "person = Person(\"James\", 19)\n",
        "person.greet()\n",
        "\n",
        "# Creating and instance of student class\n",
        "student = Student(\"John\", 19, 1000)\n",
        "student.study()"
      ],
      "metadata": {
        "colab": {
          "base_uri": "https://localhost:8080/"
        },
        "id": "jBNXUGYy5tuQ",
        "outputId": "1221e37d-3271-45e1-e67a-82da4c3783c8"
      },
      "execution_count": null,
      "outputs": [
        {
          "output_type": "stream",
          "name": "stdout",
          "text": [
            "Hi, my name is James and I'm 19 years old.\n",
            "John is studying with ID 1000.\n"
          ]
        }
      ]
    },
    {
      "cell_type": "markdown",
      "source": [
        "**Polymorphism**\n",
        "\n",
        "Polymorphism means “many forms”, and in programming, it allows objects of different classes to be treated as if they are of the same class through a shared interface\n"
      ],
      "metadata": {
        "id": "k07Illcs698i"
      }
    },
    {
      "cell_type": "code",
      "source": [
        "class Animal:\n",
        "    def speak(self):\n",
        "        print(\"The animal makes a sound\")\n",
        "\n",
        "class Dog(Animal):\n",
        "    def speak(self):\n",
        "        print(\"Woof!\")\n",
        "\n",
        "class Cat(Animal):\n",
        "    def speak(self):\n",
        "        print(\"Meow!\")\n",
        "\n",
        "# Polymorphic behavior\n",
        "animals = [Dog(), Cat(), Animal()]\n",
        "for animal in animals:\n",
        "    animal.speak()\n"
      ],
      "metadata": {
        "colab": {
          "base_uri": "https://localhost:8080/"
        },
        "id": "H7J-2Evu7Nqp",
        "outputId": "ce8f43ad-40f0-473c-eaef-5016199916ab"
      },
      "execution_count": null,
      "outputs": [
        {
          "output_type": "stream",
          "name": "stdout",
          "text": [
            "Woof!\n",
            "Meow!\n",
            "The animal makes a sound\n"
          ]
        }
      ]
    },
    {
      "cell_type": "markdown",
      "source": [
        "**Sample Question**\n",
        "\n",
        "* Create a class Student with attributes:name, age, gpa. Add a method display() that prints the student’s details."
      ],
      "metadata": {
        "id": "YW5PFPoT4jHf"
      }
    },
    {
      "cell_type": "code",
      "source": [
        "class Student:\n",
        "    def __init__(self, name, age, gpa):\n",
        "        self.name = name\n",
        "        self.age = age\n",
        "        self.gpa = gpa\n",
        "\n",
        "    def display(self):\n",
        "        print(f\"Name: {self.name}\")\n",
        "        print(f\"Age: {self.age}\")\n",
        "        print(f\"GPA: {self.gpa}\")\n",
        "\n",
        "# Example usage:\n",
        "student1 = Student(\"Alice\", 20, 3.8)\n",
        "student1.display()\n"
      ],
      "metadata": {
        "colab": {
          "base_uri": "https://localhost:8080/"
        },
        "id": "xuZHafRD4zCa",
        "outputId": "5810a76e-7966-4594-b032-a8a2531fa9e1"
      },
      "execution_count": null,
      "outputs": [
        {
          "output_type": "stream",
          "name": "stdout",
          "text": [
            "Name: Alice\n",
            "Age: 20\n",
            "GPA: 3.8\n"
          ]
        }
      ]
    },
    {
      "cell_type": "markdown",
      "source": [
        "* Create a class BankAccount with:\n",
        "\n",
        "  * Attributes: account_number, balance\n",
        "\n",
        "  * Methods:\n",
        "\n",
        "    * `deposit(amount)`\n",
        "\n",
        "    * `withdraw(amount)`\n",
        "\n",
        "    * `display_balance()`"
      ],
      "metadata": {
        "id": "gEX_2PPK5ZXN"
      }
    },
    {
      "cell_type": "code",
      "source": [
        "#code"
      ],
      "metadata": {
        "id": "L22wFl6Y57zi"
      },
      "execution_count": null,
      "outputs": []
    },
    {
      "cell_type": "markdown",
      "source": [
        "**Lecture 23 (Artificial Intelligence)**\n",
        "\n",
        "- **Read the entire lecture note**\n",
        "- **Review the questions and answers to Reading Assignment 3**\n",
        "\n",
        "<br>\n",
        "\n",
        "- Turing Machine\n",
        "\n",
        "- Knowledge Representation\n",
        "  - You need to know the differences among Natural Language, Formal Language, Pictoral and Graphical Representations. **No depth required, except  Formal Language**\n",
        "  - Know how to rewrite simple natural language statements as symbolic representation or vice versa.\n",
        "\n",
        "  ![image.png](data:image/png;base64,iVBORw0KGgoAAAANSUhEUgAAAzgAAAJGCAIAAAAYsbfQAAAgAElEQVR4Aey9/2scV5r/u/9cgaDBtHCQM0TORCMcjZj1moQMFvFdk9DEitjNmGwcbqJhkLhYClntMGhg0JKVLhnLZOU7eLNB8czINh5sNPiDJkbGpicYAn055zlfnnPq1JdudXXXl7d/sLqrzpfneT3ny7tOnar+hx7+gQAIgAAIgAAIgAAIlJLAP5TSKhgFAiAAAiAAAiAAAiDQg1BDIwABEAABEAABEACBkhKAUCtpYGAWCIAACIAACIAACECooQ2AAAiAAAiAAAiAQEkJQKiVNDAwCwRAAARAAARAAAQg1NAGQAAEQAAEQAAEQKCkBCDUShoYmAUCIAACIAACIAACEGpoAyAAAiAAAiAAAiBQUgIQaiUNDMwCARAAARAAARAAAQg1tAEQAAEQAAEQAAEQKCkBCLWSBgZmgQAIgAAIgAAIgACEGtoACIAACIAACIAACJSUAIRaSQMDs0AABEAABEAABEAAQg1tAARAAARAAARAAARKSgBCraSBgVkgAAIgAAIgAAIgAKGGNgACIAACIAACIAACJSUAoVbSwMAsEBiAwPfff3///v0BMiILCIAACIBAOQlAqJUzLrAKBAYhAKE2CDXkAQEQAIESE4BQK3FwYBoI9EkAQq1PYEgOAiAAAmUnAKFW9gjBPhDITwBCLT8rpAQBEACBShCAUKtEmGAkCOQiAKGWCxMSgQAIgEB1CECoVSdWsBQEsghAqGURwnkQAAEQqBgBCLWKBQzmgkAKAQi1FDg4BQIgAAJVJAChVsWowWYQCBOAUAtzwVEQAAEQqCwBCLXKhg6Gg0CMAIRaDAkOgAAIgEC1CUCoVTt+sB4EOAEINU4Dn0EABECgBgQg1GoQRLgAAooAhBqaAgiAAAjUjACEWs0CCncaTQBCrdHhh/MgAAJ1JAChVseowqemEoBQa2rk4TcIgEBtCUCo1Ta0cKyBBCDUGhh0uAwCIFBvAhBq9Y4vvGsWAQi1ZsUb3oIACDSAAIRaA4IMFxtDAEKtMaGGoyAAAk0hAKHWlEjDzyYQgFBrQpThIwiAQKMIQKg1KtxwtuYEINRqHmC4BwIg0DwCEGrNizk8ri8BCLX6xhaegQAINJQAhFpDAw+3a0kAQq2WYYVTIAACTSYAodbk6MP3uhGAUKtbROEPCIBA4wlAqDW+CQBAjQhAqNUomHAFBEAABAQBCDW0AxCoDwEItfrEEp6AAAiAgCQAoYaGAAL1IQChVp9YwhMQAAEQkAQg1NAQQKA+BCDU6hNLeAICIAACkgCEGhoCCNSHAIRafWIJT0AABEBAEoBQQ0MAgfoQgFCrTyzhCQiAAAhIAhBqw28Iu1ci9m927dHwq0CJIBAkUAehdnORdZ9o9vrDoKd5Dqb0RH0K3TMPyLKkeXh9ltrG4s2ymAQ7QGAEBMYj1PQoqTrdruPorjNOR9UcSc1kc24taZ5xIRCKajrrhA9fxklgqELt4do5LpmiKLkxD9tnOwicdEoO98STl29LcBmJbycRl8MmWafybIME4TrFFb5kEhiPUBNmPVpTF0ehcY2unAYdo8UYOuaebKaHK64K9QLCIAzqrFcivjaawNCEmm7Aqh/pr1G0mNqghwXfyKATV2csd3uiukw6mfQ0Czxawhqzo8itblhcqlPOSQdhydaPvgbuH68OFlgKAoMQGJ9QMwOouAT1O54YRgccQ9VYOV7dY1bLMvSigTCgs4OEPJxHS8YRclORykAUNhdHwwSGJNS04GBqwzTpUbQQ3RoHHQQsHGN2Ec0sULjp0RW9FWDJneTTSQdhJcjGPiqehAHygsDwCIxNqNEF06LezuUOo3KJm00S5K8ZFuW9hsVdOSaajO5ZdTti9vpDfRGmjthpxgypqiI9OcmEslh7xNQiLbEr8CLtubVduXPCltwzCTJuZVrbYs76ITZTlzJvV96WUgLXliPOyoMsvWs8FWwslMVdWTS3m/+vK2ahU5Zl9oL4uJiB5pQsbPGm5BYbZJ0AnVtc1LfVHPOY2biFxBDn/TgcoaYD6oSGDl5ZNk0lcrSIblGyJbsNUvYCXaZooNSoWKydino9k10cj2d0YOh6ZduLXfKZs6Yn2k4tcsRaKa8uqwWawrVHzo0CU6M2l/lrSuadQkKwZTLbHJtlMnvEQ8fvVJhatAU2F9FiQ5ZOEjLSZUJ+saLY2MXdUQHxb24wB+ODp1u7LmFx146oynB/WdfLyEwybUnmzDM2ahT4CwKlITA2oSa69Lm1h7aDsUU1edAZRLxk9qs7Gpox3Rt/Q+lNB+YjnRlolNrQQ4WdALwqzFdnUdCMYsypUMhNddyGeEIvmfnq3F6xPioJa213JlR709kZ8dnQxsZ6izeIq8cGUBkvOwq7HmkgohadxouROc7TmEk9DgVHQgSGK9Rss3fq0hHk0Yl3BNYg1/QecN0mF3ftWTrm9BTdwmfXrjNZKBLaBtljek52BN3GnDTmYLB8b4OE9itvCzSFM6viHAS6tJJNz1q8qZNpTLyDayZR4tCUWosWW8pUXRqzPD17jzl70+5aUcEzl3O9nq4oVQRT309nxVuXbH4GFMdi2VJ6UyYfXmxjyxobnXaOLyBQFgLjEmqi29NcrocMNmiKzsZHED1G2L6njzjyyF6Iuz3ZShN2kWrGRF5RTxszu3hllpSiGh2oatPhjawxR6xtqUOVE3fjhWODk4TNRka5mgHLEUPGErtOECxfH9QuaJfZTGaKsk5l4DJPturS2BqDmQB0adp+7rUu30/Dy/HA4GuAwHCEmp2VxURsGp6pT0fQ3YlFzUZHkMl9PWebdiVLlYsiujU6/d00htlZ3cFNu7JtXk/J8SO2++s0rOMLJ0xpzDVTqX76R1vL0hgA8kOo8BAZv2SThkrWX+2Yw9DZXqlttslURgU8vRb/rK7C9EE/gbbKRN9ESq/Zm37tthCT0UaBsGme9rg5YtqMDI7W5sY2hd2UbCNuQ2kTa1DGcjb+Z4yNqiL8AYGyERiTUJNdVI2AprvqQVl2yMAIZdSAHmX0BKChBroonTJDqlYnPTsV2Yr4xZkd2W8u6nFBj2XaTlF2oGSrF3VGbZ/3N+a4d158NWms5cFphlli5zwztjIflcFmXMvpVEpRTGHbsduUb10wE54Ok01jhmCdxlhl0wTg4FCMwJCEGm9OtGjiBsI0y/gUaxqq6RqmQZpcdmoPtatAsnifSs2orTLtyu2JgdZlUuoWKOScuZiMYRYHTBarPIzL2gCeTJfs1667A1e9ce9MLjbo2aHJGpNQi82uEzg+GV/0WZNexz0QlFgaWaRxRxdFFZnE8bGIO26HCzsCa0sDJRvgptWxuNigm2SmKYbHf10T/oJAyQiMSaiJnqOHAHtVRFO+7NJmpDMDhDnCuqIdIgVWM7rZkom26eGBrsuKtarITiQsXKa3s0EhUDJzxx2qWFH00RTIbXBTmfJZUWE3TUrLJIROK0uNyKRJdypgqhl5dVFcVnItq6vQLmj7rdemKBrEzVd2TexiwbckAkMTak40SavxcOggsl5MTUtH2V5O2AYZb0XxI/zix7YQK0SoCxthYQvnBuuMplMYqwQ33SDZjV3T5JiMSEKsj5vCFR36o6vWqbySzVcDM36ED2XaHmuzyahrEH9NIYk9yBITdrI+229266BpA9pIUZQ56FZhAp0+ziSO7cGSjdcOE+OpGe1tpEzthqd1h/PEZxAoF4HxCDXRl3gPMd1GTPCiq5s+Fu91osvqRxCyxl9iHejPplhnoDejCbdNxytUqSmZj0rBg7oU9tfYYJxlJ+mjGfXYUGhYOUaaSu2YZcp3fNTZZaW6/AGK0uU4cTQAzYAo/NC1iIPGzpBHfMZzTIqBwYEEAsMUarIK24rsbSNxIt4dxBEbNRPoQIM0Dd4Ubo7wJSh+0KvO+6pgmOanzDA28O7JFgtNKw025gTC+rApXDpoSuCXKI4oZI3bUgqqRnbQpPRd01bQX1t7Qi0ymYGmEsXdZ7lZKEVmk9cGJWiStYR1cJadjdgGoBOdQEWej4aJGVhc5rESTEWBpuiMjVQR/geB8hEYi1CTPccMExKK7V1XFmfZgpY5znq4nvi960IzcLglW6Fg+3Og6/IZItR7TRY2rARHJXPQDijBsJsC7fDhpwsVZeY210jDxI6PBp0dW6kCU6wcl/2zgeEvZGqIdmKNtkxZpRegUFE+CnzPR2AIQk2EgzVyR23Y1mXaoWo/slGFOqnJYlqRLdw0GJbRJOP9wmvewTQxMWHaudsTfcv5Gp7XMlOYm8LVqGJNcjpUZtsOJYhbaI64vV7bFypEn/P+Wjvt7sPs7CaXjV3YpHBRgeyhdU2+NGgrUg7ES/ZDQAlNUzElmCOmKcaaigcJX0GgZATGItREz3GGM2cycFbm40O5HSCs8BJQzfHEkvV4bVJ6E1K8LhaswFhj0jtXn/EBhZXCPprhwwwo+qQoQY4pZiTSljPR6QIMpAwYrCnFatQ1i7+xosK44m6ajExniwJlSjYT88rk53hRsSQ4kJPASYWajoUXL93U7VRn24kQN7KxcZVjGkOg6ZpCgk3U9AuTzK6B6a6dL6P2xRM32hcmBBNSpjE3WbSDtpvoIyK7ScbhsHJNLu0aFyuWQMBmVki+WmxpJr2qNMtINuzYQoImhdzhHtmRx2R3Bk97RWcrIkcDJQfaWAh4IFmw/XCg+AwC5SIwDqEme443E/DVdd51/f75aG3WvIKLD4hsdZ0NeZK1GYYo/aO1WfvaMDtwsLty/KCNlhlZlOU3FyNTDhuFfYNtAe4nM3y4ctOd8/xJa/dKtHhFPRTlADQ+WktMXuaOqdQmc63iU0s6LlOUisLDtXPieTRapLOPfZiR1w2WU6spykHxcO2cP1g7ufAlRGBYQs0VN3pic5qNPqjeI+gGK94gTZRtSzBNlOVNSWYz2hUR0wvi/S5+RALTZvNVQ1Np7hYYKNwWEupxCSX7owq74DSuZQ5NVjQHa1GGBaxSVVjLWSCE+NZfTQIbAoOR6d3kQdh3M2HwTHBExM0vQR7Tz4dqO+3OCuZsvCmaQYm3gVBvwjEQKAmBMQg12eVYRzIkzHDA5wPTzdT+idm1R2Z8p0Oql5qhUyU06zp+CWobnEmmbgGY2u1gZCwTH2Llx94FJTP6yRJKM+OOOyOq8UhrTTsaKmuv7HrlU0pTGhvcPUo0nvoHqVhdnfQ3Jy472CnTZq8/NGbQIWlMzAU6x0McYCsTJaBzooIvLoGTCjU71Zln8UwEzXSoquThZg1PnDWn7HHTrmxY/dYoEptkpDmSeqU5LudaUx1vyV5P0Zd/xh3bbkO9O70FWstZjaxk62N83OAl23JoHDA2s2IDi9xuzMU3k1F5RX+UGaYWiqC2M6+RtnBmlS5E10en4mZQA4gdDw+ebOlOl6uNNCFWJ+QAYosVyYybzuRiMtqmaFOqwtipOFocAYHxExipULP9SnYQ1u0VCOpU3nGWS/VAdoRPHnzsCPdVPVjz+UBfEZoZwtUQPESmz5vnxewRPaCwy1++t9oWw4zXg5H/lxtvRh8zcdojGpRxnGcM+Zg0oBtRK80MOGXg8JR2stT3YdkRO/axvNxRbbwm4yVLjoLOgL8BAicWaqLMeBP1g0U1m5D5wQo0SFsmT2xK0O1Ktr3ZNfeVqrYtOR6bWqhZ8aGA0rEEtnsy3eNtwGDGiBK5nbZeViZrzYZPoO/wVWrKYkpm/YUVFnPEGGYyWnvYJ5PMq0UksYMGnTQG2/zJ2Y1TTiCY8aw0zscZjkwhqYOnM2q5IWAucA7MDOEaPyV8M/Y4xrDrAT3+WxD4BAKlIzBSoVY675tkkJ4pnWnAjJ5sqB0eFDX0O0OkNiM+pA6v3gaXNBShlpcfzZFcA+XNiXSSgNFGvrwAHxAAARCwBCDULIs6f1LXnY5mkv6q69QChJoq2bkKF1Xqa1xMTgU0uBEKNYpjvEUV4FVNizQXLQX0vpoig1sg0EgCEGrNCLu6dneW04TnScdPTiVJGiYdP3mNKKHXG5VQS1LhiEEfBPR6NsRuH9CQFAQaSABCrSFB1zs82I0qc0EfW/QaChO9csafRNP3erCEMBTE8UKKF2omrJAXcfx9HdFdEs8e9oUNiUGgeQQg1JoTczPF2o3LRQsmvWZga4zt9m0O/1F4WpBQM5o+cSv6KJyrVx1qaVl3DXYFVS8/4Q0IgMBJCUConZQg8oNAeQgUJNTK4yAsAQEQAIGmEYBQa1rE4W+dCUCo1Tm68A0EQKCRBCDUGhl2OF1TAhBqNQ0s3AIBEGguAQi15sYentePAIRa/WIKj0AABBpOAEKt4Q0A7teKAIRarcIJZ0AABECg14NQQysAgfoQgFCrTyzhCQiAAAhIAhBqaAggUB8CEGr1iSU8AQEQAAFJAEINDQEE6kMAQq0+sYQnIAACICAJQKihIYBAfQhAqNUnlvAEBEAABCQBCDU0BBCoDwEItfrEEp6AAAiAgCQAoYaGAAL1IQChVp9YwhMQAAEQkATGKtT0T3Trn7uLivl1cIQaBJpCAEKtKZGGnyAAAo0hMC6hZn4gfHFXsDZfI+9nwuWvQVOaAWMifhe8oj94LH+2GeJ1wMA3MhuEWiPDDqdBAATqTGA8Qk3KryiKZtceabhSlIilNSaqVDJ2RKfO+1eotCiKrkg1mDdTOdIpIAxROeyCFWUmAKFW5ujANhAAARAYgMBYhJpZP+NLZXRQ6hIj2sw9UfGBJ+713Numizd3F7nIc8+qYlzBp8UinVR6KHCQFaUWt5h53vofBSBQSK/nHpS+hMsxcFznbw4QXGRpHAEItcaFHA6DAAjUncB4hZp/o5PRtnoldu/PO2W/urJJSjehdmKLUlohiZL1ZysE2ZG167OOXIoWd+1ZOuPKR302s+Rdpv9kQY6RVtVVcS2QRREfR0wAQm3EwFEdCIAACBRNYCxCzV1eche6tMOJMkvdzWTySx9xn0XQmskqMCpaH9eqzug8Lbl0AqGfyDZ+RC3shczTyfoouRcqp9czHumiNBX8BYFUAhBqqXhwEgRAAASqR2A8Qo0/PaCWrLylIy16+JY1QVcvRDEFY5SWsyhlUrob1EzimCwzelFXYZfijDGR0YJGYOly7PMQ+ojJlVKyFWo6l3DSGOl6VL3WBYtHTQBCbdTEUR8IgAAIFExgXEJNuGXWjZRWM4KG7+hyBFxIwRg95G5iM4UzScdudFKxobwmo1V4RroZC+NHTFF9lWxymZJ7zEjXo4JbAoqvAwEItTpEET6AAAiAACMwTqEmzTBLU0Ktme1oRi2FZRaXNUYzhSWdLVMsVfl7zkSlThV2NctmNLlMypQjSnTKPya99NSozEDJVhSyVUN/NZGFDR9BIEgAQi2IBQdBAARAoLoERi/UpF5xRJVdWtPKxmga995fSJOFJV34lqKtyCjCWOSMcDT3IgPGmEpNOfEjOUq29mjHRaa4CowVhQMgECYAoRbmgqMgAAIgUFkCIxZqWvTwJTF2s0/rlbhakoDjQs3cOmSrcSKpOe5WlC2nAhnjxmgvMh9o4M0iUHKgHH5H2KhAXgw+g0AKAQi1FDg4BQIgAAJVJDAmocYkjqCmFJhePzOaxtukZY4r+fVw7dzs4hV6g4bOS0Ewks4VamaxyrnV+Ght1qzwmYzmiF+pkFLinW3in1l1s8tgfZRsy+HGG/Vm75BWsWHB5rEQgFAbC3ZUCgIgAALFERixUDOajL3eTGsjvZzGlZASRHq3llFI6vjs9YdmkYwOqVUoo650AVo/WRlkzvBtaqY0u5qlzdM2BMyTifsv2Qo1ZQtVamzQFnIZV1xLQMl1IAChVocowgcQAAEQYARGLtRE3b7e4ktTyjYjj7wfgGIKTAk7dsSqK7bTi+swKtxTQiyXEVtWG4UX4Zh5LLvdc0Yai50KlCyMCZfD+dhFO0UGf0AgmQCEWjIbnAEBEACBShIYi1CrJCkYDQLlJwChVv4YwUIQAAEQ6IsAhFpfuJAYBEpNAEKt1OGBcSAAAiDQPwEItf6ZIQcIlJUAhFpZIwO7QAAEQGBAAhBqA4JDNhAoIQEItRIGBSaBAAiAwEkIQKidhB7ygkC5CEColSsesAYEQAAETkwAQu3ECFEACJSGAIRaaUIBQ0AABEBgOAQg1IbDEaWAQBkIQKiVIQqwAQRAAASGSABCbYgwURQIjJkAhNqYA4DqQQAEQGDYBCDUhk0U5YHA+AhAqI2PPWoGARAAgUIIQKgVghWFgsBYCECojQU7KgUBEACB4ghAqBXHFiWDwKgJQKiNmjjqAwEQAIGCCUCoFQwYxYPACAlAqI0QNqoCARAAgVEQgFAbBWXUAQKjIQChNhrOqAUEQAAERkYAQm1kqFERCBROAEKtcMSoAARAAARGSwBCbbS8URsIFEkAQq1IuigbBEAABMZAAEJtDNBRJQgURABCrSCwKBYEQAAExkUAQm1c5FEvCAyfAITa8JmiRBAAARAYKwEItbHiR+UgMFQCEGpDxYnCQAAEQGD8BCDUxh8DWAACwyIAoTYskigHBEAABEpCAEKtJIGAGSAwBAIQakOAiCJAAARAoEwEINTKFA3YAgInIwChdjJ+yA0CIAACpSMAoVa6kMAgEBiYAITawOiQEQRAAATKSQBCrZxxgVUgMAgBCLVBqCEPCIAACJSYAIRaiYMD00CgTwIQan0CQ3IQAAEQKDsBCLWyRwj2gUB+AhBq+VkhJQiAAAhUggCEWiXCBCNBIBcBCLVcmJAIBEAABKpDAEKtOrGCpSCQRQBCLYsQzoMACIBAxQhAqFUsYDAXBFIIQKilwMEpEAABEKgigUGE2j38AwEQKCWBP//5z3fu3CmlaTAKBEAABECgbwK9Xm8QoXaMfyAAAqUk8Pjx44ODg1KaBqNAAARAAAT6I/D06dMBhVoX/0AABEpJ4OnTp3fv3i2laTAKBEAABECgPwLff/89hFp/yJAaBEpOAEKt5AGCeSAAAiCQnwCEWn5WSAkC1SAAoVaNOMFKEAABEMhBAEItByQkAYFKEYBQq1S4YCwIgAAIpBGAUEujg3MgUEUCEGpVjBpsBgEQAIEgAQi1IBYcBIEKE4BQq3DwYDoIgAAIuAQg1Fwe+AYC1ScAoVb9GMIDEAABEFAEINTQFECgbgQg1OoWUfgDAiDQYAIQag0OPlyvKQEItZoGFm6BAAg0kQCEWhOjDp/rTQBCrd7xhXcgAAKNIgCh1qhww9lGEIBQa0SY4SQIgEAzCECoNSPO8LJJBCDUmhRt+AoCIFBzAhBqNQ8w3GsgAQi1BgYdLoMACNSVAIRaXSMLv5pLAEKtubGH5yAAArUjAKFWu5DCocYTgFBrfBMAABAAgfoQgFCrTyzhCQgQAQg1tAQQAAEQqA0BCLXahBKOgIAiAKGGpgACIAACtSEAoVabUMIREFAEINTQFEAABECgNgQg1GoTSjgCAooAhBqaAgiAAAjUhgCEWm1CCUdAQBGAUENTAAEQAIHaEIBQq00o4QgIKAIQamgKIAACIFAbAhBqtQklHAEBRQBCDU0BBEAABGpDAEKtNqGEIyCgCECooSmAAAiAQG0IQKjVJpRwBAQUAQg1NAUQAAEQqA0BCLXahBKOgIAiAKGGpgACIAACtSEAoVabUMIREFAEINTQFEAABECgNgQg1CiU250oiqKZ1btjiCzVLeqPOttjqB9V1o1AMULtYHVWNtIoimZXD4bObKeTr9jtDrrJ0OGjQBAAgRITGKtQu7s6o0f+cauUcQo12TzIAAi1EveV6phWjFCT/u/IK5oht1OSgE6hByvu2LDD6MtxY2Zl+FqR1YGPIAACIFAWAuMTat6I730dKh9xDc4H+qEWPqTCINSGBBLFdLvFCTXST8PtTbLpO4vZqjPoPut9FRGWwwW0Gho7CIBAEwiMS6jFr6HjR4bEX15/D3dqGZJlvBgINU4Dn09EoDihFhdVAxmq7qIKpRWXXLTQztfX4ke6VIIj7wayBJlAAARAoOwExiXU5IDv7nQRF+tqdFbjuL4fyr7qFJwraRx9E5WN3TS+6xPyLx/+VRnsJgvL2+123eypUo9bmG+vm1N4Z1tNPL55ia4Z/91yVtUNI9cRkxgfmkFgqELNbYO6T3KQrAclbV/jhcx0OjMzK6udKOrshPRWXLrJ3uF3wEAybhQ+gwAIgEBNCIxLqIUGaA8pSZDZTmdW37iUQ7O75d8vhyYEPqbnu1lD+Zi+kXWZcuRpX0UZe91K1be0xwK0uqLyhYXSTfdhgmzXaDVCa1dKT5qPOWKsxIfGEBiaUKMeZxo+fXWur9yOoxq2ySCJy4P6NqVppRSMUGdRHT/reYWcyRoTdDgKAiBQVwLjEmpdcxVuxFAMMQ3iWqXR6dDMoecASiFzsbkkn1ALqiI236Q+kiarsIkza1Szk96C0+0aGraQwC2hru+a/G41WWa9McI4UE8CwxFqcSUkex/rbn6vMS2ZpfEbrWylutHGqxABoWIzH4JW3Sjtiqie4YVXIAACzSIwNqFmxnR1Z5JJFB2B4EDsjPvyix70nWz2YD754k85lIvNN7r0HH+zaqS6XIdpxtKLY90uiTLrBVXr+uvbHNJ2OcxFktoRGIZQi7Uu1SbZhZN31SQxUuO3DdnXdm7DDpVAxdhXgYg7pMEI0fjg95FgUhwEARAAgeoSGKdQk9RoPtBqzRmRaSB2BQ2N82oeCMwlRv+ZwT1LNlHs4kVR7XJLjmNVdqyzasz0yywq+JOQV7IsyKahs4OJy2yvkKI6BIYg1EhCsZVpvdBl2pvquaajER5qhMlCTbZZU2yiUJOFqasXGhy8cUBfy4zp3YfVaQuwFARAoPIExi7UFEEti8w0oAdiM6Y7CWnUpqnCH8E9veKJm4SIxYWaUUtBEekVoyYtlVT+8SYwlsGdqwJ+maozXHOX0MI0WL342BQCJxdqXieS4Dk1crAAACAASURBVLx2S12Wd1iRys9IYks3ZJmHZUkXaipcVFH8MYWwAU2JMfwEARBoDIGyCDWtyyK2IEQDsR7jVUj4waC6UlOF0UknEGpOle5DDKyBxO5aZtXIXTDleAdzuSYy01SnxST26xigTf5wcqGmmiNfS/ZEVazZS+DqisX0Pr+JetddXpmJMSNzmMITKYMHE4vACRAAARCoKIFxCTUxyDqjefxa3LnLqfHS9KCHezlUe8O3uwlGF+vVpYszf31hdLAywyRj2gs2/SWE7BqpLleAxqa9PK7JF4j47huX8KGxBE4s1OJ6Sx2xnSLWYgVtt3vqI25T51GJp1fXHl4Wv3vKMkioeSl56fgMAiAAAnUgMCahJgdoO+hLkrGFKBqI+RqbXkAyg7O8InfL8YfvWLHBsPkzgSjF1KJnILciVU5MqMUnOb9GZWJ8uYJXmcM1uZzGrfQq8lF4p/G1rgROLNT0RZJuogcrnU5H/KYTu+Chdu40v1jDFmmCvUaTDzRR2aG8y49AXQFRqAvFXxAAARCoE4ExCTU1EbBxn26C6KUyiVgO4rMzM5Ee6ymNs32YRnA7rMemipi2C0eP8ll7PHknT9tanDKcpQVhT2dF/IZp2vyksqjqRF2DvUfNvsjA7o6z9Spc1inHbHypL4GTCzVq//Qr6dsd0Ziph4jWdXd1RsozlUZLNfpqm5/Eq/qVaZ5OBxcpAj1LtVtdrrnH6f24p0zmVVffkMIzEACB5hIYl1Az++XNEB7XE3IMFyM7H+3t8G2CpiYMVVJATrH86WepCFUFy5X1SictifSSg84aMNZYrdNEape0/c4ms3TXRBaWWE97hiQVmWaEsQYf6kTg5ELNtCXxOxukkEwj503OHBRdJ97S6DrK9nH5ye2DQb2lr2R0zqSS3aLqFEL4AgIgAAKawBiFmjYh8a/UGXxWSEzZxBNSw8UnMAktfriJhJrr81CE2gnxyfbpCyl14eG2T9lk/ZQZtQflXUYenAYBEACBShKAUKtk2NSCR0DFQqhVNaBDtLsEQk20w8B9SVoqc4WaXr2LHU0iIgsJFJ6UHsdBAARAoMoEINSqGr2wIsMcVtV4DtPu8Qu1pHYoV8LYEwnM69RfaWPptjuBe6zsPD6CAAiAQL0IlFio0cU3BuWkBkfbg/gyBBELLLMlFYHj9SQwfqGmHnNxb2jGW2w98cMrEAABEBgmgXIKtdgeZC5Hhul+xctSWlZvuQ7ebKq4izB/AAIlEGrCarnoaxtn4iujB/AQWUAABECgMQTKKdQagx+OgkABBEoi1ArwDEWCAAiAQOMIQKg1LuRwuPYEINRqH2I4CAIg0BwCEGrNiTU8bQoBCLWmRBp+ggAINIAAhFoDggwXG0YAQq1hAYe7IAACdSYAoVbn6MK3ZhKAUGtm3OE1CIBALQlAqNUyrHCq0QQg1BodfjgPAiBQLwIQavWKJ7wBgW4XQg2tAARAAARqQwBCrTahhCMgoAhAqKEpgAAIgEBtCECo1SaUcAQEFAEINTQFEAABEKgNAQi12oQSjoCAIgChhqYAAiAAArUhAKFWm1DCERBQBCDU0BRAAARAoDYEINRqE0o4AgKKAIQamgIIgAAI1IYAhFptQglHQEARgFBDUwABEACB2hCAUKtNKOEICCgCEGpoCiAAAiBQGwIQarUJJRwBAUUAQg1NAQRAAARqQwBCrTahhCMgoAhAqKEpgAAIgEBtCECo1SaUcAQEFAEINTQFEAABEKgNAQi12oQSjoCAIgChhqYAAiAAArUhAKFWm1DCERBQBCDU0BRAAARAoDYEINRqE0o4AgKKAIQamgIIgAAI1IYAhFptQglHQEARgFBDUwABEACB2hCAUKtNKOEICCgCEGpoCiAAAiBQGwIQarUJJRwBAUUAQg1NAQRAAARqQ2BwoXYf/0AABEpJ4ODg4I9//GMpTYNRIAACIAACfRPo9Xr/0Ov/3/f4BwIgUEoCf/vb3+7du1dK02AUCIAACIBA3wQGFGr9SzvkAAEQGAWB77///v79+6OoCXWAAAiAAAiMhMAgK2ojMQyVgAAI9E0AQq1vZMgAAiAAAuUmAKFW7vjAOhDohwCEWj+0kBYEQAAEKkAAQq0CQYKJIJCTAIRaTlBIBgIgAAJVIQChVpVIwU4QyCYAoZbNCClAAARAoFIEINQqFS4YCwKpBCDUUvHgJAiAAAhUjwCEWvViBotBIIkAhFoSGRwHARAAgYoSgFCraOBgNggECECoBaDgEAiAAAhUmQCEWpWjB9tBwCUAoebywDcQAAEQqDwBCLXKhxAOgIAhAKFmUOADCIAACNSDAIRaPeIIL0BAEIBQQzsAARAAgZoRgFCrWUDhTqMJQKg1OvxwHgRAoI4EINTqGFX41FQCEGpNjTz8BgEQqC0BCLXahhaONZAAhFoDgw6XQQAE6k0AQq3e8YV3zSIAodaseMNbEACBBhCAUGtAkOFiYwhAqDUm1HAUBECgKQQg1JoSafjZBAIQak2IMnwEARBoFAEItUaFG87WnACEWs0DDPdAAASaRwBCrXkxh8f1JQChVt/YwjMQAIGGEoBQa2jg4XYtCUCo1TKscAoEQKDJBCDUmhx9+F43AhBqdYso/AEBEGg8AQi1xjcBAKgRAQi1GgUTroAACICAIAChhnYAAvUhAKFWn1jCExAAARCQBCDU0BBAoD4EINTqE0t4AgIgAAKSAIQaGgII1IcAhFp9YglPQAAEQEASgFBDQwCB+hCAUKtPLOEJCIAACEgCEGq7i1EURbNrj/psETdlPpE3WrzZZ14kB4FiCAxDqD1cOyebtWzau8XYWWSpu4u5uvPDtXP99/oi7UbZIAACIBAkMCah9mht1swFURRdGeN0MKhQkzh3r0CoBdsVDo6HwDCEmrScrkPOrT0cjx8D1vrwuhhXnAuntKFG9v1xDj4DuolsIAACjSIwDqFGc4AZH72vQ8W/e8UdtYdaeK/XC0wMw64C5YFAfgJDFmqmk+a3YIwp5Ugye51pS29s8b72ej2ScdVyc4yEUTUIgMA4CIxeqNGNlUW2hhY/MiQSchR2Lq+HVLApBkLNoMCHMhAYllCr4FKxXB5zlgDjA0v8SK+CnpahocEGEACB0REYvVCLj6dyXUpd1NJIKm+LiiPsa8S1nQJEg6y+icp2nHj3O+T9SSYNVXaSWTI7y2uus3W5KVLPCjW6WKey2DW9rcJ1h1/3J3lh83rFirqswU6yc2t78u6PyCEmLQ7QZhld+0JNoyUwJKFGzUY0GNu69LKTPUJd0rR8nYA8ZsmoKSoQprXzLtDr+cMC00/yFHVGWYUtmdVIB9PLVEvgLJewCYtqo22iqA0EQKBfAqMXanYOSLSVhs5zi4vn9I1LNRlwqeGXw0Z2VTCN3SkyS6ajaYCVLOsyuWSxAY1IdagqrixKVSQmArUR25kM1CS0RvdhlS9UZpYXSnE6BpCnzpwkkxmb1bQXLS5eiVSyAMBE/DhRXQJDEmq2xcr2o6QSa2DUbhd3RcNb3CWZZS+l3D4Vb8OyNfIGrLQXXw+TuUwao8N2VZN2q+gFF8b8zpUQVirK6WIJKXEYBEAABMZAYPRCzV6js3Hf8zw+MfR6JDWMAIqN9fGL8nxCzR/NfWV204gwz0jxNTDBKK3GlJ+v3qR35Ei2F755WoQ5qxRyVYDPNJRLqzRpuJnqAm7gUF0IDEeoUbM8N+vpJPbQj2xg4lJKtTrRa1TfjLdY1U1MabSIZb+aDmKlnrrmMUOE6stXFs0RulzRXwOV2u7pPV7gxzqc10+F7yAAAiAwJgJjEGp8ABU3NIz2sgiC17jyoL7mlsM0F0Mis3dwMKHWl6AJJo7VSzOBXh20bvoG05kML24uRld2A2kcjKG5JyAKmSn4WAsCQxFq1ID1IrHkIhsP66qhSykC6KcUR1WBpom6q2XiGuzKmlyK5hcbu4tWt6kexAzwWnhwxGBVszunZCb7P7F7sjT4CAIgAAJjIzAeoSbd1YOvHEP1lTGBCA67/KA3TCt8nkLyviYwjhelJiH/Of9QfqqCrQ2IRLGD8SqorPBx32x35lPPsbqqK/Zwa6hkt5yQNzhWeQJDEWryMsC9rvAaD33VV02MGjU8N6/uEVZmOUJNvc9MVmqFmugFRtj5t1bFRZl4jaE1gA8OzBz1UVlFas0dakR/pe0KsePxcnAEBEAABMZAYIxCTXlLswLfHR8bhSklH4tpbLXDOqXwFJKveMJ4qShvcS59ZLcFBavwzNAzgVeFmSEyvND3OimZWWbgE5U5aAwLOeXNtSYtPtSIwDCEGu9oCo3XpL2vjB/l9Zu6n54LNblCHFsOd19aK9Mz3RZ/AiBgM7NKfQwNNaYb+uIynh1HQAAEQGAsBMYv1PQYzTdUBYddfjAkRPSFu7kypunBfE3gGy6KEieM7LYkfwaSZ2IHk6oIH4+bLc2Qk5+e1TQ0fdAuLZBtoZIh1GzcavtpCEKNVJHTovzmZBukB5Ly2luWvDUyJWSFmv15AF6m6AJ2OU3tT+Xr1rEuxgcHzybnK/VoXpS+jmLmOTnwBQRAAATGTGD0Qk0MqZ54yjXsuvMHH9YNQu9gXPGYlOyDPwk9vG73UItkUt+4I7vNHbNcnKLJgPnoV2HyewbT8cBBbYNzi5MdjJkXqhFCzXCv74chCDXdriwkv+VQ6/JXgkX6oFBze65JJhpt8MJDpHcKj3fkWB8JNXh5e5R1Q1FzqMMG81rv8QkEQAAExktg5EJNjtqesIgNxHR9zNfYcj/1yYb4WLFB1P4wLeYAfjUfMtgURFVErFJ9gc7v/vhVmOwhFRhaG6Cp7soi214tBKHYpiN2YfO6qOxQjf50GxeU1i58qiiBkwu1WK+JtSVqjc6Sm6FFiR2ZJUWVe22m+tQub7pae4kSXHUVMyDwYHWoMYd6bsw73Y+cLmzcwQcQAAEQGD+BkQs1tS+YjcUkIJxxX0qQc7OzkdZqlIa95TWuhwLzQUyahHgrUWjmBm8o1/NHKKt+znTxyqzWajSpuFJPuRyXU2Z/jD0V8ELUHCxWTU5sS7UxkpyyxYoTPg3luKNKTQH4UE0CJxZqvioKNEjZkLxrLUNLXbroSx366icmqec+8S1Tzs6e8/qOFlLO+MBk2U39wo6AVX7XVl3ALQovvDWxwwcQAIFyEhi9UGOyg57Cit0JZQ8TaDEhUjqX6URTzQqqHFeXyBQ0zcjz6WepCFUFyxWuV5RNukcbxi3h0xI/ruq46bcEN03ATnPLxqhJVURgctLqjSrjT8ZZg1UVgTnYNw3fK0bgxEJN7uK/LtZq9T+/31Fz9Zsi52RbWkL3UULNaeqqF3gqytxO1cpP1WOqsMflWOFn11c4xplY70Mv4KHDZxAAgRISGItQy+QQHHMzcyEBCDSdwImFWpUBhq5bMvwhyWjVXkZynAYBEACB0ROAUBs9c9QIAkURaLRQ0+vcaat9Dnh5QQiV5jDBFxAAgdIRgFArXUhgEAgMTKDpQk2Ac9/BlojSvhkkMQlOgAAIgEAJCJRSqKktLP7mmBLgggkgUGoCEGqlDg+MAwEQAIH+CZRNqPmbf/FMYv8xRY7mEoBQa27s4TkIgEBNCZRNqNUUM9wCgZEQgFAbCWZUAgIgAAKjIwChNjrWqAkEiiYAoVY0YZQPAiAAAiMmAKE2YuCoDgQKJAChViBcFA0CIAAC4yAAoTYO6qgTBIohAKFWDFeUCgIgAAJjIwChNjb0qBgEhk4AQm3oSFEgCIAACIyXAITaePmjdhAYJgEItWHSRFkgAAIgUAICEGolCAJMAIEhEYBQGxJIFAMCIAACZSEAoVaWSMAOEDg5AQi1kzNECSAAAiBQKgIQaqUKB4wBgRMRgFA7ET5kBgEQAIHyEYBQK19MYBEIDEoAQm1QcsgHAiAAAiUlAKFW0sDALBAYgACE2gDQkAUEQAAEykwAQq3M0YFtINAfAQi1/nghNQiAAAiUngCEWulDBANBIDcBCLXcqJAQBEAABKpBAEKtGnGClSCQhwCEWh5KSAMCIAACFSIAoVahYMFUEMggAKGWAQinQQAEQKBqBCDUqhYx2AsCyQQg1JLZ4AwIgAAIVJIAhFolwwajQSBIAEItiAUHQQAEQKC6BCDUqhs7WA4CPgEINZ8IvoMACIBAxQlAqFU8gDAfBBgBCDUGAx9BAARAoA4EINTqEEX4AAJEAEINLQEEQAAEakYAQq1mAYU7jSYAodbo8MN5EACBOhKAUKtjVOFTUwlAqDU18vAbBECgtgQg1GobWjjWQAIQag0MOlwGARCoN4FBhNo9/AMBECglgT//+c937twppWkwCgRAAARAoG8CvV5vEKF2jH8gAAKlJPD48eODg4NSmgajQAAEQAAE+iPw9OnTAYVaF/9AAARKSeDp06d3794tpWkwCgRAAARAoD8C33//PYRaf8iQGgRKTgBCreQBgnkgAAIgkJ8AhFp+VkgJAtUgAKFWjTjBShAAARDIQQBCLQckJAGBShGAUKtUuGAsCIAACKQRgFBLo4NzIFBFAhBqVYwabAYBEACBIAEItSAWHASBChOAUKtw8GA6CIAACLgEINRcHvgGAtUnAKFW/RjCAxAAARBQBCDU0BRAoG4EINTqFlH4AwIg0GACEGoNDj5crykBCLWaBhZugQAINJEAhFoTow6f600AQq3e8YV3IAACjSIAodaocMPZRhCAUGtEmOEkCIBAMwhAqDUjzvCySQQg1JoUbfgKAiBQcwIQajUPMNxrIAEItQYGHS6DAAjUlQCEWl0jC7+aSwBCrbmxh+cgAAK1IwChVruQwqHGE4BQa3wTAAAQAIH6EIBQq08s4QkIEAEINbQEEAABEKgNAQi12oQSjoCAIgChhqYAAiAAArUhAKFWm1DCERBQBCDU0BRAAARAoDYEINRqE0o4AgKKAIQamgIIgAAI1IYAhFptQglHQEARgFBDUwABEACB2hCAUKtNKOEICCgCEGpoCiAAAiBQGwIQarUJJRwBAUUAQg1NAQRAAARqQwBCrTahhCMgoAhAqKEpgAAIgEBtCECo1SaUcAQEFIFRCLXj/dX5Vvv9G8dFUL+/Ptea6nxx2GfZx/src63TS5k2HT8+On7WZ9kDJz/c7ky15j570EcBxzeWTrfmVvYLYduHHUhaJQI5W/XhF6I9rt/vx7WU/oi22g/IgdNCqA2MDhlBoKQEChdqzw5WX4+ii5uHQu7sL78aLfwuQ1Tc/rDdev9Gfl5HO5121O7sHOXPcrAyF00sbKaru2+uTUXiX6sVRdH5jfTE+etOSnm03TkdTX94O4NOPPufVucmormVg/iZshx5dnjjk/PTp1utU+25D/f6iFNZHEi249vVuZenpl6eak1EUbSw1Xfwkksu6EzuVi271fTVP/TtUlp/LH9bLQj7CIuFUBshbFQFAiMhULRQ2/tFW0giPTmLrxc308b+Z3tL7fbSV/05v//xdDQxt343X65bV9tRtPBbbVNSpmfHR4eHN34h1dprywXroMONC1H0yrX9gVbvjn67EEXtzpdpXJO8HMFxEfQoWvh4eU5I3vbVWyOoc1RVPLq9tbW5NCsV/evr/ayFjspCr56crfrRxvmJaPrjfS93zq8p/bHkbTWng2VOBqF2kuhsd2RfFv91tk9SUFreHVbJTlrCIs4xD6NodrXgiS3uwcEqDZfRWGqP21ONI8UKtW+uTUfRDF/s+XZ5Ojq//igZzk4nai/t9atXvtvutKPoQo5lr2f7117po4VsvyO6bPsXe8kWD+GMmr12BlZasvGfvto3tyHYnlXEd5sLAuH5q7+YkUPg9PK3WVkqdl6K7CiaGlTWjN7drFZ9tHlRKP/t7wY1La0/lritDupuqfKNSagx8SH7uftfcaKnCPbkS8E2k2DqjFaoyUpnVuWSxsGKGJFHbIAK191VUfcYZGIRzWUUZRYp1OQENrGw5Qz3+8uvROc/S7qPeLz19oAT3v4n01GUvRR3+Pl5sbqTdftVo98Ti29i+W1gCaVLSvn7bO/q6Sh6ZXnA5QtZ8vHvhBxKBptSfbGnjsVqXxS9fG3/aH/zk6vrt5JCX6wZBZb+bLsj7ntGnS8LrGSoRWe1arnkPP3JSdpjN6U/lratDhXy2Aobk1CT/pL4cC7Nu11xsGDRM2TYIxFq49BJMj6lkEflsWTIbaeg4goUamLxLNBDDz87nyhKxOrLoCsupNHfTt8mJGRiNNHZzrli96dluQrU537qPkNF85Y3uPVZRrdLcuFkaq/vSnNkoPueGfe7c5RT3iRS1kTRwqZzQVJee7sZrVpcLEWRuuoe3I2U/ljWtjq4s2XKOU6hRuLDH8t2OhVbO4FQK7xBQ6j1h7g4oSYvqUNrUYcb5xPUmFjuGlzu7197OYr8BTyXBmnH9E1yLActv4nVIHZw2B9pXpy69s0JCz4Wt6sSwA5c9O1PZmY+vj1w9m73wfrrYrWpQrcF+3WW5qaoEhvUpG8Zrfq7rYUJuQLaLwg/fUp/LKSt+vU39Xv5hJqOhJycxXBA/+imm+o/dMiO/mwnk3N7zh4X2elqQOSdWb3rFq+KsulTbvM5NnS2VbH+KqBTVGAJgtYOlXPRzMqq2onml6NwUKWdnS6vPXAj0vooi7aINFY3QaAEkdAzXhZlDfPO2hOMsL1JakEbY8yNb3nEJmAlaXPpr0xisqtzjhlxRzioqLOq9rqZQnJxcK2ozrfChBoxn1n+U5wFSRPdoN2/6uady1z0w5WDrmkMlMUESNdAO29S7kBRoGd+mbh/8vjR3vo7c1On261TremLq9eE9Imi9/xHUI/vbi1fnJs61WpPtVqnps9/uPUgfmv0+MHWJwtzU+32qVbr1YXVnb3NT5Y3v409waBunF12F/mcFitsEM7a5i/N8tc8Dn4plv/m1oa5o13cuBxMp353dCj+bV2WtwUX/kN+OzzyOAng75+fOd1qTbVbrfbcO+t75tbos4ONi9Pi8YPW9MLnLGTPDjbfmZu5uGkP/Wlj4ZVW1GpNX1jeO6QnTNvtqamZixsHOZdOdRPq/2/KBrXjBzurl+en2qfb7dPtqfml7b/Eis/RSA5vrS9dmGnTM7Pvb+3trC6v3HjA/Trc3/zw/MyUqKU9NbOwcttrZDlbtTKOetk77kZqr+vJqdMZNkNr5yn9sYi2GoPb0APlFWoiIKoleRO4GNrYOhyNdM5WKnZWFSKVkChHjYuySP7ZxF+2VH+4dM+a9itG3plOR+7e4n2ACjZmq+mNNnvJotwj0k01aZlMpkrKQFvEOnq5Uc95rkBx6yV6vEB5xGSRqflpt0pC5U+cbhVK0jm4VAq+nY6sdYoiAp3VlRnhuHLHKYdZI4t0slMliUF3bKDCSVJTIf1xYIZU5GNRQu3Z9mWhJjz9oaEEnxgQy136/pF8Nu3w/lbntNQkF9YffNftHh9uvCW+Tr21vP3t4eFjb9Lv0ujv9GhdIf2lmePyF+5R/e3Bby9PTUTR68vipWT0VhFZubtB7WjvF+KObvvtzQN5q0u+jCCKXl91NMFfNhdOR9HpN9e/FUaSYaKwmOZT96FiT5UePz48PHywJR6REHvP1u8fC/8/f1N8m3pzeWf/8DD2grcvJPKUbqo97eOvWF9pd/p/yuHGe9Jw7z/3pvPB528K916/tvdIhlK+uyE63dkWQuNIPB4iYkEdlL0ehQar9lX9fIfc9fj5odINFMHD/fW3xOO65z83uq8Pp/tImrRB7Wjv6mutaGLq8m+khn92sDwb24aY3UiObn88J5ZJf3FDvN3maPsyNYfI3os/+PzNqYmoNb9MAvfoC5GEb8HM16qtx6oTeRcz4gHow8P/WZ6Tsrv9LzeE4v5u7+rLQkfPvL95+75oj7YU+SmtPxbRVr3qm/q13EJNySp3lBLzrj2irqftM2hKAVjdpESAXuPhk7SZwln4RYG2eHZCfFQCwBZuFp9YFjLJ6CGRz6vI+xqWRE7VasDiYoWGNlavWgmzR3wU0np7WuhgXqBToXbWTZDtWlet+TnuhxwklNoAaapbFzNHpmVnyQw2eXueeum9s2RNfg7MkIp8LEqoUbu1s6mLQ7yDw5lOxDvWPp6K4jvM5HOjUTQt7gzK2a5N87hbHn1T93RYuNxUFNzw6yGOv5SaqH1ZqgSZj+YSd7PO3ofybR0XzftGhAxbfk3oETs7yjeiOe/LUE8+hnQD9c2k51XpGdVIvShBzHxKx7ie0TfaLMUafyhR38dEpYO+N6SrGAb0+uFv3hSrZW7JpKTFNnbzdDA1JPYeO7XpzSz53Lralve7RfuJouh058Z33QdrQt84Qenb73wZghvUvruxJG3hr4CRAxFrmjkaiXjbnxCy62btUPmou9XBZ/KFJw5DMaCZ4S5nq+au0mCbJHDl48lig4HoAFI4przAL60/FtNWuSON/Tx+oUZ9z/zvTvBq1jdtVIygjpCiYdpZiaFGactRgwLrTjba8eziiM1rU8pPvsASB0k0MG1HZXrVuQd9jeWe9SqVX2PSJCyk3Kx+saFC3BzON0/uCF/lDcRU1zQQl2G8KKV5eWSdyp0vXnYyIznoFCY2t8n8Nn2fHBxTKvGlKKGWNRCLKYerEynd3Jag+Il3MokJeGn1w2mahhPBUmdJ3IJGD7vZ4LJy5EMGUcSfdFOPK+pJUSRWs7JXArUx+woPZfA/rtvFHLEtTyyFxTeipU1mZJ+Squ2llavT6S9Lo8Y82J1KxsL/KBcX228MchtRCYv4/i35mi6hZd21Otn7xGtW/ku/b492OrKmomSxURIH/8/5qfe2j7vqFqQaJY72Vt9fuvqZfxPQd+3E39WQzltyt6ukpPNgx+H6Pzqvj8luJEebYq+Y+yCz82SGYsiuELrd7ldLbfumunyt2oGgMAZ7okwo39wRRdGF5eWLjoh0iqEvKf2xoLYagKDTBgAAIABJREFUMKJxh8Yv1DKman/SFQMoa3A0CDjSgbqZTeOX4MZYNjtrg0jslOak9gWWPOkfDJikVZWeDMgkW084C6/ad0qck7mYHOHp5ee4rqKKxPRi+cSy6QPx8sN2yqPatT6FWg4z4p4GzHD5eJbHhR2VkJOD5lGdv0UJNWrqKU3OLJlIVuLJx6TXp9FtIxGB8GKYhZ1RKYXSNj+TkZ679ISUunlnu56ca6Mo4gpMFKFedqAGA9qLzVY1RBIybKLjb3bTXSBlIBEXPXLzWfbr3GisSC/L+NzXB/kjYNGrnS1xBzb/P9ozHrjhu/cv8h6eH3GlEvTaufwpi1dE4O1qZZLkVbcgs1pIfttzpVQOOo9K6AagDn539OB/tpbfaEetuXWzX1OnsbNJrJEohercLFaXBLQNUSVQuwWOjw739z7rTE9EU++pReF8rdrzU1WRNtiaO7AT5zdSXohoPAoOAsW1Vc+h5n0tvVDzdkH5QsrOuKLrs3+2UVLrCTYsEW8qQY3cYr63g3isOcih2emHpuHaXLLAWHWqGrVzy5VQwWLdyl0hQudCFamuwkD4/qhOSyksJbc6+S1efvyISOi61t+tz1QDjE1evVQh91F9NqXJFHryJiY2QFRsfg7GjMp8GJtQ6wrdo1ewxOMFaS+VVUtZWS/fH1SoKU3GF8+68pk1vsnp/jrdTvOfRdD9SHX2L+lRH2fxTC0shZb6qLf6Pc9rPvSitShqv5f626TKEr/5uoUdrs8HukPuQ62pPh4CVRLWrH5pS27Qi8cic/uSTuj9XpaG+r0jvXOx21X3UuOSl1qII2t0bYG/N5bEbdd8/05fTX7qlRxx1aFqAFFrSvy01NTLcwvvLy1/tuc8bpLdSNTTss5rTdQNdGpaOkGrLWuZmrlweenD1a1v7DJurlbtw8kh1Lrdw/+QC8SZvwWS0h9ztVXfOHzPQ6D8Qs25+3lAe8+tZ94Ubk/YT9R6YsrJJGAaSDRoM9mbBPYDtVFvzPQPkozwEpGa0dJBlOgIBV/82SrVJ2akOef7HpseqArfEspPVqa+Wccv30gytkVPFCbTWdfymKpzpdI2jlINNoJxw2xS80k7KAfuMANj/DDeMGQqLsGHooQaTbE2EAFX7QvVHq0nvbBDZpP7yuUu5ly3Pt37UKxi0l62+elTun9xIaVWbthTq9R5Y+81Vfcu9XsxVM9ynqJQc2qw56obrMmtTuyr3+m0yf08tz4dualdPOHfwVbUkla/tLT1H1BVctyunymYLKDOvT/mVDwlO1nYx7iONEukTgPwDcjRSNSY5FwVkLxTYjSUwKknX6t2snS7XbVGmDa10XM21CDZ/jm/JLMwwcJn01AbKKKt2joa+qkCQk3txBfTw8HqrDcip2kRFdIsoWZ3+ouUqYMrFeUmUf3THgya5B8UPdJmyW58VIvb02SvtrMmVcH5+JX6MlfOUsGZRhrklW/EpWd3oBb15gXjVigENCa5HpkM3gfPEr9GL7UwdGWG3Wrxz/fJwc9e/u9FCTWKY/pALJ8oXPoqIwRi//LE3Oq3++LH3eUP23hvHzCQs/Z7UWNw1z9EZjoe8UmRb1AT95je2DwKb1BT90PbnW26Kaj6uO1r3a5aCInXKw0n/ReczMgxuVdpbmV/n7aWj/xhAnoAdpA9amrdKPYkgRJw/qWXuh/K0FHHZ3HRkVo5kC/4NUiVvGApTaMo8INqbzJ22x21JKyeY2BexC3I0UjIdQeRWpdVTUWtSiaPipoVe34z0KpjxlHFsUVQm07srjvd2b6/TU9k42ECi6Ycn8oo1LY79gkXSYlaZ2c79JRiSMG4aEMqwU1BKzbiVRFZ4okavKNUdOezy0wBk3wbhEfJCsmzTnwNlOmvMxElJtSoUuaSMJXbLhMkmyE9c8emgBm+a3rvDquIcnnKSaHkb/EI+E2HfEsCZrh5fU/Tz3IOcXfcvJX4VpRQoyaXuq7Q7coXqnWWr6X8qNTd9bmJaG5NPvdGr28QO9DDUk29DoDNTF4IqCHFX89BN4ls8zbv5hBrbKKziLe7qX1Fzj1NehuC8yQm6TnWF9Sze0koqBXFXs+hLT8QL4yldQttVeJzr/SIpXc/URc08F/5qOkgvyIa7MvSDLXJ3XnvCb0uf2Ju1Wzk0svyNi7Eip7J+GqpbW90hm5BDuxw7ozUnMReNP4oDC2zxR7pOPrDtblTC1uPZenZjSS2qV89JWouJ5Q2dRh2u91nDzbfnpqWt6dzteqYsxS1JMkrHyNVOxDUi2nckPHy0vpjMW2V197Yz+MUatQlbI+lIMh+611SqNHB28yrgkYCxeoemZjJBLq6ZYNsINjqDghTOYFE4pC2hMqXemuQ96hpNeNsqGA2x2oPsaJjNpeyjQ4IjFJ6sjcRUALDVuZPdlkNoLZ8aZRXaUwdikSURl04ikpnOx3x2+q8KBU1Y0zMY3YgYElW0FUWztd6msJBMWTQmB2V+ViYUKP7fezWYRCJeEhNbBb3f35HvEftwe3fXJ0T71HTzwZ+92D9ggxTe2Hj28P4i8TUCzaTBT2tdgQmIXqy8h/XxXtEj/fX32i3WnIT0zvbx99cm9abpg/kSx/anW3xUqvu8YPfiPeutV67uufoRtXOl7897j473PtEvkBBPCWX9IPxJDL8Zafjx4cP/mfz6rzA035v+/hZt/vs+MFncm9Q1F74j33hv/ubRWpetK8fChLv86Bc9fSezcxZBIUj8Oq4ble9NoJeWdftHt5aFpim3txgKk0glj9gGr21cfise3xfvppO3HGbuvaNePbQbmokbWR1W04DT5qMRoCZX+6LuJw2WvZo6+2WaLRfqO1ix0f7W+/PtFozV780G8iyG8nxjnhfTPudLfL9snzfh/M8zTfL0+a1f0KiHT/4avXNqdbUW+viRYDdbjdfq/Yp0DqoJ/fFe9T2t1cuixqj86vymZLjoxtL9JrD2at792V/dMtK6Y+FtFW39sZ+G5NQU8KIz6PO59j8TXO/nWu9gClpoMowgkBN56xoc8orQKZMF3MmBzNeqkxbORed9qio3q1XygjHRxIWQQNYddIRA8HWYOq1h6hGndfUxRLErDIOaqXFuJlKRaLsQrhOkk6ZLMJUbZUp39hvTVCfYhFkiEyZshxOWJxxy6S0Nk1i3pRAxIwr7YHChJp8L1r2z5nL/ebx16fxVqHey2+ufGxbYO+FFk8IZv+EFM3ofC+aDszhl8vnX221TrXbp6cXVvYOj+Vr8Sei6NT0ElvAe/DF1fOvTclk7an5y6s7zh5xVdjR7eU32lLotaYvXr0s37IWUIcqNS2NOAt15m6sdlX2KY+J326pnEF/KVVz8P6Km2WxxSEvTcJX9TSGv+SjUx/9YV28tf9US7y1/7XzV3+zL+WvPq3+Ht1eWZg+JTGcmln64sHxt+viRwgi8YrXfaNT766/+fLUm7Ts6hVQ6Ff67YSJqPXKgiMxnz248cmC+LmF01PTr0xPzS8s/+b2ofe8bI5G8uC3Hev7v8jXzrnrskffbi7NT7VaralXpqdfnjn//ur2XaeanK3agUR36r2ge+OwHB3dgTE+R6T0x0LaquNFg7+MSaiVjrgQBO7UXpyJcRkh6pJXco4eKs6CWpcstZ2VZNpXOSoZwaqP1vNvcUJNvrPUv+6IQzz69sbt+E/rxNNlHiEdE4+mk1HedBvl0ov6hQazm8qxhr7QutFJhxR6ZJJdnARq6v/Q4L/1qZ/GcMV0/xY0IUeORkJLUMnrskPERL/wduL5JaU/FtNWh4ig0kVBqMnwiVn8xI04Z0OQbT2uGCDUcvLLShbWwbSMF8eeVVolzxco1OQLODJ+JX14zORrpdL0EFUlHjXl7+UangGyJHGLyLkjqR5B8O9sOtXKHU6R835U53yeL6T2UvaA5ylkCGmeHe5/uXXj26Mu3UEbtnAcgoXjLyJHIxG/lMp/kkm/zjd5/+Uw3ZIbEvSrcwYsOKU/lqWtDuhZ2bNBqOlbeRlX7cMLpBRq8UttueY8MiOG507pSgqDbJQOLlKoqVf5xxvw8BvCd+KXISPnl50SKqF3khUiII5vvCd33L26rH/zR73GPeP9Z92ufH5Qb8VLMDz1sFwbdn5KKDV5YSfV6zMmOsvyB53GLxwL83TQgnM0EvkAjfih3C/0fUzabZb53rJBbYrlk7qw3dk2N5djKTIOpPXHsrTVDBcqe7rxQo3Wcke2nCYaimzTbo1SXDiPbVe2RY3f8DhMtUF4uDuyx+9oogXFCrWunJbolwETTRjCCfHKAL3lP7M42snOf4cxM0u+BOqNCUqWHT/Yek/8+FVrflVt7k4rRT7dOajSkr/AmL2amFb/cM6pN8ZNvbe89Ersh+qHU0XVS8luJOoFH1qWHd5affN0FE1MmacTRoFAisXpj/cHqyulP5amrQ7mWQVyNVioKYkW3y85irCRmNDbisdjwyj8HFMdpMwY3lHd1x6Tv161BQs18Uvq4v1nFzdDW8U9Wwb8Kl8TkPjOjmCh4pUZEwub5iG8YKL+Dx79YXXhNXqMQCi09mvnr24diAc28/yT71+Y/vC2XkXJk0emkW8tSXmdVe6ChpDw6Kvl86+2W6fa0xdXC/+hzSHYO4YishvJswfb789N0SMUURSdmpp7Z33vUd/t4oS+yW41ffUPfdeb1h/L1FZPyKe02Rss1EobExgGAicjULhQE29Z2F+db2Xe/hvQj/vrc60BFhuO91fmWqc7Nwa+uTOguanZDrc7Uy310rjUhPbk8Y2l0625lRxrdjYPPoFALgKHX4j2uH43V2KVKKU/oq32A3LgtBBqA6NDRhAoKYFRCLWSug6zQAAEQKBuBCDU6hZR+AMCEGpoAyAAAiBQGwIQarUJJRwBAUUAQg1NAQRAAARqQwBCrTahhCMgoAhAqKEpgAAIgEBtCECo1SaUcAQEFAEINTQFEAABEKgNAQi12oQSjoCAIgChhqYAAiAAArUhAKFWm1DCERBQBCDU0BRAAARAoDYEINRqE0o4AgKKAIQamgIIgAAI1IYAhFptQglHQEARgFBDUwABEACB2hCAUKtNKOEICCgCEGpoCiAAAiBQGwIQarUJJRwBAUUAQg1NAQRAAARqQwBCrTahhCMgoAhAqKEpgAAIgEBtCECo1SaUcAQEFAEINTQFEAABEKgNAQi12oQSjoCAIgChhqYAAiAAArUhAKFWm1DCERBQBCDU0BRAAARAoDYEINRqE0o4AgKKAIQamgIIgAAI1IYAhFptQglHQEARgFBDUwABEACB2hCAUKtNKOEICCgCEGpoCiAAAiBQGwIQarUJJRwBAUUAQg1NAQRAAARqQwBCrTahhCMgoAhAqKEpgAAIgEBtCECo1SaUcAQEFAEINTQFEAABEKgNAQi12oQSjoCAIgChhqYAAiAAArUhMLhQu49/IAACpSRwcHDwxz/+sZSmwSgQAAEQAIG+CfR6vX/o9f/ve/wDARAoJYG//e1v9+7dK6VpMAoEQAAEQKBvAgMKtf6lHXKAAAiMgsD3339///79UdSEOkAABEAABEZCYJAVtZEYhkpAAAT6JgCh1jcyZAABEACBchOAUCt3fGAdCPRDAEKtH1pICwIgAAIVIAChVoEgwUQQyEkAQi0nKCQDARAAgaoQgFCrSqRgJwhkE4BQy2aEFCAAAiBQKQIQapUKF4wFgVQCEGqpeHASBEAABKpHAEKtejGDxSCQRABCLYkMjoMACIBARQlAqFU0cDAbBAIEINQCUHAIBEAABKpMAEKtytGD7SDgEoBQc3ngGwiAAAhUngCEWuVDCAdAwBCAUDMo8AEEQAAE6kEAQq0ecYQXICAIQKihHYAACIBAzQhAqNUsoHCn0QQg1BodfjgPAiBQRwIQanWMKnxqKgEItaZGHn6DAAjUlgCEWm1DC8caSABCrYFBh8sgAAL1JgChVu/4wrtmEYBQa1a84S0IgEADCECoNSDIcLExBCDUGhNqOAoCINAUAhBqTYk0/GwCAQi1JkQZPoIACDSKAIRao8INZ2tOAEKt5gGGeyAAAs0jAKHWvJjD4/oSgFCrb2zhGQiAQEMJQKg1NPBwu5YEINRqGVY4BQIg0GQCEGpNjj58rxsBCLW6RRT+gAAINJ4AhFrjmwAA1IgAhFqNgglXQAAEQEAQgFBDOwCB+hCAUKtPLOEJCIAACEgCEGpoCCBQHwKjEGov7q39rDX5r7deFIHtrxvzrTOLv3/SZ9kv7l2fb730QaZNL54+f/FDn2UPnPzJ7uKZ1vyvH/dRwItbH7zUmr9+rxC2fdhRuqRPfi9Ybvy1H8NS2hI49wMSacdOAEJt7CGAASAwNAKFC7UfHq79NIre3noi5M69lR9Hl/4rQ1Tc+Xiy9a+38nv4/ObiZDS5ePN5/iwPr89HE5e20tXdwadnIvGv1Yqi6MJmeuL8dSelfL67+FJ09uM7GXTi2f+yNj8RzV9/GD9TryMvdpfOnPnRmTMviXic/dW9FO9kkzj70X7fLNPaUlM4p3DFqcoQgFCrTKhgKAhkEihaqH39b5NCEmkRJb6+vZU2f/7w9QeTkx/czjTcSXBv+Ww0Mb/xyDmY+OV/P5qMokv/qW1KSvfDi+dPntz6N6nWfrJSsA56svlGFE1/em+g1bvn/3kpiiYX/zuNa5KXZT3+ZOedM1HUmv+1Af/i4f+3s3P90qRUz4v/nWz43zYvTERnl9OUXHLmXkpbqiPnFBI4VWECEGqDBW93UY4v4r8ru4MVkZ3rpq1k8WZ28sqleHh91gJ8tCa/iAOz9V9OKCpWxQq1g0/PetG5v3I2urDxt2R3bi5Gkx983a9e+fvu4mQUvZFj2euHe59OR9G5NTP/J5sizux2RAOb/Lev05Od8KxSADcHVloP185F0Usf9c3thHYnZ7+zOn/mRz/PK53j5fx1Y16Aj+b/3Q2UFNlRdGnr7/E8dOT51ttCte4mJkjKqI+ntaXScdZG4y8IOARGLtSY+JA91/2vONHjeD2kL+RLwTbvXhGI6i/UZExIukGoDdxAixRqcpVo4tKOM2XeW5mOLvw66T7ii51/js4MtBZy71dnoyh7Ke7Jby5EUfbtV83za7H4JpbfBpZQuqSUvz98/dFLUTS9MuASkCz5xX9dEjdoE8GmVF/Aqb9vCWuiM58eDF744/2dnduPPe7qUu2nG4n7+KSSS78xmmlTSlsqF+dMT5CgqQRGLtQkaBIf3nwsDhYseoYc5ZEINRrLyi7UHq3N5l7VSIuCROo1jLT0OOcSKFCoicWzQA998usLiaJETPBnV+67Jub8Rius/7zjTe1ubiETo4nF3Zwrdn9Zkau2fe5Jd6vM/EZz/0nb8A+7ixMnVXuZpuZN8N9yaX9isY+dhrmKltI/SpHyQuhH0exazpvgSZWmtKVScU6yH8cbT2A8Qi28cHJzMf8tjFIEDkJNh0GIbAg1TWOMf4sTanJZIrQW9WTzQoIaE8tdg7eKe5/+KIr8BTwXLWnH9E1yLActv0U/+vQka12svOBH0hYnWnyS5b4Qt/wSwAYrznPwzq9mZ5fv5EnJ09xblhv7cnPmedM+k0iKosQNan/fuTQRDSNeKW2pEM5pXuMcCPRPoExCTVtP623mnigtJqlFcjpqR3+5yUAnZctO9rg4aPc/za49YtvLIiMvbPqU+4yODVd2VbH+KqBTVBQtxrewcQdnr6+pnWh+OQqHWVHjtTNPNTXro8RhEYUTBErQCcVWHnm/VXNNu/HqpXR2mKWZxKLAHceKGovCAB8LE2rUqmdX/hI3iqSJaSzOB3XzzmsJtNGNrnNM8liLpf1kibN4r0c9YnbV3fbEDHzxt683OvNnXppsnWqdfXvtUyF9omjJXxh68Whn5e35M6dak2darVNnL3y849+i6/V6Lx7v/OrS/JnJyVOt1o8vrd38eutXK1v3Y08wKPHxrrvI540JNOywLiDM8teNHq6K5b/5f0+8K8gczfvxxX9e6kP3/P35E/Hvzso5Yd/Z//tr8e2pu8T5RBGefGly8mcf7B58vfHxRxv7FsuL+xs/lzKvde6jr+1haXDmBjVqIR13BPWajdwWwsdGYSsfUmRVKW2pCM5544F0IJCPQBmFmrBc9UZP5Yihjd1ToJFODXBq1Ob70GUhUgmJcpSkkH2YfzagZAn+cOmeFSpODhti5J29siiGUmdQIJOM2Wp6Y0v37hFl4UPhr1OOqVbNRotX9HKjnvNcpeXWS/R4gfKIySLdN0bauuiTS9I12E9L32Xt/kSbZZKeaB3HDZBwRTiaQaAoofbD7rtiAvT0hzYm+MSAWO7Sm8TlE5dP/rqz+JIoJXpj4/Hfe70XTzYvim9nLq7s3o8pgF6PZlDW33V1+i/Nvu/+Xn93/z7+z3fPTETRT1fES8norSKycneD2vOv/03c0Z38562Hcu+dfKFDFP107SG/nfp/ti69FEUv/XzjvpApZJgoLKb5enR3NfZU6YunT548ebxzhZ5xvLDx1xfC/9/8XPr/85Wb9548ib3g7fcSOe/FroODfBNrVJOL+Z5yiF+DCWvZ3rvn+5/OT0TRS4u7Yo/ii3u/Uo8D2Wc1Hm3MT0wu/v4JDSnebkU6GCVvUFMNwBPi4uHdJ0/+uCKqjqLJq7eev+j1/v71Rz8Sr16Z/detO38VLD04aW2pCM5e9fgKAicjUFah1nOneXJSaBQrL1w9IcZP8agUS2AW0pRA4WKF5I47CIoC3SOMbdweqs4RamSS0UMiu1eR95Xc9CUOq9aoGZ4mrsPId2u8j8JXZul3mUX5TLBmi6egUJM2JJsknIw7kl2XAwdfPAJFCTVqt5MfhZ+WFO/g8Hf0i/tl8R1m8rnRKDortqX/8HDlXDR5ZddbZzEeqTuVtgmZM/SBGvnkR//rHRdfX/y3eGw0mnzXlk7zMW/Yvd7XH6ubesyGhys/EQrAvh9OvhHNeV+G2lwfXfhN7CkKatJJz6vSM6qRetmEUA8vLVoLPT9owYl3fC/BQF9FpX29N0RvUHPXCHs9+daMKGKLrOImuESnntUQS62TV3Zf9HpfX5UK1dG1mRvU1KV1ALJ0XD5aK26Oi5fFPN99dzLt5XNpbakYzgMFB5lAIExgnEJNdmr7n6NvtEDh19OukKJhmukJvWZmy6HZhUs3CyGeXRyxeW1K+ckXWOIgyTKm7ahMKyVlTvegL03cs16llF++w4Jz6GXLO79YMtUtJFRZ8Fi2eAoKNa8s3yRx2qehjgxop1dhI78WJdSyJjMhy7g6kdIt2JvEe62iKHrpg7WPz0YvLd5yniF1Y0bNI3FrFD3C6YwAOr98yMB9jaq46yekG9Oa6tabVwI1VPsKD2XwP21YUaYUSWAjWpogIOOUVJ384PpHZ9NflkZjztB31MnFxcm3Np0lQw0u/jdhg5q+3821uPeshqAkEem9aFb79no9dTCss6UZSskFW5FMIN/cIRZoV1bejqKfbiTeAjdDTbAtFcQ5jhJHQGBQAuMUahnzMfUfe0EpBlDWaeNLXPouoXnlmF+CC8nTHyKxp7FY+rikMJ3fXvEHTNL7vfRkQCZlZWEVx5wS5zKFUVwVkW1iqmIMeT3Jnz1QgYSZ9oTWOwMAIdQCcPs6VJRQo/ZvO2PMKPeFauLJx6TXp8mFNHl9ljJJy/IzKqUmrXsWs4ieu/ReJ3FrSdZpu96TjX+SR7gCE4WoV3ioCzDaz+7suNAXGKGnIGMXb8ws/ZFuwwnRmP46NxorUgYlXWDff+WPgEU/XtwRd2DT/ynZ6o/Vyjbn4ZKkZzVUOLyHc9UPReib4wErVNVp45VcSBNRnLiwmfIyPzPUBBtwcZwDTuEQCAxCoMRCTd3K1AOx6E5cSFnlIYdb+5/t2NQDg51TsKISVJnucl0MZVCs0ERih/6wXqGtHtoqV0IFi3Urp6FfZ6dzoYr00GlBOLiMVFLn3QLdKvXaJCuKbw30EycKx0yTfIAQanG2/R0Zm1DrCd2j33cl73mlqBC1lJX18n1qHhn9V48PjJPSZHzxrCef+4vYzUr9Clb/WQTdaJU0oRt/7ivEEhaZhAV5hFqPXrQWRZNLqb9Nqizhgx5zUn18svEz3k37/dw6k/4QaMIb1B7/O72/1vklLrWnzY6HZKJae5u86tw2VyXwVVjfuRxCrdd78lt5uzXzdyxS2lIuzr5x+A4CoyRQZqGmRj0aMR9en3Wv6kJixSNHPTBxoOeLVWJQSNMucUlhrtLswOQoP2OLHL/4dKIGIBpTXadMJvshj1CLTQ+uHLSFiU9qPHU367Ak5AUzWPqeamcgFrlMilPNrotZio8xAkUJNVr/SO5KvV7PvlDtbxtJL+yQ9j7fvTIZyZ3guW59Js7lpL1YQ1U0dP/i97nUzUq2oYraXuzdEGpZSL8XQzVj5ymKxxs/FX032CPUDVY7JsQi1OuJ5xXI/Ty3Ph25GShtkEP5V9SIUswGNYY4t2WVFHaf1ej1lNTzVk/ppRgpb1AT+wzlC0pSh2V6RoRg5rn1GWxLNE3EfBwELPKAQDEESi3U1E58MT08XDvnjchpWkSxyhJqdqe/SJl65UpFueNvLi0Se8RBjHFuOemRpVpcEekJI0LB+fhwHnoyN0UP0dDMLUxJrEz37DGrd2kmiayD1JVOq+lnixJqeSYz+UThB7fl9U+ypBN7wCfm1+7fEz/uHhXxMIESanypjG9QEy+Ee2vreXiDmrofSlvg7QoZdyesPHTDoyYdFASU5PnWJfGb6/fuXZeLUiN/mIAegM25R02tHeoXZDz89c/P/Kt4OEAJNX1ceEYthC7//vejSa17+P1QcQ9UPTRK95elehMZnZU5jTLjYYJeT/6O50uLu3/dpaeJU37JPm3vYNb+S2MPPoDAuAiUS6jtXvGuU7XgCD2lGFIwLkYaO/gg657Xy0uLa2nPe1IeWmdyxJyKbmBsAAAgAElEQVQarZimCZjk2yA8Cl6Lx0xTBwJl+nvUiBJTRWrQtNb66lAmCJsRE0/kZjixsjGHUIuZJLLG6qIjvC6q3dWpSahwvFeUUFP7BBJez6HAy5tcV1Y+TflRKfG+Bv2Dj39Zk29YmFy8yZ65ZDFUr1Tw3s7AElDbiL+eg2592lZk3s0h1thEZxFvd1Obz5wHAp7//l3xdCIXT7FZ/CEJLGeNjdlE7Tz2eg6d4qFYjaO1H21V4nOv9JgqF0O6lJP8lY+a5vwVUbV2qJ67FBvC1N1qdePSDn1ylVQ/qyHknTqlHgiQ98TZzXE1GogNamIhNmGIpqGPC27uuHywV9mjXqoyMb8WeM+fyJTWlorhzE3FZxA4IYHxCLXw3C97rzclU19NuNFAAsXqHpnYqhOlAxJGAQWOtELifUCLV1tC5Uu9Nch71LQ6cTaTMJtthepTiJWvGpVtNDgKjFJ6MqcogWEry2TCzqmUCldnpXSWr+S1g7KTWn6JKUVvs07IpOByheOIKJqM6W8NMm5fc44UJtRozma3DoNMb38gX8MQ2yEu3qP2+M7vPpoX71HT7/H6++ONN2Q3mLy0ef9J/EVi6iWl5tmgWI0kFwITOT1Z+U8bj38Qr/faeGuy1WqJmjq7Lw4+Pas3nj+UG60mr+w+Ea9Me/H4d+K9a62feO9lVW175f6L3g9Pvv7VvCwo5Qfjb4mfforJuBdPnzz+49ZHP5PvDFnaffFDr/fDi8e/ptdZTF767T3hv/sArNIW/MWQMQJ9H+jnPWq93pOttwQ2IYWf3/n0p60zS/pdInJdMJpcFJvsfnhy69/OqnvZP/r0ntRzH9wm0+yTm09+vzhpHvI1rwX++9cfvMQ2Dnr+0AZBT6qK96jd273+7lnB+cKafB7ixfNbH9Ar+s599PVfZVtyi0ppS4VwdmvHNxA4IYGRCzUljBydwr8YMaEdc3SDPmj/ko7RJRjFozScPu6+X83m1jfp0sWcSc+Ml9frWka4G1YSTJKlxMWoPBK+pmTVSUeMtArUyyqVEHRew5MlSKFhjSR00k0NM4USeUF5tKRjNcZM4unJt48/Vq/LpEI0UirEeGFCgQ9BAoUJtR7dBfN3IPlGyFta/JUNlMALt2xI+spHx5tdV8hMKT/7o2ulnXN8L5o+8+S/Vy78uNU6NTn50tlL179+8uLh5ttnWxNRdOrsB2wB7/HvP7rwkzMy2eSZn727djPwkwS953dW3pqU+qx19u2P3pVvWQuoQ1U17axyFur0Kx5dTz0musFrDwr5aaP+fplAbDy89dHPzrROtc6cmX/313f4yueL+1vv/myy1ZqcfGly/l93Hr94fuf6pbOnWq1Wa/Zj9hsEf9m89ONWqzV55mcf7P4f7Vyv9/z2R/MvtaIJN7E9Lz/RXWZnJ1zsQleONmyoIchmIqASU9pSIZw9P/AVBE5IYORC7YT2Dj+7UCH2Lsnwy+clCoEVr0vOWEaE8fT4DAL9EShOqPUSfpTds+/5/Vt32Hzsne3jK+kYLfoTMvb5o+wJpfRxWP1Cg7c13imA3kYR7+ZOoswvtOaUcmmUWUIowWC/9RkqaTTH6InRE4+NKW2pGM6joYNamkOg8UJNrDydeCDI2V7keBFfHIJQy8kPyTIJFCjU5As4Mn4lPdO+3Ankb8Cn6SEqSexw4r8ikLv8fAnFbTbnjqR6BCF1r5582a/eNZ+vnlgqUntJL+WPJa/vAXkzXb/2ZUA3U9oSOA/IFNlGS6DhQk3eQ8y4ah9eQKRQi19qy3V7b61+eJWipCYRKFKo9XpSpsQb8PAB/31X/ALU2+LHgTL+0TvJhr3yJCt9cWtJ7rj78Yp+5b16FX7G+896PfmMod6Kl+FA8LTcbNDXDz0Fi6nDQbnLbXJx193A14dnaW0JnPsAiaRjJNBgoUbr4SNbThNBps1ezgIe9mCNsfXXr+pihVpPahf6dcUi2YlfbdJb/jProZ/1vPSf2aIusyg3AT0WEClZ9uLxzpL48avWz9bEr7xn/JNPdw6qtOSvWGavJmaYUJvT8knhs8v3BnMopS2B82BIkWv0BBop1JREy9pTX0w0sva9FlMrSm0GgYKFmvgldfH+s7e35JOShTCVr1pIfGdHsErxyoyJS1v2xziDqfo++Hx/7dJP6DECodAmf3Lho//3oXhgM88/+VPuZz++ky3qvNLkW0tSXgnmJW/CV9kkzn603zfLtLYEzk1oOnXxsZFCrS7Bgx8g4BEoXKiJF1ncW/tZK/P2n2dY3q9/3ZhvnVn8fb+a68W96/Mt8/aHvJUVnO7J7uKZ1vy/6xuneWp7ceuDl1rz13Os2eUprUZpnvxesNx41I9LKW0JnPsBibRjJwChNvYQwAAQGBqBUQi1oRmLgkAABEAABLIJQKhlM0IKEKgKAQi1qkQKdoIACIBATgIQajlBIRkIVIAAhFoFggQTQQAEQKAfAhBq/dBCWhAoNwEItXLHB9aBAAiAQN8EINT6RoYMIFBaAhBqpQ0NDAMBEACBwQhAqA3GDblAoIwEINTKGBXYBAIgAAInIAChdgJ4yAoCJSMAoVaygMAcEAABEDgpAQi1kxJEfhAoDwEItfLEApaAAAiAwFAIQKgNBSMKAYFSEIBQK0UYYAQIgAAIDI8AhNrwWKIkEBg3AQi1cUcA9YMACIDAkAlAqA0ZKIoDgTESgFAbI3xUDQIgAAJFEIBQK4IqygSB8RCAUBsPd9QKAiAAAoURgFArDC0KBoGRE4BQGzlyVAgCIAACxRKAUCuWL0oHgVESgFAbJW3UBQIgAAIjIAChNgLIqAIERkQAQm1EoFENCIAACIyKAITaqEijHhAongCEWvGMUQMIgAAIjJQAhNpIcaMyECiUAIRaoXhROAiAAAiMngCE2uiZo0YQKIoAhFpRZFEuCIAACIyJAITamMCjWhAogACEWgFQUSQIgAAIjJMAhNo46aNuEBguAQi14fJEaSAAAiAwdgIQamMPAQwAgaERgFAbGkoUBAIgAALlIAChVo44wAoQGAYBCLVhUEQZIAACIFAiAoMItXv4BwIgUEoCf/7zn+/cuVNK02AUCIAACIBA3wR6vd4gQu0Y/0AABEpJ4PHjxwcHB6U0DUaBAAiAAAj0R+Dp06cDCrUu/oEACJSSwNOnT+/evVtK02AUCIAACIBAfwS+//57CLX+kCE1CJScAIRayQME80AABEAgPwEItfyskBIEqkEAQq0acYKVIAACIJCDAIRaDkhIAgKVIgChVqlwwVgQAAEQSCMAoZZGB+dAoIoEINSqGDXYDAIgAAJBAhBqQSw4CAIVJgChVuHgwXQQAAEQcAlAqLk88A0Eqk8AQq36MYQHIAACIKAIQKihKYBA3QhAqNUtovAHBECgwQQg1BocfLheUwIQajUNLNwCARBoIgEItSZGHT7XmwCEWr3jC+9AAAQaRQBCrVHhhrONIACh1ogww0kQAIFmEIBQa0ac4WWTCECoNSna8BUEQKDmBCDUah5guNdAAhBqDQw6XAYBEKgrAQi1ukYWfjWXAIRac2MPz0EABGpHAEKtdiGFQ40nAKHW+CYAACAAAvUhAKFWn1jCExAgAhBqaAkgAAIgUBsCEGq1CSUcAQFFAEINTQEEQAAEakMAQq02oYQjIKAIQKihKYAACIBAbQhAqNUmlHAEBBQBCDU0BRAAARCoDQEItdqEEo6AgCIAoYamAAIgAAK1IQChVptQwhEQUAQg1NAUQAAEQKA2BCDUahNKOAICigCEGpoCCIAACNSGAIRabUIJR0BAEYBQQ1MAARAAgdoQgFCrTSjhCAgoAqMQasf7q/Ot9vs3jougfn99rjXV+eKwz7KP91fmWqeXMm06fnx0/KzPsgdOfrjdmWrNffagjwKObyydbs2t7BfCtg87kPTEBAbpJsc33m+35lfD4R+wa5zYERQwVgIQamPFj8pBoAAChQu1Zwerr0fRxc1DIXf2l1+NFn6XISpuf9huvX8jv69HO5121O7sHOXPcrAyF00sbKaru2+uTUXiX6sVRdH5jfTE+etOSnm03TkdTX94O4NOPPufVucmormVg/gZHBkzgW9X516emnp5qjURRdHCVkponW7Sj9WU8fXVg9DlxABdo5+6kbaMBCDUyhgV2AQCJyFQtFDb+0VbSCItosTXi5spE1b32d5Su730VX8+7X88HU3Mrd/Nl+vW1XYULfxW25SU6dnx0eHhjV9ItfbacsE66HDjQhS9cm0/NN0mGWiOH/12IYranS/TuJrE+DA6Ao9ub21tLs1Kvf/6espKqddN+rPwaHNhImq/F14d7q9r9FcxUpeRAITaSaKy3ZG9VfzX2T5JQZl5D1ZmRlBLphl1S3B3VWIVaGdqtHpRrFD75tq0h+vb5eno/Pqj5Nax04naS3v96pXvtjvtKLqQY9nr2f61V6JodjWn8Np+R0S8/Yu9ZIuHcEYprZ2BldbB6mwUnb7aN7ch2I4i0glICR5FUx/vJ6aLd5PEpOETcsxvX70VOpu/a4Ry41jlCIxJqO1YhSOGTO9fwaJnyEEiXwq2GUJtyFFjxRFbCDWGJOWjnKImFra+42n2l1+Jzn+WdB/xeOvt1CmNl+R+3v9kOoqyl+IOPz8v7kJl3X7VZe+JxTex/DawhNIlpfx9tnf1dBS9spw8k6dkVqeOf7cgbtAmgs0uASkKIfBsuyPue0adL5OKD3aTpMQJx7/bWpiIon9cD/arnF0joWgcrhiBMQk1SYnWo7wJUhwsWPQMOUQjEWpDthnFcQIygl475Ocr97nAFTWxeBbooYefnU8UJd9tLkTTy98ORJGWPN9O2wgkNsm9EkUTne2cK3Z/WpbLqHPr9wcyKV8m0lgnbVQkCE6m9vLZi1T9EJD32aNoYdO5XGElJHQTliLXRzlFJvSdXF0jVy1IVH4C4xRq4ZWMnU7+Wxil4AuhVoownMAICLXc8OR1fGgt6nDjfIIaE8tduW9KxgzZv/ZyFPkLeG4qmhTTN8mxHLT8Fr187SRrXay84EexiBhFU9e+CZ7Nf/B482IUJYDNX4qX8vYnMzMf3/YO4mt+Aur+RvIGtcRukr8OmfJY7FOMpj8JNtUcXaPP6pC8tATKJ9Q0Krb/Sy4y74gTqofQrVI7+svNHHQwijoypSzGHhcH7YakmdW7bvGqKJterBrYcrRNVChtF6PqOtuqWH8V0CkqsATR7XILZlZW1c1gv5yuk9A9y0vImAtJTWpEqWuW1nJBgGVUywMWY9Atm13WNrPKNoMbg0VRgXLMeX+/kTnRb0avGcRNEgkg1JwGnvKFgjuz/Kd4GpImpoU5H9TNOx5xisTKAW9g4pjt1KoK2k+WfI9JjQkzv0zcn3b8aG/9nbmp0+3Wqdb0xdVrQvpE0Xv+I6jHd7eWL85NnWq1p1qtU9PnP9x6EL81evxg65OFual2+1Sr9erC6s7e5ifLm9/GnmBQt8Yuu4t8XtcgZ03TllZFTn8RI94vxfLf3FrKnvV4LDKOiOm/L536p4035dMXrQvLt4+6x/e3rl6YFk/NRlF0aubqV0fd7vGDravnX6Vjrfb81b0YEpXmtan26Xb79PTCyt7+F8tLn2w/MOugJ63laO/DGWFBa7rz2wfdZ4d7n12eOUVWtqYvbognKA9FS2iTmaemFz4PtRmZZkoY2W7PL21/s7f+4dX1P3B/MjeohbuJF2k5evpNwp90aPU3QRFmdo2MdoDT1SFQXqEmGCqV4MoTqXDYPQVq/2qAC6zSqWl4tSPlieotskj+2YRMluAPl+5Zc+9HdLOZTkcMpY6NVLA5pPotkyzuESMUdshGU5v9oBSqKbIrSzCzmpwCGRObUXyiCVInDiByk4tvZFKnM6NyaVQrqzPKVXLB34OvPFca1+MgqyFjOh3tqilntaNnKV2Z+3zGoBmzTTL84xyqeaSoW5/Pti+Lic/TH5pR8IkBsdyl7xDJJy4P7291Tsvp88L6g++63ePDjbfE16m3lre/PTx87IsjUiqJbbvbpenq8hfaDPfvg99enpqIoteXxVup6K0HsnJ3g9rR3i/EHd3225sH8maWfANCFHnvR/jL5sLpKDr95vq3wkgyTBQW03xdml9jT5UePz48PHywJR6REHvP1u8fC/8/f1N8m3pzeWf/8DD2grcvJHLb8V33BvsmNj+1O3mfchA9dOaXB/tSMk6/8eZ0a7qzdSBeRPeXdbE3cOL81V/MtV7tbN0VWB6siWPRG+5rUp492HxbeD33S/l2sMOty8TAviHlpLUc73Ta7cvbh7KJTsy9+Ua7/cbq3iNB+MZ7orLpztWF0+03V/YO5TEZhPbVPzgEj/5wbW4iik53tsW+sOP9T9SzRs5zJ5kb1BK6iXje+PDw9i/nZPTbS18eCUO+uio0cGtm6Te3H4jwO/Z0VVHh8Gd2DbcsfKswgXILNbXq5DZTMWHbIzHZQRO/TWBWbtTFipyV1Wc19zuCQBTIcruxjSsPpTN4FjLJuTbyKvK+kptaSLk16m/SbFuLLIHNXsIMp0adT/4VZrPE0os81dn6jGjmEjZQjvTd4ktEoTWZMI9oOEuYsSDaZMyAfBmzTYJQc1pL8hcC3r4aflpSvIPD39G///FUFN9hJh+Ii6JpcWfw2cHybNTubPMlC26BulNp2xQ/KfSSeDQyCj8cd/wlTceXbemke3jz63b3PpTrRRfN+0ZEscuvifnUPqAg34jmvC9D7L0T/85/HtvtTb016XlVekY1iqblM4Niuj2d7D9th0rvrR6SHF9FpTnfGyLePCektham00tiCY3+0XgolY05Rr7zoaPbFS+qiKL2OzYOdMQu7J20FnGPWDyDqZRNFF1YN2t1NAoJmWif7FbjNhsVu91HG+fFIwJswVjc0JfNgD93krlBLb2bdI/k7WzxGsKjbvfoi8vtibnVwBI1EaYHX9igp9F3u92srsGS4mPFCYxfqMmOYP/z1Ab1Md6dxBE7alN/c9oxDR62HDWd2zwsZPHs4ojNy5KKj1SUW5IaBexBKtN+l2W4Bz3VpSYbL4tbt59FeeloTDdH8reAwPIT+9XpO7DOhOE65RchvhMchycxzCpHmuiE1VsXlLUFDAhkdA0LmCSd5W3MzVG9b0WtqGWJBiHLuDqR0s2JvmYpXgQVRdHppdUPp6PTnRtJm7L14m7ye9pSZjL5kIG7xYc2/URca6p5121sqkvaV3gog/kjeGoWD2xEy55BlVRtL61cnU5/WRr1l77uVGrIaX/l4mL7DXlDMC1dV2y3EjGl3XJKXKocSqo6i3PKdw6KNhG6O+1oHdQsRp60luOtBRLr9EJj9pI/8Ubmj6UQd8Ycajb8gWJ9755fV4SeO1EDPm/nHsCsbtKV70gTEv+XywsT0dxa6A6sKpOGuEAbE+dplM69O9MzE18rRGD8Qi1jgvTnddFw2dAf0Cv+TOyX4EbHm6RF4mTBFJAvurfYTAGTtMzRkwGZlJXFMTRWtRovQtt6nIyBL9JCZ9iKJYpVp7bKObkCOskryI+FEbtZ5QT0ViCOAQMCGV2bAiZ5bcBNX8VvRQk1ahVO7Fw8Ykq2L1QTTz4mvT5NLqTJ67PwYpgtN6NS6m66Z9lsXXru0tvRf+M9Wafteofr/yiPcGEhClGv8FCDAb0owVmW1h1/ouNvdtPXJykDCb9z6txWY/arj9Ts08uK58pzRP66UfRqZ0vcgc38d0O+kMIN1pdyY637vK2Kh1270ptxHa2p8Lo3oLvd7uC1kAMP1uSNRUdFPVh/XYTYmWiIKrdccXYelFGi07FcCda0N6hltFhhqVhIk+3OubAJBIGGOD7lsUQ5KmKp8bHCBEov1NSlrR6IRXeyo6yz0Z7avf7fijnqgYmzCw0sqkwxi/PivcjKjuF0eHNZY3PJAmPVqWrU5i1XYQSLDVXt20YdlVyO1egUwFPmT2+d0lLTqcX1QtWnRhYdB/HXxmI8Qi3LpDz8HZpl/zI2odYVukc/pCaWKNJUiFrKynr5PjVdp+Fx/koYsA2g6qzSZHzxrCsflOM3K++v044h/1kEPW2rzk6KxH2KU63ThNYz1EWU0324zfIzvWgtSnz7vMqgLEkv63B9nne4fj+3pjIfAlU/veVsT1QEuCqSa6iuOCbt5bYE5ZQe1Q2bwWuhIpSKcqKpl/34m2PF22QicfPRSFSl8OyeOVEgtS131A1JSWM/fchosZRIPZEQvb6esp6m7+y7Q6ipLldFJjU+VJhA+YWafqpLXqIdrMy4OimsipyAZAg1fntOzOiOqnAK0tfQ3phJvcUeVJLMuykpj/KByVEPrlNerfKrXwtLoycVd0CxCcggVkUOaIHq4rnIBeu53m1mjwSWrwLhiJWjhkiOS993dibsHBkVnFSTpLOMj0VX0U9FCTWaR50Q+ITsC9UerSe9sEPmORI/OyDfGprr1idXA06dpL3cpiIS6P7FJuOuulnJNiFRO4+9uVQtpei7dUp4OU9RhNZptGHqBqttdPoE+yueVyD389z6dOQmK+UkH/tZUVNAnCgoqeGooq+WxEIRX4LSoxNfPFN8eDLpyOC1KA7qhibXZF11PcAlplpG5SbRIOlYrmU9T9ZVUlI/HxPkn6ObdOVvuVL7z3Hr013INJVS63WCYs7hQ60IVECosc1JB6uz3ogcmKr9+ASUgZuEEqgXbaQOriYlKyB29Rw0yT8oxoXUqlgN8qOvnLb1U5OU0C+fZachiFcWl1wsOX30q9OXl84k7VdKKLjioSOO9g2Ewy9HV+bGeqCMuUySznKzYzgqdqAooUYhSBcN8onCpa/k9Y/TWhyG4ueVJuZWv90XP+4utujbbeZOuuwd09R44jMZHRePK5oC+QY1sSnqjc2j8AY1NZG3O9u04qL6OHcntE5jKlKbh1JmULlLaW5lf39Fruj9/+2d/WscV7rn958rEBQYFyPSG8Y9mUSYpPHNCA8xMREZxohxj8HaMOkxe+0lyD9IWTbaEDQQFO61wnXakNFevMriKOCVsFFwUIhv42HEODQI6vI8zzmnzqmX7uqSql+qvv7Bqq46dV4+z6lzvvWclxr7YgJZAJtnjpoUSqaUOeN9atq+Q17aGnapsj/1Tw/1y5sljh1PFak9sxqjeCqSSzWlzFFRag2EbQupxrI5Hw3W/3bzSDvPfm+9X0swWXey88F5rva2lLy37LoJjfmHPia8muT88r0n27zYBYsJDDocZBCYRqF2b9mdT2Dm2qfthZsiBWJFlcfGbmRjAVTDsXx38Lgn3ZUUPfoJt4RQSpbieaBeZDRlEFNOFKGjYzhnViaiMibyLFENBKJ6Gic+jse5Ky6wEqpIdZbTJNTSspQQagpZxkZ6EdppPSpLqKnKbjsnkgh4UvbynT8P+KjU///4TTOHWlwL3vnlbbNu0IlTOlpbbzmX9TOZ3J5Dhj6jp8zszUE+NqoGtLubmnzmTNZW84ds8ZSYHv5YBJbjY7PyJc97YnsOHeIxzZqSMS+dq0ypKstUbQGhYznNX6I6wldE83mqlMOSd9InJSqbX8hYodVYKYuzPiO9ay6dJhWCYasoDSfF7acWnPKiAVojwjuJqKHPqMVjjy+vJ/6rLEfgS9Iy8PJSWuPstGw6SVMl3V30zGXeLkQtoNGpxDaCMWEzdvqQ60MfDRMNDmadwCSFmlT6qCUVltzGxR4A9UYbmxCq2Kuu18TDgaMHTmkOR2EkrCbaJWoyEgH0CZ0TiZ+SLrSPmh5FdSaTWHnWyZm/Kt2oFK5sko4hIwKHM4td3l03IzQnqZJzgkg09ikhb9pZPTqpXIV0dZn2XXMlaYpMTMSjmzqnGhS7UcgMzFKisFLSEV2exlRTcFCaUJPxPsc7klJcGf8y26eZELSP2pOHn33wJu2jppcK/seTjxf5MTh/dePbZ8mNxMTL4tQEEyEfSBebouRkZeU/8TYNLx59fPm87/NWp7+/9+L//fnC3Nsb/BX5xzz9/PzyvWe08+qLJ5/Rvmv+r2NbtqoqeufbF7ST6j+/KXumZs8EF3USV7Qvjp49+b+bH7R4r4o/3KOtyP7+4onMl/LOX/3fj6j87gJY1Rlbc/Pd0hf6Ndo+aua5dj1Vsu+37alSQm353t+f3Vs+b6SnLJh9m/fsffHtx7/9hSdDflf/8hOVzizjUI9qwVTMa3TM7ZdcAyFC7fXVxy++vfOmr7fGkJWY55e/ov32nn313y6ocfn/+udHP9373Xm1PlTaitf/xyOyWqbSTX9MaB+1b+/dfZ/XO//TXd5O+cVP/8aDxZ73+p/++oSrv2NR8RFGzb5zceij4YTGj1kmMCGhpoSRo1PsH4l2WYmN5JRhga+7VonDiAlpXp2ILde2bTcOmfE82OHo2Mo8q8MocSMWTauh0zZZ4siSYlQaqdQMqPZLx2R0j3veTjqeYTNfRy8RVdIkVZi60VpLAZLFtPCa8llw2Ij6Lgqgj3VRdJ5T4omCEpPol9ya+0YmMSBLicJKzJJeohImuE7ridKEmtrpwJm1kwKBXSP2NgcSJkaba7uuirpOxOtkju/kyJQgey6aztKzf7vz9q98/5zaCv/Zi8cb717w5zzv3IUblgPvyb988PavX+Fg519p/e7udsonCf7x08M7l2VPe//Cux/8jndZS1GHKmmZ1e446qJpc6qs/IYTY2KebieejK896mKO+peGgBPzwwZF8u9/fmXOe+WPpGHMv4edV7y5V2J+0Mf/6+oF3/PPnX/9j9YnB/7+7Kt/fvvCOd//xfnzv7p6d+fZi6f3brRIN/uv/HbDbCF2ylT+8WzzHd/z3/zY+hTKP55t/tb3/NbH9FkC8++nv36w4Hu+f/6XV+9anxx48e3m7yhX9E2CN/+49eTFTw9Xr1K2ff/1P+lPLfxdVSH/l1ejnJuY9YEss4g9JrFWzGkeTfU3DSlHJYP1enWOjglbJukAACAASURBVF39zfFoxO7Az5klMCGhNnW8SCvo7r/szNEDm0yLeyzLO1V2LhB/dQmUJ9T+IXtiud1JEuRP33718Gny9OhnRMcMSW7Ej7KPnov4HWnTs2JhzvKj7Knvb7H0RvmJb32OQqtQ2HyPydCoWdtldAq5Ho2hKSDAbBCAUGM7kdMl43k4czvyA5b01kConTnp2kZYolDjDTiGfCX97Ljzx62d6eqpcctuC9FXBFIDFT9JY1bOiGTKQsJE7LJRxS/vpH5POxE6/YSoPTPXPj0Qzk4jAV6PIusVCmdPJlDag8tWVDkfDesOHM4wAQg1PUo55K397GzMQi3pUeOXp7Fl4uyKg5imj0CZQu0fst9BsgKfPYb/oB085Es7QyKXPcnO2vPEiaovRXq/uqOXj6pPAJ3/gzMUmMwhz23XU/GSl4ef4SkBOT/0NDw2hBgvAVbzp3lM+NWdP7OWzHj+RyN5L87MIIHaCzVxII/NnUZVRKZkOQ48mb6QdLPNYI1ClidPoFyhJl+5dr/SU0aZaRK6nvI/NH75rOfVv6QvHR16e3YAvV+ryLIXT7b+QJPB/dZd/rp49n10hVd3FlVatINJxjdMB6eKq9NBgCV+4ceEFzdk7Rc90qMxHTSQi1MRqLFQUxKNpstnrDA4FdnBN4syM1NIJ5KHwTnE1dklULJQoy+p0/5n727ySslSONF+sNl7dqQmSVtmzF3dTHwhPTVw/pM//fvdq7+WZQSk0M7/+u0Pth7Tgs08//hT7hf+9NCehp/nPtkQ1fqIeK6bEGi6CBR+TOTGjD07Cjwa04UFuRmdQI2F2uiwcAcIzASB0oUabWTx6G7LHzr8VxDXwcdv+q8s/8uomuvFo9U3/cGfeC+YoVPc9uze8iv+wN3nE5G/+OrGL/w3V3P47BK34sR0ESjymLz46o/nM122BR+N6aKC3IxKAEJtVGIIDwLTTmAcQm3aGSB/IAACIFARAhBqFTEkigEChgCEmkGBAxAAARCYdQIQarNuQeQfBOIEINTiRPAbBEAABGaWAITazJoOGQeBDAIQahlgcBoEQAAEZo8AhNrs2Qw5BoHBBCDUBvPBVRAAARCYIQIQajNkLGQVBHIRgFDLhQmBQAAEQGAWCECozYKVkEcQGIUAhNootBAWBEAABKaaAITaVJsHmQOBAgQg1ApAwy0gAAIgMJ0EINSm0y7IFQgUJwChVpwd7gQBEACBKSMAoTZlBkF2QODUBCDUTo0QEYAACIDAtBCAUJsWSyAfIHBWBCDUzook4gEBEACBiROAUJu4CZABEDhjAhBqZwwU0YEACIDA5AhAqE2OPVIGgXIIQKiVwxWxggAIgMAECECoTQA6kgSBUglAqJWKF5GDAAiAwDgJQKiNkzbSAoFxEIBQGwdlpAECIAACYyEAoTYWzEgEBMZIAEJtjLCRFAiAAAiUSwBCrVy+iB0Exk8AQm38zJEiCIAACJREAEKtJLCIFgQmRgBCbWLokTAIgAAInDUBCLWzJor4QGDSBCDUJm0BpA8CIAACZ0YAQu3MUCIiEJgSAhBqU2IIZAMEQAAETk8AQu30DBEDCEwXAQi16bIHcgMCIAACpyAAoXYKeLgVBKaSAITaVJoFmQIBEACBIgSKC7UD/AMBEJhKAo8fP/7uu++mMmvIFAiAAAiAwMgEwjD8L+Ho/37GPxAAgakk8Pz58/39/anMGjIFAiAAAiAwMoGCQm10aYc7QAAExkHg559/Pjg4GEdKSAMEQAAEQGAsBIp41MaSMSQCAiAwMgEItZGR4QYQAAEQmG4CEGrTbR/kDgRGIQChNgothAUBEACBGSAAoTYDRkIWQSAnAQi1nKAQDARAAARmhQCE2qxYCvkEgeEEINSGM0IIEAABEJgpAhBqM2UuZBYEBhKAUBuIBxdBAARAYPYIQKjNns2QYxDIIgChlkUG50EABEBgRglAqM2o4ZBtEEghAKGWAgWnQAAEQGCWCUCozbL1kHcQcAlAqLk88AsEQAAEZp4AhNrMmxAFAAFDAELNoMABCIAACFSDAIRaNeyIUoAAEYBQQz0AARAAgYoRgFCrmEFRnFoTgFCrtflReBAAgSoSgFCrolVRproSgFCrq+VRbhAAgcoSgFCrrGlRsBoSgFCrodFRZBAAgWoTgFCrtn1RunoRgFCrl71RWhAAgRoQgFCrgZFRxNoQgFCrjalRUBAAgboQgFCri6VRzjoQgFCrg5VRRhAAgVoRgFCrlblR2IoTgFCruIFRPBAAgfoRgFCrn81R4uoSgFCrrm1RMhAAgZoSgFCrqeFR7EoSgFCrpFlRKBAAgToTgFCrs/VR9qoRgFCrmkVRHhAAgdoTgFCrfRUAgAoRgFCrkDFRFBAAARAgAhBqqAcgUB0CEGrVsSVKAgIgAAJMAEINFQEEqkNgHEKtv79+yQ9u7vTLwPbDRstvtO/3Roy7v7/W8udXysnTiHmZ9eC9brvhtz49GqEc/Z2Veb+1tl9KlRghHwg6UwT6x73js6gyOeMp0nD1d24G/qX19JpdsLEqYiMItSLUcA8ITCeB0oXayeH6W5733lbvJAzD/dXXvKV/HdLU7t0K/Js7+XEdP2gHXtB+cJz/lsO1lje3tDWqusufwGyH7HdvNBqvNhrzvud5zY/2B5XmuNue95q39oYYNRnF0/XWnNdaO0xewZmpIPBNpzFP1SCgWrC09TKeqf21FlWSBl323t8euQLE4xv8u7/1HqXj+b7vecGHu4NDZ1/NHY/TcGXHl7wiN761fkgtXvxfgcYqHkW+3xBq+TghFAjMAoGyhdruhwFJIi2i6Od7W4Pa9JPdlSBYeTgau/07TW+utfF9vru+6QSet/SFzlO+m+oUqn/4f7a315YC7hnbXw8oem/zsudduL2f1icNuE0uHX+x5HlB++tB1WFoJAhQFoGT/nGvt/MB14KL60lB3ftue/vzlQWuJK1PRvGnFsox5eaHzSuc3LX7haLgm3LGE2u4RkvveGtpzgtupPvrR2usRks4Cg2hFrHAERM4XL/IT4/neWnPs6akgrUf6BP4OwUEyhVqj283PW/B9pocrDa9xY3n2SV/0PaCld1RO/6X3XbgeZc3h/vITvZvXxhcUbPzVqsrLGdTXSkGg1JaDworLW4T5jsjm9vkAAflEmAhPsCD1dtcpLa/cftxuflQsT9dZV24mOM5H5ifofEkG66B8SUvHq4teF7Q+SZ5JQzzN1Zpd+c8N3ah9qCtVUDa3+vdnPlGsHIJfL9OjxCEWrmUzz72MoUat/JzS9vOoMn+6gVv8dMsQdXfft9r3Bk41pbBYP+jpucNd8X1PqOeZejwa0YiNTrNPY3nvbWR6So52e3Me96F1SLW0iD7/7rkeQPqgw6HvxMhcNJtz1G3m+nBkt55rj3CTIVTFEQeXu/V26epcmEYDosnteEaMd8vt5fmPO83G6ktXc7GasQkneBjF2qcevc6VRfn1TwM6SSEmmOdCf7okqAeJNQmmDcknUmgRKFGzrOUJ7T36WJm7/5ya8lrrh5k5nbQBXlVGDJXhmSiN9fujuqxG5RwJa8pV8oA0SwaK9Ymj8xCpMDp1N7IieKGnASUVzXTg0Xjgx7NQC3sU82ZEQnWXWZnzY3TysIh8WQ0XCNlNRR9ktWa5WqsRk3QCT8ZoSavd/FG4UEbysAxziR/QKhNkn7htMsTavzW6C19kWjDabgkXY3Rm25xrb9/+1XPizvwXDDSBI+rX3HTnqlf2pWSPUGNfJ9nMeYlk7vT60NRZHurFxduPyp6N+7TBJRX9Y3V5AQ1DqJms4xhghont0tzS2l2aaJJ0RnO93dIPJkNV77YTag+TcHMWouTo7EyERU6mCahpgsg/jYW2/SfzIJSlUzORq2/NaFKh+RoovN0uwheundh/XuWICZ2FVUU3qSos0N/TZZIXEaxGQeDFWeUtygCc7sk68zrMmPBdKOdjbYMA1v3Lqxb06vN+bPPEpd4kEfN5NlhTpzsge24EBceNj3HaUf3Rrc4wXTBnZMxh59JmgNHOSSMp2QVGXLqj0oTalIzF1afJhFIH2+eKOdAjYrGDCeGjmzEtyQeHHlRztYWoXrfu5vsd453by3Q6jW/2f7iKDzp7X56beGcZMxvvrdJC7h6uxvLLV4B53nnmkufJSNRYRrzQTAfBJdWuo93N251Nh5FqxYOP7vSmPO8OX/xo73jsH/0ZWfxAi+a8zz/Ymf3OAz7R9u3FpuStB+0btG56N/TzSsNypV/eZXu/2G7c7mp7j+30HnI93/ZWXxNzvnBJY4zul+OON03GpTJ+ebS2u7+/dWVj7pHtpdx6AQ1peSuOb7JQlY7vEuTJs60syfxN8AXGOcRhuGP3ZWLge/7/mtLm1aN7T1Yab3auv0NK4OnGy3f8xorO85Q/jCYTzeXLvie7zcvr+72ejsfLTbng6DRWJBKFYbh2dg0pUynPqUWSPrvrnQuN4N53/eD1k2rngyYoNbv7X66svhG4J9rBL4fXLq28U18DLD/fHfj5uLCvO9zkNbyxm4syEn/8MvO4htBcM7351sra7JwobXxQ6xk/aMH69cuSX0OGpdWuj+6AfLGI3elN1ymR9CtVbvrdL502ummybI8oy5j8sDQxsotw8i/plGoUSFUI67Eii6W25crWaB68RQvHUeysLbe9qzemkdXlZ3ckVaOQWsCnWT0V5qt622JLdR25fjVXdnRGgmi6o0tuXRU7fZ1V5VeXF+/rm9MBVJillj3JPrOiIYuflSbOTNGaQ2EqfRodK+xuJMiB4tsJFJMVwkBEl2lrEkdaK+tL1iqV2WpKCuryDNwWJZQO+leo7bL7cgNj9QVA+Tu0rsA8Iqz3g/b7XluGC9vHL0Mw35v81362Xh3tXvQ6/0t/mItXb6pUSY1cyCNY3LCTf9BOwiudXuc57nWlXeC4J313ef9MOzv3KC3+Ob1ztJ8cGVtt8fnaOGCF3Rcn83xo9utOc+bb3epv+nvfyTr4aytBKhGLaw+3V99g6K88m7Tf629/T2V4ugTnpN9udN5y2/e2D58GYYnRxu/ocJe+dx0X1S9F+4e7rOyab5zpek3218e9k/C8McNun9usfNhKx7nO+4mJCdHW+9T7lt3eaen3vY19lJ4njO8Jc/FoAlq0gnFfC2FrBbe55riPpjGZMUOaFg2aHcdRZUdE+0wEtBWfNJEREtS2O2hZ2gdfdLiumj1x8Nh8ozMz3qK55znvbW639vfeJfk9uJnPWnJT2vT7JKd7sqOTFDz5prtL4+o4n9NFT+43lUvD4IrOUHt6eaVec+ba91+SI9LKNtVuBvoHH52herdW7f5KQtD3quFnh3zXnK8t3qJNuKQLRJ5VwvGH5ugdrzbecP35hrXPqcchieHqxfdeZM54zGkMhouWiva6+3dlToQrHxN+7n1H3bIkP7Cyud7R73EFm8qKt0BmST4YGhj5QYf+de0CjUlwlwo1DJGZ+Rpsdpx6f6jAMb1pQQBV0R1rLptZ+0CRTigfZFbyCenKasz1qOu5IuVByVBrLs4G1a2SWDIQkvrpDpj50fK64ibErM0VKgpN5XJD2fPKiblzeWgsRlFZZXXOL2sGBiLiV9RigyUMLdRe9pGTpYKs7KyPf2HZQk1oRd00vc7oj044jP69+80UnZj4uVXntekZWXcCkf9RAKumiMcWTwWQipAcimWdsCohtXzLm8Y95I8RKRsorWryacvDJ9vLtK0a8uDqPwN0UgNFZBGXQ9ZqHnehZXIXSZ9nt0LGreuKc7j2w0WstLEe15zhVxo8k/eSVgmmnMqTueZkklFwXLUIappRk7/N3yCWkLT6IzI31GsFor3znnjcmMr8IurSjPfqpS9W7RlzLF+bYvWDqsWQLtwlODwjMt2OMxvOgGPxZPpPbLOzsvQCD5a0XIWNi2AJ9ctlDd6IbF2KJRqpjR9+gS151tXyJ/LD6xJRrS4nonY+5yDuLu6yEuU3rTvcOMtSnshcn7rp8Y8DmEYvtxZ4SzaW+3wA2vqfL54TD5DPZiW1XCFx2o7N64wx/evBXOtdcsFa8cUhjLGavdQ0fVhjVUUstjRJIUaK+roP6tLprJIk2r35XQmsqs0rw41cWhF8agn05jZRpS8nc5E99ph5VhicxogicSJn/Pg5CoeU6ZQc+6S4jv5Sd5YYpZGFmqqrY8MFC+381tyHgXukp8yVkAK47B1YsjUxLEhUX3TWbHS8U3n37KE2rDel7quyHURhizdnNqredG2Q9TJrazfakpXp68k/oo0yZyCltFu9reXZCG99EzWrm+0Ra90sc5TLPHYK0z1YK69lEFtAaC7+VA5V0JaMBHvyWQ6i+sEUmrJrJClqTNETA1IOSpExRm0rZ0yVE9grzuTKXruBEHpID17grYa1kwq2gj40G5mBKvJg+YoxSih4kfkpAmupI5QO5HudeblnYEXmlizKZRRrIzxGe16zAHz8H8uNm50+6EypeqbjnfXb650Pt07DsMzsKlTlrP8oQSl7TTVbzL8nEpfJn5Bk64qaXC967i75cEUr616pXHqajRZiNsEWafizjdV3k12Q6rklFLU+o/P9sgPrRuWnPGY3NPBsIYr5D3SyCF6d3Vpzmt9kjYFQsUoiDL2LhnSWDmZKvBjkkLNFmEpWY/3rDEhJW8DTkceFzfxGNxERpMFWps7TTyEmi1t1aOeXM/rcpdfrvketFmCu+pQnUy7m86lwB8kFlMqQ0oMw3V2Vnam43xZQk2aIafyuwWmfi7aUI3HqjK2T5PhDBI3g6QDxT4kUalCzuuNnSfVM+lWni8dqTf7yJ2mn2t76ahUFXeas5IyVjev0vqap2W6r+w7N/j9M3oPCUOllpK5lQEpF4XEaWdJO+TsNlNNtHCylDaxWrlS9DC0zUgfS8tpvQbrC+Zvfqspek7LbKI5zUH/YL3le80b2zwqNiwmJbyiOplilPvXzN4QeWHSeJxscuGazMlOcZs60ZzlD/U+4HwDQFUM9imqdwNXhTxc4YF0+x2G8qSeBR642JUddON7JSqFx2uJlGJ2FpP+sMGDjtbjIPtfeHoy4svjo++2V98JPL+1oVxc+eKJQRvShlBocqTx82oUYSwO/VN1cKnvn8MaKx1H0b9TLNRUT6xtSc+//fBLMy2Anf8jjil9s83J0Qquu84Opo9TYsvb06tWwMqm3eBqzaFLygnGRafut5wbS8ySq5k0A/uvFCqizdfskjpZte+0QsrtXT05j29XHMzJ6FYpr4XRc6qE7trtDtLcXIRVrI45BjIRT9XBxIRaSO++eqSDPFJOlxBjpOa2D9vFfkgjK9bJMorqmazRllB7v5wulrYXcbck0INZ2tfCmVcVO1G1lItu2Z5EkeItCKXPc0QVx6s6S2fyn4rTlpjsoXRXZaopRw5n9YA4TNIEa8weavhikFAzzomh3x5QebDb6nhy4XPpp50neYQffmPoIlDFMHJAKqPYawzJhaMMmhcmlURqryujnRIWt6kTjfzofarm0uXg41/5i5kBGYsqRcFrvcVO4gHvG4mZqepZIAKKm+fUf6NlebGd0mSOr067nK2pFJIBz/Mb/LmzV1tLN1dWP92NRHnOeGLlHtKGKMb0QQ6aY7cxwJ+mu2nbN2EllishK/yIh9Ms1JzRz8O1BbfjH64k1By1bDeAJYZIcsU0R5xkkZ7eLIS0mk62qFsWEXxWGD3y62QpeWOJWRqOVx5XJ4camXpBTy6c0QHob1QcHveUS87JFCC6YR2PRw1CTRtM+p7sR4nes82Gas83sjbs4OiOu9cDjzfezDX0aesVnR3+K12vU0ms62pA09lMXAlEWxXx2IrrPFP9kCOqUrp5TksPaNJEcv1PzWaz5reFoTgekksXVWfplFGPrEUTesIUnaf0UDRnjpY88A4CxkvEGVKCNZm0zi79VTcmZKgVJrfVJGOui9GKp/jhKB417To1DFOMQjZVui0vTMq8atwckzmFKm5TJ5oz/aFUjhm4J5ur6Vn8UCtd60wzUA6kxBoUpfloBqrmFl/kqx40HoPmJt19xwjVKKcl73SXYT+bLoF88bj3hDxrMGMyjAkqSx+4Rcox9Om85pk4lEctu1ZEIQsdTbVQs5TW4frFWIuc4s2KE5BqNKB3kQDXu5zQwFdAMy3RiS0lD9zKW1mV6mW3gJEWMfkdr1DLlaXRhVpspNKwNaWMH+gknButkymoLbAY+ozzpN9ledTEmoN7Xxq8oFESanMd2zkZpe8UzbXWD/bp4+7udHsnnBlhsZ8dJ4Q8NRntpppS5oz3qWn7dmMq5ZLd2miw7MrW3/S6FqsX0cuSuPp90wkMBzXLxx0wkqnWJkw0WMa7izEls8JUppQ5KkrF6ZRLtCM7LNlbeWvPZMneMEVJTCJGao8nAFmClQrruAkjnNIm2GSia3SU32rDZwW5Mef9lXeOmsSnXrGi10jlsLEa+YPVptmlT6qBvXZEjzXzm6GBGekbx1PrlqG4Td14zvKXKqBVfD3UyF/1sN43aGBX6p46ab0bc47UeCg/C3qFTcSZg6jxUGkEpGo5bjn12kP1Uz8Oyu+b3W4oJTQsnjg0Kbj9MMZC8Dfoguvdowe8+BuLCWw+Ip9drxJd75rdKFRorYTS9sKVSGJVxE7F0nnOafsHN23tdWeZgn3dOhaTOzVJZ88KNVSoSWPqln3CQi0tS1owWUWLHcpdhn+ie+YYMnvZyCVmNiWR+DlassgQRMmmR3vp4i2LxFvMfLEyT/3PsoSaWoWd/b5LZHgO/vXV2wM+KvX9RsvM2JUXWWcZmsNXrXg3ThHnIv2QGpjcniOaRuMoD9Xx2F2serPnRQM0X543v1B9RlR12ZnEc+p2ZTmCuSSeA7cbSHoLlIuFZ0mT4pnv7KmyWCrKlC7p9lPdIes8mvssO4nIqJP16qJ4sj6jKUd8ST0mJFjJ5ek0XyZJPVHPnmluXQxHsZransOWuXZUxY5lgfCH6WuO06JUXh/TOimXYTRTot+9HlijxvlgUkoS0pHRbgZOY1M3prP8JdmOhJo8XHrNtehaft94uBLoUV3ZKtaZW6anKupF02remD2grPYbM4pHOfOipPXeHJyc2dlHfPaOG5vKT7vknFva/lsY5ownDk2KltVw8X49vHo3DPVj/tY67bOY/KfeoNKjGtpYJeMb6cxkPGppykA1FubRkmKIGsuYny76Ru80ppzSUYXINb9P6X2rvcviJyGdli5FYMXki94DVsXPSnSdph+btp6Sk8rk5CFFy0oG7BvLy1KqDHLIxOFbQ5kUbriM1mHS55npLTZMmqomSPEpeyyv3WBOGHOnHBRkFYtl2n+WJtRkLMkZzkthod62HT8WBaMduY72Pu+0aB81vUDs5dGGTA0JljYPerRvkds+imci1iDYiYqisoWXuSqPYcxTxftIOV2siKqFtcP+wWrL1yvzZSFY0N7ph+FJb+fDphqoffX2/nH3WhDNrVb1LW3AyF7OpoTa9W7Y4y2+HugtNywVZXKu4rQlphJq7e5Jj+SF3vhKVmIufkJf7+wfbPBmV+SkXPrimLoNmZ6lZr5f677cXZl35gmZFPlAOnK3EypkNdVj2cs13JQK/BptHzVOQCwbLG/3aHPjLm3gR2Nbzc4jWr/Yu98O7F2+SH/TYuQhMEM9lKalTEpZTmfTlAjP6BQXMLh2n+oeFd/zgnd452eKX3Vkqwf0SEb69eUOc2utHvCiz94u7YU217DX3spmbLSfnAT5ZpW3Eb5i7TMsW2CoCam9rztN3/fV3jd0SSd3vP1+tNEaVenj/e2bC76/0Pla5hXkjCfGK73hon3UDrrrv+cV6L9Z55lw/eOvZfGEt3Br94gbJCcucdI7AiC6PrSxioIWOhq7UJP+kqfupf6XaJdTRIxdUmmRdVRGpSkZoc/TPsP2dF8rBg6ZQV8HkzxEkWlnj5WK1k9Rfkyc6tGl2/lGfRcHiMJL9Pou1V7TSZ3zCF3i+wrRKnQduaUFoyR05HrcJDVLVgxuljQNPUtDrnIcsreclWcqa7ThnLkzdiBkNDp9kWmbrOqzxoPCyTITDYTrTNxGlvMgfmk081kZmP7D0oSa2tjCeXVOwcHuBHtXCwljPQJkPjauW1uSFYbHR8zgVEpautd0dJKE622969N6MbPlIfVOtCOUf2nDeV0+3u1cpI3mgwtL69YnB/oHW9cu0R7swXzQurl91D/eW1tqnvN931+wvi6w998b3lxj5Wt774I92q6qYW31STr1cPO9pj/n+/MLK/etr6I/ut2Y8xo3SRCafxKntdkVXTn8bKnpe/65YMHeSv6Ed8anfd6D4LWl9W96/R+7K5Rt329EPeXxw05r3vfmnJyb5PSBzFhyx3CLWE3iOdtPSFGcjubWmR70lz9H0Wr4/jn5YMNe78du5/JC9J2J+H73uWCG329cebVxZcAmDqe06aAine4a1xb6csC5IHhjscN73kYxPt1cog9g6O92mAvHexvLrcY817HGwuKtrX1rNqaEOn60QR8SOOcH80HjjcXO5/skju1//f0t+goIBQgurWz/0Dd10r9sPY8nRzsfLVEO5xvNC83GpaXVz/d4j10dV854dHD5K9PvYg1X1CdKd/LAuEv4t/zndkzilNXrpdw0whyNVeyOEX+OXaiNmL/yg5Mu0T13+akhBRAok0B5Qi2U/Q7cxitZlOODnb1YF5gMlOdMuoiP3ckjLwPcG7Hg+JlNQDapOm1LKA68tLes7JSHXsG3PociQoBsAvkaruz71RXWdhneh1yN1dAUBgWovVAjr0wG/UHccA0EppFAiUKNN+Bwd60skQDPj3GGKVMTk801eEJ06nWczE1AdgBxthvNfa8OKGrPHvbVV/AXBCZFgFd2D/bND82arL2wJyRYt+RsrKw7Rj6suVDjQbFhToKRoeIGEJgQskRm8QAACLFJREFUgTKFmtpB6rROlzxkXnZpEg1/12VI8JPdzvyw5fdDosBlRYDn0ukZhEWo8KwJ91NCRaLBPSBwtgR4gc5pGi6ep+F+R8vkMH9jZW4Z/aDGQk3NwIA7bfRagzumlUC5Qk0+au5+lKkMEjTxeW5x83muuGU6s/19wFy3IVAKAf6WYlGlRQtah35tIiVRnAKBsgnw6s7CDRevLtKLHuJZHamxit+c+3cthVo0SVbP08/NCwFBYJoJlCzUaF487X/23lZ8vvDZQeHV+/ano4dHfbjW8uaWthLTnIffiRAxAse0QLJ5a89e3xALkv6TNwfRuzakB8FZEJgYgcINl9yYsWdHgcaqGIFaCrViqHAXCEw9gdKFGq2b31+/5Ac3nLWKZwbmh42W32jfH1Vz9ffXWr7aD+nM8lLTiHrddsMfuEV7Akx/Z2Xeb63JFg2JqzgBAtNAoEjD1d+5GfiX1tNrdsHGqggLCLUi1HAPCEwngXEIteksOXIFAiAAAhUlAKFWUcOiWLUkAKFWS7Oj0CAAAlUmAKFWZeuibHUjAKFWN4ujvCAAApUnAKFWeROjgDUiAKFWI2OjqCAAAvUgAKFWDzujlPUgAKFWDzujlCAAAjUiAKFWI2OjqJUnAKFWeROjgCAAAnUjAKFWN4ujvFUmAKFWZeuibCAAArUkAKFWS7Oj0BUlAKFWUcOiWCAAAvUlAKFWX9uj5NUjAKFWPZuiRCAAAjUnMGahxl/t9fjfxfXDDPbd6xLC87yyP/HEH2WX1Ap/mj36IJV3ms++ZsDAaRAYgQCE2giwEBQEQAAEZoHAmIUaIxFlky3UOJBIqLKFGif1oE1SrbBQ4zgO1xY8D0KNWeC/yRGAUJsce6QMAiAAAqUQmIRQC1mEDRFq4nuDUCvF6oi0qgQg1KpqWZQLBECgtgQg1MIQHrXaVv/KFRxCrXImRYFAAATqTmCyQs2ashafjpbhURNRpeewpc0Js+NMn+Umw5QqjuvdUIZi40OfTjztB/GKYk2k4xFPzlhafuI34jcIlEcAQq08togZBEAABCZCYIJCrd2+6CkBpOTXwvr3BkKKUIvPA0vxhMVmtkkkdrShVmkyqEoBFq63aX6ZI9QkHnVjPN0wVCpNjd5S4PZ1mugGoWbsh4OJEIBQmwh2JAoCIAAC5RGYnFDztEqTwsVVV1KopcxsY8EU6TBRVI73K+4tiym5MAwlIUeoJZSZm5mUxRASLYRaeRUVMeciAKGWCxMCgQAIgMDsEJigUIstFIjpMFcbhWomWdxl5Qw4Jm4hM7gn47qNQ/CCTcujJrdE+i/ULjTb/xfLifjYYidnpxogpxUhAKFWEUOiGCAAAiCgCUyZUItmqrkCK1RDlnEl5AivpLeMSul43eJ+O8YQP5kSj+2rS/jbKJLUkxoy/oLAmAhAqI0JNJIBARAAgXERmJxQi2/PEZNH6ULNGdYMQ7UOwJor5sWjVfPJBjjDEqs+JSd6wYL1VyKxRZsxE4SaQYGDCRKAUJsgfCQNAiAAAmUQmJxQi5xnUq5cQm18HrWE4DP0UzVZ6klzCw5AYDwEINTGwxmpgAAIgMDYCEyNUIvP0I971MTvFRdqJc5Ri02hsyziJKrOY46aBQiHEyMAoTYx9EgYBEAABMohMEGh5q6RjE8USwi1tO8ZiDwy46Epg5Jx/Rfz2xFUicRaTKAmnJlo4+TjcZolC06JYnmLR4LfIFACAQi1EqAiShAAARCYJIFJCDW1AqDdNhuPiUrz7IWWoqjsM4kJ+3FtR6KLP9tpnGGi9lIi0Z97pwBp+6jJjZHwYglootXazpobl9hHTXLi7PoxSTsj7XoQgFCrh51RShAAgRoRGLNQUwJI7w2r1QxN2E/IoGgWf3RJrR7Ql+IjoWw45SFTYax7jVmVLqQQHEOUDTvCwfGI904SId+bqE/+La44eNQMbxyMjQCE2thQIyEQAAEQGA+BMQu18RQKqYBATQlAqNXU8Cg2CIBAdQlAqFXXtihZ/QhAqNXP5igxCIBAxQlAqFXcwCherQhAqNXK3CgsCIBAHQhAqNXByihjXQhAqNXF0ignCIBAbQhAqNXG1ChoDQhAqNXAyCgiCIBAvQhAqNXL3ihttQlAqFXbvigdCIBADQlAqNXQ6ChyZQlAqFXWtCgYCIBAXQlAqNXV8ih3FQlAqFXRqigTCIBArQlAqNXa/Ch8xQhAqFXMoCgOCIAACECooQ6AQHUIQKhVx5YoCQiAAAgwAQg1VAQQqA4BCLXq2BIlAQEQAAEmAKGGigAC1SEAoVYdW6IkIAACIMAEINRQEUCgOgQg1KpjS5QEBEAABJgAhBoqAghUhwCEWnVsiZKAAAiAABOAUENFAIHqEIBQq44tURIQAAEQYAIQaqgIIFAdAhBq1bElSgICIAACTABCDRUBBKpDAEKtOrZESUAABECACUCooSKAQHUIQKhVx5YoCQiAAAgwAQg1VAQQqA4BCLXq2BIlAQEQAAEmAKGGigAC1SEAoVYdW6IkIAACIMAEINRQEUCgOgQg1KpjS5QEBEAABJgAhBoqAghUhwCEWnVsiZKAAAiAABOAUENFAIHqEIBQq44tURIQAAEQYAIQaqgIIFAdAhBq1bElSgICIAACTABCDRUBBKpDAEKtOrZESUAABECACUCooSKAQHUIQKhVx5YoCQiAAAgwAQg1VAQQqA4BCLXq2BIlAQEQAAEmAKGGigAC1SEAoVYdW6IkIAACIMAEINRQEUCgOgR+5n/VKQ9KAgIgAAK1JwChVvsqAAAgAAIgAAIgAALTSgBCbVotg3yBAAiAAAiAAAjUngCEWu2rAACAAAiAAAiAAAhMKwEItWm1DPIFAiAAAiAAAiBQewIQarWvAgAAAiAAAiAAAiAwrQQg1KbVMsgXCIAACIAACIBA7QlAqNW+CgAACIAACIAACIDAtBKAUJtWyyBfIAACIAACIAACtSfwn5lc7xfGsLEIAAAAAElFTkSuQmCC)\n",
        "\n",
        "\n"
      ],
      "metadata": {
        "id": "zSVJQbuV8PNf"
      }
    },
    {
      "cell_type": "markdown",
      "source": [
        "- Reasoning Tasks\n",
        "  - Intelligent Search\n",
        "  - Swarm Intelligence\n",
        "  - Intelligent Agents\n",
        "  - Expert Systems\n",
        "    - Knowledge Base (facts about a domain)\n",
        "    - Inference Engine (logic to draw conclusions)\n",
        "    - Languages for programming expert systems: Prolog, LISP, Experta (Python Library)\n",
        "\n",
        "\n",
        "\n",
        "- What is Machine Learning (ML)\n",
        "  - Machine learning (ML) is a subset of artificial intelligence (AI) where computers learn from data to make predictions or decisions without being explicitly programmed.\n",
        "\n",
        "  - Types of ML: Supervised, Unsupervised, Reinforcement"
      ],
      "metadata": {
        "id": "HxSlK4Y0Elo1"
      }
    },
    {
      "cell_type": "markdown",
      "source": [
        "4. **Lecture 25 (Neural Networks)**\n",
        "- What is a loss function?\n",
        "- What is backpropagation?\n",
        "- Simple calculations using perceptron.\n",
        "- XOR problem with single perceptron\n",
        "- Types of Neural Networks\n",
        "  - Know the peculiarities of each type and the type of data they best handle.\n",
        "\n",
        "- AI Ethics\n",
        "\n"
      ],
      "metadata": {
        "id": "JdKatDd_JX2_"
      }
    },
    {
      "cell_type": "code",
      "source": [],
      "metadata": {
        "id": "d4w1ycrVJW7K"
      },
      "execution_count": null,
      "outputs": []
    },
    {
      "cell_type": "markdown",
      "source": [
        "Recommended Python Book for a beginner.\n",
        "\n",
        "* https://www.brianheinold.net/python/A_Practical_Introduction_to_Python_Programming_Heinold.pdf"
      ],
      "metadata": {
        "id": "_8KAd-kF7std"
      }
    }
  ]
}