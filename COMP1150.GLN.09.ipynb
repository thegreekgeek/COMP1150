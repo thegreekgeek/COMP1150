{
  "nbformat": 4,
  "nbformat_minor": 0,
  "metadata": {
    "colab": {
      "provenance": [],
      "include_colab_link": true
    },
    "kernelspec": {
      "name": "python3",
      "display_name": "Python 3"
    },
    "language_info": {
      "name": "python"
    }
  },
  "cells": [
    {
      "cell_type": "markdown",
      "metadata": {
        "id": "view-in-github",
        "colab_type": "text"
      },
      "source": [
        "<a href=\"https://colab.research.google.com/github/thegreekgeek/COMP1150/blob/main/COMP1150.GLN.09.ipynb\" target=\"_parent\"><img src=\"https://colab.research.google.com/assets/colab-badge.svg\" alt=\"Open In Colab\"/></a>"
      ]
    },
    {
      "cell_type": "markdown",
      "source": [
        "## **INTRODUCTION TO PROGRAMMING WITH PYTHON**\n",
        "\n",
        "Programming is basically giving your computer commands to perform tasks for you. While this is not the most technical definition, it is a pretty accurate one. More formally, programming refers to the process of writing instructions that computers can understand. These instructions are written in a programming language, which act as a bridge between the human thought and computer operations.\n",
        "\n",
        "Programming Languages are formal languages designed for communicating instructions to computers. Examples of programming languages includes Java, C++, JavaScript, Python and many more. In this class, we will how to write simple programs using Python.\n",
        "\n",
        "Programming allows you to:\n",
        "\n",
        "* Automate tasks to save time.\n",
        "* Create software, from simple scripts to complex applications.\n",
        "* Solve problems by breaking them down into manageable steps.\n",
        "\n",
        "At the core of programming are algorithms—step-by-step procedures for solving problems and processing data. Writing efficient algorithms is like crafting the perfect recipe in a cooking competition: every ingredient and step matters.\n",
        "\n",
        "<br>\n",
        "\n",
        "**Formal Language vs Natural Language**\n",
        "\n",
        "Just like following a precise recipe in cooking, communicating with computers requires structured, unambiguous languages designed for giving clear instructions.\n",
        "\n",
        "**What is a formal language?**\n",
        "A formal language is a set of strings of symbols from a predefined alphabet, governed by specific syntactical rules, used to represent information or instructions in a structured and unambiguous way.\n",
        "\n",
        "Formal languages are the foundation of computer programming. Python, which we will use in this course, is one example. Others include Java, C++, and JavaScript. Each of these languages has its own syntax—the set of rules that defines how we structure commands. If you break these rules, your program won’t run correctly, or at all.\n",
        "\n",
        "Consider the following comparison between natural languages and formal languages:\n",
        "\n",
        "| Feature               | Natural Languages (e.g., English)   | Formal Languages (e.g., Python)  |\n",
        "|-----------------------|-------------------------------------|----------------------------------|\n",
        "| **Ambiguity**          | Often ambiguous (e.g., \"run\" can mean many things) | No ambiguity; every statement has a clear, singular meaning |\n",
        "| **Context Sensitivity**| Relies heavily on context for understanding | Context-free; each instruction stands alone and must follow strict rules |\n",
        "| **Flexibility**        | Flexible; grammar rules can be broken or bent | Inflexible; every error in syntax results in failure |\n",
        "\n",
        "\n",
        "In a natural language like English, it’s possible to say things in many different ways and still be understood. You could say, \"Let's get going,\" \"We should start,\" or even \"It’s time to move,\" and the meaning is the same. A human listener understands the intent behind your words, even if your phrasing changes or isn’t grammatically perfect.\n",
        "\n",
        "With a formal language like Python, this isn’t possible. Computers cannot guess your intentions—they only understand the exact instructions you give them.  For example, look at these two Python statements:\n",
        "\n",
        "\n",
        "```python\n",
        "print(\"Welcome to COMP 1150!\")\n",
        "print(\"Welcome to cOMP 1150!\")\n",
        "```\n",
        "Though the two looks almost identical to a human, Python treats them differently. The first statement prints \"Welcome to COMP 1150!\" with capitalized 'C', while the second prints \"Welcome to cOMP 1150!\"  with lowercase 'C'. This precision is why programming requires a clear understanding of the formal language being used.\n",
        "\n",
        " **Syntax and Semantics**\n",
        "\n",
        " **Syntax**\n",
        "\n",
        " In formal languages, **syntax** refers to the rules for structuring commands—like grammar in English. For example, Python requires parentheses in the print statement:\n",
        "\n",
        " ```python\n",
        "print(\"Welcome to COMP 1150!\") # This is syntactically correct in Python\n",
        "print \"Welcome to cOMP 1150!\" # This is wrong and will cause error because of the missing parentheses.\n",
        "```\n",
        "**Semantics**\n",
        "\n",
        "Semantics refers to the meaning of those commands. Even with correct syntax, the program can still produce incorrect results if the logic is wrong. For instance, multiplying instead of adding two numbers would be a semantic error.\n",
        "\n",
        "```python\n",
        "# Syntax is correct, but logic is wrong\n",
        "temperature_in_fahrenheit = 64\n",
        "# Intent was to convert Fahrenheit to Celsius, but used the wrong formula\n",
        "temperature_in_celsius = (temperature_in_fahrenheit - 32) * 2  # Incorrect formula\n",
        "print(temperature_in_celsius)  # Output will be 64, not 17.8\n",
        "```\n"
      ],
      "metadata": {
        "id": "DmNbp9AQXuaK"
      }
    },
    {
      "cell_type": "markdown",
      "source": [
        "**THE PROGRAMMER'S MINDSET**\n",
        "\n",
        "Programming is more than just writing code. It is about cultivating a problem-solving mindset. Some important principle include:\n",
        "\n",
        "* **Precision**: Computers execute instructions exactly as written, making attention to detail important.\n",
        "* **Logical Thinking**: Breaking problems into smaller, structured steps to develop clear solutions.\n",
        "* **Efficiency**: Writing clean, optimized code ensures better performance and maintainability.\n",
        "* **Debugging**: Mistakes are inevitable; learning to systematically find and fix error is important.\n"
      ],
      "metadata": {
        "id": "xwu8gjjsAOLv"
      }
    },
    {
      "cell_type": "markdown",
      "source": [
        "\n",
        "**PYTHON**\n",
        "\n",
        " Python is a powerful yet easy-to-use programming language that was first released in 1991. Python allows you to quickly write small projects. It can also scale up nicely and may be used for mission-critical, commercial applications.\n",
        "\n",
        "* *Easy to Use*: Many popular languages Java, C++ , Javascript are considered high-level languages, meaning they are closer to human language than machine language (binary representation), which they truly are. But given its simple and clear rules, Python is even closer to English than other high-level languages.\n",
        "\n",
        "* Python is comparatively as powerful as most other modern high-level programming languages.\n",
        "\n",
        "* Python supports Object-Oriented Programming. Object-Oriented Programming embodies the intuitive method of representing information and actions in a program.\n",
        "\n",
        "* Python is platform-independent, meaning python programs on any operating system.\n",
        "\n",
        "\n",
        "**Understanding the Rules**\n",
        "\n",
        "To master programming, you need to respect the rules of the formal language. This requires:\n",
        "\n",
        "Precision: Every character in your code matters, from parentheses to quotation marks.\n",
        "Consistency: You must follow the language’s rules every time, with no room for creative interpretation.\n",
        "Clarity: The clearer and more logical your code is, the easier it will be to understand and debug later."
      ],
      "metadata": {
        "id": "bxjoOdl1_EQa"
      }
    },
    {
      "cell_type": "markdown",
      "source": [
        "**Your First Program**\n",
        "\n",
        "The simplest and easy to understand program for any beginner is to print a statement in any programming language.In Python, you use the `print()` ot accomplish this.\n",
        "\n",
        "* `print()` Function: It outputs the specified message or value to the console. It is capable of handling multiple arguments and display them as a string, separeated by spaces, and automatically adds newline after an output.\n",
        "\n",
        "Example:\n",
        "\n"
      ],
      "metadata": {
        "id": "yfIEz75vey-J"
      }
    },
    {
      "cell_type": "code",
      "source": [
        "print(\"Welcome to COMP 1150\")"
      ],
      "metadata": {
        "colab": {
          "base_uri": "https://localhost:8080/"
        },
        "id": "dW6nGW9OjwSs",
        "outputId": "45eacf83-2b25-4cc7-d1d9-62bd997d6888"
      },
      "execution_count": null,
      "outputs": [
        {
          "output_type": "stream",
          "name": "stdout",
          "text": [
            "Welcome to COMP 1150\n"
          ]
        }
      ]
    },
    {
      "cell_type": "markdown",
      "source": [
        "* The about statement print the string between quotation symbols. Without the quotation symbols, Python treats each of the words as undefined variables and commands, causing an error. The parentheses () indicate that we're calling the function and passing an argument into it.\n",
        "\n",
        "The quotation marks indicate a data type is a text.\n",
        " For example:\n",
        "\n",
        "```python\n",
        "print(1150) # Prints number 1150\n",
        "print(\"1150\") # Prints the text 1150, which you cannot perform numerical computation upon.\n",
        "```\n",
        "Both single quotes and double quotes can be used the same way in Python. For example:\n",
        "`print('Hello') ` and `print(\"Hello\")` both print `Hello`. That said, it is good practice to maintain consitency as a programmer.\n",
        "\n",
        "\n",
        " * We can also use the ',' to separate multiple values. For example:\n",
        "\n"
      ],
      "metadata": {
        "id": "xZVPXe8qksX6"
      }
    },
    {
      "cell_type": "code",
      "source": [
        "print(\"I am \", 17, \"years old\")"
      ],
      "metadata": {
        "colab": {
          "base_uri": "https://localhost:8080/"
        },
        "id": "rpdoYoADp8wP",
        "outputId": "ff5fe5cc-67a2-42c5-b3b7-e4aae21bdfc7"
      },
      "execution_count": null,
      "outputs": [
        {
          "output_type": "stream",
          "name": "stdout",
          "text": [
            "I am  17 years old\n"
          ]
        }
      ]
    },
    {
      "cell_type": "markdown",
      "source": [
        "*Pratice*\n",
        "\n",
        "Print any statement of your choice using the `print()` function."
      ],
      "metadata": {
        "id": "F66zOf35qgXi"
      }
    },
    {
      "cell_type": "code",
      "source": [],
      "metadata": {
        "id": "L1nPAfgzqzb0"
      },
      "execution_count": null,
      "outputs": []
    },
    {
      "cell_type": "markdown",
      "source": [
        "**VARIABLES**"
      ],
      "metadata": {
        "id": "B7mgGCo-lXQv"
      }
    },
    {
      "cell_type": "markdown",
      "source": [
        "A variable in Python is a name that refers to a value or data stored in memory. It allows you to store, modify and retrieve data in your program. For example:\n",
        "\n",
        "```python\n",
        "x = 5    # 'x' is a variable for storing 5'\n",
        "name = \"James\"  #''name is a variable for storing string \"James\"'\n",
        "age = 17 # 'age' is a variable for storing the 17.\n",
        "```\n",
        "\n",
        "Variable can store various data types like numbers, lists, strings, etc.\n",
        "\n",
        "**Rules for forming variables**\n",
        "\n",
        "There are just a couple of rules to follow when naming your variables.\n",
        "* Variable names can contain letters, numbers, and the underscore.\n",
        "* Variable names cannot contain spaces.\n",
        "* Variable names cannot start with a number.\n",
        "* Case matters—for instance, `age` and `Age` are different.\n",
        "* You cannot use Python’s reserved keywords (like `print`, `if`, or `while`) as variable names."
      ],
      "metadata": {
        "id": "_oPd-yRVsWyj"
      }
    },
    {
      "cell_type": "markdown",
      "source": [
        "**Assigning Values to Variables**\n",
        "\n",
        "In Python, assigning a value to a variable is done with the assignment operator `(=)`. This operator does not mean \"equals\" in the mathematical sense; instead, it means \"store the value on the right-hand side into the variable on the left-hand side.\"\n"
      ],
      "metadata": {
        "id": "8OTZ2YyavmjW"
      }
    },
    {
      "cell_type": "code",
      "source": [
        "instructor_name = \"James\"\n",
        "number = 1\n",
        "\n",
        "print(\"Instructor's Name:\", instructor_name)\n",
        "print(\"Number:\", 1)"
      ],
      "metadata": {
        "colab": {
          "base_uri": "https://localhost:8080/"
        },
        "id": "qKdLr72XxSrI",
        "outputId": "65f43576-9467-4173-8d1f-f5f7ac27a769"
      },
      "execution_count": null,
      "outputs": [
        {
          "output_type": "stream",
          "name": "stdout",
          "text": [
            "Instructor's Name: James\n",
            "Number: 1\n"
          ]
        }
      ]
    },
    {
      "cell_type": "markdown",
      "source": [
        "**Data Types in Python**\n",
        "\n",
        "A data type in programming defines the kind of value a variable can hold.  The examples of data types in Python include:\n",
        "\n",
        "**String** (`str`): Used to store sequences of characters (text) (e.g., words, sentences). Strings are always enclosed in either single or double quotes.\n",
        "\n",
        "```python\n",
        "course = \"COMP 1150\"\n",
        "```\n",
        "\n",
        "**Integer** (`int`): used to store whole numbers e.g., 5.\n",
        "\n",
        "```python\n",
        "age = 10\n",
        "```\n",
        "\n",
        "**Float** (`float`): used to store decimal numbers e.g., 3.14.\n",
        "\n",
        "```python\n",
        "pi = 3.142\n",
        "```\n",
        "\n",
        "**Boolean** `(bool)`: Used to store either True or False. Booleans are often used to track whether a condition is true or false.\n",
        "\n",
        "```python\n",
        "is_active = True\n",
        "```\n",
        "\n",
        "**List** (`list`): used for storing a collection of data e.g, `[1, 2, 5]`\n",
        "\n",
        "```python\n",
        "names = [\"James\", \"Jean\" , \"Trump\" ,  \"Obama\", \"Hillary\"]\n",
        "```\n"
      ],
      "metadata": {
        "id": "V8Q_F4kqxQQW"
      }
    },
    {
      "cell_type": "markdown",
      "source": [
        "**Practice Time**\n",
        "\n",
        "A variable to store the name of your favorite musician."
      ],
      "metadata": {
        "id": "2Bk4LZ1B3ON5"
      }
    },
    {
      "cell_type": "code",
      "source": [
        "musician_name = \"Alicia Keys\"\n",
        "print(musician_name)"
      ],
      "metadata": {
        "id": "7yX667ln4FNf",
        "colab": {
          "base_uri": "https://localhost:8080/"
        },
        "outputId": "90e2f304-8b1f-43ea-9fcc-8757bf7ac83e"
      },
      "execution_count": null,
      "outputs": [
        {
          "output_type": "stream",
          "name": "stdout",
          "text": [
            "Alicia Keys\n"
          ]
        }
      ]
    },
    {
      "cell_type": "markdown",
      "source": [
        "A variale to store the age of the musician"
      ],
      "metadata": {
        "id": "ewFZ6RZ34JpH"
      }
    },
    {
      "cell_type": "code",
      "source": [],
      "metadata": {
        "id": "1eQ-gV694Qms"
      },
      "execution_count": null,
      "outputs": []
    },
    {
      "cell_type": "markdown",
      "source": [
        "A Boolean variable to checks if the musician is on tour in February."
      ],
      "metadata": {
        "id": "zAP6d6Dw4TG3"
      }
    },
    {
      "cell_type": "code",
      "source": [],
      "metadata": {
        "id": "tUG5sa5T4mDJ"
      },
      "execution_count": null,
      "outputs": []
    },
    {
      "cell_type": "markdown",
      "source": [
        "A list variable that has a list of his albums."
      ],
      "metadata": {
        "id": "GP6vAhAK4mf5"
      }
    },
    {
      "cell_type": "code",
      "source": [],
      "metadata": {
        "id": "rFRgdBd95Ftl"
      },
      "execution_count": null,
      "outputs": []
    },
    {
      "cell_type": "markdown",
      "source": [
        "A float variable stores the ticket fee for a show."
      ],
      "metadata": {
        "id": "eHI4UEL45KMS"
      }
    },
    {
      "cell_type": "code",
      "source": [],
      "metadata": {
        "id": "9VXYJe-R5YlP"
      },
      "execution_count": null,
      "outputs": []
    },
    {
      "cell_type": "markdown",
      "source": [
        "**More Fun with** `print()` **– Parameters, Arguments, and F-strings**\n",
        "\n",
        "Here, we’ll explore different ways to control and format the output of your Python programs.\n",
        "\n",
        "The `print()` function in Python lets us pass multiple arguments, separated by commas, to be printed. These arguments can be strings, variables, or a mix of both. Each one is displayed in order, with a space separating them by default.\n",
        "\n",
        "In Python, an argument is a value or expression provided to a function when calling it. These values are used by the function to perform its operation.\n",
        "\n",
        "Example:"
      ],
      "metadata": {
        "id": "zy5F3RV_7UF2"
      }
    },
    {
      "cell_type": "code",
      "source": [
        "course_name = \"COMP 1150\"\n",
        "instructor_name = \"Don\"\n",
        "print(\"I am enrolled\", course_name, \"- taught by\", instructor_name)"
      ],
      "metadata": {
        "colab": {
          "base_uri": "https://localhost:8080/"
        },
        "id": "v4f3p5vy9bME",
        "outputId": "4477d10f-0b0f-4bcd-fd59-9d67fd022903"
      },
      "execution_count": null,
      "outputs": [
        {
          "output_type": "stream",
          "name": "stdout",
          "text": [
            "I am enrolled COMP 1150 - taught by Don\n"
          ]
        }
      ]
    },
    {
      "cell_type": "markdown",
      "source": [
        "In the example above, \"I am enrolled\", course_name, \"- taught by\" and instructor_name are all arguments to the `print()` function."
      ],
      "metadata": {
        "id": "Z36znHI--A2w"
      }
    },
    {
      "cell_type": "markdown",
      "source": [
        "**Using the** `sep` **Parameter**\n",
        "\n",
        "The `sep` parameter in the `print()` function specifies the separator. By default, it is a space `(' ')`, but it can be changes to any string.\n",
        "\n",
        "Example:"
      ],
      "metadata": {
        "id": "dCx2G-z8-hek"
      }
    },
    {
      "cell_type": "code",
      "source": [
        "course_name = \"COMP 1150\"\n",
        "instructor_name = \"Don\"\n",
        "print(\"I am enrolled\", course_name, \"- taught by\", instructor_name, sep = \"*\")"
      ],
      "metadata": {
        "colab": {
          "base_uri": "https://localhost:8080/"
        },
        "id": "QprEXbq__tMs",
        "outputId": "1768709c-7061-4af4-f2c7-2c41272b7d08"
      },
      "execution_count": null,
      "outputs": [
        {
          "output_type": "stream",
          "name": "stdout",
          "text": [
            "I am enrolled*COMP 1150*- taught by*Don\n"
          ]
        }
      ]
    },
    {
      "cell_type": "markdown",
      "source": [
        "**Using the** `end` **Parameter**\n",
        "\n",
        "In Python, the `end` parameter in the `print()` function of the input instead of the default newline `('\\n')`.\n",
        "\n",
        "Example:\n"
      ],
      "metadata": {
        "id": "_6K6gwhsAFfZ"
      }
    },
    {
      "cell_type": "code",
      "source": [
        "print(\"Good\")\n",
        "print(\"luck!\")"
      ],
      "metadata": {
        "colab": {
          "base_uri": "https://localhost:8080/"
        },
        "id": "n81y6dYqD-l9",
        "outputId": "22b67ec0-f8e4-4653-ccbb-272a62f6705d"
      },
      "execution_count": null,
      "outputs": [
        {
          "output_type": "stream",
          "name": "stdout",
          "text": [
            "Good\n",
            "luck!\n"
          ]
        }
      ]
    },
    {
      "cell_type": "code",
      "source": [
        "print(\"Good\", end=\" \")\n",
        "print(\"luck!\")"
      ],
      "metadata": {
        "colab": {
          "base_uri": "https://localhost:8080/"
        },
        "id": "nPj2d8ZUBE89",
        "outputId": "09936a37-06e8-45f2-8e49-f305c310de5f"
      },
      "execution_count": null,
      "outputs": [
        {
          "output_type": "stream",
          "name": "stdout",
          "text": [
            "Good luck!\n"
          ]
        }
      ]
    },
    {
      "cell_type": "markdown",
      "source": [
        "**F-strings: Formatting Strings in Python**\n",
        "\n",
        "F-string formatting in Python allows embedding expressions inside string literals using `{}`. It is prefixed with f or F and provides a concise and readable way to format strings.\n",
        "\n",
        "Example:\n"
      ],
      "metadata": {
        "id": "hswwyrQMBLrR"
      }
    },
    {
      "cell_type": "code",
      "source": [
        "name = \"Mary\"\n",
        "age = 19\n",
        "print(f\"My name is {name} and I am {age} years old.\")"
      ],
      "metadata": {
        "colab": {
          "base_uri": "https://localhost:8080/"
        },
        "id": "Jk5cV5q7Feoc",
        "outputId": "370ed706-6167-4642-820a-00bbaa13ab2a"
      },
      "execution_count": null,
      "outputs": [
        {
          "output_type": "stream",
          "name": "stdout",
          "text": [
            "My name is Mary and I am 19 years old.\n"
          ]
        }
      ]
    },
    {
      "cell_type": "markdown",
      "source": [
        "Notice how the variables `name` and `age` are placed directly inside the string. Python automatically replaces the curly braces with the actual values of the variables when it prints the message. The f before the string lets Python know this is an f-string."
      ],
      "metadata": {
        "id": "xbYVpw-gFtuG"
      }
    },
    {
      "cell_type": "markdown",
      "source": [
        "*Formatting Numbers with F-strings*\n",
        "\n",
        "Numbers can also be formatted inside f-strings. For example, if you want to print a floating-point number with only two decimal places:"
      ],
      "metadata": {
        "id": "kMmb4XpQF2xr"
      }
    },
    {
      "cell_type": "code",
      "source": [
        "pi = 3.14159\n",
        "print(f\"The pie of a circle is calculated as {pi:.2f}\")"
      ],
      "metadata": {
        "colab": {
          "base_uri": "https://localhost:8080/"
        },
        "id": "coDinscWGaOT",
        "outputId": "9250d79f-172e-4476-c74f-481b34d84092"
      },
      "execution_count": null,
      "outputs": [
        {
          "output_type": "stream",
          "name": "stdout",
          "text": [
            "The pie of a circle is calculated as 3.14\n"
          ]
        }
      ]
    },
    {
      "cell_type": "markdown",
      "source": [
        "**Practice**\n",
        "\n",
        "1. Print the following sentence using variables and f-strings: My name is [name] and I am from the state of [state]."
      ],
      "metadata": {
        "id": "8-VboamiqVTf"
      }
    },
    {
      "cell_type": "code",
      "source": [],
      "metadata": {
        "id": "ep2ta0XCrJM0"
      },
      "execution_count": null,
      "outputs": []
    },
    {
      "cell_type": "markdown",
      "source": [
        "2. Use the sep and end parameters to print: Firstname-Lastname-City."
      ],
      "metadata": {
        "id": "rRW2kXPnrKJa"
      }
    },
    {
      "cell_type": "code",
      "source": [],
      "metadata": {
        "id": "cINFdmJ3ryB3"
      },
      "execution_count": null,
      "outputs": []
    },
    {
      "cell_type": "markdown",
      "source": [
        "3. Print the price of a medium-sized Domino Pizza in (a floating point number) with only two decimal places."
      ],
      "metadata": {
        "id": "pZm-tgFUsD0E"
      }
    },
    {
      "cell_type": "markdown",
      "source": [
        " **Getting Input From Keyboard**\n",
        "\n",
        "It is important for users to be able to get input from the keyboard. It allows users to interact dynamically with programs by pausing execution and waiting for input.\n",
        "\n",
        "The `input()` function in Python is used to get user input from the Keyboard.\n",
        "\n",
        "Example:"
      ],
      "metadata": {
        "id": "-HrYoBYqsTEQ"
      }
    },
    {
      "cell_type": "code",
      "source": [
        "name = input('Enter your name: ')\n",
        "print('Hello, ', name)\n"
      ],
      "metadata": {
        "colab": {
          "base_uri": "https://localhost:8080/"
        },
        "id": "ElAq0OdzulYp",
        "outputId": "43311914-5914-4436-d50a-db2288b5976c"
      },
      "execution_count": null,
      "outputs": [
        {
          "output_type": "stream",
          "name": "stdout",
          "text": [
            "Enter your name: John\n",
            "Hello,  John\n"
          ]
        }
      ]
    },
    {
      "cell_type": "markdown",
      "source": [
        "The basic structure is:\n",
        "\n",
        "```python\n",
        "variable name = input(message to user)\n",
        "\n",
        "```\n",
        "The above works for getting text from the user."
      ],
      "metadata": {
        "id": "oEKdz2uMuvwy"
      }
    },
    {
      "cell_type": "markdown",
      "source": [
        "If you to get numbers from the user to use in calculations,\n",
        "we need to do something extra.\n",
        "\n",
        "Example:\n"
      ],
      "metadata": {
        "id": "8hyYdHB0u-SZ"
      }
    },
    {
      "cell_type": "code",
      "source": [
        "num = eval(input('Enter a number: '))\n",
        "print('Your number squared:', num*num)"
      ],
      "metadata": {
        "colab": {
          "base_uri": "https://localhost:8080/"
        },
        "id": "9nCcDa8LvL3D",
        "outputId": "720126d5-831c-421f-90a1-679d855634d0"
      },
      "execution_count": null,
      "outputs": [
        {
          "output_type": "stream",
          "name": "stdout",
          "text": [
            "Enter a number: 10\n",
            "Your number squared: 100\n"
          ]
        }
      ]
    },
    {
      "cell_type": "markdown",
      "source": [
        "The `eval` function converts the text entered by the user into a number.\n",
        "\n",
        "Without the eval function, the code returns an error.\n",
        "\n",
        "Example:\n"
      ],
      "metadata": {
        "id": "KDohXmjBvXdJ"
      }
    },
    {
      "cell_type": "code",
      "source": [
        "num1 = input('Enter a number: ')\n",
        "print('Your number squared:', num1*num1)"
      ],
      "metadata": {
        "colab": {
          "base_uri": "https://localhost:8080/",
          "height": 176
        },
        "id": "IvJAZocQTQTl",
        "outputId": "a7f2f082-91e6-452c-edad-ac13f52ed81a"
      },
      "execution_count": null,
      "outputs": [
        {
          "name": "stdout",
          "output_type": "stream",
          "text": [
            "Enter a number: 10\n"
          ]
        },
        {
          "output_type": "error",
          "ename": "TypeError",
          "evalue": "can't multiply sequence by non-int of type 'str'",
          "traceback": [
            "\u001b[0;31m---------------------------------------------------------------------------\u001b[0m",
            "\u001b[0;31mTypeError\u001b[0m                                 Traceback (most recent call last)",
            "\u001b[0;32m<ipython-input-3-0ed83760fd16>\u001b[0m in \u001b[0;36m<cell line: 0>\u001b[0;34m()\u001b[0m\n\u001b[1;32m      1\u001b[0m \u001b[0mnum1\u001b[0m \u001b[0;34m=\u001b[0m \u001b[0minput\u001b[0m\u001b[0;34m(\u001b[0m\u001b[0;34m'Enter a number: '\u001b[0m\u001b[0;34m)\u001b[0m\u001b[0;34m\u001b[0m\u001b[0;34m\u001b[0m\u001b[0m\n\u001b[0;32m----> 2\u001b[0;31m \u001b[0mprint\u001b[0m\u001b[0;34m(\u001b[0m\u001b[0;34m'Your number squared:'\u001b[0m\u001b[0;34m,\u001b[0m \u001b[0mnum1\u001b[0m\u001b[0;34m*\u001b[0m\u001b[0mnum1\u001b[0m\u001b[0;34m)\u001b[0m\u001b[0;34m\u001b[0m\u001b[0;34m\u001b[0m\u001b[0m\n\u001b[0m",
            "\u001b[0;31mTypeError\u001b[0m: can't multiply sequence by non-int of type 'str'"
          ]
        }
      ]
    },
    {
      "cell_type": "markdown",
      "source": [],
      "metadata": {
        "id": "yU6ZJpJdSz7c"
      }
    },
    {
      "cell_type": "markdown",
      "source": [
        "**Practice**\n",
        "\n",
        "Here, we want to practice how to get input from user.\n",
        "\n",
        "1. Ask the user for thier favorite food"
      ],
      "metadata": {
        "id": "be6UUdMDvhL0"
      }
    },
    {
      "cell_type": "code",
      "source": [],
      "metadata": {
        "id": "PXmVex51v-NK"
      },
      "execution_count": null,
      "outputs": []
    },
    {
      "cell_type": "markdown",
      "source": [
        "2. Ask the user for the most boring movie they ever watched."
      ],
      "metadata": {
        "id": "mqXY2xxAwNao"
      }
    },
    {
      "cell_type": "code",
      "source": [],
      "metadata": {
        "id": "CmpxcxhSwhPO"
      },
      "execution_count": null,
      "outputs": []
    },
    {
      "cell_type": "markdown",
      "source": [
        "*Numeric*\n",
        "3. Ask the user for their age."
      ],
      "metadata": {
        "id": "x2iEypjZwhlL"
      }
    },
    {
      "cell_type": "code",
      "source": [],
      "metadata": {
        "id": "IydJZSZVSjfZ"
      },
      "execution_count": null,
      "outputs": []
    },
    {
      "cell_type": "markdown",
      "source": [
        "**TYPE CASTING**\n",
        "\n",
        "Python treats the input accepted by the  `input()` function as string. Without using the `eval()` function, Python does not allow performing arithmetic operations of the input accepted by the `input()` function.\n",
        "\n",
        "Type casting is one way to convert  the string input of the `input()` function to other data types that are supportive of arithmetic operations.\n",
        "\n",
        "**What is type casting?**\n",
        "\n",
        "Type casting (or type conversion) is the process of converting one data type into another. Python has built-in functions for both **implicit** and **explicit** type casting.\n",
        "\n",
        "* Implicit Type Casting\n",
        "\n",
        "```python\n",
        "x = 5       # integer\n",
        "y = 2.5     # float\n",
        "result = x + y  # Python automatically converts x to float\n",
        "print(result)   # Output: 7.5\n",
        "print(type(result))  # Output: <class 'float'>\n",
        "```\n",
        "\n",
        "* Explicit Type Casting\n",
        ">* int() – Converts to an integer\n",
        ">* float() – Converts to a float\n",
        ">* str() – Converts to a string\n",
        ">* bool() – Converts to a boolean\n",
        "\n",
        "> Examples:\n",
        "> ```python\n",
        "a = \"10\"   # String\n",
        "b = int(a) # Convert to integer\n",
        "c = float(a) # Convert to float\n",
        "print(b, type(b))   # Output: 10 <class 'int'>\n",
        "print(c, type(c))   # Output: 10.0 <class 'float'>\n",
        "```\n",
        "\n",
        "By casting the input to the `input()` function as integer, we are able to run the previous code without errors as follows:"
      ],
      "metadata": {
        "id": "fieO1MwQ69cq"
      }
    },
    {
      "cell_type": "code",
      "source": [
        "num1 = input('Enter a number: ')\n",
        "num1 = int(num1)  # Cast to integer\n",
        "print('Your number squared:', num1*num1)"
      ],
      "metadata": {
        "id": "3c4NcwHCxEhq",
        "colab": {
          "base_uri": "https://localhost:8080/"
        },
        "outputId": "4a170233-1815-4911-b368-bab15f7c180a"
      },
      "execution_count": null,
      "outputs": [
        {
          "output_type": "stream",
          "name": "stdout",
          "text": [
            "Enter a number: 10\n",
            "Your number squared: 100\n"
          ]
        }
      ]
    },
    {
      "cell_type": "markdown",
      "source": [
        "**Practice Casting**\n",
        "\n",
        "Learning to practice casting by yourself by doing the following:\n",
        "\n",
        "Ask a user for their age, add 1 to their age and print their next age as their current age + 1. For example, if the user enters 17 as their age, print your next is 18 (17 +  1)"
      ],
      "metadata": {
        "id": "FnMBabAAb93r"
      }
    },
    {
      "cell_type": "code",
      "source": [
        "# Practice"
      ],
      "metadata": {
        "id": "p8ejk5U8R0Za"
      },
      "execution_count": null,
      "outputs": []
    },
    {
      "cell_type": "markdown",
      "source": [
        "**Understanding Bugs and Debugging in Python**\n",
        "\n",
        "Sometimes, your code may not behave as expected due to errors called \"bugs.\" Let's explore what bugs are, the types you might encounter, and how to fix them.\n",
        "\n",
        "**What is a bug?**\n",
        "A bug is a programming error, flaw, or fault in the code that prevents it from working as expected. Bugs may potentially cause programs to crash, produce incorrect results, or behave unpredictably.\n",
        "\n",
        "**Types of Bugs**\n",
        "\n",
        "* Syntax Errors --- Mistake in code structure (e.g., missing colons, incorrect indentation).\n",
        "\n",
        "Example:\n",
        "```python\n",
        "print(\"Welcome to COMP 1150\"   #Syntax Error: missing parethesis\n",
        "```\n",
        "\n",
        "* Runtime Errors --- These occurs during program  execution, such as trying to divide by zero or attempting to assess a list index that does not exist.\n",
        "\n",
        "```python\n",
        "lst = [1, 3, 6, 7, 4]\n",
        "print(lst[9]) # IndexError: list index out of range\n",
        "```\n"
      ],
      "metadata": {
        "id": "K-7EiOIudK4T"
      }
    },
    {
      "cell_type": "markdown",
      "source": [
        "\n",
        "\n",
        "**Debugging Strategies**\n",
        "\n",
        "1. Read Error Message --- Python provides usefule error messages; read them carefully.\n",
        "\n",
        "2.  Use `print()` Statements --- Print variable values to check the program flow.\n",
        "\n",
        ">>```python\n",
        "def calculate_average(numbers):\n",
        "    sum = 0\n",
        "    for num in numbers:\n",
        "        sum += num\n",
        "    print(\"Sum is:\", sum)\n",
        "    print(\"Length of list:\", len(numbers))\n",
        "    average = sum / len(numbers)\n",
        "    return average\n",
        "\n",
        "\n",
        "\n",
        "3. Variable Inspection: After each significant operation, manually check if variables are what you expect them to be.\n",
        "\n",
        "4. Interactive Debugger in PyCharm or VS Code.\n",
        ">* These IDEs offer integrated debugging where you can set breakpoints, step through cope, inspect variables and much more."
      ],
      "metadata": {
        "id": "TudHzwxJqc8B"
      }
    },
    {
      "cell_type": "markdown",
      "source": [
        "**Escape Characters in Python**\n",
        "\n",
        "In Python, escape characters are used within string literals to indicate that the character following  the backlash (`\\`) should be interpreted differently. For instance, you might want to include a quotation mark inside a string that’s already enclosed in quotation marks, or add a new line in the middle of your string.\n",
        "\n",
        "\n",
        "### Common Escape Characters\n",
        "\n",
        "Here are the most frequently used escape characters in Python:\n",
        "\n",
        "| Escape Character | Meaning                         | Example                          |\n",
        "|------------------|---------------------------------|----------------------------------|\n",
        "| `\\'`             | Single quote                    | `'It\\'s time for Snake Club!'`   |\n",
        "| `\\\"`             | Double quote                    | `\"He said, \\\"Hello!\\\"\"`          |\n",
        "| `\\\\`             | Backslash                       | `'This is a backslash: \\\\ '`     |\n",
        "| `\\n`             | Newline                         | `'Line 1\\nLine 2'`               |\n",
        "| `\\t`             | Tab (horizontal tab)            | `'Name:\\tKai'`                   |\n",
        "\n",
        "\n",
        "Some examples are provided below:"
      ],
      "metadata": {
        "id": "EnQFlG4YsU_i"
      }
    },
    {
      "cell_type": "markdown",
      "source": [
        "**Single Quote**"
      ],
      "metadata": {
        "id": "RXHW2pSowuPY"
      }
    },
    {
      "cell_type": "code",
      "source": [
        "\n",
        "message = 'It\\'s time for the exam!'\n",
        "print(message)"
      ],
      "metadata": {
        "colab": {
          "base_uri": "https://localhost:8080/"
        },
        "id": "v9HsxDMmqb6R",
        "outputId": "b3517a61-d065-4c84-8da5-99eb68ab0014"
      },
      "execution_count": null,
      "outputs": [
        {
          "output_type": "stream",
          "name": "stdout",
          "text": [
            "It's time for the exam!\n"
          ]
        }
      ]
    },
    {
      "cell_type": "markdown",
      "source": [
        "**Double Quotes**"
      ],
      "metadata": {
        "id": "MmeNnUs7wnTl"
      }
    },
    {
      "cell_type": "code",
      "source": [
        "dialogue = \"Tom said, \\\"I will do well in COMP 1150!\\\"\"\n",
        "print(dialogue)"
      ],
      "metadata": {
        "colab": {
          "base_uri": "https://localhost:8080/"
        },
        "id": "h95J0LbuvD5c",
        "outputId": "a9fc4482-9c53-46d8-93be-93efd971894b"
      },
      "execution_count": null,
      "outputs": [
        {
          "output_type": "stream",
          "name": "stdout",
          "text": [
            "Tom said, \"I will do well in COMP 1150!\"\n"
          ]
        }
      ]
    },
    {
      "cell_type": "markdown",
      "source": [
        "**Newlines (\\n) and Tabs (\\t)**\n",
        "\n",
        "You can add new lines or tabs to your string using \\n and \\t. These are particularly useful for formatting your output.\n",
        "\n",
        "For example, let’s print a message that includes a new line:"
      ],
      "metadata": {
        "id": "1hqOEUTvwb3c"
      }
    },
    {
      "cell_type": "code",
      "source": [
        "message = \"I am James!\\nI am a student of RCTC.\"\n",
        "print(message)"
      ],
      "metadata": {
        "id": "ZY4uhMIN6F_-",
        "colab": {
          "base_uri": "https://localhost:8080/"
        },
        "outputId": "ad750776-517d-446c-a14f-073875b38988"
      },
      "execution_count": null,
      "outputs": [
        {
          "output_type": "stream",
          "name": "stdout",
          "text": [
            "I am James!\n",
            "I am a student of RCTC.\n"
          ]
        }
      ]
    },
    {
      "cell_type": "code",
      "source": [
        "#Tab\n",
        "info = \"Name:\\tJames\\nStatus:\\tStudent\\nAge:\\t20\"\n",
        "print(info)"
      ],
      "metadata": {
        "colab": {
          "base_uri": "https://localhost:8080/"
        },
        "id": "TJW3LPcXxZHa",
        "outputId": "23148ad7-bb48-451c-c65b-d5e30788cbc0"
      },
      "execution_count": null,
      "outputs": [
        {
          "output_type": "stream",
          "name": "stdout",
          "text": [
            "Name:\tJames\n",
            "Status:\tStudent\n",
            "Age:\t20\n"
          ]
        }
      ]
    },
    {
      "cell_type": "markdown",
      "source": [
        "In this case, the tab (\\t) ensures that each value is aligned properly under the label.\n",
        "\n",
        "**Using Backslashes (\\\\)**\n",
        "\n",
        "If you need to include an actual backslash in your string, you can escape it by using double backslashes (\\\\):"
      ],
      "metadata": {
        "id": "D5FGxN37x_ad"
      }
    },
    {
      "cell_type": "code",
      "source": [
        "path = \"C:\\\\Users\\\\James\\\\Documents\"\n",
        "print(path)"
      ],
      "metadata": {
        "colab": {
          "base_uri": "https://localhost:8080/"
        },
        "id": "WeooUpPXyM2S",
        "outputId": "d6a92606-e12f-43d1-fa2e-5f636f98ea96"
      },
      "execution_count": null,
      "outputs": [
        {
          "output_type": "stream",
          "name": "stdout",
          "text": [
            "C:\\Users\\James\\Documents\n"
          ]
        }
      ]
    },
    {
      "cell_type": "markdown",
      "source": [
        "Without the double backslash, Python would treat the single backslash as an escape character, which could cause errors."
      ],
      "metadata": {
        "id": "5r-0oxccyR3s"
      }
    },
    {
      "cell_type": "markdown",
      "source": [
        "**Practice Session: Escape Characters**\n",
        "\n",
        "Try using escape characters in the following exercises:\n",
        "\n",
        "\n",
        "Write a string that includes both single and double quotes:"
      ],
      "metadata": {
        "id": "tuCDOMVcyVzd"
      }
    },
    {
      "cell_type": "code",
      "source": [],
      "metadata": {
        "id": "Gcw3E54xy-Lf"
      },
      "execution_count": null,
      "outputs": []
    },
    {
      "cell_type": "markdown",
      "source": [
        "Write a string that includes both a newline and a tab."
      ],
      "metadata": {
        "id": "ffy7WIgNy_sQ"
      }
    },
    {
      "cell_type": "code",
      "source": [],
      "metadata": {
        "id": "g0-KYrIMzDpV"
      },
      "execution_count": null,
      "outputs": []
    },
    {
      "cell_type": "markdown",
      "source": [
        "Print a file path using backslashes:"
      ],
      "metadata": {
        "id": "OJRxiZtQzE9V"
      }
    },
    {
      "cell_type": "code",
      "source": [],
      "metadata": {
        "id": "EZZlgklUzTHE"
      },
      "execution_count": null,
      "outputs": []
    },
    {
      "cell_type": "markdown",
      "source": [
        "**Multiline Strings with Triple Quotes**\n",
        "\n",
        "Escape characters help insert newlines and special symbols, but for large blocks of text, Python offers triple quotes (`'''` or `\"\"\"`) to create multiline strings without extra escape characters."
      ],
      "metadata": {
        "id": "IlsJcsjvzeyV"
      }
    },
    {
      "cell_type": "code",
      "source": [
        "long_message = '''Welcome to COMP 1150!\n",
        "Remember to:\n",
        "    - Study hard.\n",
        "    - Do all quizzes and reading assigments.\n",
        "    - Attend classes'''\n",
        "print(long_message)"
      ],
      "metadata": {
        "colab": {
          "base_uri": "https://localhost:8080/"
        },
        "id": "1TWTKPhd0Rc_",
        "outputId": "c1bf48c7-f482-453d-8f2d-45d865de9831"
      },
      "execution_count": null,
      "outputs": [
        {
          "output_type": "stream",
          "name": "stdout",
          "text": [
            "Welcome to COMP 1150!\n",
            "Remember to:\n",
            "    - Study hard.\n",
            "    - Do all quizzes and reading assigments.\n",
            "    - Attend classes\n"
          ]
        }
      ]
    },
    {
      "cell_type": "markdown",
      "source": [
        "Using triple quotes, Python preserves the formatting inside the string, including new lines and indentation, without requiring escape characters like `\\n` or `\\t`.\n",
        "\n",
        "----\n",
        "\n",
        "Escape characters help control string formatting and display. By mastering them, you can handle quotes, new lines, and backslashes effectively, making your Python code cleaner and more flexible."
      ],
      "metadata": {
        "id": "_Jjkf1Z50p8q"
      }
    },
    {
      "cell_type": "markdown",
      "source": [
        "**COMMENTS**\n",
        "\n",
        "Comments are lines of text in your code that is ignored by the Python interpreter. They are used to explain code, make it more readable, or temporarily disable parts of the code without deleting them.\n",
        "\n",
        "Types of Comments in Python\n",
        "\n",
        "* Single-line comments\n",
        ">* Syntax: Use the hash `# `symbol at the beginning of the comment or after some code on the same line.\n",
        ">* Purpose: Best for short explanations or quick notes.\n",
        "\n",
        "```python\n",
        "#This is a single-line comment\n",
        "print(\"Hello, Kate!\") # This comment is at the end of the line.\n",
        "```\n",
        "\n",
        "* Multi-line comments\n",
        ">* Syntax: Use triple quotes (`\"\"\"` or `'''`). While these are technically string literal, they are often used as multi-line comments if not assigned to a variable.\n",
        "\n",
        ">* Purpose: Useful for longer description, documentation, or commenting multiple lines of code.\n",
        "\n",
        "```python\n",
        "\"\"\"This is a multi-line comment.\n",
        "It may span over multiple lines.\n",
        "\"\"\"\n",
        "```"
      ],
      "metadata": {
        "id": "5iZRycM-2ZPZ"
      }
    },
    {
      "cell_type": "markdown",
      "source": [
        "**Practice: Comments**\n",
        "\n",
        "Write three different python statements. Then, add a comment explaining each one."
      ],
      "metadata": {
        "id": "uAEUig5a5A9r"
      }
    },
    {
      "cell_type": "code",
      "source": [],
      "metadata": {
        "id": "Xv5aOEax5LDz"
      },
      "execution_count": null,
      "outputs": []
    },
    {
      "cell_type": "markdown",
      "source": [
        "**WORKING WITH STRINGS IN PYTHON**\n",
        "\n",
        "In Python, a string is a sequence of characters enclosed in quotes (`'` or `\"`). Strings can store text, be manipulated using various methods, and support operations like concatenation, slicing, and formatting, etc.\n",
        "\n",
        "Some common operations are listed below:\n",
        "\n",
        "* **Concatenation**  is the process of joining two or more strings together. In Python, you can concatenate strings using the + operator.\n"
      ],
      "metadata": {
        "id": "MXtBbvVC5VbP"
      }
    },
    {
      "cell_type": "code",
      "source": [
        "part1 = \"Hello\"\n",
        "part2 = \" Joan\"\n",
        "full_message = part1 + part2\n",
        "print(full_message)"
      ],
      "metadata": {
        "colab": {
          "base_uri": "https://localhost:8080/"
        },
        "id": "4Ht3S2Ub6hzi",
        "outputId": "be723159-a2f3-41a7-947b-0509b2fa7709"
      },
      "execution_count": null,
      "outputs": [
        {
          "output_type": "stream",
          "name": "stdout",
          "text": [
            "Hello Joan\n"
          ]
        }
      ]
    },
    {
      "cell_type": "markdown",
      "source": [],
      "metadata": {
        "id": "1G4srTPs6sI8"
      }
    },
    {
      "cell_type": "markdown",
      "source": [
        "* **String Repetition**\n",
        "\n",
        "You can repeat a string multiple times using the * operator:"
      ],
      "metadata": {
        "id": "u_6BOeg665GD"
      }
    },
    {
      "cell_type": "code",
      "source": [
        "greet = \"Hello! \" * 10\n",
        "print(greet)"
      ],
      "metadata": {
        "colab": {
          "base_uri": "https://localhost:8080/"
        },
        "id": "AjOL_lOq7Iyv",
        "outputId": "5ef69eab-c0b8-4d5b-dde7-74ff54d85920"
      },
      "execution_count": null,
      "outputs": [
        {
          "output_type": "stream",
          "name": "stdout",
          "text": [
            "Hello! Hello! Hello! Hello! Hello! Hello! Hello! Hello! Hello! Hello! \n"
          ]
        }
      ]
    },
    {
      "cell_type": "markdown",
      "source": [
        "* **Indexing**: Characters in a string can be assesed by their index (0-based)."
      ],
      "metadata": {
        "id": "-NDIQTaF8Sdm"
      }
    },
    {
      "cell_type": "code",
      "source": [
        "word = \"python\"\n",
        "print(word[0]) # 'p'\n",
        "print(word[-1]) # 'n' (last character)"
      ],
      "metadata": {
        "colab": {
          "base_uri": "https://localhost:8080/"
        },
        "id": "wu2CCJ1y8ptg",
        "outputId": "7f115eae-28e4-4002-9282-5fcb194bb3cd"
      },
      "execution_count": null,
      "outputs": [
        {
          "output_type": "stream",
          "name": "stdout",
          "text": [
            "p\n",
            "n\n"
          ]
        }
      ]
    },
    {
      "cell_type": "markdown",
      "source": [
        "* **Slicing**: Extract the portion of a string"
      ],
      "metadata": {
        "id": "PJsUnugd7iLP"
      }
    },
    {
      "cell_type": "code",
      "source": [
        "word = \"python\"\n",
        "print(word[1:3]) #'yt'\n",
        "print(word[:3])  # pyt' (from start to index 2)\n",
        "print(word[2:])  # 'thon' (from index 2 to end)"
      ],
      "metadata": {
        "colab": {
          "base_uri": "https://localhost:8080/"
        },
        "id": "WLMUEBW97gg-",
        "outputId": "922e8c0a-97c0-4e0f-d27d-851ec96b326f"
      },
      "execution_count": null,
      "outputs": [
        {
          "output_type": "stream",
          "name": "stdout",
          "text": [
            "yt\n",
            "pyt\n",
            "thon\n"
          ]
        }
      ]
    },
    {
      "cell_type": "markdown",
      "source": [
        "* **String length**: total length of a string.\n"
      ],
      "metadata": {
        "id": "28d6nGWR9E8e"
      }
    },
    {
      "cell_type": "code",
      "source": [
        "msg = \"Hello, World\"\n",
        "length = len(msg)   # len() is a built-in function\n",
        "print(f\"The message length is  {length}\")"
      ],
      "metadata": {
        "colab": {
          "base_uri": "https://localhost:8080/"
        },
        "id": "EXbvNhnW9TKw",
        "outputId": "2faf9558-f706-43a9-99c2-23739e4019d1"
      },
      "execution_count": null,
      "outputs": [
        {
          "output_type": "stream",
          "name": "stdout",
          "text": [
            "The message length is  12\n"
          ]
        }
      ]
    },
    {
      "cell_type": "markdown",
      "source": [
        "**String Methods**\n",
        "\n",
        "Python provides many built-in methods for working with strings. Here are a few useful ones:\n",
        "\n",
        "lower() and upper(): Convert the string to all lowercase or uppercase letters."
      ],
      "metadata": {
        "id": "Un5pubN8a9DA"
      }
    },
    {
      "cell_type": "code",
      "source": [
        "msg = \"Hello, James!\"\n",
        "print(msg.upper())\n",
        "print(msg.lower())"
      ],
      "metadata": {
        "colab": {
          "base_uri": "https://localhost:8080/"
        },
        "id": "tWJcv1Wqa8sp",
        "outputId": "7bf38767-1328-45d1-aefd-8076feedf726"
      },
      "execution_count": null,
      "outputs": [
        {
          "output_type": "stream",
          "name": "stdout",
          "text": [
            "HELLO, JAMES!\n",
            "hello, james!\n"
          ]
        }
      ]
    },
    {
      "cell_type": "markdown",
      "source": [
        "**Strip**\n",
        "\n",
        "`strip()`: Remove whitespace from the beginning and end of a string.\n",
        "\n"
      ],
      "metadata": {
        "id": "bQkdhJLqbWTV"
      }
    },
    {
      "cell_type": "code",
      "source": [
        "name = \"   James   \"\n",
        "print(name.strip())"
      ],
      "metadata": {
        "colab": {
          "base_uri": "https://localhost:8080/"
        },
        "id": "ZpN1_PCZa8aY",
        "outputId": "513fd7bd-7207-4123-b191-829b144baf2e"
      },
      "execution_count": null,
      "outputs": [
        {
          "output_type": "stream",
          "name": "stdout",
          "text": [
            "James\n"
          ]
        }
      ]
    },
    {
      "cell_type": "markdown",
      "source": [
        "`replace()`: Replace part of a string with another string."
      ],
      "metadata": {
        "id": "h0CahJv6btCS"
      }
    },
    {
      "cell_type": "code",
      "source": [
        "motto = \"Welcome to COMP 1150!\"\n",
        "new_motto = motto.replace(\"Welcome\", \"Bye\")\n",
        "print(new_motto)  #"
      ],
      "metadata": {
        "colab": {
          "base_uri": "https://localhost:8080/"
        },
        "id": "tAia8Xhz4yWY",
        "outputId": "30d75db5-5578-4906-b6d8-4b5f07bdf8e9"
      },
      "execution_count": null,
      "outputs": [
        {
          "output_type": "stream",
          "name": "stdout",
          "text": [
            "Bye to COMP 1150!\n"
          ]
        }
      ]
    },
    {
      "cell_type": "markdown",
      "source": [
        "`split()`: Split a string into a list of words or phrases based on a delimiter (default is a space).\n"
      ],
      "metadata": {
        "id": "UR695e4ecHxA"
      }
    },
    {
      "cell_type": "code",
      "source": [
        "greet = \"Hello, John! I am James\"\n",
        "words = greet.split()\n",
        "print(words)"
      ],
      "metadata": {
        "colab": {
          "base_uri": "https://localhost:8080/"
        },
        "id": "KZp7FqHbcJh8",
        "outputId": "24cfd7c0-3010-43ff-d95c-ae55baa88d52"
      },
      "execution_count": null,
      "outputs": [
        {
          "output_type": "stream",
          "name": "stdout",
          "text": [
            "['Hello,', 'John!', 'I', 'am', 'James']\n"
          ]
        }
      ]
    },
    {
      "cell_type": "code",
      "source": [
        "# Using `,` as delimiter\n",
        "greet = \"Hello, John! I am James\"\n",
        "words = greet.split(\",\")\n",
        "print(words)"
      ],
      "metadata": {
        "colab": {
          "base_uri": "https://localhost:8080/"
        },
        "id": "xcDWMNyEcnS4",
        "outputId": "d01cd375-4ef8-428b-8ad0-c3be7de37f7f"
      },
      "execution_count": null,
      "outputs": [
        {
          "output_type": "stream",
          "name": "stdout",
          "text": [
            "['Hello', ' John! I am James']\n"
          ]
        }
      ]
    },
    {
      "cell_type": "markdown",
      "source": [
        "`join()`: Join a list of strings into a single string."
      ],
      "metadata": {
        "id": "Hqsg39FkcxUL"
      }
    },
    {
      "cell_type": "code",
      "source": [
        "words = ['Hello,', 'John!', 'I', 'am', 'James']\n",
        "\n",
        "greet = \" \".join(words)\n",
        "print(greet)"
      ],
      "metadata": {
        "colab": {
          "base_uri": "https://localhost:8080/"
        },
        "id": "IpzYwPhkc82S",
        "outputId": "9992727c-c919-406c-d922-665ee9d76865"
      },
      "execution_count": null,
      "outputs": [
        {
          "output_type": "stream",
          "name": "stdout",
          "text": [
            "Hello, John! I am James\n"
          ]
        }
      ]
    },
    {
      "cell_type": "markdown",
      "source": [
        "## Table: String Operations\n",
        "\n",
        "| Method/Operation | Description | Example |\n",
        "|------------------|-------------|---------|\n",
        "| `str.upper()` | Converts string to uppercase | `\"python\".upper()` → `\"PYTHON\"` |\n",
        "| `str.lower()` | Converts string to lowercase | `\"COBRA\".lower()` → `\"cobra\"` |\n",
        "| `str.capitalize()` | Capitalizes first character | `\"slytherin\".capitalize()` → `\"Slytherin\"` |\n",
        "| `str.title()` | Capitalizes first letter of each word | `\"monty python\".title()` → `\"Monty Python\"` |\n",
        "| `str.strip()` | Removes leading and trailing whitespace | `\"  black mamba  \".strip()` → `\"black mamba\"` |\n",
        "| `str.replace(old, new)` | Replaces occurrences of a substring | `\"cobra kai\".replace(\"cobra\", \"python\")` → `\"python kai\"` |\n",
        "| `str.split(sep)` | Splits string into a list | `\"asp,viper,boa\".split(\",\")` → `[\"asp\", \"viper\", \"boa\"]` |\n",
        "| `str.join(iterable)` | Joins elements of an iterable | `\" and \".join([\"snakes\", \"ladders\"])` → `\"snakes and ladders\"` |\n",
        "| `len(str)` | Returns the length of the string | `len(\"anaconda\")` → `8` |\n",
        "| `str.find(sub)` | Finds first occurrence of a substring | `\"python\".find(\"th\")` → `2` |\n",
        "| `str.count(sub)` | Counts occurrences of a substring | `\"mississippi\".count(\"ss\")` → `2` |\n",
        "| `str.startswith(prefix)` | Checks if string starts with prefix | `\"venom\".startswith(\"ven\")` → `True` |\n",
        "| `str.endswith(suffix)` | Checks if string ends with suffix | `\"king cobra\".endswith(\"bra\")` → `True` |\n",
        "| `str[start:end]` | Slices the string | `\"basilisk\"[2:5]` → `\"sil\"` |\n",
        "| `in` operator | Checks if substring exists in string | `\"snake\" in \"snakes on a plane\"` → `True` |\n",
        "| `+` operator | Concatenates strings | `\"python\" + \" \" + \"3\"` → `\"python 3\"` |\n",
        "| `*` operator | Repeats string | `\"hiss \" * 3` → `\"hiss hiss hiss \"` |"
      ],
      "metadata": {
        "id": "7NsaQjFHdP_q"
      }
    },
    {
      "cell_type": "markdown",
      "source": [
        "**Practice**\n",
        "\n",
        "1. Create a variable called country and set it to the your desired  name of country. Now, print the name in all uppercase letters."
      ],
      "metadata": {
        "id": "tw60qlUGdnXH"
      }
    },
    {
      "cell_type": "code",
      "source": [],
      "metadata": {
        "id": "kONq5pW2doRm"
      },
      "execution_count": null,
      "outputs": []
    },
    {
      "cell_type": "markdown",
      "source": [
        "2. Create a string that repeats the country name you defined earlier five times and print it."
      ],
      "metadata": {
        "id": "x5qGOMnJfqwa"
      }
    },
    {
      "cell_type": "code",
      "source": [],
      "metadata": {
        "id": "lprglMzOf4mX"
      },
      "execution_count": null,
      "outputs": []
    },
    {
      "cell_type": "markdown",
      "source": [
        "3. Given the following list of words:\n",
        "\n",
        "lst = [\"I\", \"am\", \"a\", \"winner\"].\n",
        "\n",
        "Use the `.join()` function to for a sentence with the list of words."
      ],
      "metadata": {
        "id": "HLSKgDybe_VL"
      }
    },
    {
      "cell_type": "code",
      "source": [],
      "metadata": {
        "id": "N1oyfb5YdpLU"
      },
      "execution_count": null,
      "outputs": []
    },
    {
      "cell_type": "markdown",
      "source": [
        "**End of Lecture!!!**"
      ],
      "metadata": {
        "id": "eR5du-4ofjav"
      }
    },
    {
      "cell_type": "markdown",
      "source": [
        "**PYTHON INSTALLATION INSTRUCTIONS**\n",
        "\n",
        "To install Python on your system, follow these steps:\n",
        "\n",
        "1. Visit the Official Python Website: Go to python.org.\n",
        "2. Download Python: Choose the latest version for your operating system (Windows, macOS, Linux).\n",
        "\n",
        "3.  Click on the download link.\n",
        "Run the Installer:\n",
        ">* Windows: Run the .exe file. Ensure you check the box that says \"Add Python to PATH\" during installation.\n",
        ">* macOS: Open the .pkg file and follow the prompts.\n",
        ">* Linux: Most Linux distributions come with Python pre-installed, but for the latest version, you can use your package manager or download from Python's site. Common commands are:\n",
        "sudo apt-get install python3 for Ubuntu/Debian.\n",
        "sudo yum install python3 for CentOS/Fedora.\n",
        "4. Complete Installation: Follow the installation wizard's instructions. On Windows, you might need to confirm administrative permissions.\n",
        "5. Verify Installation:\n",
        "Open a command prompt or terminal and type python --version or python3 --version (for Linux/macOS where Python 2 might also be installed). You should see the version number of Python installed.\n",
        "\n",
        "This process gives you a basic Python setup. Remember, for development, you might also want to install pip, Python's package installer, which often comes bundled with Python but can be installed separately if needed.\n"
      ],
      "metadata": {
        "id": "Wk_t7e7k6G33"
      }
    }
  ]
}