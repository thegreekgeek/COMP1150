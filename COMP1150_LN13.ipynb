{
  "nbformat": 4,
  "nbformat_minor": 0,
  "metadata": {
    "colab": {
      "provenance": [],
      "include_colab_link": true
    },
    "kernelspec": {
      "name": "python3",
      "display_name": "Python 3"
    },
    "language_info": {
      "name": "python"
    }
  },
  "cells": [
    {
      "cell_type": "markdown",
      "metadata": {
        "id": "view-in-github",
        "colab_type": "text"
      },
      "source": [
        "<a href=\"https://colab.research.google.com/github/thegreekgeek/COMP1150/blob/main/COMP1150_LN13.ipynb\" target=\"_parent\"><img src=\"https://colab.research.google.com/assets/colab-badge.svg\" alt=\"Open In Colab\"/></a>"
      ]
    },
    {
      "cell_type": "markdown",
      "source": [
        "## Conditional Statements and More\n",
        "\n",
        "Up to this point, we have primarily written simple, sequential programs where each statement is executed once and in order. However, if we restrict ourselves to this style of programming, developing more complex applications capable of solving advanced problems would be challenging, if not impossible.\n",
        "\n",
        "\n",
        "Here, we look at look at conditional statements that allow us to do something when something else is true, and another thing if otherwise. In other words, condiitional statements help us to control the flow of a program by executing different code blocks depending on whether a condition is True or False.\n",
        "\n",
        "\n",
        "Conditional statements in Python, like every other programming language, rely heavily on Boolean Logic.\n",
        "\n",
        "Boolean Logic, named after the mathematician George Boole, is a system of algebra that deals with `True` and `False` values. They are helpful in determining how decisions are made in a program.\n",
        "\n",
        "<br>\n",
        "\n",
        "**Basic Boolean Operators**\n",
        "\n",
        "In programming, Boolean operators are used to combine and manipulate Boolean values (`True` or `False`). The operators help make decisions in a program by evaluating multiple conditions. The three fundamental Boolean operators in Python are:\n",
        "\n",
        "1. **AND (`and`)**: This operator returns `True` if both operands are true. Detailed information on how the `AND` operator works are provided below:\n",
        "\n",
        "| Value A | Value B | A AND B |\n",
        "| --- | --- | --- |\n",
        "| True | True | True |\n",
        "| True | False | False |\n",
        "| False | True | False |\n",
        "| False | False | False |\n",
        "\n",
        "       \n",
        "2. **OR (`or`)**:  This operator returns `True` if at least one of the operands is true. Detailed information on how the `OR` operator works are provided below:\n",
        "\n",
        "| Value A | Value B | A OR B |\n",
        "| --- | --- | --- |\n",
        "| True | True | True |\n",
        "| True | False | True |\n",
        "| False | True | True |\n",
        "| False | False | False |\n",
        "\n",
        "3. **NOT (`not`)**: Reverses the Boolean value (i.e. `True` becomes `False` and vice versa).\n",
        "\n",
        "| Value A | NOT A |\n",
        "| --- | --- |\n",
        "| True | False |\n",
        "| False | True |\n",
        "\n",
        "<br>\n",
        "\n",
        "**How Boolean Values are Represented in Programming**\n",
        "\n",
        "In programming, Boolean values are represented by the keywords `True` and `False`. These values help to control the flow of a program by making decisions based on conditions.\n",
        "\n",
        "In Python, Boolean values can be as follows:\n",
        "```python\n",
        "is_raining = True\n",
        "has_umbrella = False\n",
        "```\n",
        "\n",
        "Let's observe the results of using Boolean operators on the Boolean values earlier provided using the examples below:"
      ],
      "metadata": {
        "id": "cbkrh_evNhF1"
      }
    },
    {
      "cell_type": "code",
      "source": [
        "is_raining = True\n",
        "has_umbrella = False\n",
        "\n",
        "# AND operator\n",
        "print(\"AND: \", (is_raining and has_umbrella))\n",
        "\n",
        "\n",
        "# OR operator\n",
        "print(\"OR:  \", (is_raining or has_umbrella))\n",
        "\n",
        "# NOT operator\n",
        "\n",
        "print(\"NOT: \", not(is_raining))"
      ],
      "metadata": {
        "colab": {
          "base_uri": "https://localhost:8080/"
        },
        "id": "LqC4VlQx6fge",
        "outputId": "0dfca7bc-c9da-4ef0-d1f4-690a24d1bba4"
      },
      "execution_count": null,
      "outputs": [
        {
          "output_type": "stream",
          "name": "stdout",
          "text": [
            "AND:  False\n",
            "OR:   True\n",
            "NOT:  False\n"
          ]
        }
      ]
    },
    {
      "cell_type": "markdown",
      "source": [
        "**The `in` operator in Python**\n",
        "\n",
        "The `in` operator is used to check if a value exits within a sequence, such as a list, string or dictionary keys. It returns `True` if the value is found and `False` otherwise.\n",
        "\n",
        "1. **Using `in` with List**\n",
        "You can check if an item exists in a list:"
      ],
      "metadata": {
        "id": "rSpyqjyy-rSv"
      }
    },
    {
      "cell_type": "code",
      "source": [
        "fruits = [\"apple\", \"banana\", \"cherry\"]\n",
        "\n",
        "# Check if banana is in fruit list\n",
        "print((\"banana\" in fruits))\n"
      ],
      "metadata": {
        "colab": {
          "base_uri": "https://localhost:8080/"
        },
        "id": "QSHMF4bWJrqE",
        "outputId": "1162288d-cb3e-4720-b7f1-50b5aea25d02"
      },
      "execution_count": null,
      "outputs": [
        {
          "output_type": "stream",
          "name": "stdout",
          "text": [
            "True\n"
          ]
        }
      ]
    },
    {
      "cell_type": "code",
      "source": [
        "#Check if something else is in fruits list\n",
        "print((\"mango\" in fruits))"
      ],
      "metadata": {
        "colab": {
          "base_uri": "https://localhost:8080/"
        },
        "id": "orK_CkcbKU3q",
        "outputId": "22d3b209-9a13-4d65-8d40-023739733e33"
      },
      "execution_count": null,
      "outputs": [
        {
          "output_type": "stream",
          "name": "stdout",
          "text": [
            "False\n"
          ]
        }
      ]
    },
    {
      "cell_type": "markdown",
      "source": [
        "2. **Using `in` with Strings**\n",
        "You can check if a substring exists in a string:"
      ],
      "metadata": {
        "id": "EaySf5HlLFpQ"
      }
    },
    {
      "cell_type": "code",
      "source": [
        "sentence = \"I love RCTC\"\n",
        "\n",
        "# Check if love is in the sentence\n",
        "print((\"love\" in sentence))"
      ],
      "metadata": {
        "colab": {
          "base_uri": "https://localhost:8080/"
        },
        "id": "YhSSYxneLVxj",
        "outputId": "f4b852bc-b2b3-4c11-939a-227b3dc1e479"
      },
      "execution_count": null,
      "outputs": [
        {
          "output_type": "stream",
          "name": "stdout",
          "text": [
            "True\n"
          ]
        }
      ]
    },
    {
      "cell_type": "code",
      "source": [
        "# Check if like is in the sentence\n",
        "print((\"like\" in sentence))"
      ],
      "metadata": {
        "colab": {
          "base_uri": "https://localhost:8080/"
        },
        "id": "rPX1t9ZFL1WG",
        "outputId": "b231f5e0-cd4e-43d2-fd8e-7af0fda876e6"
      },
      "execution_count": null,
      "outputs": [
        {
          "output_type": "stream",
          "name": "stdout",
          "text": [
            "False\n"
          ]
        }
      ]
    },
    {
      "cell_type": "markdown",
      "source": [
        "**Conditional Operators**\n",
        "\n",
        "Conditional operators, also known as comparison operators, are used to compare values and return `True` or `False`.\n",
        "\n",
        "Examples of conditional operators are: `==, >, <, >=, <=`, and `!=`. Here are a few examples:\n",
        "\n",
        "| Expression | Description |\n",
        "| --- | --- |\n",
        "| `if x > 3:`  | if `x` is greater than `3`\n",
        " |\n",
        "| `if x >= 3:`  | if `x` is greater than or equal to `3` |\n",
        " |\n",
        " | `if x == 3: `  | if `x` is `3` |\n",
        " |\n",
        " | `if x != 3: `  | if `x` is not `3` |\n"
      ],
      "metadata": {
        "id": "OR2o-F-OQKY8"
      }
    },
    {
      "cell_type": "markdown",
      "source": [
        "**How conditional statements work in Programming**\n",
        "\n",
        "Conditional statements in programming allow us to execute certain pieces of code based on whether specific conditions are `True` or `False`.\n",
        "\n",
        "The basic structure of conditional statements include `if`, `elif` and `else`.\n",
        "\n",
        "**Using `if` statement**\n",
        "\n",
        "The `if` statement executes a block of code only if a given condition is True.\n",
        "\n",
        "```python\n",
        "age = 18\n",
        "\n",
        "if age >= 18:\n",
        "  print(\"You can vote!\")  # This line only gets executed if the condition in the previous line evaluates to True\n",
        "```\n",
        "\n",
        "<br>\n",
        "\n",
        "**Using `if-else` statement**\n",
        "\n",
        "The `else` statement provides an alternative block of code that runs when the `if` condition is `False`.\n",
        "\n",
        "```python\n",
        "\n",
        "age =  18\n",
        "\n",
        "if age >= 18:\n",
        "  print(\"You can vote!\")\n",
        "else:\n",
        "  print(\"You cannot vote! You need to wait\") # This only execute if the if statement evaluates to False.\n",
        "\n",
        "```"
      ],
      "metadata": {
        "id": "rZHXgHyNPiKT"
      }
    },
    {
      "cell_type": "code",
      "source": [
        "age =  18\n",
        "\n",
        "if age >= 18:\n",
        "  print(\"You can vote!\")\n",
        "else:\n",
        "  print(\"You cannot vote! You need to wait\") # This only execute if the if statement evaluates to False."
      ],
      "metadata": {
        "colab": {
          "base_uri": "https://localhost:8080/"
        },
        "id": "dQO1gkRxU1p_",
        "outputId": "a131c87c-8ba2-497d-8a37-25a2e8f4f10c"
      },
      "execution_count": null,
      "outputs": [
        {
          "output_type": "stream",
          "name": "stdout",
          "text": [
            "You can vote!\n"
          ]
        }
      ]
    },
    {
      "cell_type": "markdown",
      "source": [
        "**Using `if-elif-else` statement**\n",
        "\n",
        "The `elif` (short for `else if`) statement allows for multiple conditions to be checked in sequence.\n",
        "\n",
        "```python\n",
        "score = 80\n",
        "\n",
        "if  score >= 90:\n",
        "  print(\"Grade is A\")\n",
        "\n",
        "elif score >= 80\":\n",
        "  print(\"Grade is B\")\n",
        "\n",
        "elif score >= 70\":\n",
        "  print(\"Grade is C\")\n",
        "\n",
        "elif score >= 60\":\n",
        "  print(\"Grade is D\")\n",
        "\n",
        "else:\n",
        "  print(\"Grade is F\")\n",
        "\n",
        "\n",
        "\n"
      ],
      "metadata": {
        "id": "BhIA4lUlU513"
      }
    },
    {
      "cell_type": "markdown",
      "source": [
        "**Combining Boolean Operators**\n",
        "\n",
        "Boolean operators may be combined to create more complex expressions.\n",
        "\n",
        "**Example:** Checking if a student passes"
      ],
      "metadata": {
        "id": "hExBK4bLcQ27"
      }
    },
    {
      "cell_type": "code",
      "source": [
        "score = 50\n",
        "attendance = 85\n",
        "\n",
        "if score >= 60 and (attendance >=80 or not attendance < 50):\n",
        "  print(\"Hurray! You passed!\")\n",
        "\n",
        "else:\n",
        "  print(\"Sorry!\")"
      ],
      "metadata": {
        "colab": {
          "base_uri": "https://localhost:8080/"
        },
        "id": "945uqICFc2f6",
        "outputId": "b4ef4fc3-922f-40c5-a9d0-46a411d7d965"
      },
      "execution_count": null,
      "outputs": [
        {
          "output_type": "stream",
          "name": "stdout",
          "text": [
            "Sorry!\n"
          ]
        }
      ]
    },
    {
      "cell_type": "markdown",
      "source": [
        "In the above example, the student passes if:\n",
        "* their score is `>= 60` **`and`**\n",
        "* their attendance is `>=80` OR attendance is **`or`** attendance is **`not`** less than `50`.\n",
        "\n",
        "If any of these conditions"
      ],
      "metadata": {
        "id": "XG4NzS0IX6j3"
      }
    },
    {
      "cell_type": "markdown",
      "source": [
        "**Common Mistakes Programmers make with `if` statements**\n",
        "\n",
        "* **Mistake 1:**   The operator for equality consists of two equals signs. It is a really common error to\n",
        "forget one of the equals signs.\n",
        "\n",
        "\n",
        "  | Incorrect | Correct |\n",
        "  | --- | --- |\n",
        "  | `if x = 3:`  |`if x == 3:`\n",
        "\n",
        "\n",
        "\n",
        "<br>\n",
        "\n",
        "\n",
        "* **Mistake 2:**  A common mistake is to use and where or is needed or vice-versa. Consider the following if statements:\n",
        "\n",
        "```python\n",
        "if x > 1 and x < 100:  # Correct. If x is any value between 1 and 100, then the statement will be true.\n",
        "be true.\n",
        "if x > 1 or x < 100: # Bad. This statement is not what we want because for it to be true, either x has to be greater than 1 or x has to be less than 100.\n",
        "# But every number satisfies this. The lesson here is if your program is not\n",
        "#working correctly, check your and’s and or’s.\n",
        "```\n",
        "\n",
        "<br>\n",
        "\n",
        "\n",
        "* **Mistake 3:** Another very common mistake is to write something like below:\n",
        "```python\n",
        "if grade>=80 and <90: # Incorrect, it leads to syntax error.\n",
        "```\n",
        "We need to be explicit when writing conditional statements. The correct statement is\n",
        "\n",
        "```python\n",
        "if grade>=80 and grade<90:\n",
        "```\n",
        "That being said, there is a nice shortcut that does work in Python (though not in many other programming languages):\n",
        "\n",
        "```python\n",
        "if 80<=grade<90:\n",
        "```\n"
      ],
      "metadata": {
        "id": "fnHUKWVmVoNi"
      }
    },
    {
      "cell_type": "markdown",
      "source": [
        "**Using the IN Operator**\n",
        "\n",
        "We can also use the IN operator to check for membership in a list."
      ],
      "metadata": {
        "id": "8kMNKTCLEKDf"
      }
    },
    {
      "cell_type": "code",
      "source": [
        "fruits = ['Apple', 'Banana', 'Cherry', 'Dragon Fruit', \"Egg Plant\"]\n",
        "fruit = 'Cherry'\n",
        "\n",
        "if fruit in fruits:\n",
        "    print(f'{fruit} is in the fruit list.')\n",
        "else:\n",
        "    print(f'{fruit} is not in the fruit list.')"
      ],
      "metadata": {
        "colab": {
          "base_uri": "https://localhost:8080/"
        },
        "id": "kz9ufgxPEk6Z",
        "outputId": "178e1ff3-63fb-4e05-8ef1-ed141b24f7a2"
      },
      "execution_count": null,
      "outputs": [
        {
          "output_type": "stream",
          "name": "stdout",
          "text": [
            "Cherry is in the fruit list.\n"
          ]
        }
      ]
    },
    {
      "cell_type": "markdown",
      "source": [
        "**Nested `if` statements**\n",
        "\n",
        "Nesting occurs when one conditional statement is placed inside another. This allows us to check multiple levels of conditions before deciding which block of code to execute.\n",
        "\n",
        "1. **Basic Nested if Statement**"
      ],
      "metadata": {
        "id": "_AhRm-UGDORz"
      }
    },
    {
      "cell_type": "code",
      "source": [
        "age = 20\n",
        "has_ticket = True\n",
        "\n",
        "if age >= 18:\n",
        "   if has_ticket:\n",
        "     print(\"You can watch the movie.\")\n",
        "   else:\n",
        "    print(\"You need a ticket to enter.\")\n",
        "else:\n",
        "   print(\"You are too young to watch the movie.\")"
      ],
      "metadata": {
        "colab": {
          "base_uri": "https://localhost:8080/"
        },
        "id": "2lRsMSmjX4p-",
        "outputId": "7dc2f5df-d94e-4c0c-e570-b56e79d67004"
      },
      "execution_count": null,
      "outputs": [
        {
          "output_type": "stream",
          "name": "stdout",
          "text": [
            "You can watch the movie.\n"
          ]
        }
      ]
    },
    {
      "cell_type": "markdown",
      "source": [
        "2. **Nested if-elif-else Example**\n",
        "\n",
        "Nesting can also be used with elif and else statements:"
      ],
      "metadata": {
        "id": "nNIXtsyBUtgB"
      }
    },
    {
      "cell_type": "code",
      "source": [
        "weather = \"rainy\"\n",
        "\n",
        "has_umbrella = True\n",
        "\n",
        "if weather == \"rainy\":\n",
        "   if has_umbrella:\n",
        "     print(\"You can go outside without getting wet.\")\n",
        "   else:\n",
        "     print(\"Better stay inside or wear a raincoat.\")\n",
        "elif weather == \"sunny\":\n",
        "   print(\"It's a great day to go outside!\")\n",
        "else:\n",
        "  print(\"Check the weather forecast before heading out.\")"
      ],
      "metadata": {
        "colab": {
          "base_uri": "https://localhost:8080/"
        },
        "id": "f17kvapULOdj",
        "outputId": "1565378d-9fef-42e1-b104-631728134a16"
      },
      "execution_count": null,
      "outputs": [
        {
          "output_type": "stream",
          "name": "stdout",
          "text": [
            "You can go outside without getting wet.\n"
          ]
        }
      ]
    },
    {
      "cell_type": "markdown",
      "source": [
        "**Using Nested Conditionals with User Input**"
      ],
      "metadata": {
        "id": "TL_KA5iTNIxU"
      }
    },
    {
      "cell_type": "code",
      "source": [
        "username = input(\"Enter your username: \")\n",
        "password = input(\"Enter your password: \")\n",
        "\n",
        "if username == \"admin\":\n",
        "   if password == \"1234\":\n",
        "     print(\"Access granted!\")\n",
        "   else:\n",
        "     print(\"Incorrect password.\")\n",
        "\n",
        "else:\n",
        "   print(\"Unknown user.\")"
      ],
      "metadata": {
        "colab": {
          "base_uri": "https://localhost:8080/"
        },
        "id": "L5DRdUbaNk0W",
        "outputId": "789a96be-cbb5-4e9d-a0ee-dd966f5467fd"
      },
      "execution_count": null,
      "outputs": [
        {
          "output_type": "stream",
          "name": "stdout",
          "text": [
            "Enter your username: admin\n",
            "Enter your password: 34\n",
            "Incorrect password.\n"
          ]
        }
      ]
    },
    {
      "cell_type": "code",
      "source": [],
      "metadata": {
        "id": "Ui7O-ad3mhq0"
      },
      "execution_count": null,
      "outputs": []
    },
    {
      "cell_type": "markdown",
      "source": [],
      "metadata": {
        "id": "xeckkKA1mghe"
      }
    },
    {
      "cell_type": "markdown",
      "source": [
        "**Practice Questions**\n",
        "\n",
        "1. Write a program that takes a number from a user and prints if the number is odd or even."
      ],
      "metadata": {
        "id": "9gjNF-pscsIZ"
      }
    },
    {
      "cell_type": "code",
      "source": [],
      "metadata": {
        "id": "LPCMu-ofdLPF"
      },
      "execution_count": null,
      "outputs": []
    },
    {
      "cell_type": "markdown",
      "source": [
        "2. Write a program that asks the user how many credits they have taken. If they have taken 23\n",
        "or less, print that the student is a freshman. If they have taken between 24 and 53, print that\n",
        "they are a sophomore. The range for juniors is 54 to 83, and for seniors it is 84 and over."
      ],
      "metadata": {
        "id": "tXsSv9k7dNA6"
      }
    },
    {
      "cell_type": "code",
      "source": [],
      "metadata": {
        "id": "oeJnCFSPdeKg"
      },
      "execution_count": null,
      "outputs": []
    },
    {
      "cell_type": "markdown",
      "source": [
        "3. Write a program that asks the user for two numbers and prints Close if the numbers are within .001 of each other and Not close otherwise.\n"
      ],
      "metadata": {
        "id": "komQyNSQdfox"
      }
    },
    {
      "cell_type": "code",
      "source": [],
      "metadata": {
        "id": "rc4VRCSGdu06"
      },
      "execution_count": null,
      "outputs": []
    },
    {
      "cell_type": "markdown",
      "source": [
        "4. A year is a leap year if it is divisible by 4, except that years divisible by 100 are not leap years\n",
        "unless they are also divisible by 400. Write a program that asks the user for a year and prints\n",
        "out whether it is a leap year or not"
      ],
      "metadata": {
        "id": "Gn29Onz9d-Wo"
      }
    },
    {
      "cell_type": "code",
      "source": [],
      "metadata": {
        "id": "QPUzZr37ete7"
      },
      "execution_count": null,
      "outputs": []
    },
    {
      "cell_type": "markdown",
      "source": [
        "## Python Module\n",
        "\n",
        "Here, we examine briefly python modules. Note that this is a distinct topic from the coditional statements we extensively explored earlier.\n",
        "\n",
        "\n",
        "The core of the Python language includes fundamental elements such as loops, conditional statements, mathematical operators, and built-in functions like `print()` and `input()`. However, many additional features are stored in modules. To access these features, we must first import the relevant module, letting Python know we want to use it.\n",
        "\n",
        "\n",
        "A module in python is a file containing Python code(functions, variables, classes) that can be imported and reused in other programs. Modules help in organizing code and avoiding repitition.\n",
        "\n",
        "**Types of Modules in Python**\n",
        "\n",
        "1. **Built-in Modules**: Python comes with many build-in modules that provide ready-to-use functionality.\n",
        "\n",
        "Example using `math` module"
      ],
      "metadata": {
        "id": "xoNSyDOJoTkU"
      }
    },
    {
      "cell_type": "code",
      "source": [
        "import math\n",
        "\n",
        "print(math.sqrt(25))  # square root of 25\n",
        "print(math.pi) # value of pi"
      ],
      "metadata": {
        "colab": {
          "base_uri": "https://localhost:8080/"
        },
        "id": "4gqqxDzUobvK",
        "outputId": "4123b35f-46a9-48cd-8fc7-f9c9def2779f"
      },
      "execution_count": null,
      "outputs": [
        {
          "output_type": "stream",
          "name": "stdout",
          "text": [
            "5.0\n",
            "3.141592653589793\n"
          ]
        }
      ]
    },
    {
      "cell_type": "markdown",
      "source": [
        "2. **User-Defined Modules**: You can also create your own module.\n",
        "\n",
        "Creating a module (mymodule.py)"
      ],
      "metadata": {
        "id": "CB1WiOPHp1r_"
      }
    },
    {
      "cell_type": "code",
      "source": [
        "## You need to save this code in a python file named mymodule\n",
        "\n",
        "def greet(name):\n",
        "  return f\"Hello, {name}\""
      ],
      "metadata": {
        "id": "mIFIfTcmqMU2"
      },
      "execution_count": null,
      "outputs": []
    },
    {
      "cell_type": "code",
      "source": [
        "## Here, you can import and use the greet() as follows:\n",
        "import mymodule\n",
        "\n",
        "print(mymodule.greet(\"James\"))"
      ],
      "metadata": {
        "id": "_zRqVPJTqncz"
      },
      "execution_count": null,
      "outputs": []
    },
    {
      "cell_type": "markdown",
      "source": [
        "3. **Third-Party Modules**\n",
        "You may use modules developed by others, which may be installed using `pip`.\n",
        "\n",
        "Example:\n",
        "\n",
        "```python\n",
        "!pip install requests\n",
        "```\n",
        "\n",
        "```python\n",
        "import requests\n",
        "\n",
        "\n",
        "get_response = requests.get(\"https://www.yahoo.com\")\n",
        "print(get_response.status_code) # prints 200 if connection is successful!\n",
        "```"
      ],
      "metadata": {
        "id": "J2Rcn3kTrcAe"
      }
    },
    {
      "cell_type": "code",
      "source": [
        "!pip install requests"
      ],
      "metadata": {
        "colab": {
          "base_uri": "https://localhost:8080/"
        },
        "id": "pAhqpVGwtecA",
        "outputId": "f8a8dd46-a20b-4c92-abd6-426e176cb273"
      },
      "execution_count": null,
      "outputs": [
        {
          "output_type": "stream",
          "name": "stdout",
          "text": [
            "Requirement already satisfied: requests in /usr/local/lib/python3.11/dist-packages (2.32.3)\n",
            "Requirement already satisfied: charset-normalizer<4,>=2 in /usr/local/lib/python3.11/dist-packages (from requests) (3.4.1)\n",
            "Requirement already satisfied: idna<4,>=2.5 in /usr/local/lib/python3.11/dist-packages (from requests) (3.10)\n",
            "Requirement already satisfied: urllib3<3,>=1.21.1 in /usr/local/lib/python3.11/dist-packages (from requests) (2.3.0)\n",
            "Requirement already satisfied: certifi>=2017.4.17 in /usr/local/lib/python3.11/dist-packages (from requests) (2025.1.31)\n"
          ]
        }
      ]
    },
    {
      "cell_type": "code",
      "source": [
        "import requests\n",
        "\n",
        "\n",
        "get_response = requests.get(\"https://www.yahoo.com\")\n",
        "print(get_response.status_code)"
      ],
      "metadata": {
        "colab": {
          "base_uri": "https://localhost:8080/"
        },
        "id": "i846xdAMtkH3",
        "outputId": "2e48eb54-535a-4bbc-8d88-162f8bbe13fa"
      },
      "execution_count": null,
      "outputs": [
        {
          "output_type": "stream",
          "name": "stdout",
          "text": [
            "200\n"
          ]
        }
      ]
    },
    {
      "cell_type": "markdown",
      "source": [
        "**Random numbers**\n",
        "\n",
        "\n",
        "Adding randomness to a computer game can make it more engaging and unpredictable. Python provides a built-in module called random, which lets us generate random numbers and introduce elements of chance into our programs."
      ],
      "metadata": {
        "id": "Heu8MBXNs_Pv"
      }
    },
    {
      "cell_type": "code",
      "source": [
        "from random import randint\n",
        "\n",
        "\n",
        "x = randint(1,10)\n",
        "print('A random number between 1 and 10: ', x)"
      ],
      "metadata": {
        "colab": {
          "base_uri": "https://localhost:8080/"
        },
        "id": "zaDFE_7Ky3W-",
        "outputId": "75315217-0595-4b1e-ba47-169175681fce"
      },
      "execution_count": null,
      "outputs": [
        {
          "output_type": "stream",
          "name": "stdout",
          "text": [
            "A random number between 1 and 10:  9\n"
          ]
        }
      ]
    },
    {
      "cell_type": "markdown",
      "source": [
        "**Getting help from Python**\n",
        "\n",
        "There is documentation built into Python. To get help on the `math` module, for example, go to the\n",
        "Python shell and type the following two lines:"
      ],
      "metadata": {
        "id": "9EZSKSX3wnAI"
      }
    },
    {
      "cell_type": "code",
      "source": [
        "import random\n",
        "dir(random)\n"
      ],
      "metadata": {
        "colab": {
          "base_uri": "https://localhost:8080/"
        },
        "id": "toH-vXK6zuA1",
        "outputId": "3f51780a-6209-4213-dbb1-3d088e307135"
      },
      "execution_count": null,
      "outputs": [
        {
          "output_type": "execute_result",
          "data": {
            "text/plain": [
              "['BPF',\n",
              " 'LOG4',\n",
              " 'NV_MAGICCONST',\n",
              " 'RECIP_BPF',\n",
              " 'Random',\n",
              " 'SG_MAGICCONST',\n",
              " 'SystemRandom',\n",
              " 'TWOPI',\n",
              " '_ONE',\n",
              " '_Sequence',\n",
              " '_Set',\n",
              " '__all__',\n",
              " '__builtins__',\n",
              " '__cached__',\n",
              " '__doc__',\n",
              " '__file__',\n",
              " '__loader__',\n",
              " '__name__',\n",
              " '__package__',\n",
              " '__spec__',\n",
              " '_accumulate',\n",
              " '_acos',\n",
              " '_bisect',\n",
              " '_ceil',\n",
              " '_cos',\n",
              " '_e',\n",
              " '_exp',\n",
              " '_floor',\n",
              " '_index',\n",
              " '_inst',\n",
              " '_isfinite',\n",
              " '_log',\n",
              " '_os',\n",
              " '_pi',\n",
              " '_random',\n",
              " '_repeat',\n",
              " '_sha512',\n",
              " '_sin',\n",
              " '_sqrt',\n",
              " '_test',\n",
              " '_test_generator',\n",
              " '_urandom',\n",
              " '_warn',\n",
              " 'betavariate',\n",
              " 'choice',\n",
              " 'choices',\n",
              " 'expovariate',\n",
              " 'gammavariate',\n",
              " 'gauss',\n",
              " 'getrandbits',\n",
              " 'getstate',\n",
              " 'lognormvariate',\n",
              " 'normalvariate',\n",
              " 'paretovariate',\n",
              " 'randbytes',\n",
              " 'randint',\n",
              " 'random',\n",
              " 'randrange',\n",
              " 'sample',\n",
              " 'seed',\n",
              " 'setstate',\n",
              " 'shuffle',\n",
              " 'triangular',\n",
              " 'uniform',\n",
              " 'vonmisesvariate',\n",
              " 'weibullvariate']"
            ]
          },
          "metadata": {},
          "execution_count": 16
        }
      ]
    },
    {
      "cell_type": "markdown",
      "source": [
        "**Practice Question**\n",
        "\n",
        "Guessing Game\n",
        "\n",
        "1. Write a program that ask a user to guess a number from 1 to 10. Your program should tell the user if it the user guessed correctly."
      ],
      "metadata": {
        "id": "TDoyyOrrl2-P"
      }
    },
    {
      "cell_type": "code",
      "source": [],
      "metadata": {
        "id": "kOexqFgvmQgo"
      },
      "execution_count": null,
      "outputs": []
    }
  ]
}