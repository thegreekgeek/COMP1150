{
  "nbformat": 4,
  "nbformat_minor": 0,
  "metadata": {
    "colab": {
      "provenance": [],
      "include_colab_link": true
    },
    "kernelspec": {
      "name": "python3",
      "display_name": "Python 3"
    },
    "language_info": {
      "name": "python"
    }
  },
  "cells": [
    {
      "cell_type": "markdown",
      "metadata": {
        "id": "view-in-github",
        "colab_type": "text"
      },
      "source": [
        "<a href=\"https://colab.research.google.com/github/thegreekgeek/COMP1150/blob/main/COMP1150_LN15.ipynb\" target=\"_parent\"><img src=\"https://colab.research.google.com/assets/colab-badge.svg\" alt=\"Open In Colab\"/></a>"
      ]
    },
    {
      "cell_type": "markdown",
      "source": [
        "### **ALGORITHMS**\n",
        "\n",
        "Every software application we use today operates on algorithms. These algorithms drive a wide range of automated processes, from simple functions like setting off your smartphone alarm at wake-up time to complex tasks such as guiding self-driving cars safely or launching rockets into space.\n",
        "\n",
        "The field of computer science primarily focuses on the study, design, and development of algorithms to solve a wide variety of problems. Ultimately, the core purpose of algorithms is effective problem-solving.\n",
        "\n",
        "**Definition of Algorithm**\n",
        "\n",
        "An **algorithm** may simply be defined as  a step-by-step procedure or set of rules designed for solving a problem or performing a specific task.\n",
        "\n",
        "A more formal definition of an algorithm emphasizes the key concepts:\n",
        "\n",
        "An **algorithm** is a collection of well-defined operations, executed in a **clear** and **unambiguous order** to achieve a desired outcome.\n",
        "\n",
        "* **Ordering** ensures that each operation follows a clear sequence, specifying what to execute first and what comes next. A computing agent must follow a precise order to avoid confusion and execute instructions correctly.\n",
        "\n",
        "> For example:\n",
        ">* *Step 1:* &nbsp;&nbsp;&nbsp;&nbsp;&nbsp;&nbsp;&nbsp;&nbsp;&nbsp;&nbsp;    Do something\n",
        ">* *Step 2:*&nbsp;&nbsp; &nbsp;&nbsp; &nbsp;&nbsp; &nbsp;&nbsp;       Do something\n",
        ">* *Step 3:* &nbsp;&nbsp; &nbsp;&nbsp; &nbsp;&nbsp; &nbsp;&nbsp;       Do something\n",
        ">* ** &nbsp;&nbsp; &nbsp;&nbsp; &nbsp;&nbsp; &nbsp;&nbsp; &nbsp;&nbsp;&nbsp;&nbsp;&nbsp;&nbsp;&nbsp;&nbsp;        ********\n",
        ">* *Step N:* &nbsp;&nbsp; &nbsp;&nbsp; &nbsp;&nbsp; &nbsp;&nbsp;       END\n",
        "\n",
        "* An **unambiguous** operation is one that can be understood and carried out directly by the computing agent without further simplification or explanation.\n",
        "\n"
      ],
      "metadata": {
        "id": "RKYGYN9XA1sw"
      }
    },
    {
      "cell_type": "markdown",
      "source": [
        "**The Abstract Nature of Algorithms**\n",
        "\n",
        "It is important to emphasize the distinction between an algorithm and its representation. This distinction is similar to the one between a story and a book. A story is a abstract, or conceptual in nature, whereas, a book represents the physical version of a story. While a book may be translated to another language or published in a different format, the story itself remain the same.\n",
        "\n",
        "Similarly, an algorithm is abstract and distinct from its representation. A single algorithm may be represented in different ways. For example, the algorithm for converting temperature readings from Celsius to Fahrenheit may be represented traditionally as algebraic formula:\n",
        "\n",
        ">`F = (9/5)C + 32`\n",
        "\n",
        "It may also be represented by the instruction as follows:\n",
        ">`Multiply the temperature reading in Celsius by 9/5`\n",
        "\n",
        ">`and then add 32 to the product`\n",
        "\n",
        "In both cases, the algorithm is the same but the representations are different.\n",
        "\n",
        "The distinction between an algorithm and its representation may become problematic when we try to communicate algorithms.\n",
        "\n",
        "\n",
        "**Relationship between a program and an algorithm**\n",
        "\n",
        "A program is a representation of an algorithm designed for a computing agent to execute.\n",
        "\n"
      ],
      "metadata": {
        "id": "HmZqW-oymVKS"
      }
    },
    {
      "cell_type": "markdown",
      "source": [
        "**Algorithm Representations**\n",
        "\n",
        "Before presenting any algorithms, we must first make an important decision. How should we represent them?\n",
        "\n",
        "The representation of an algorithm requires some form of language. Humans use traditional languages such as English, Arabic, Spanish, etc, or even pictures.\n",
        "\n",
        "If we use natural language, our algorithms would resemble a term paper or an essay. For instance, consider the following addition algorithm written in natural language, taken from section 2.2 of the recommended textbook:\n",
        "________________________________________________________________________________\n",
        "\n",
        "*Algorithm to add two numbers - Version 1*\n",
        "\n",
        "Initially, set the value of the variable `carry` to `0` and the value of the variable `i` to `0`. When these initializations have been completed, begin looping as long as the value of the variable `i` is less than or equal to `(m – 1)`. First, add together the values of the two digits\n",
        "𝑎<sub>i</sub> and 𝑏<sub>𝑖</sub> and the current value of the carry digit to get the result called 𝑐<sub>𝑖</sub>. Now check the value of 𝑐<sub>𝑖</sub> to see whether it is greater than or equal to 10. If 𝑐<sub>𝑖</sub> is greater than or equal to 10, then reset the value of carry to 1 and reduce the value of 𝑐<sub>𝑖</sub> by 10; otherwise, set the value of carry to 0. When you are finished with that operation, add 1 to i and begin the loop all over again. When the loop has completed execution, set the leftmost digit of the result 𝑐<sub>𝑚</sub> to the value of carry and print out the final result, which consists of the digits\n",
        "𝑐<sub>𝑚</sub> 𝑐<sub>𝑚-1</sub>…𝑐<sub>0</sub>. After printing the result, the algorithm is finished, and it terminates.\n",
        "________________________________________________________________________________\n",
        "\n",
        "The above algorithm, written in natural language, aims to add two numbers. It is obvious than the algorithm is verbose, unstructured and difficult to follow. What's more, the representation of algorithms in natural languages often leads to misunderstanding, since one terminologies may have more than one meaning.  \n",
        "\n",
        "\n",
        "<br>\n",
        "\n",
        "\n",
        "In computer science, we address the problems using:\n",
        "\n",
        "1. **Primitives**\n",
        ">Primitives are operations that can be directly understood by the computing agent executing the algorithm and which does not have to be further clarified or explained. By using primitives, many problems of ambiguity in algorithms are eliminated.\n",
        "\n",
        "> A collection of primitives together with a collection of rules stating how primitives can be combined to represent  more complex ideas constitutes a programming language.\n",
        "\n",
        ">Examples of Primitives:\n",
        "\n",
        ">* Assignment $ →$ &nbsp;&nbsp;`x = 10`\n",
        ">* Arithmetic operations $ →$ &nbsp;&nbsp; `a + b`, `x * y`, `x / y`\n",
        ">* Comparison $ →$ &nbsp;&nbsp; if `x > y`, if `a <= b`\n",
        ">* Logical operations $ →$ &nbsp;&nbsp; `AND`, `OR`, `NOT`\n",
        ">* Input/Output $ →$ &nbsp;&nbsp; `PRINT x`, `READ y`\n",
        ">* Loops and control structures $ →$ &nbsp;&nbsp; `FOR`, `WHILE`, `IF-ELSE`\n",
        "\n",
        "\n",
        "<br>\n",
        "\n",
        "2. **Pseudocode**\n",
        ">  A pseudocode is a notation used to design algorithms. It uses English constructs, mathematical notations and an informal algorithmic structure designed to look like a high-level programming language. Pseudocode is not an actual programming language but serves as a blueprint before writing real code.\n",
        "\n",
        "> Pseudocode have the advantage of being easier to comprehend by humans than programming languages, but more precise than natural languages\n",
        "\n",
        ">Pseudocode uses primitives such as assignment (`x = 10`), arithmetic (`x + y`), etc.\n",
        "\n",
        "\n",
        "\n"
      ],
      "metadata": {
        "id": "Vmg7p3wQavIv"
      }
    },
    {
      "cell_type": "markdown",
      "source": [
        "\n",
        "\n",
        "*Pseudocode for the Algorithm 1*\n",
        "\n",
        "<br>\n",
        "\n",
        "**Given**: **m** >= 1 and two positive numbers containing **m** digits, 𝑎<sub>m-1</sub>𝑎<sub>m-2</sub>...𝑎<sub>0</sub>  and b<sub>m-1</sub>b<sub>m-2</sub>...b<sub>0</sub>.\n",
        "\n",
        "**Wanted**: c<sub>m</sub>c<sub>m-1</sub>c<sub>m-2</sub>...c<sub>0</sub>, where\n",
        "c<sub>m</sub>c<sub>m-1</sub>c<sub>m-2</sub>...c<sub>0</sub> = (𝑎<sub>m-1</sub>𝑎<sub>m-2</sub>...𝑎<sub>0</sub>)  + (b<sub>m-1</sub>b<sub>m-2</sub>...b<sub>0</sub>)\n",
        "\n",
        "Step 1: Set the value of carry to 0\n",
        "\n",
        "Step 2: Set the value of i to 0\n",
        "\n",
        "Step 3: while the value of i is less than or equal to m-1, repeat the instructions in Step 4 through Step 6.\n",
        "\n",
        "Step 4: Add two 𝑎<sub>i</sub> and b<sub>i</sub> to the current value of carry to get c<sub>i</sub>\n",
        "\n",
        "Step 5: If c<sub>i</sub> >=10, then reset c<sub>i</sub> to (c<sub>i</sub> - 10) and reset the carry to 1; otherwise, set the new value of carry to 0.\n",
        "\n",
        "Step 6: Add 1 to i, effectively moving one column to the left.\n",
        "\n",
        "Step 7: Set c<sub>m</sub> to the value of carry.\n",
        "\n",
        "Step 8: Print out the final c<sub>m</sub>c<sub>m-1</sub>c<sub>m-2</sub>...c<sub>0</sub>\n",
        "\n",
        "Step 9: **STOP**\n",
        "\n",
        "<br>\n",
        "\n",
        "You can see that the pseudocode provided above is less ambiguous than the first algorithm that was presented in natural language. The pseudocode provided may even be refined further using the primitives shown earlier.\n",
        "\n",
        " Note that a pseudocode is not a strict set of notational rules to be memorized and rigidly followed. Rather, it is a flexible notation that can be adapted to fit your own view about how best to express ideas and algorithms.\n",
        "\n",
        " **Types of Algorithmic Operations**\n",
        "\n",
        " There are three types of algorithmic operations introduced: **sequential**, **conditional**, and **iterative**.\n",
        "\n",
        " >* **Sequential operations** perform a single task. A pseudocode must include instructions to carry out the three basic sequential operations called computation, input, and output.\n",
        " >>* **Computation**: An algorithmic operation that carrys out a single numeric computation (arithmetic) and stores the result in the \"variable\". A variable refers to a named storage location that can hold a data value.\n",
        " >>\n",
        " >>* **Input**: gets data values from outside the algorithm.\n",
        ">>* **Output**: sends data values to the outside world.\n",
        "\n",
        "> Sequential algorithms, which are made up of only sequential operations, are limited in what they can do and virtually all real-world problems are not straight-line in nature. Real-world problems require branching and repetition.\n",
        ">\n",
        "\n",
        ">* **Conditional**:  Algorithmic operation that asks a question and selects the next step to carry out based on the answer to that question. There are a number of ways to phrase a question, but the most common conditional statement is the if/then/else statement, which has the following format:\n",
        "\n",
        "\n",
        "\n",
        "```pseudo\n",
        "if \"a true/false condition\" is true then\n",
        "   first set of algorithmic operations\n",
        "else (or otherwise)\n",
        "   second set of algorithmic operations\n",
        "```\n",
        "\n",
        ">* **Iterative**: Algorithmic operation that repeats a block of instructions. It causes looping, repeating a block of instructions. Example\n",
        "\n",
        "```pseudo\n",
        "while (\"a true/false condition\") do\n",
        "    operation\n",
        "       :\n",
        "       :\n",
        "End of loop\n",
        "```"
      ],
      "metadata": {
        "id": "zJ79XOD5Zun8"
      }
    },
    {
      "cell_type": "markdown",
      "source": [
        "**Practice Question**\n",
        "\n",
        "Modify the Pseudocode provided earlier to include more primitives. Note that this question does not require you writing any python code."
      ],
      "metadata": {
        "id": "eAzVrEB8Xp0X"
      }
    },
    {
      "cell_type": "code",
      "source": [],
      "metadata": {
        "id": "HfujG77Yw3N4"
      },
      "execution_count": null,
      "outputs": []
    },
    {
      "cell_type": "code",
      "execution_count": null,
      "metadata": {
        "id": "_lF5ZQZxgHtv",
        "colab": {
          "base_uri": "https://localhost:8080/"
        },
        "outputId": "33214a72-2f48-42e5-cf29-ea3f36811784"
      },
      "outputs": [
        {
          "output_type": "stream",
          "name": "stdout",
          "text": [
            "The sum of 678 and 345 is:  1023\n"
          ]
        }
      ],
      "source": [
        "#Python implementation of the pseudocode provided.\n",
        "\n",
        "def add_numbers(a, b):\n",
        "    carry = 0   # Step 1 in the Pseudocode\n",
        "    result = []\n",
        "\n",
        "    len_a = len(a)\n",
        "    len_b = len(b)\n",
        "    i, j = len_a - 1, len_b - 1  # Start from the last digit of each number  #Step 2 in the Pseudocode\n",
        "\n",
        "    while i >= 0 or j >= 0 or carry:      #Step 3\n",
        "        digit_a = int(a[i]) if i >= 0 else 0  # Use 0 if index is out of bounds\n",
        "        digit_b = int(b[j]) if j >= 0 else 0  # Use 0 if index is out of bounds\n",
        "\n",
        "        c_i = digit_a + digit_b + carry\n",
        "        carry = c_i // 10  # Extract carry\n",
        "        result.append(str(c_i % 10))  # Store the last digit of c_i\n",
        "\n",
        "        i -= 1  # Move left in 'a'\n",
        "        j -= 1  # Move left in 'b'\n",
        "\n",
        "    return ''.join(result[::-1])  # Reverse and join digits to form the final sum\n",
        "\n",
        "a = \"678\"\n",
        "b = \"345\"\n",
        "\n",
        "print(f\"The sum of {a} and {b} is:  {add_numbers(a, b)}\")"
      ]
    },
    {
      "cell_type": "markdown",
      "source": [
        "**Practice Problems**\n",
        "\n",
        "1. Write an algorithm that inputs the length and width, in feet, of a rectangular carpet and the price of the carpet in dollars per square yard. It then determines if you can afford to purchase this carpet, given that your total budget for carpeting is $500."
      ],
      "metadata": {
        "id": "nWD_ZnTbw_KM"
      }
    },
    {
      "cell_type": "code",
      "source": [
        "# Write your algorithm here, not python code."
      ],
      "metadata": {
        "id": "NV00ylYy0r3i"
      },
      "execution_count": null,
      "outputs": []
    },
    {
      "cell_type": "markdown",
      "source": [
        "2. Write an algorithm that gets as input a single nonzero data value x and outputs the three values x^2 , sin x, and 1/x. This process is repeated until the input value for x is equal to 999, at which time the algorithm terminates."
      ],
      "metadata": {
        "id": "pBudX1BA0z-y"
      }
    },
    {
      "cell_type": "code",
      "source": [
        "# Write your algorithm here, not python code."
      ],
      "metadata": {
        "id": "q3dkYI7A2Ree"
      },
      "execution_count": null,
      "outputs": []
    },
    {
      "cell_type": "markdown",
      "source": [
        "3. Write an algorithm that takes in an integer and returns the factorial of the input."
      ],
      "metadata": {
        "id": "Ky6bsiAF3Kz6"
      }
    },
    {
      "cell_type": "code",
      "source": [
        "## Write your algorithm here, not python code."
      ],
      "metadata": {
        "id": "b64ANBCx-lTd"
      },
      "execution_count": null,
      "outputs": []
    },
    {
      "cell_type": "markdown",
      "source": [
        "4. Write an algorithm for converting binary (base 2) to decimal(base 10)."
      ],
      "metadata": {
        "id": "5DwWX-vk-n-2"
      }
    },
    {
      "cell_type": "code",
      "source": [
        "# This is a quite challenging one, but ypu may give it a try."
      ],
      "metadata": {
        "id": "XfIDfbXQXDXl"
      },
      "execution_count": null,
      "outputs": []
    },
    {
      "cell_type": "markdown",
      "source": [
        "**Algorithm Discovery**\n",
        "\n",
        "Program development involves two key activities: discovering the algorithm and translating it into code. So far in this lecture, we have focused on presenting algorithms without exploring how they are discovered. However, finding an algorithm is often the most challenging part of software development, as it requires identifying a solution method. Understanding algorithm discovery is, therefore, understanding the problem-solving process.\n",
        "\n",
        "**Problem Solving**\n",
        "\n",
        "Problem solving is the process of identifying a problem, breaking it down, designing a solution, and implementing the solution.\n",
        "\n",
        "**Steps for Problem Solving**\n",
        "\n",
        "1. **Understand the problem**: It is not possible to solve a problem that is not understood. To have a clear understanding of a problem, you need to read carefully and understand the goal of the problem.\n",
        "\n",
        "> Tip:  Sometimes, you might need to restate the goal of the problem to ensure that clearly understand the problem to be solved.\n",
        "\n",
        "2. **Break down the problem**: Split the problem in question into smaller parts. A big, nice house is built gradually from smaller building materials.\n",
        "Example: To calculate a student's final grade in COMP 1150, you need to:\n",
        ">> * Pieces: Get scores (Exams, Quizzes, Reading Assignments) --> Compute the final score using the formula in the syllabus --> Assign letter grade based on the score.\n",
        "\n",
        ">Tip: Write a list or sketch a diagram or flowchart.\n",
        "\n",
        "\n",
        "3. **Plan a solution (formulate the algorithm)**:\n",
        "> * Outline the steps to solve it - like a recipe.\n",
        ">* Express your algorithm as a pseudocode.\n",
        ">> ```python\n",
        ">> 1. Get Quiz Scores\n",
        ">> 2. Get Exam Scores\n",
        ">> 3. Get Reading Assignment Scores\n",
        ">> 4. Get Extra Credit Assignment Score\n",
        ">> 5. Final Score = 0.6 * Exam Score + 0.3*Quiz Score + 0.1 * Reading Assignment + 0.05*Quizzes\n",
        ">> 6. if Final Score is greater than or equal to 90, excellent, otherwise well done!\n",
        ">> 7. Print/Display Final Score\n",
        ">> ```\n",
        "\n",
        "\n",
        "4. **Implement the Solution**\n",
        ">* Write a code in the programming language of your choice, based on the plan you outlined earlier.\n",
        "\n",
        "\n",
        "5. **Test and Debug**\n",
        "> Here, you evaluate the accuracy of your program.\n",
        ">* Check if your code works and fix errors(bugs)\n",
        ">* Test your code with different inputs, and verify correctness based on your output.\n",
        ">* Using `print()` statement, you can peek at variables in the code.\n",
        "\n",
        "\n",
        "6. **Refine(Optimize)** You may improve your code or algorithm to make your  solution faster, cleaner and simpler.\n"
      ],
      "metadata": {
        "id": "_GNy_vE01ZH-"
      }
    },
    {
      "cell_type": "code",
      "source": [],
      "metadata": {
        "id": "TUE5I2rS78Se"
      },
      "execution_count": null,
      "outputs": []
    }
  ]
}