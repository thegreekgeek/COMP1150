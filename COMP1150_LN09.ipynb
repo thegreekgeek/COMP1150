{
  "cells": [
    {
      "cell_type": "markdown",
      "metadata": {
        "colab_type": "text",
        "id": "view-in-github"
      },
      "source": [
        "<a href=\"https://colab.research.google.com/github/thegreekgeek/COMP1150/blob/main/COMP1150_LN09.ipynb\" target=\"_parent\"><img src=\"https://colab.research.google.com/assets/colab-badge.svg\" alt=\"Open In Colab\"/></a>"
      ]
    },
    {
      "cell_type": "markdown",
      "metadata": {
        "id": "DmNbp9AQXuaK"
      },
      "source": [
        "## **INTRODUCTION TO PROGRAMMING WITH PYTHON**\n",
        "\n",
        "Programming is basically giving your computer commands to perform tasks for you. While this is not the most technical definition, it is a pretty accurate one. More formally, programming refers to the process of writing instructions that computers can understand. These instructions are written in a programming language, which act as a bridge between the human thought and computer operations.\n",
        "\n",
        "Programming Languages are formal languages designed for communicating instructions to computers. Examples of programming languages includes Java, C++, JavaScript, Python and many more. In this class, we will how to write simple programs using Python.\n",
        "\n",
        "Programming allows you to:\n",
        "\n",
        "* Automate tasks to save time.\n",
        "* Create software, from simple scripts to complex applications.\n",
        "* Solve problems by breaking them down into manageable steps.\n",
        "\n",
        "At the core of programming are algorithms—step-by-step procedures for solving problems and processing data. Writing efficient algorithms is like crafting the perfect recipe in a cooking competition: every ingredient and step matters.\n",
        "\n",
        "<br>\n",
        "\n",
        "**Formal Language vs Natural Language**\n",
        "\n",
        "Just like following a precise recipe in cooking, communicating with computers requires structured, unambiguous languages designed for giving clear instructions.\n",
        "\n",
        "**What is a formal language?**\n",
        "A formal language is a set of strings of symbols from a predefined alphabet, governed by specific syntactical rules, used to represent information or instructions in a structured and unambiguous way.\n",
        "\n",
        "Formal languages are the foundation of computer programming. Python, which we will use in this course, is one example. Others include Java, C++, and JavaScript. Each of these languages has its own syntax—the set of rules that defines how we structure commands. If you break these rules, your program won’t run correctly, or at all.\n",
        "\n",
        "Consider the following comparison between natural languages and formal languages:\n",
        "\n",
        "| Feature               | Natural Languages (e.g., English)   | Formal Languages (e.g., Python)  |\n",
        "|-----------------------|-------------------------------------|----------------------------------|\n",
        "| **Ambiguity**          | Often ambiguous (e.g., \"run\" can mean many things) | No ambiguity; every statement has a clear, singular meaning |\n",
        "| **Context Sensitivity**| Relies heavily on context for understanding | Context-free; each instruction stands alone and must follow strict rules |\n",
        "| **Flexibility**        | Flexible; grammar rules can be broken or bent | Inflexible; every error in syntax results in failure |\n",
        "\n",
        "\n",
        "In a natural language like English, it’s possible to say things in many different ways and still be understood. You could say, \"Let's get going,\" \"We should start,\" or even \"It’s time to move,\" and the meaning is the same. A human listener understands the intent behind your words, even if your phrasing changes or isn’t grammatically perfect.\n",
        "\n",
        "With a formal language like Python, this isn’t possible. Computers cannot guess your intentions—they only understand the exact instructions you give them.  For example, look at these two Python statements:\n",
        "\n",
        "\n",
        "```python\n",
        "print(\"Welcome to COMP 1150!\")\n",
        "print(\"Welcome to cOMP 1150!\")\n",
        "```\n",
        "Though the two looks almost identical to a human, Python treats them differently. The first statement prints \"Welcome to COMP 1150!\" with capitalized 'C', while the second prints \"Welcome to cOMP 1150!\"  with lowercase 'C'. This precision is why programming requires a clear understanding of the formal language being used.\n",
        "\n",
        " **Syntax and Semantics**\n",
        "\n",
        " **Syntax**\n",
        "\n",
        " In formal languages, **syntax** refers to the rules for structuring commands—like grammar in English. For example, Python requires parentheses in the print statement:\n",
        "\n",
        " ```python\n",
        "print(\"Welcome to COMP 1150!\") # This is syntactically correct in Python\n",
        "print \"Welcome to cOMP 1150!\" # This is wrong and will cause error because of the missing parentheses.\n",
        "```\n",
        "**Semantics**\n",
        "\n",
        "Semantics refers to the meaning of those commands. Even with correct syntax, the program can still produce incorrect results if the logic is wrong. For instance, multiplying instead of adding two numbers would be a semantic error.\n",
        "\n",
        "```python\n",
        "# Syntax is correct, but logic is wrong\n",
        "temperature_in_fahrenheit = 32\n",
        "# Intent was to convert Fahrenheit to Celsius, but used the wrong formula\n",
        "temperature_in_celsius = (temperature_in_fahrenheit - 32) * 2  # Incorrect formula\n",
        "print(temperature_in_celsius)  # Output will be 64, not 0\n",
        "```\n"
      ]
    },
    {
      "cell_type": "markdown",
      "metadata": {
        "id": "xwu8gjjsAOLv"
      },
      "source": [
        "**THE PROGRAMMER'S MINDSET**\n",
        "\n",
        "Programming is more than just writing code. It is about cultivating a problem-solving mindset. Some important principle include:\n",
        "\n",
        "* **Precision**: Computers execute instructions exactly as written, making attention to detail important.\n",
        "* **Logical Thinking**: Breaking problems into smaller, structured steps to develop clear solutions.\n",
        "* **Efficiency**: Writing clean, optimized code ensures better performance and maintainability.\n",
        "* **Debugging**: Mistakes are inevitable; learning to systematically find and fix error is important.\n"
      ]
    },
    {
      "cell_type": "markdown",
      "metadata": {
        "id": "bxjoOdl1_EQa"
      },
      "source": [
        "\n",
        "**PYTHON**\n",
        "\n",
        " Python is a powerful yet easy-to-use programming language that was first released in 1991. Python allows you to quickly write small projects. It can also scale up nicely and may be used for mission-critical, commercial applications.\n",
        "\n",
        "* *Easy to Use*: Many popular languages Java, C++ , Javascript are considered high-level languages, meaning they are closer to human language than machine language (binary representation), which they truly are. But given its simple and clear rules, Python is even closer to English than other high-level languages.\n",
        "\n",
        "* Python is comparatively as powerful as most other modern high-level programming languages.\n",
        "\n",
        "* Python supports Object-Oriented Programming. Object-Oriented Programming embodies the intuitive method of representing information and actions in a program.\n",
        "\n",
        "* Python is platform-independent, meaning python programs on any operating system.\n",
        "\n",
        "\n",
        "**Understanding the Rules**\n",
        "\n",
        "To master programming, you need to respect the rules of the formal language. This requires:\n",
        "\n",
        "Precision: Every character in your code matters, from parentheses to quotation marks.\n",
        "Consistency: You must follow the language’s rules every time, with no room for creative interpretation.\n",
        "Clarity: The clearer and more logical your code is, the easier it will be to understand and debug later."
      ]
    },
    {
      "cell_type": "markdown",
      "metadata": {
        "id": "yfIEz75vey-J"
      },
      "source": [
        "**Your First Program**\n",
        "\n",
        "The simplest and easy to understand program for any beginner is to print a statement in any programming language.In Python, you use the `print()` ot accomplish this.\n",
        "\n",
        "* `print()` Function: It outputs the specified message or value to the console. It is capable of handling multiple arguments and display them as a string, separeated by spaces, and automatically adds newline after an output.\n",
        "\n",
        "Example:\n",
        "\n"
      ]
    },
    {
      "cell_type": "code",
      "execution_count": 2,
      "metadata": {
        "colab": {
          "base_uri": "https://localhost:8080/"
        },
        "id": "dW6nGW9OjwSs",
        "outputId": "45eacf83-2b25-4cc7-d1d9-62bd997d6888"
      },
      "outputs": [
        {
          "name": "stdout",
          "output_type": "stream",
          "text": [
            "Welcome to COMP 1150\n"
          ]
        }
      ],
      "source": [
        "print(\"Welcome to COMP 1150\")"
      ]
    },
    {
      "cell_type": "markdown",
      "metadata": {
        "id": "xZVPXe8qksX6"
      },
      "source": [
        "* The about statement print the string between quotation symbols. Without the quotation symbols, Python treats each of the words as undefined variables and commands, causing an error. The parentheses () indicate that we're calling the function and passing an argument into it.\n",
        "\n",
        "The quotation marks indicate a data type is a text.\n",
        " For example:\n",
        "\n",
        "```python\n",
        "print(1150) # Prints number 1150\n",
        "print(\"1150\") # Prints the text 1150, which you cannot perform numerical computation upon.\n",
        "```\n",
        "Both single quotes and double quotes can be used the same way in Python. For example:\n",
        "`print('Hello') ` and `print(\"Hello\")` both print `Hello`. That said, it is good practice to maintain consitency as a programmer.\n",
        "\n",
        "\n",
        " * We can also use the ',' to separate multiple values. For example:\n",
        "\n"
      ]
    },
    {
      "cell_type": "code",
      "execution_count": 1,
      "metadata": {
        "colab": {
          "base_uri": "https://localhost:8080/"
        },
        "id": "rpdoYoADp8wP",
        "outputId": "ff5fe5cc-67a2-42c5-b3b7-e4aae21bdfc7"
      },
      "outputs": [
        {
          "name": "stdout",
          "output_type": "stream",
          "text": [
            "I am  17 years old\n"
          ]
        }
      ],
      "source": [
        "print(\"I am \", 17, \"years old\")"
      ]
    },
    {
      "cell_type": "markdown",
      "metadata": {
        "id": "F66zOf35qgXi"
      },
      "source": [
        "*Pratice*\n",
        "\n",
        "Print any statement of your choice using the `print()` function."
      ]
    },
    {
      "cell_type": "code",
      "execution_count": null,
      "metadata": {
        "id": "L1nPAfgzqzb0"
      },
      "outputs": [],
      "source": []
    },
    {
      "cell_type": "markdown",
      "metadata": {
        "id": "B7mgGCo-lXQv"
      },
      "source": [
        "**VARIABLES**"
      ]
    },
    {
      "cell_type": "markdown",
      "metadata": {
        "id": "_oPd-yRVsWyj"
      },
      "source": [
        "A variable in Python is a name that refers to a value or data stored in memory. It allows you to store, modify and retrieve data in your program. For example:\n",
        "\n",
        "```python\n",
        "x = 5    # 'x' is a variable for storing 5'\n",
        "name = \"James\"  #''name is a variable for storing string \"James\"'\n",
        "age = 17 # 'age' is a variable for storing the 17.\n",
        "```\n",
        "\n",
        "Variable can store various data types like numbers, lists, strings, etc.\n",
        "\n",
        "**Rules for forming variables**\n",
        "\n",
        "There are just a couple of rules to follow when naming your variables.\n",
        "* Variable names can contain letters, numbers, and the underscore.\n",
        "* Variable names cannot contain spaces.\n",
        "* Variable names cannot start with a number.\n",
        "* Case matters—for instance, `age` and `Age` are different.\n",
        "* You cannot use Python’s reserved keywords (like `print`, `if`, or `while`) as variable names."
      ]
    },
    {
      "cell_type": "markdown",
      "metadata": {
        "id": "8OTZ2YyavmjW"
      },
      "source": [
        "**Assigning Values to Variables**\n",
        "\n",
        "In Python, assigning a value to a variable is done with the assignment operator `(=)`. This operator does not mean \"equals\" in the mathematical sense; instead, it means \"store the value on the right-hand side into the variable on the left-hand side.\"\n"
      ]
    },
    {
      "cell_type": "code",
      "execution_count": 4,
      "metadata": {
        "colab": {
          "base_uri": "https://localhost:8080/"
        },
        "id": "qKdLr72XxSrI",
        "outputId": "65f43576-9467-4173-8d1f-f5f7ac27a769"
      },
      "outputs": [
        {
          "name": "stdout",
          "output_type": "stream",
          "text": [
            "Instructor's Name: James\n",
            "Number: 1\n"
          ]
        }
      ],
      "source": [
        "instructor_name = \"James\"\n",
        "number = 1\n",
        "\n",
        "print(\"Instructor's Name:\", instructor_name)\n",
        "print(\"Number:\", 1)"
      ]
    },
    {
      "cell_type": "markdown",
      "metadata": {
        "id": "V8Q_F4kqxQQW"
      },
      "source": [
        "**Data Types in Python**\n",
        "\n",
        "A data type in programming defines the kind of value a variable can hold.  The examples of data types in Python include:\n",
        "\n",
        "**String** (`str`): Used to store sequences of characters (text) (e.g., words, sentences). Strings are always enclosed in either single or double quotes.\n",
        "\n",
        "```python\n",
        "course = \"COMP 1150\"\n",
        "```\n",
        "\n",
        "**Integer** (`int`): used to store whole numbers e.g., 5.\n",
        "\n",
        "```python\n",
        "age = 10\n",
        "```\n",
        "\n",
        "**Float** (`float`): used to store decimal numbers e.g., 3.14.\n",
        "\n",
        "```python\n",
        "pi = 3.142\n",
        "```\n",
        "\n",
        "**Boolean** `(bool)`: Used to store either True or False. Booleans are often used to track whether a condition is true or false.\n",
        "\n",
        "```python\n",
        "is_active = True\n",
        "```\n",
        "\n",
        "**List** (`list`): used for storing a collection of data e.g, `[1, 2, 5]`\n",
        "\n",
        "```python\n",
        "names = [\"James\", \"Jean\" , \"Trump\" ,  \"Obama\", \"Hillary\"]\n",
        "```\n"
      ]
    },
    {
      "cell_type": "markdown",
      "metadata": {
        "id": "2Bk4LZ1B3ON5"
      },
      "source": [
        "**Practice Time**\n",
        "\n",
        "A variable to store the name of your favorite musician."
      ]
    },
    {
      "cell_type": "code",
      "execution_count": 5,
      "metadata": {
        "id": "7yX667ln4FNf"
      },
      "outputs": [
        {
          "name": "stdout",
          "output_type": "stream",
          "text": [
            "King Gizzard the Lizard Wizard\n"
          ]
        }
      ],
      "source": [
        "favArtist = \"King Gizzard the Lizard Wizard\"\n",
        "print(favArtist)"
      ]
    },
    {
      "cell_type": "markdown",
      "metadata": {
        "id": "ewFZ6RZ34JpH"
      },
      "source": [
        "A variale to store the age of the musician"
      ]
    },
    {
      "cell_type": "code",
      "execution_count": 8,
      "metadata": {
        "id": "1eQ-gV694Qms"
      },
      "outputs": [
        {
          "name": "stdout",
          "output_type": "stream",
          "text": [
            "Artist age: 69\n"
          ]
        }
      ],
      "source": [
        "artistAge = 69\n",
        "print(\"Artist age:\", artistAge)"
      ]
    },
    {
      "cell_type": "markdown",
      "metadata": {
        "id": "zAP6d6Dw4TG3"
      },
      "source": [
        "A Boolean variable to checks if the musician is on tour in February."
      ]
    },
    {
      "cell_type": "code",
      "execution_count": 34,
      "metadata": {
        "id": "tUG5sa5T4mDJ"
      },
      "outputs": [
        {
          "name": "stdout",
          "output_type": "stream",
          "text": [
            "King Gizzard the Lizard Wizard is on tour!\n"
          ]
        }
      ],
      "source": [
        "artistOnTour = False\n",
        "if artistOnTour: True\n",
        "print(favArtist, \"is on tour!\")"
      ]
    },
    {
      "cell_type": "markdown",
      "metadata": {
        "id": "GP6vAhAK4mf5"
      },
      "source": [
        "A list variable that has a list of his albums."
      ]
    },
    {
      "cell_type": "code",
      "execution_count": 22,
      "metadata": {
        "id": "rFRgdBd95Ftl"
      },
      "outputs": [
        {
          "name": "stdout",
          "output_type": "stream",
          "text": [
            "['One thing', 'Another thing']\n"
          ]
        }
      ],
      "source": [
        "artistAlbums = [\"One thing\", \"Another thing\"]\n",
        "print(artistAlbums)"
      ]
    },
    {
      "cell_type": "markdown",
      "metadata": {
        "id": "eHI4UEL45KMS"
      },
      "source": [
        "A float variable stores the ticket fee for a show."
      ]
    },
    {
      "cell_type": "code",
      "execution_count": 32,
      "metadata": {
        "id": "9VXYJe-R5YlP"
      },
      "outputs": [
        {
          "name": "stdout",
          "output_type": "stream",
          "text": [
            "Tickets are: $9.99\n"
          ]
        }
      ],
      "source": [
        "ticketPrice = 9.99\n",
        "print(\"Tickets are: $\", ticketPrice, sep = \"\")"
      ]
    },
    {
      "cell_type": "markdown",
      "metadata": {
        "id": "zy5F3RV_7UF2"
      },
      "source": [
        "**More Fun with** `print()` **– Parameters, Arguments, and F-strings**\n",
        "\n",
        "Here, we’ll explore different ways to control and format the output of your Python programs.\n",
        "\n",
        "The `print()` function in Python lets us pass multiple arguments, separated by commas, to be printed. These arguments can be strings, variables, or a mix of both. Each one is displayed in order, with a space separating them by default.\n",
        "\n",
        "In Python, an argument is a value or expression provided to a function when calling it. These values are used by the function to perform its operation.\n",
        "\n",
        "Example:"
      ]
    },
    {
      "cell_type": "code",
      "execution_count": 3,
      "metadata": {
        "colab": {
          "base_uri": "https://localhost:8080/"
        },
        "id": "v4f3p5vy9bME",
        "outputId": "4477d10f-0b0f-4bcd-fd59-9d67fd022903"
      },
      "outputs": [
        {
          "name": "stdout",
          "output_type": "stream",
          "text": [
            "I am enrolled COMP 1150 - taught by Don\n"
          ]
        }
      ],
      "source": [
        "course_name = \"COMP 1150\"\n",
        "instructor_name = \"Don\"\n",
        "print(\"I am enrolled\", course_name, \"- taught by\", instructor_name)"
      ]
    },
    {
      "cell_type": "markdown",
      "metadata": {
        "id": "Z36znHI--A2w"
      },
      "source": [
        "In the example above, \"I am enrolled\", course_name, \"- taught by\" and instructor_name are all arguments to the `print()` function."
      ]
    },
    {
      "cell_type": "markdown",
      "metadata": {
        "id": "dCx2G-z8-hek"
      },
      "source": [
        "**Using the** `sep` **Parameter**\n",
        "\n",
        "The `sep` parameter in the `print()` function specifies the separator. By default, it is a space `(' ')`, but it can be changes to any string.\n",
        "\n",
        "Example:"
      ]
    },
    {
      "cell_type": "code",
      "execution_count": null,
      "metadata": {
        "colab": {
          "base_uri": "https://localhost:8080/"
        },
        "id": "QprEXbq__tMs",
        "outputId": "5f0aa4e6-4acb-4236-8228-2bff0dd1888a"
      },
      "outputs": [
        {
          "name": "stdout",
          "output_type": "stream",
          "text": [
            "I am enrolled*COMP 1150*- taught by*Don\n"
          ]
        }
      ],
      "source": [
        "course_name = \"COMP 1150\"\n",
        "instructor_name = \"Don\"\n",
        "print(\"I am enrolled\", course_name, \"- taught by\", instructor_name, sep = \"*\")"
      ]
    },
    {
      "cell_type": "markdown",
      "metadata": {
        "id": "_6K6gwhsAFfZ"
      },
      "source": [
        "**Using the** `end` **Parameter**\n",
        "\n",
        "In Python, the `end` parameter in the `print()` function of the input instead of the default newline `('\\n')`.\n",
        "\n",
        "Example:\n"
      ]
    },
    {
      "cell_type": "code",
      "execution_count": 27,
      "metadata": {
        "colab": {
          "base_uri": "https://localhost:8080/"
        },
        "id": "n81y6dYqD-l9",
        "outputId": "22b67ec0-f8e4-4653-ccbb-272a62f6705d"
      },
      "outputs": [
        {
          "name": "stdout",
          "output_type": "stream",
          "text": [
            "Good\n",
            "luck!\n"
          ]
        }
      ],
      "source": [
        "print(\"Good\")\n",
        "print(\"luck!\")"
      ]
    },
    {
      "cell_type": "code",
      "execution_count": 28,
      "metadata": {
        "colab": {
          "base_uri": "https://localhost:8080/"
        },
        "id": "nPj2d8ZUBE89",
        "outputId": "09936a37-06e8-45f2-8e49-f305c310de5f"
      },
      "outputs": [
        {
          "name": "stdout",
          "output_type": "stream",
          "text": [
            "Good luck!\n"
          ]
        }
      ],
      "source": [
        "print(\"Good\", end=\" \")\n",
        "print(\"luck!\")"
      ]
    },
    {
      "cell_type": "markdown",
      "metadata": {
        "id": "hswwyrQMBLrR"
      },
      "source": [
        "**F-strings: Formatting Strings in Python**\n",
        "\n",
        "F-string formatting in Python allows embedding expressions inside string literals using `{}`. It is prefixed with f or F and provides a concise and readable way to format strings.\n",
        "\n",
        "Example:\n"
      ]
    },
    {
      "cell_type": "code",
      "execution_count": 35,
      "metadata": {
        "colab": {
          "base_uri": "https://localhost:8080/"
        },
        "id": "Jk5cV5q7Feoc",
        "outputId": "370ed706-6167-4642-820a-00bbaa13ab2a"
      },
      "outputs": [
        {
          "name": "stdout",
          "output_type": "stream",
          "text": [
            "My name is Mary and I am 19 years old.\n"
          ]
        }
      ],
      "source": [
        "name = \"Mary\"\n",
        "age = 19\n",
        "print(f\"My name is {name} and I am {age} years old.\")"
      ]
    },
    {
      "cell_type": "markdown",
      "metadata": {
        "id": "xbYVpw-gFtuG"
      },
      "source": [
        "Notice how the variables `name` and `age` are placed directly inside the string. Python automatically replaces the curly braces with the actual values of the variables when it prints the message. The f before the string lets Python know this is an f-string."
      ]
    },
    {
      "cell_type": "markdown",
      "metadata": {
        "id": "kMmb4XpQF2xr"
      },
      "source": [
        "*Formatting Numbers with F-strings*\n",
        "\n",
        "Numbers can also be formatted inside f-strings. For example, if you want to print a floating-point number with only two decimal places:"
      ]
    },
    {
      "cell_type": "code",
      "execution_count": null,
      "metadata": {
        "colab": {
          "base_uri": "https://localhost:8080/"
        },
        "id": "coDinscWGaOT",
        "outputId": "9250d79f-172e-4476-c74f-481b34d84092"
      },
      "outputs": [
        {
          "name": "stdout",
          "output_type": "stream",
          "text": [
            "The pie of a circle is calculated as 3.14\n"
          ]
        }
      ],
      "source": [
        "pi = 3.14159\n",
        "print(f\"The pie of a circle is calculated as {pi:.2f}\")"
      ]
    },
    {
      "cell_type": "markdown",
      "metadata": {
        "id": "8-VboamiqVTf"
      },
      "source": [
        "**Practice**\n",
        "\n",
        "1. Print the following sentence using variables and f-strings: My name is [name] and I am from the state of [state]."
      ]
    },
    {
      "cell_type": "code",
      "execution_count": null,
      "metadata": {
        "id": "ep2ta0XCrJM0"
      },
      "outputs": [],
      "source": []
    },
    {
      "cell_type": "markdown",
      "metadata": {
        "id": "rRW2kXPnrKJa"
      },
      "source": [
        "2. Use the sep and end parameters to print: Firstname-Lastname-City."
      ]
    },
    {
      "cell_type": "code",
      "execution_count": null,
      "metadata": {
        "id": "cINFdmJ3ryB3"
      },
      "outputs": [],
      "source": []
    },
    {
      "cell_type": "markdown",
      "metadata": {
        "id": "pZm-tgFUsD0E"
      },
      "source": [
        "3. Print the price of a medium-sized Domino Pizza in (a floating point number) with only two decimal places."
      ]
    },
    {
      "cell_type": "markdown",
      "metadata": {
        "id": "-HrYoBYqsTEQ"
      },
      "source": [
        "** Getting Input**\n",
        "\n",
        "It is important for users to be able to get input from the keyboard. It allows users to interact dynamically with programs by pausing execution and waiting for input.\n",
        "\n",
        "The `input()` function in Python is used to get user input from the Keyboard.\n",
        "\n",
        "Example:"
      ]
    },
    {
      "cell_type": "code",
      "execution_count": 36,
      "metadata": {
        "colab": {
          "base_uri": "https://localhost:8080/"
        },
        "id": "ElAq0OdzulYp",
        "outputId": "d3efd3c9-ff0c-4a35-ed2e-3c5c1eaaaea3"
      },
      "outputs": [
        {
          "name": "stdout",
          "output_type": "stream",
          "text": [
            "Hello,  Rob\n"
          ]
        }
      ],
      "source": [
        "name = input('Enter your name: ')\n",
        "print('Hello, ', name)\n"
      ]
    },
    {
      "cell_type": "markdown",
      "metadata": {
        "id": "oEKdz2uMuvwy"
      },
      "source": [
        "The basic structure is:\n",
        "\n",
        "```python\n",
        "variable name = input(message to user)\n",
        "\n",
        "```\n",
        "The above works for getting text from the user."
      ]
    },
    {
      "cell_type": "markdown",
      "metadata": {
        "id": "8hyYdHB0u-SZ"
      },
      "source": [
        "If you to get numbers from the user to use in calculations,\n",
        "we need to do something extra.\n",
        "\n",
        "Example:\n"
      ]
    },
    {
      "cell_type": "code",
      "execution_count": null,
      "metadata": {
        "colab": {
          "base_uri": "https://localhost:8080/"
        },
        "id": "9nCcDa8LvL3D",
        "outputId": "73a40c19-51b4-4387-c9f0-c78b3ad760ab"
      },
      "outputs": [
        {
          "name": "stdout",
          "output_type": "stream",
          "text": [
            "Enter a number: 5\n",
            "Your number squared: 25\n"
          ]
        }
      ],
      "source": [
        "num = eval(input('Enter a number: '))\n",
        "print('Your number squared:', num*num)"
      ]
    },
    {
      "cell_type": "markdown",
      "metadata": {
        "id": "KDohXmjBvXdJ"
      },
      "source": [
        "The `eval` function converts the text entered by the user into a number."
      ]
    },
    {
      "cell_type": "markdown",
      "metadata": {
        "id": "be6UUdMDvhL0"
      },
      "source": [
        "**Practice**\n",
        "\n",
        "Here, we want to practice how to get input from user.\n",
        "\n",
        "1. Ask the user for thier favorite food"
      ]
    },
    {
      "cell_type": "code",
      "execution_count": null,
      "metadata": {
        "id": "PXmVex51v-NK"
      },
      "outputs": [],
      "source": []
    },
    {
      "cell_type": "markdown",
      "metadata": {
        "id": "mqXY2xxAwNao"
      },
      "source": [
        "2. Ask the user for the most boring movie they ever watched."
      ]
    },
    {
      "cell_type": "code",
      "execution_count": null,
      "metadata": {
        "id": "CmpxcxhSwhPO"
      },
      "outputs": [],
      "source": []
    },
    {
      "cell_type": "markdown",
      "metadata": {
        "id": "x2iEypjZwhlL"
      },
      "source": [
        "*Numeric*\n",
        "3. Ask the user for their age."
      ]
    },
    {
      "cell_type": "markdown",
      "metadata": {
        "id": "fieO1MwQ69cq"
      },
      "source": [
        "**End of Lecture !!!!!!!!!!!!!!!!**"
      ]
    },
    {
      "cell_type": "code",
      "execution_count": null,
      "metadata": {
        "id": "3c4NcwHCxEhq"
      },
      "outputs": [],
      "source": []
    },
    {
      "cell_type": "code",
      "execution_count": null,
      "metadata": {
        "id": "ZY4uhMIN6F_-"
      },
      "outputs": [],
      "source": []
    },
    {
      "cell_type": "markdown",
      "metadata": {
        "id": "Wk_t7e7k6G33"
      },
      "source": [
        "**APPENDIX**\n",
        "\n",
        "To install Python on your system, follow these steps:\n",
        "\n",
        "1. Visit the Official Python Website: Go to python.org.\n",
        "2. Download Python: Choose the latest version for your operating system (Windows, macOS, Linux).\n",
        "\n",
        "3.  Click on the download link.\n",
        "Run the Installer:\n",
        ">* Windows: Run the .exe file. Ensure you check the box that says \"Add Python to PATH\" during installation.\n",
        ">* macOS: Open the .pkg file and follow the prompts.\n",
        ">* Linux: Most Linux distributions come with Python pre-installed, but for the latest version, you can use your package manager or download from Python's site. Common commands are:\n",
        "sudo apt-get install python3 for Ubuntu/Debian.\n",
        "sudo yum install python3 for CentOS/Fedora.\n",
        "4. Complete Installation: Follow the installation wizard's instructions. On Windows, you might need to confirm administrative permissions.\n",
        "5. Verify Installation:\n",
        "Open a command prompt or terminal and type python --version or python3 --version (for Linux/macOS where Python 2 might also be installed). You should see the version number of Python installed.\n",
        "\n",
        "This process gives you a basic Python setup. Remember, for development, you might also want to install pip, Python's package installer, which often comes bundled with Python but can be installed separately if needed.\n"
      ]
    }
  ],
  "metadata": {
    "colab": {
      "include_colab_link": true,
      "provenance": []
    },
    "kernelspec": {
      "display_name": "Python 3",
      "name": "python3"
    },
    "language_info": {
      "codemirror_mode": {
        "name": "ipython",
        "version": 3
      },
      "file_extension": ".py",
      "mimetype": "text/x-python",
      "name": "python",
      "nbconvert_exporter": "python",
      "pygments_lexer": "ipython3",
      "version": "3.12.2"
    }
  },
  "nbformat": 4,
  "nbformat_minor": 0
}
